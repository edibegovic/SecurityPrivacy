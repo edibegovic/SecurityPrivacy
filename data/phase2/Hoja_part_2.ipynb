{
 "metadata": {
  "language_info": {
   "codemirror_mode": {
    "name": "ipython",
    "version": 3
   },
   "file_extension": ".py",
   "mimetype": "text/x-python",
   "name": "python",
   "nbconvert_exporter": "python",
   "pygments_lexer": "ipython3",
   "version": "3.7.6-final"
  },
  "orig_nbformat": 2,
  "kernelspec": {
   "name": "python3",
   "display_name": "Python 3"
  }
 },
 "nbformat": 4,
 "nbformat_minor": 2,
 "cells": [
  {
   "cell_type": "code",
   "execution_count": 1,
   "metadata": {},
   "outputs": [],
   "source": [
    "import pandas as pd\n",
    "import numpy as np\n",
    "from datetime import datetime, date\n",
    "import matplotlib.pyplot as plt"
   ]
  },
  {
   "cell_type": "code",
   "execution_count": 2,
   "metadata": {},
   "outputs": [],
   "source": [
    "anon_data = pd.read_csv(\"anonymized_shuffled_phase2.csv\")\n",
    "anon_data.reset_index(inplace=True) \n",
    "public_data = pd.read_excel(\"public_data_register_phase2.xlsx\")\n",
    "public_data.reset_index(inplace=True) "
   ]
  },
  {
   "cell_type": "code",
   "execution_count": 3,
   "metadata": {},
   "outputs": [],
   "source": [
    "public_data = public_data[public_data[\"last_voted\"] != 2]\n",
    "public_data[\"citizenship\"] = np.where(public_data[\"citizenship\"] != \"Denmark\", \"Not danish\", \"Denmark\")"
   ]
  },
  {
   "cell_type": "code",
   "execution_count": 4,
   "metadata": {},
   "outputs": [],
   "source": [
    "def calculate_age(born):\n",
    "    today = date.today()\n",
    "    return today.year - born.year - ((today.month, today.day) < (born.month, born.day))"
   ]
  },
  {
   "cell_type": "code",
   "execution_count": 5,
   "metadata": {},
   "outputs": [],
   "source": [
    "def calculate_age_range(age):\n",
    "    l_min = 5.28\n",
    "    l_max = 7.03\n",
    "    min_age = round(age + l_min)\n",
    "    max_age = round(age - l_max)\n",
    "    return [max_age, min_age]"
   ]
  },
  {
   "cell_type": "code",
   "execution_count": 6,
   "metadata": {},
   "outputs": [],
   "source": [
    "age_lambda = lambda x: calculate_age(x[\"dob\"])\n",
    "age_range  = lambda x: calculate_age_range(x[\"age\"])"
   ]
  },
  {
   "cell_type": "code",
   "execution_count": 7,
   "metadata": {},
   "outputs": [],
   "source": [
    "public_data[\"age\"] = public_data[\"dob\"].apply(lambda x: calculate_age(x))\n",
    "anon_data[\"age_range\"] = anon_data[\"age\"].apply(lambda x: calculate_age_range(x))"
   ]
  },
  {
   "cell_type": "code",
   "execution_count": 8,
   "metadata": {},
   "outputs": [
    {
     "output_type": "execute_result",
     "data": {
      "text/plain": [
       "   index     sex  evote        age   zip  \\\n",
       "0      0    Male      1  30.768506  2400   \n",
       "1      1  Female      0  47.177024  2400   \n",
       "2      2  Female      1  46.697183  2400   \n",
       "3      3  Female      0  41.181924  2300   \n",
       "4      4  Female      0  57.105226  2200   \n",
       "\n",
       "                                 education citizenship  party age_range  \n",
       "0  Vocational Education and Training (VET)     Denmark  Green  [24, 36]  \n",
       "1  Vocational Education and Training (VET)     Denmark  Green  [40, 52]  \n",
       "2          Vocational bachelors educations     Denmark    Red  [40, 52]  \n",
       "3                        Primary education     Denmark  Green  [34, 46]  \n",
       "4  Vocational Education and Training (VET)  Not danish  Green  [50, 62]  "
      ],
      "text/html": "<div>\n<style scoped>\n    .dataframe tbody tr th:only-of-type {\n        vertical-align: middle;\n    }\n\n    .dataframe tbody tr th {\n        vertical-align: top;\n    }\n\n    .dataframe thead th {\n        text-align: right;\n    }\n</style>\n<table border=\"1\" class=\"dataframe\">\n  <thead>\n    <tr style=\"text-align: right;\">\n      <th></th>\n      <th>index</th>\n      <th>sex</th>\n      <th>evote</th>\n      <th>age</th>\n      <th>zip</th>\n      <th>education</th>\n      <th>citizenship</th>\n      <th>party</th>\n      <th>age_range</th>\n    </tr>\n  </thead>\n  <tbody>\n    <tr>\n      <th>0</th>\n      <td>0</td>\n      <td>Male</td>\n      <td>1</td>\n      <td>30.768506</td>\n      <td>2400</td>\n      <td>Vocational Education and Training (VET)</td>\n      <td>Denmark</td>\n      <td>Green</td>\n      <td>[24, 36]</td>\n    </tr>\n    <tr>\n      <th>1</th>\n      <td>1</td>\n      <td>Female</td>\n      <td>0</td>\n      <td>47.177024</td>\n      <td>2400</td>\n      <td>Vocational Education and Training (VET)</td>\n      <td>Denmark</td>\n      <td>Green</td>\n      <td>[40, 52]</td>\n    </tr>\n    <tr>\n      <th>2</th>\n      <td>2</td>\n      <td>Female</td>\n      <td>1</td>\n      <td>46.697183</td>\n      <td>2400</td>\n      <td>Vocational bachelors educations</td>\n      <td>Denmark</td>\n      <td>Red</td>\n      <td>[40, 52]</td>\n    </tr>\n    <tr>\n      <th>3</th>\n      <td>3</td>\n      <td>Female</td>\n      <td>0</td>\n      <td>41.181924</td>\n      <td>2300</td>\n      <td>Primary education</td>\n      <td>Denmark</td>\n      <td>Green</td>\n      <td>[34, 46]</td>\n    </tr>\n    <tr>\n      <th>4</th>\n      <td>4</td>\n      <td>Female</td>\n      <td>0</td>\n      <td>57.105226</td>\n      <td>2200</td>\n      <td>Vocational Education and Training (VET)</td>\n      <td>Not danish</td>\n      <td>Green</td>\n      <td>[50, 62]</td>\n    </tr>\n  </tbody>\n</table>\n</div>"
     },
     "metadata": {},
     "execution_count": 8
    }
   ],
   "source": [
    "anon_data.head()"
   ]
  },
  {
   "cell_type": "code",
   "execution_count": 9,
   "metadata": {},
   "outputs": [
    {
     "output_type": "execute_result",
     "data": {
      "text/plain": [
       "   index                  name     sex        dob   zip citizenship  \\\n",
       "0      0      al-Fawaz, Sabaah    Male 1996-08-23  2200     Denmark   \n",
       "1      1       el-Asmar, Hasan    Male 1995-02-18  2100     Denmark   \n",
       "2      2        Widaa, Cameron    Male 1996-08-24  2300     Denmark   \n",
       "3      3          Santos, Jose    Male 2000-05-16  2300     Denmark   \n",
       "4      4  Buczynski, Elizabeth  Female 1999-06-03  2300     Denmark   \n",
       "\n",
       "  marital_status  last_voted  age  \n",
       "0  Never married           1   24  \n",
       "1  Never married           1   25  \n",
       "2  Never married           1   24  \n",
       "3  Never married           1   20  \n",
       "4  Never married           1   21  "
      ],
      "text/html": "<div>\n<style scoped>\n    .dataframe tbody tr th:only-of-type {\n        vertical-align: middle;\n    }\n\n    .dataframe tbody tr th {\n        vertical-align: top;\n    }\n\n    .dataframe thead th {\n        text-align: right;\n    }\n</style>\n<table border=\"1\" class=\"dataframe\">\n  <thead>\n    <tr style=\"text-align: right;\">\n      <th></th>\n      <th>index</th>\n      <th>name</th>\n      <th>sex</th>\n      <th>dob</th>\n      <th>zip</th>\n      <th>citizenship</th>\n      <th>marital_status</th>\n      <th>last_voted</th>\n      <th>age</th>\n    </tr>\n  </thead>\n  <tbody>\n    <tr>\n      <th>0</th>\n      <td>0</td>\n      <td>al-Fawaz, Sabaah</td>\n      <td>Male</td>\n      <td>1996-08-23</td>\n      <td>2200</td>\n      <td>Denmark</td>\n      <td>Never married</td>\n      <td>1</td>\n      <td>24</td>\n    </tr>\n    <tr>\n      <th>1</th>\n      <td>1</td>\n      <td>el-Asmar, Hasan</td>\n      <td>Male</td>\n      <td>1995-02-18</td>\n      <td>2100</td>\n      <td>Denmark</td>\n      <td>Never married</td>\n      <td>1</td>\n      <td>25</td>\n    </tr>\n    <tr>\n      <th>2</th>\n      <td>2</td>\n      <td>Widaa, Cameron</td>\n      <td>Male</td>\n      <td>1996-08-24</td>\n      <td>2300</td>\n      <td>Denmark</td>\n      <td>Never married</td>\n      <td>1</td>\n      <td>24</td>\n    </tr>\n    <tr>\n      <th>3</th>\n      <td>3</td>\n      <td>Santos, Jose</td>\n      <td>Male</td>\n      <td>2000-05-16</td>\n      <td>2300</td>\n      <td>Denmark</td>\n      <td>Never married</td>\n      <td>1</td>\n      <td>20</td>\n    </tr>\n    <tr>\n      <th>4</th>\n      <td>4</td>\n      <td>Buczynski, Elizabeth</td>\n      <td>Female</td>\n      <td>1999-06-03</td>\n      <td>2300</td>\n      <td>Denmark</td>\n      <td>Never married</td>\n      <td>1</td>\n      <td>21</td>\n    </tr>\n  </tbody>\n</table>\n</div>"
     },
     "metadata": {},
     "execution_count": 9
    }
   ],
   "source": [
    "public_data.head()"
   ]
  },
  {
   "cell_type": "code",
   "execution_count": 37,
   "metadata": {},
   "outputs": [
    {
     "output_type": "execute_result",
     "data": {
      "text/plain": [
       "     index           name     sex   zip citizenship  last_voted  age\n",
       "898    898  Haley, Ashley  Female  2200  Not danish           0   57"
      ],
      "text/html": "<div>\n<style scoped>\n    .dataframe tbody tr th:only-of-type {\n        vertical-align: middle;\n    }\n\n    .dataframe tbody tr th {\n        vertical-align: top;\n    }\n\n    .dataframe thead th {\n        text-align: right;\n    }\n</style>\n<table border=\"1\" class=\"dataframe\">\n  <thead>\n    <tr style=\"text-align: right;\">\n      <th></th>\n      <th>index</th>\n      <th>name</th>\n      <th>sex</th>\n      <th>zip</th>\n      <th>citizenship</th>\n      <th>last_voted</th>\n      <th>age</th>\n    </tr>\n  </thead>\n  <tbody>\n    <tr>\n      <th>898</th>\n      <td>898</td>\n      <td>Haley, Ashley</td>\n      <td>Female</td>\n      <td>2200</td>\n      <td>Not danish</td>\n      <td>0</td>\n      <td>57</td>\n    </tr>\n  </tbody>\n</table>\n</div>"
     },
     "metadata": {},
     "execution_count": 37
    }
   ],
   "source": [
    "public_data[public_data[\"name\"] == \"Haley, Ashley\"]"
   ]
  },
  {
   "cell_type": "code",
   "execution_count": 10,
   "metadata": {},
   "outputs": [
    {
     "output_type": "execute_result",
     "data": {
      "text/plain": [
       "19"
      ]
     },
     "metadata": {},
     "execution_count": 10
    }
   ],
   "source": [
    "min(public_data[\"age\"])"
   ]
  },
  {
   "cell_type": "code",
   "execution_count": 11,
   "metadata": {},
   "outputs": [
    {
     "output_type": "execute_result",
     "data": {
      "text/plain": [
       "101"
      ]
     },
     "metadata": {},
     "execution_count": 11
    }
   ],
   "source": [
    "max(public_data[\"age\"])"
   ]
  },
  {
   "cell_type": "code",
   "execution_count": 12,
   "metadata": {},
   "outputs": [],
   "source": [
    "bins = [[19, 29], [30, 39], [40, 49], [50, 59], [60, 69], [70, 79], [80, 89], [90, 99], [100, 109]]"
   ]
  },
  {
   "cell_type": "code",
   "execution_count": 13,
   "metadata": {},
   "outputs": [],
   "source": [
    "def ten_year_bins(age_range, bins):\n",
    "    range = []\n",
    "    diff = 0\n",
    "    if type(age_range) == list:\n",
    "        for idx, i in enumerate(bins):\n",
    "            if age_range[0] <= i[1] and age_range[1] >= i[0]:\n",
    "                diff_range = [max([age_range[0], i[0]]),  min([age_range[1], i[1]])]\n",
    "                if (diff_range[1] - diff_range[0]) > diff:\n",
    "                    range = bins[idx]\n",
    "                    diff = diff_range[1] - diff_range[0]\n",
    "    else:\n",
    "        for idx, i in enumerate(bins):\n",
    "            if age_range >= i[0] and age_range <= i[1]:\n",
    "                return i\n",
    "    return range"
   ]
  },
  {
   "cell_type": "code",
   "execution_count": 14,
   "metadata": {
    "tags": []
   },
   "outputs": [],
   "source": [
    "# anon_data[\"age_range_bins\"] = anon_data[\"age_range\"].apply(lambda x: ten_year_bins(x, bins))\n",
    "# public_data[\"age_range_bins\"] = public_data[\"age\"].apply(lambda x: ten_year_bins(x, bins))"
   ]
  },
  {
   "cell_type": "code",
   "execution_count": 15,
   "metadata": {},
   "outputs": [],
   "source": [
    "anon_data = anon_data.drop(columns=[\"age\", \"education\"])\n",
    "public_data = public_data.drop(columns=[\"marital_status\", \"dob\"])"
   ]
  },
  {
   "cell_type": "code",
   "execution_count": 16,
   "metadata": {},
   "outputs": [
    {
     "output_type": "execute_result",
     "data": {
      "text/plain": [
       "   index     sex  evote   zip citizenship  party age_range\n",
       "0      0    Male      1  2400     Denmark  Green  [24, 36]\n",
       "1      1  Female      0  2400     Denmark  Green  [40, 52]\n",
       "2      2  Female      1  2400     Denmark    Red  [40, 52]\n",
       "3      3  Female      0  2300     Denmark  Green  [34, 46]\n",
       "4      4  Female      0  2200  Not danish  Green  [50, 62]"
      ],
      "text/html": "<div>\n<style scoped>\n    .dataframe tbody tr th:only-of-type {\n        vertical-align: middle;\n    }\n\n    .dataframe tbody tr th {\n        vertical-align: top;\n    }\n\n    .dataframe thead th {\n        text-align: right;\n    }\n</style>\n<table border=\"1\" class=\"dataframe\">\n  <thead>\n    <tr style=\"text-align: right;\">\n      <th></th>\n      <th>index</th>\n      <th>sex</th>\n      <th>evote</th>\n      <th>zip</th>\n      <th>citizenship</th>\n      <th>party</th>\n      <th>age_range</th>\n    </tr>\n  </thead>\n  <tbody>\n    <tr>\n      <th>0</th>\n      <td>0</td>\n      <td>Male</td>\n      <td>1</td>\n      <td>2400</td>\n      <td>Denmark</td>\n      <td>Green</td>\n      <td>[24, 36]</td>\n    </tr>\n    <tr>\n      <th>1</th>\n      <td>1</td>\n      <td>Female</td>\n      <td>0</td>\n      <td>2400</td>\n      <td>Denmark</td>\n      <td>Green</td>\n      <td>[40, 52]</td>\n    </tr>\n    <tr>\n      <th>2</th>\n      <td>2</td>\n      <td>Female</td>\n      <td>1</td>\n      <td>2400</td>\n      <td>Denmark</td>\n      <td>Red</td>\n      <td>[40, 52]</td>\n    </tr>\n    <tr>\n      <th>3</th>\n      <td>3</td>\n      <td>Female</td>\n      <td>0</td>\n      <td>2300</td>\n      <td>Denmark</td>\n      <td>Green</td>\n      <td>[34, 46]</td>\n    </tr>\n    <tr>\n      <th>4</th>\n      <td>4</td>\n      <td>Female</td>\n      <td>0</td>\n      <td>2200</td>\n      <td>Not danish</td>\n      <td>Green</td>\n      <td>[50, 62]</td>\n    </tr>\n  </tbody>\n</table>\n</div>"
     },
     "metadata": {},
     "execution_count": 16
    }
   ],
   "source": [
    "anon_data.head()"
   ]
  },
  {
   "cell_type": "code",
   "execution_count": 17,
   "metadata": {},
   "outputs": [
    {
     "output_type": "execute_result",
     "data": {
      "text/plain": [
       "   index                  name     sex   zip citizenship  last_voted  age\n",
       "0      0      al-Fawaz, Sabaah    Male  2200     Denmark           1   24\n",
       "1      1       el-Asmar, Hasan    Male  2100     Denmark           1   25\n",
       "2      2        Widaa, Cameron    Male  2300     Denmark           1   24\n",
       "3      3          Santos, Jose    Male  2300     Denmark           1   20\n",
       "4      4  Buczynski, Elizabeth  Female  2300     Denmark           1   21"
      ],
      "text/html": "<div>\n<style scoped>\n    .dataframe tbody tr th:only-of-type {\n        vertical-align: middle;\n    }\n\n    .dataframe tbody tr th {\n        vertical-align: top;\n    }\n\n    .dataframe thead th {\n        text-align: right;\n    }\n</style>\n<table border=\"1\" class=\"dataframe\">\n  <thead>\n    <tr style=\"text-align: right;\">\n      <th></th>\n      <th>index</th>\n      <th>name</th>\n      <th>sex</th>\n      <th>zip</th>\n      <th>citizenship</th>\n      <th>last_voted</th>\n      <th>age</th>\n    </tr>\n  </thead>\n  <tbody>\n    <tr>\n      <th>0</th>\n      <td>0</td>\n      <td>al-Fawaz, Sabaah</td>\n      <td>Male</td>\n      <td>2200</td>\n      <td>Denmark</td>\n      <td>1</td>\n      <td>24</td>\n    </tr>\n    <tr>\n      <th>1</th>\n      <td>1</td>\n      <td>el-Asmar, Hasan</td>\n      <td>Male</td>\n      <td>2100</td>\n      <td>Denmark</td>\n      <td>1</td>\n      <td>25</td>\n    </tr>\n    <tr>\n      <th>2</th>\n      <td>2</td>\n      <td>Widaa, Cameron</td>\n      <td>Male</td>\n      <td>2300</td>\n      <td>Denmark</td>\n      <td>1</td>\n      <td>24</td>\n    </tr>\n    <tr>\n      <th>3</th>\n      <td>3</td>\n      <td>Santos, Jose</td>\n      <td>Male</td>\n      <td>2300</td>\n      <td>Denmark</td>\n      <td>1</td>\n      <td>20</td>\n    </tr>\n    <tr>\n      <th>4</th>\n      <td>4</td>\n      <td>Buczynski, Elizabeth</td>\n      <td>Female</td>\n      <td>2300</td>\n      <td>Denmark</td>\n      <td>1</td>\n      <td>21</td>\n    </tr>\n  </tbody>\n</table>\n</div>"
     },
     "metadata": {},
     "execution_count": 17
    }
   ],
   "source": [
    "public_data.head()"
   ]
  },
  {
   "cell_type": "code",
   "execution_count": 18,
   "metadata": {
    "tags": []
   },
   "outputs": [],
   "source": [
    "# match_dict = dict()\n",
    "\n",
    "# for index, row in public_data.iterrows():\n",
    "#     match_dict[row[\"name\"]] = []\n",
    "#     public_str = row[\"sex\"]+str(row[\"zip\"])+row[\"citizenship\"]+str(row[\"last_voted\"])+str(row[\"age_range_bins\"])\n",
    "#     for index_anon, row_anon in anon_data.iterrows():\n",
    "#         anon_str = row_anon[\"sex\"]+str(row_anon[\"zip\"])+row_anon[\"citizenship\"]+str(row_anon[\"evote\"])+str(row_anon[\"age_range_bins\"])\n",
    "#         if anon_str == public_str and row[\"age\"] >= row_anon[\"age_range_bins\"][0] and row[\"age\"] <= row_anon[\"age_range_bins\"][1]:\n",
    "#             match_dict[row[\"name\"]].append(row_anon[\"index\"])\n",
    "\n",
    "match_dict = dict()\n",
    "\n",
    "for index, row in public_data.iterrows():\n",
    "    match_dict[row[\"name\"]] = []\n",
    "    public_str = row[\"sex\"]+str(row[\"zip\"])+row[\"citizenship\"]+str(row[\"last_voted\"])\n",
    "    for index_anon, row_anon in anon_data.iterrows():\n",
    "        anon_str = row_anon[\"sex\"]+str(row_anon[\"zip\"])+row_anon[\"citizenship\"]+str(row_anon[\"evote\"])\n",
    "        if anon_str == public_str and row[\"age\"] >= (row_anon[\"age_range\"][0]) and row[\"age\"] <= (row_anon[\"age_range\"][1]):\n",
    "            match_dict[row[\"name\"]].append(row_anon[\"index\"])"
   ]
  },
  {
   "cell_type": "code",
   "execution_count": 19,
   "metadata": {},
   "outputs": [],
   "source": [
    "dict_copy = match_dict.copy()\n",
    "\n",
    "for key, value in dict_copy.items():\n",
    "    if len(value) > 1 or len(value) == 0:\n",
    "        del match_dict[key]"
   ]
  },
  {
   "cell_type": "code",
   "execution_count": 20,
   "metadata": {},
   "outputs": [],
   "source": [
    "# match_dict"
   ]
  },
  {
   "cell_type": "code",
   "execution_count": 21,
   "metadata": {},
   "outputs": [],
   "source": [
    "dict_copy_2 = match_dict.copy()\n",
    "temp = dict()\n",
    "\n",
    "for key, value in dict_copy_2.items():\n",
    "    if value[0] not in temp:\n",
    "        temp[value[0]] = 0\n",
    "    else:\n",
    "        temp[value[0]] += 1\n",
    "\n",
    "for key, value in dict_copy_2.items():\n",
    "    if temp[value[0]] != 0:\n",
    "        del match_dict[key]"
   ]
  },
  {
   "cell_type": "code",
   "execution_count": 22,
   "metadata": {},
   "outputs": [
    {
     "output_type": "execute_result",
     "data": {
      "text/plain": [
       "{'Nubine, Tailor': [154],\n",
       " 'el-Nasrallah, Saqr': [176],\n",
       " 'al-Koroma, Huwaida': [98],\n",
       " 'Fang, Christina': [131],\n",
       " 'Lovan, Adinidiin': [117],\n",
       " 'Paudel, Jijo': [174],\n",
       " 'Lewis, Jordan': [160],\n",
       " 'Strom, Hannah': [188],\n",
       " 'al-Vaziri, Abbaas': [34],\n",
       " 'Hamilton, Bryce': [110],\n",
       " 'Bui, Samuel': [114],\n",
       " 'Sayers, Aquasia': [198],\n",
       " 'al-Rabbani, Ammaar': [28],\n",
       " 'Wesley, Naaamorkor': [161],\n",
       " 'Awtrey, Teryl': [64],\n",
       " 'Thomas, Suzanna': [36],\n",
       " 'Franko, Addison': [68],\n",
       " 'Ricketts, Dwight': [169],\n",
       " 'Le, Umeed': [29]}"
      ]
     },
     "metadata": {},
     "execution_count": 22
    }
   ],
   "source": [
    "match_dict"
   ]
  },
  {
   "cell_type": "code",
   "execution_count": 23,
   "metadata": {},
   "outputs": [],
   "source": [
    "users = []\n",
    "\n",
    "for key, value in match_dict.items():\n",
    "    users.append(value[0])"
   ]
  },
  {
   "cell_type": "code",
   "execution_count": 24,
   "metadata": {},
   "outputs": [],
   "source": [
    "unique_users = anon_data[anon_data[\"index\"].isin(users)]"
   ]
  },
  {
   "cell_type": "code",
   "execution_count": 25,
   "metadata": {},
   "outputs": [
    {
     "output_type": "execute_result",
     "data": {
      "text/plain": [
       "     index     sex  evote   zip citizenship  party  age_range\n",
       "28      28    Male      0  2300     Denmark  Green   [14, 26]\n",
       "29      29    Male      0  2400     Denmark  Green   [68, 80]\n",
       "34      34    Male      1  2400     Denmark  Green   [59, 71]\n",
       "36      36  Female      0  2400  Not danish  Green   [43, 55]\n",
       "64      64  Female      0  2200  Not danish    Red   [27, 39]\n",
       "68      68    Male      0  2300     Denmark  Green   [85, 97]\n",
       "98      98  Female      1  2400     Denmark  Green   [30, 42]\n",
       "110    110    Male      1  2100  Not danish    Red   [51, 63]\n",
       "114    114    Male      1  2400     Denmark  Green   [62, 74]\n",
       "117    117  Female      1  2200  Not danish  Green   [27, 39]\n",
       "131    131  Female      1  2400  Not danish  Green   [20, 32]\n",
       "154    154  Female      1  2200     Denmark  Green   [18, 30]\n",
       "160    160  Female      1  2200     Denmark  Green   [37, 50]\n",
       "161    161  Female      0  2400     Denmark  Green   [15, 27]\n",
       "169    169    Male      0  2400  Not danish  Green  [91, 103]\n",
       "174    174    Male      1  2400  Not danish  Green   [36, 48]\n",
       "176    176    Male      1  2200     Denmark  Green   [15, 27]\n",
       "188    188  Female      1  2100     Denmark  Green   [40, 53]\n",
       "198    198  Female      1  2100     Denmark    Red   [71, 83]"
      ],
      "text/html": "<div>\n<style scoped>\n    .dataframe tbody tr th:only-of-type {\n        vertical-align: middle;\n    }\n\n    .dataframe tbody tr th {\n        vertical-align: top;\n    }\n\n    .dataframe thead th {\n        text-align: right;\n    }\n</style>\n<table border=\"1\" class=\"dataframe\">\n  <thead>\n    <tr style=\"text-align: right;\">\n      <th></th>\n      <th>index</th>\n      <th>sex</th>\n      <th>evote</th>\n      <th>zip</th>\n      <th>citizenship</th>\n      <th>party</th>\n      <th>age_range</th>\n    </tr>\n  </thead>\n  <tbody>\n    <tr>\n      <th>28</th>\n      <td>28</td>\n      <td>Male</td>\n      <td>0</td>\n      <td>2300</td>\n      <td>Denmark</td>\n      <td>Green</td>\n      <td>[14, 26]</td>\n    </tr>\n    <tr>\n      <th>29</th>\n      <td>29</td>\n      <td>Male</td>\n      <td>0</td>\n      <td>2400</td>\n      <td>Denmark</td>\n      <td>Green</td>\n      <td>[68, 80]</td>\n    </tr>\n    <tr>\n      <th>34</th>\n      <td>34</td>\n      <td>Male</td>\n      <td>1</td>\n      <td>2400</td>\n      <td>Denmark</td>\n      <td>Green</td>\n      <td>[59, 71]</td>\n    </tr>\n    <tr>\n      <th>36</th>\n      <td>36</td>\n      <td>Female</td>\n      <td>0</td>\n      <td>2400</td>\n      <td>Not danish</td>\n      <td>Green</td>\n      <td>[43, 55]</td>\n    </tr>\n    <tr>\n      <th>64</th>\n      <td>64</td>\n      <td>Female</td>\n      <td>0</td>\n      <td>2200</td>\n      <td>Not danish</td>\n      <td>Red</td>\n      <td>[27, 39]</td>\n    </tr>\n    <tr>\n      <th>68</th>\n      <td>68</td>\n      <td>Male</td>\n      <td>0</td>\n      <td>2300</td>\n      <td>Denmark</td>\n      <td>Green</td>\n      <td>[85, 97]</td>\n    </tr>\n    <tr>\n      <th>98</th>\n      <td>98</td>\n      <td>Female</td>\n      <td>1</td>\n      <td>2400</td>\n      <td>Denmark</td>\n      <td>Green</td>\n      <td>[30, 42]</td>\n    </tr>\n    <tr>\n      <th>110</th>\n      <td>110</td>\n      <td>Male</td>\n      <td>1</td>\n      <td>2100</td>\n      <td>Not danish</td>\n      <td>Red</td>\n      <td>[51, 63]</td>\n    </tr>\n    <tr>\n      <th>114</th>\n      <td>114</td>\n      <td>Male</td>\n      <td>1</td>\n      <td>2400</td>\n      <td>Denmark</td>\n      <td>Green</td>\n      <td>[62, 74]</td>\n    </tr>\n    <tr>\n      <th>117</th>\n      <td>117</td>\n      <td>Female</td>\n      <td>1</td>\n      <td>2200</td>\n      <td>Not danish</td>\n      <td>Green</td>\n      <td>[27, 39]</td>\n    </tr>\n    <tr>\n      <th>131</th>\n      <td>131</td>\n      <td>Female</td>\n      <td>1</td>\n      <td>2400</td>\n      <td>Not danish</td>\n      <td>Green</td>\n      <td>[20, 32]</td>\n    </tr>\n    <tr>\n      <th>154</th>\n      <td>154</td>\n      <td>Female</td>\n      <td>1</td>\n      <td>2200</td>\n      <td>Denmark</td>\n      <td>Green</td>\n      <td>[18, 30]</td>\n    </tr>\n    <tr>\n      <th>160</th>\n      <td>160</td>\n      <td>Female</td>\n      <td>1</td>\n      <td>2200</td>\n      <td>Denmark</td>\n      <td>Green</td>\n      <td>[37, 50]</td>\n    </tr>\n    <tr>\n      <th>161</th>\n      <td>161</td>\n      <td>Female</td>\n      <td>0</td>\n      <td>2400</td>\n      <td>Denmark</td>\n      <td>Green</td>\n      <td>[15, 27]</td>\n    </tr>\n    <tr>\n      <th>169</th>\n      <td>169</td>\n      <td>Male</td>\n      <td>0</td>\n      <td>2400</td>\n      <td>Not danish</td>\n      <td>Green</td>\n      <td>[91, 103]</td>\n    </tr>\n    <tr>\n      <th>174</th>\n      <td>174</td>\n      <td>Male</td>\n      <td>1</td>\n      <td>2400</td>\n      <td>Not danish</td>\n      <td>Green</td>\n      <td>[36, 48]</td>\n    </tr>\n    <tr>\n      <th>176</th>\n      <td>176</td>\n      <td>Male</td>\n      <td>1</td>\n      <td>2200</td>\n      <td>Denmark</td>\n      <td>Green</td>\n      <td>[15, 27]</td>\n    </tr>\n    <tr>\n      <th>188</th>\n      <td>188</td>\n      <td>Female</td>\n      <td>1</td>\n      <td>2100</td>\n      <td>Denmark</td>\n      <td>Green</td>\n      <td>[40, 53]</td>\n    </tr>\n    <tr>\n      <th>198</th>\n      <td>198</td>\n      <td>Female</td>\n      <td>1</td>\n      <td>2100</td>\n      <td>Denmark</td>\n      <td>Red</td>\n      <td>[71, 83]</td>\n    </tr>\n  </tbody>\n</table>\n</div>"
     },
     "metadata": {},
     "execution_count": 25
    }
   ],
   "source": [
    "unique_users"
   ]
  },
  {
   "cell_type": "code",
   "execution_count": 26,
   "metadata": {
    "tags": []
   },
   "outputs": [],
   "source": [
    "user_dict = dict()\n",
    "\n",
    "for index, row in unique_users.iterrows():\n",
    "    u_user_string = row[\"sex\"]+str(row[\"zip\"])+row[\"citizenship\"]+str(row[\"evote\"])\n",
    "    for index_2, value in public_data.iterrows():\n",
    "        p_user_string = value[\"sex\"]+str(value[\"zip\"])+value[\"citizenship\"]+str(value[\"last_voted\"])\n",
    "        if u_user_string == p_user_string and value[\"age\"] >= (row[\"age_range\"][0]) and value[\"age\"] <= (row[\"age_range\"][1]):\n",
    "            if u_user_string in user_dict:\n",
    "                user_dict[u_user_string] += 1\n",
    "            else:\n",
    "                user_dict[u_user_string] = 0\n"
   ]
  },
  {
   "cell_type": "code",
   "execution_count": 27,
   "metadata": {},
   "outputs": [
    {
     "output_type": "execute_result",
     "data": {
      "text/plain": [
       "{'Male2300Denmark0': 4,\n",
       " 'Male2400Denmark0': 5,\n",
       " 'Male2400Denmark1': 17,\n",
       " 'Female2400Not danish0': 6,\n",
       " 'Female2200Not danish0': 0,\n",
       " 'Female2400Denmark1': 11,\n",
       " 'Male2100Not danish1': 0,\n",
       " 'Female2200Not danish1': 0,\n",
       " 'Female2400Not danish1': 0,\n",
       " 'Female2200Denmark1': 21,\n",
       " 'Female2400Denmark0': 0,\n",
       " 'Male2400Not danish0': 0,\n",
       " 'Male2400Not danish1': 0,\n",
       " 'Male2200Denmark1': 6,\n",
       " 'Female2100Denmark1': 7}"
      ]
     },
     "metadata": {},
     "execution_count": 27
    }
   ],
   "source": [
    "user_dict"
   ]
  },
  {
   "cell_type": "code",
   "execution_count": 28,
   "metadata": {},
   "outputs": [],
   "source": [
    "user_dict_temp = []\n",
    "\n",
    "for key, value in user_dict.items():\n",
    "    if value == 0:\n",
    "        user_dict_temp.append(key)"
   ]
  },
  {
   "cell_type": "code",
   "execution_count": 29,
   "metadata": {},
   "outputs": [
    {
     "output_type": "execute_result",
     "data": {
      "text/plain": [
       "['Female2200Not danish0',\n",
       " 'Male2100Not danish1',\n",
       " 'Female2200Not danish1',\n",
       " 'Female2400Not danish1',\n",
       " 'Female2400Denmark0',\n",
       " 'Male2400Not danish0',\n",
       " 'Male2400Not danish1']"
      ]
     },
     "metadata": {},
     "execution_count": 29
    }
   ],
   "source": [
    "user_dict_temp"
   ]
  },
  {
   "cell_type": "code",
   "execution_count": 30,
   "metadata": {
    "tags": []
   },
   "outputs": [],
   "source": [
    "names_dict = dict()\n",
    "\n",
    "for index, row in public_data.iterrows():\n",
    "    u_user_string = row[\"sex\"]+str(row[\"zip\"])+row[\"citizenship\"]+str(row[\"last_voted\"])\n",
    "    for key, value in anon_data.iterrows():\n",
    "        u_user_string_2 = value[\"sex\"]+str(value[\"zip\"])+value[\"citizenship\"]+str(value[\"evote\"])\n",
    "        for i in user_dict_temp:\n",
    "            if u_user_string == u_user_string_2 and u_user_string_2 == i and row[\"age\"] >= (value[\"age_range\"][0]) and row[\"age\"] <= (value[\"age_range\"][1]):\n",
    "                names_dict[row[\"name\"]] = 0"
   ]
  },
  {
   "cell_type": "code",
   "execution_count": 31,
   "metadata": {},
   "outputs": [
    {
     "output_type": "execute_result",
     "data": {
      "text/plain": [
       "{'Fang, Christina': 0,\n",
       " 'Lovan, Adinidiin': 0,\n",
       " 'Paudel, Jijo': 0,\n",
       " 'Plummer, Edgar': 0,\n",
       " 'Chang, Kevin': 0,\n",
       " 'Enriquez, Marcus': 0,\n",
       " 'Hamilton, Bryce': 0,\n",
       " 'Wesley, Naaamorkor': 0,\n",
       " 'Wilson, Cheyenne': 0,\n",
       " 'Taherkhani, Elisa': 0,\n",
       " 'Szympruch, Sidnie': 0,\n",
       " 'Barens, Hailee': 0,\n",
       " 'Reinhardt, Abalean': 0,\n",
       " 'Starr, Kassandra': 0,\n",
       " 'Abruzzo, Amanda': 0,\n",
       " 'Osborne, Michelle': 0,\n",
       " 'Holmes, Michelle': 0,\n",
       " 'al-Ben, Mahdeeya': 0,\n",
       " 'Desantiago, Angelica': 0,\n",
       " 'Kennedy, Sarah': 0,\n",
       " 'Bullock, Amy': 0,\n",
       " 'Holder, Shannon': 0,\n",
       " \"Murphy, Bre'Anna\": 0,\n",
       " 'Fisher, Lorie': 0,\n",
       " 'Tollerson, Bailee': 0,\n",
       " 'Bost, Raelynn': 0,\n",
       " 'Ariunbold, Alexa': 0,\n",
       " 'Cerna, Gabreille': 0,\n",
       " 'Sitton, Amanda': 0,\n",
       " 'Awtrey, Teryl': 0,\n",
       " 'Swanson, Quanishia': 0,\n",
       " 'Anders, Indi': 0,\n",
       " 'Smith, Jessica': 0,\n",
       " 'Crapsey, Kristen': 0,\n",
       " 'Castaneda, Minerva': 0,\n",
       " 'Carson, Carly': 0,\n",
       " 'El-Nasser, Jayln': 0,\n",
       " 'Ross, Chloe': 0,\n",
       " 'Livingston, Melanie': 0,\n",
       " 'Folsom, Kendall': 0,\n",
       " 'al-Hossain, Shameema': 0,\n",
       " 'Farley, Asiala': 0,\n",
       " 'Clanton, Quinita': 0,\n",
       " 'el-Shariff, Haibaa': 0,\n",
       " 'Hinkle, Shelby': 0,\n",
       " 'Musick, Kelsie': 0,\n",
       " 'el-Shams, Zulfa': 0,\n",
       " 'Moimoi, Kalisha': 0,\n",
       " 'Haley, Ashley': 0,\n",
       " 'el-Matar, Shakoora': 0,\n",
       " 'Leschak, Coleman': 0,\n",
       " 'Bigbey, Canion': 0,\n",
       " 'Johnson, Jaycee': 0,\n",
       " 'Keith, Kayla': 0,\n",
       " 'Habte, Jaleeza': 0,\n",
       " 'Hall, Shae': 0,\n",
       " 'Baca, Sabrina': 0,\n",
       " 'el-Sharaf, Sumbula': 0,\n",
       " 'Nieman, Taylor': 0,\n",
       " 'al-Ozer, Ahlaam': 0,\n",
       " 'Tran, Nhan': 0,\n",
       " 'Smith, Nicholas': 0,\n",
       " 'Matthews, Delana': 0,\n",
       " 'Swanson, Cassa': 0,\n",
       " 'al-Firman, Raita': 0,\n",
       " 'Quintero, Marissa': 0,\n",
       " 'Hemstreet, Hailey': 0,\n",
       " 'Vishwamitra, Iris': 0,\n",
       " 'Holliday, Zaquala': 0,\n",
       " 'al-Kassem, Najeema': 0,\n",
       " 'Huang, Y': 0,\n",
       " 'Randell, Kamri': 0,\n",
       " 'Meneses, Megan': 0,\n",
       " 'Estes, Calypso': 0,\n",
       " 'Mattice, Alysia': 0,\n",
       " 'Cosby, Camille': 0,\n",
       " 'al-Bagheri, Hadiyya': 0,\n",
       " 'el-Jamil, Suhaa': 0,\n",
       " 'Char, Jenny': 0,\n",
       " 'Stadler, Hailey': 0,\n",
       " 'Rhodebeck, Kerry': 0,\n",
       " 'Alarid, Krista': 0,\n",
       " 'Sinclair, Mckenna': 0,\n",
       " 'Bartelt, Erica': 0,\n",
       " 'Robertson, Breanna': 0,\n",
       " 'Casas, Deysi': 0,\n",
       " 'el-Kazi, Khawla': 0,\n",
       " 'Abdullah, Brittany': 0,\n",
       " 'Muetz, Shauntel': 0,\n",
       " 'King, Kiana': 0,\n",
       " 'Navejas, Brittany': 0,\n",
       " 'Teske, Miranda': 0,\n",
       " 'Pontius, Chase': 0,\n",
       " 'Fitzgerald, Taylor': 0,\n",
       " 'Smith, Sequoia': 0,\n",
       " 'Jay, Christina': 0,\n",
       " 'Le, Ceara': 0,\n",
       " 'Avila, Ashley': 0,\n",
       " 'Fogg, Jastina': 0,\n",
       " 'al-Soliman, Jeelaan': 0,\n",
       " 'Ricketts, Dwight': 0,\n",
       " 'Ioppolo, Mollie': 0,\n",
       " 'Nguyen, Brianna': 0,\n",
       " 'Bhat, Ratna': 0,\n",
       " 'Depriest, Makayla': 0,\n",
       " 'el-Khatib, Lubaaba': 0,\n",
       " 'al-Mahmood, Nisma': 0,\n",
       " 'Ezzat, Alexandra': 0,\n",
       " 'Goldsberry, Madison': 0,\n",
       " 'Jojola, Sasha': 0,\n",
       " 'Grant, Sylvana': 0,\n",
       " 'Lattes, Carley': 0,\n",
       " 'Chommala, Gurjot': 0,\n",
       " 'Scheidt, Alyssa': 0,\n",
       " 'Frazier, Caitlin': 0,\n",
       " 'al-Saidi, Jasra': 0,\n",
       " 'Miller, Haileigh': 0,\n",
       " 'Whiting, Kayleigh': 0,\n",
       " 'Denzel, Isabelle': 0,\n",
       " 'Topkar, Vang': 0,\n",
       " 'al-Ismail, Muneefa': 0,\n",
       " 'Duvall, Destinie': 0,\n",
       " 'Coffey, Anna': 0,\n",
       " 'al-Alli, Aamina': 0,\n",
       " 'Philip, Asinate': 0,\n",
       " 'Borrego, Nataly': 0,\n",
       " 'Badsky, Tristin': 0,\n",
       " 'Jones, Shania': 0,\n",
       " 'Buccafusca, Kelli': 0,\n",
       " 'al-Amara, Sajaa': 0}"
      ]
     },
     "metadata": {},
     "execution_count": 31
    }
   ],
   "source": [
    "names_dict"
   ]
  },
  {
   "cell_type": "code",
   "execution_count": 32,
   "metadata": {},
   "outputs": [],
   "source": [
    "# dict_copy_2 = match_dict.copy()\n",
    "# temp_list = dict()\n",
    "\n",
    "# for key, value in dict_copy_2.items():\n",
    "#     if value[0] in temp_list:\n",
    "#         temp_list[value[0]].append(key)\n",
    "#     else:\n",
    "#         temp_list[value[0]] = [key]"
   ]
  },
  {
   "cell_type": "code",
   "execution_count": 33,
   "metadata": {},
   "outputs": [],
   "source": [
    "# temp_copy = temp_list.copy()\n",
    "\n",
    "# for key, value in temp_copy.items():\n",
    "#     if len(value) > 1 or len(value) == 0:\n",
    "#         del temp_list[key]"
   ]
  },
  {
   "cell_type": "code",
   "execution_count": null,
   "metadata": {},
   "outputs": [],
   "source": [
    "# temp_list"
   ]
  },
  {
   "cell_type": "code",
   "execution_count": null,
   "metadata": {},
   "outputs": [],
   "source": []
  }
 ]
}