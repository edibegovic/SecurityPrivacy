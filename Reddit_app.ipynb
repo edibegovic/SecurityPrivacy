{
  "nbformat": 4,
  "nbformat_minor": 0,
  "metadata": {
    "colab": {
      "name": "Reddit_app.ipynb",
      "private_outputs": true,
      "provenance": [],
      "collapsed_sections": [],
      "authorship_tag": "ABX9TyONp5b2BRaEfT5CqE/b/WW6",
      "include_colab_link": true
    },
    "kernelspec": {
      "name": "python3",
      "display_name": "Python 3"
    }
  },
  "cells": [
    {
      "cell_type": "markdown",
      "metadata": {
        "id": "view-in-github",
        "colab_type": "text"
      },
      "source": [
        "<a href=\"https://colab.research.google.com/github/edibegovic/SecurityPrivacy/blob/main/Reddit_app.ipynb\" target=\"_parent\"><img src=\"https://colab.research.google.com/assets/colab-badge.svg\" alt=\"Open In Colab\"/></a>"
      ]
    },
    {
      "cell_type": "markdown",
      "metadata": {
        "id": "4nYIQNKA5UzR"
      },
      "source": [
        "#Reddit randomized controlled experiment"
      ]
    },
    {
      "cell_type": "code",
      "metadata": {
        "id": "Dcz-lxjb1a7K"
      },
      "source": [
        "!pip install -q praw\n",
        "import praw"
      ],
      "execution_count": null,
      "outputs": []
    },
    {
      "cell_type": "code",
      "metadata": {
        "id": "LludUsmO1esG"
      },
      "source": [
        "from pprint import pprint"
      ],
      "execution_count": null,
      "outputs": []
    },
    {
      "cell_type": "markdown",
      "metadata": {
        "id": "nAWxOIEK5ZCA"
      },
      "source": [
        "#Create a Reddit instance with PRAW"
      ]
    },
    {
      "cell_type": "code",
      "metadata": {
        "id": "_8yG6Pwl4Mxh"
      },
      "source": [
        "def user_login(client_id, client_secret,username,password,user_agent):\n",
        "    # reddit api login\n",
        "    reddit = praw.Reddit(client_id=client_id,\n",
        "                         client_secret=client_secret,\n",
        "                         username=username,\n",
        "                         password=password,\n",
        "                         user_agent=user_agent)\n",
        "    return reddit\n",
        "\n",
        "reddit = user_login('colab', 'FYwY4PylgJRvncTq2LtBpJBfCRRB0g','RareBodybuilder3469 ','sycQyb-suzfo0-fyfmag','Mozilla/5.0')"
      ],
      "execution_count": null,
      "outputs": []
    },
    {
      "cell_type": "markdown",
      "metadata": {
        "id": "SGcCl_MV5b6Z"
      },
      "source": [
        "Test if everything went fine by retriving a reddit post."
      ]
    },
    {
      "cell_type": "code",
      "metadata": {
        "id": "e2aSqCHe4Nsz"
      },
      "source": [
        "#Reddit post: https://www.reddit.com/r/AskReddit/comments/lxcfo7/have_you_ever_met_a_really_intelligent_person_who/\n",
        "#id = lxcfo7\n",
        "submission = reddit.submission(\"lxcfo7\")\n",
        "print('Post title: {}\\n'.format(submission.title))\n",
        "print('Post content: {}\\n'.format(submission.selftext))\n",
        "print('Post number os comments: {}\\n'.format(submission.num_comments))\n",
        "print('Post url: {}\\n'.format(submission.url))\n",
        "\n",
        "#search the API and print more information associate with the post."
      ],
      "execution_count": null,
      "outputs": []
    },
    {
      "cell_type": "markdown",
      "metadata": {
        "id": "aIqgcbGZ5jpg"
      },
      "source": [
        "#Upvote a post"
      ]
    },
    {
      "cell_type": "code",
      "metadata": {
        "id": "mmjkx7uS4P9L"
      },
      "source": [
        "#read the documentation: https://praw.readthedocs.io/en/latest/"
      ],
      "execution_count": null,
      "outputs": []
    },
    {
      "cell_type": "markdown",
      "metadata": {
        "id": "8dlg3gTw5leo"
      },
      "source": [
        "#Get newly created posts"
      ]
    },
    {
      "cell_type": "code",
      "metadata": {
        "id": "eweNYyPk4Uvz"
      },
      "source": [
        "#read the documentation: https://praw.readthedocs.io/en/latest/"
      ],
      "execution_count": null,
      "outputs": []
    }
  ]
}