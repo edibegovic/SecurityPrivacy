{
 "metadata": {
  "language_info": {
   "codemirror_mode": {
    "name": "ipython",
    "version": 3
   },
   "file_extension": ".py",
   "mimetype": "text/x-python",
   "name": "python",
   "nbconvert_exporter": "python",
   "pygments_lexer": "ipython3",
   "version": "3.8.5-final"
  },
  "orig_nbformat": 2,
  "kernelspec": {
   "name": "Python 3.8.5 64-bit",
   "display_name": "Python 3.8.5 64-bit",
   "metadata": {
    "interpreter": {
     "hash": "31f2aee4e71d21fbe5cf8b01ff0e069b9275f58929596ceb00d14d90e3e16cd6"
    }
   }
  }
 },
 "nbformat": 4,
 "nbformat_minor": 2,
 "cells": [
  {
   "cell_type": "code",
   "execution_count": 3,
   "metadata": {},
   "outputs": [],
   "source": [
    "# imports\n",
    "import pandas as pd\n",
    "import matplotlib.pyplot\n",
    "\n",
    "%matplotlib inline"
   ]
  },
  {
   "cell_type": "code",
   "execution_count": 6,
   "metadata": {},
   "outputs": [],
   "source": [
    "# read files \n",
    "private_data_original = pd.read_csv('../data/private_dataB.csv')\n",
    "public_data_register = pd.read_csv('../data/public_data_registerB.csv')\n",
    "public_data_results = pd.read_csv('../data/public_data_resultsB.csv')"
   ]
  },
  {
   "source": [
    "## Observing the data"
   ],
   "cell_type": "markdown",
   "metadata": {}
  },
  {
   "cell_type": "code",
   "execution_count": 11,
   "metadata": {},
   "outputs": [
    {
     "output_type": "stream",
     "name": "stdout",
     "text": [
      "(200, 10)\n"
     ]
    },
    {
     "output_type": "execute_result",
     "data": {
      "text/plain": [
       "   Unnamed: 0                   name     sex  evote         dob   zip  \\\n",
       "0           0       Donner, Brittany  Female      0  1919-01-09  2300   \n",
       "1           1     Wilkerson, Allison  Female      0  1930-09-22  2200   \n",
       "2           2      al-Sayed, Tameema  Female      1  1985-10-04  2100   \n",
       "3           3           Rowe, Nathan    Male      0  1967-05-01  2400   \n",
       "4           4  Ambriz-Mendez, Andrew    Male      0  1992-04-01  2200   \n",
       "\n",
       "                                 education citizenship     marital_status  \\\n",
       "0          Vocational bachelors educations     Denmark            Widowed   \n",
       "1  Vocational Education and Training (VET)     Denmark            Widowed   \n",
       "2  Vocational Education and Training (VET)     Denmark  Married/separated   \n",
       "3  Vocational Education and Training (VET)     Denmark            Widowed   \n",
       "4                       Masters programmes     Denmark      Never married   \n",
       "\n",
       "   party  \n",
       "0    Red  \n",
       "1    Red  \n",
       "2  Green  \n",
       "3  Green  \n",
       "4  Green  "
      ],
      "text/html": "<div>\n<style scoped>\n    .dataframe tbody tr th:only-of-type {\n        vertical-align: middle;\n    }\n\n    .dataframe tbody tr th {\n        vertical-align: top;\n    }\n\n    .dataframe thead th {\n        text-align: right;\n    }\n</style>\n<table border=\"1\" class=\"dataframe\">\n  <thead>\n    <tr style=\"text-align: right;\">\n      <th></th>\n      <th>Unnamed: 0</th>\n      <th>name</th>\n      <th>sex</th>\n      <th>evote</th>\n      <th>dob</th>\n      <th>zip</th>\n      <th>education</th>\n      <th>citizenship</th>\n      <th>marital_status</th>\n      <th>party</th>\n    </tr>\n  </thead>\n  <tbody>\n    <tr>\n      <th>0</th>\n      <td>0</td>\n      <td>Donner, Brittany</td>\n      <td>Female</td>\n      <td>0</td>\n      <td>1919-01-09</td>\n      <td>2300</td>\n      <td>Vocational bachelors educations</td>\n      <td>Denmark</td>\n      <td>Widowed</td>\n      <td>Red</td>\n    </tr>\n    <tr>\n      <th>1</th>\n      <td>1</td>\n      <td>Wilkerson, Allison</td>\n      <td>Female</td>\n      <td>0</td>\n      <td>1930-09-22</td>\n      <td>2200</td>\n      <td>Vocational Education and Training (VET)</td>\n      <td>Denmark</td>\n      <td>Widowed</td>\n      <td>Red</td>\n    </tr>\n    <tr>\n      <th>2</th>\n      <td>2</td>\n      <td>al-Sayed, Tameema</td>\n      <td>Female</td>\n      <td>1</td>\n      <td>1985-10-04</td>\n      <td>2100</td>\n      <td>Vocational Education and Training (VET)</td>\n      <td>Denmark</td>\n      <td>Married/separated</td>\n      <td>Green</td>\n    </tr>\n    <tr>\n      <th>3</th>\n      <td>3</td>\n      <td>Rowe, Nathan</td>\n      <td>Male</td>\n      <td>0</td>\n      <td>1967-05-01</td>\n      <td>2400</td>\n      <td>Vocational Education and Training (VET)</td>\n      <td>Denmark</td>\n      <td>Widowed</td>\n      <td>Green</td>\n    </tr>\n    <tr>\n      <th>4</th>\n      <td>4</td>\n      <td>Ambriz-Mendez, Andrew</td>\n      <td>Male</td>\n      <td>0</td>\n      <td>1992-04-01</td>\n      <td>2200</td>\n      <td>Masters programmes</td>\n      <td>Denmark</td>\n      <td>Never married</td>\n      <td>Green</td>\n    </tr>\n  </tbody>\n</table>\n</div>"
     },
     "metadata": {},
     "execution_count": 11
    }
   ],
   "source": [
    "print(private_data_original.shape)\n",
    "private_data_original.head(5)"
   ]
  },
  {
   "cell_type": "code",
   "execution_count": 10,
   "metadata": {},
   "outputs": [
    {
     "output_type": "stream",
     "name": "stdout",
     "text": [
      "(1515, 8)\n"
     ]
    },
    {
     "output_type": "execute_result",
     "data": {
      "text/plain": [
       "   Unnamed: 0              name     sex         dob   zip citizenship  \\\n",
       "0           0           Le, Ian    Male  1998-08-30  2300     Denmark   \n",
       "1           1       Wang, Caleb    Male  1996-04-23  2200     Denmark   \n",
       "2           2  Carranco, Raquel  Female  1994-08-06  2200     Denmark   \n",
       "3           3   Williams, Geona  Female  1995-04-22  2100      Sweden   \n",
       "4           4  Gonzales, Edward    Male  2000-05-13  2100     Denmark   \n",
       "\n",
       "  marital_status  last_voted  \n",
       "0  Never married           1  \n",
       "1  Never married           1  \n",
       "2  Never married           1  \n",
       "3  Never married           2  \n",
       "4  Never married           1  "
      ],
      "text/html": "<div>\n<style scoped>\n    .dataframe tbody tr th:only-of-type {\n        vertical-align: middle;\n    }\n\n    .dataframe tbody tr th {\n        vertical-align: top;\n    }\n\n    .dataframe thead th {\n        text-align: right;\n    }\n</style>\n<table border=\"1\" class=\"dataframe\">\n  <thead>\n    <tr style=\"text-align: right;\">\n      <th></th>\n      <th>Unnamed: 0</th>\n      <th>name</th>\n      <th>sex</th>\n      <th>dob</th>\n      <th>zip</th>\n      <th>citizenship</th>\n      <th>marital_status</th>\n      <th>last_voted</th>\n    </tr>\n  </thead>\n  <tbody>\n    <tr>\n      <th>0</th>\n      <td>0</td>\n      <td>Le, Ian</td>\n      <td>Male</td>\n      <td>1998-08-30</td>\n      <td>2300</td>\n      <td>Denmark</td>\n      <td>Never married</td>\n      <td>1</td>\n    </tr>\n    <tr>\n      <th>1</th>\n      <td>1</td>\n      <td>Wang, Caleb</td>\n      <td>Male</td>\n      <td>1996-04-23</td>\n      <td>2200</td>\n      <td>Denmark</td>\n      <td>Never married</td>\n      <td>1</td>\n    </tr>\n    <tr>\n      <th>2</th>\n      <td>2</td>\n      <td>Carranco, Raquel</td>\n      <td>Female</td>\n      <td>1994-08-06</td>\n      <td>2200</td>\n      <td>Denmark</td>\n      <td>Never married</td>\n      <td>1</td>\n    </tr>\n    <tr>\n      <th>3</th>\n      <td>3</td>\n      <td>Williams, Geona</td>\n      <td>Female</td>\n      <td>1995-04-22</td>\n      <td>2100</td>\n      <td>Sweden</td>\n      <td>Never married</td>\n      <td>2</td>\n    </tr>\n    <tr>\n      <th>4</th>\n      <td>4</td>\n      <td>Gonzales, Edward</td>\n      <td>Male</td>\n      <td>2000-05-13</td>\n      <td>2100</td>\n      <td>Denmark</td>\n      <td>Never married</td>\n      <td>1</td>\n    </tr>\n  </tbody>\n</table>\n</div>"
     },
     "metadata": {},
     "execution_count": 10
    }
   ],
   "source": [
    "print(public_data_register.shape)\n",
    "public_data_register.head(5)"
   ]
  },
  {
   "cell_type": "code",
   "execution_count": 12,
   "metadata": {},
   "outputs": [
    {
     "output_type": "stream",
     "name": "stdout",
     "text": [
      "(6, 6)\n"
     ]
    },
    {
     "output_type": "execute_result",
     "data": {
      "text/plain": [
       "   Unnamed: 0               Unnamed: 0.1  Red  Green  Invalid ballots  Total\n",
       "0           0  Polling station: ZIP 2100   23     88                1    112\n",
       "1           1  Polling station: ZIP 2200   63    122                5    190\n",
       "2           2  Polling station: ZIP 2300  106     88                5    199\n",
       "3           3  Polling station: ZIP 2400   81    153                7    241\n",
       "4           4                    E-votes   89    225                5    319"
      ],
      "text/html": "<div>\n<style scoped>\n    .dataframe tbody tr th:only-of-type {\n        vertical-align: middle;\n    }\n\n    .dataframe tbody tr th {\n        vertical-align: top;\n    }\n\n    .dataframe thead th {\n        text-align: right;\n    }\n</style>\n<table border=\"1\" class=\"dataframe\">\n  <thead>\n    <tr style=\"text-align: right;\">\n      <th></th>\n      <th>Unnamed: 0</th>\n      <th>Unnamed: 0.1</th>\n      <th>Red</th>\n      <th>Green</th>\n      <th>Invalid ballots</th>\n      <th>Total</th>\n    </tr>\n  </thead>\n  <tbody>\n    <tr>\n      <th>0</th>\n      <td>0</td>\n      <td>Polling station: ZIP 2100</td>\n      <td>23</td>\n      <td>88</td>\n      <td>1</td>\n      <td>112</td>\n    </tr>\n    <tr>\n      <th>1</th>\n      <td>1</td>\n      <td>Polling station: ZIP 2200</td>\n      <td>63</td>\n      <td>122</td>\n      <td>5</td>\n      <td>190</td>\n    </tr>\n    <tr>\n      <th>2</th>\n      <td>2</td>\n      <td>Polling station: ZIP 2300</td>\n      <td>106</td>\n      <td>88</td>\n      <td>5</td>\n      <td>199</td>\n    </tr>\n    <tr>\n      <th>3</th>\n      <td>3</td>\n      <td>Polling station: ZIP 2400</td>\n      <td>81</td>\n      <td>153</td>\n      <td>7</td>\n      <td>241</td>\n    </tr>\n    <tr>\n      <th>4</th>\n      <td>4</td>\n      <td>E-votes</td>\n      <td>89</td>\n      <td>225</td>\n      <td>5</td>\n      <td>319</td>\n    </tr>\n  </tbody>\n</table>\n</div>"
     },
     "metadata": {},
     "execution_count": 12
    }
   ],
   "source": [
    "print(public_data_results.shape)\n",
    "public_data_results.head(5)"
   ]
  },
  {
   "cell_type": "code",
   "execution_count": null,
   "metadata": {},
   "outputs": [],
   "source": []
  }
 ]
}