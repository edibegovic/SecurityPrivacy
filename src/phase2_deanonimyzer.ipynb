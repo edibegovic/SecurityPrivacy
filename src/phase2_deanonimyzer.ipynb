{
 "metadata": {
  "language_info": {
   "codemirror_mode": {
    "name": "ipython",
    "version": 3
   },
   "file_extension": ".py",
   "mimetype": "text/x-python",
   "name": "python",
   "nbconvert_exporter": "python",
   "pygments_lexer": "ipython3",
   "version": "3.8.5-final"
  },
  "orig_nbformat": 2,
  "kernelspec": {
   "name": "python3",
   "display_name": "Python 3"
  }
 },
 "nbformat": 4,
 "nbformat_minor": 2,
 "cells": [
  {
   "cell_type": "code",
   "execution_count": 1,
   "metadata": {},
   "outputs": [],
   "source": [
    "# imports\n",
    "import pandas as pd\n",
    "import matplotlib.pyplot"
   ]
  },
  {
   "cell_type": "code",
   "execution_count": 2,
   "metadata": {},
   "outputs": [],
   "source": [
    "anonymized_data = pd.read_csv('../data/anonymized_shuffled_phase2.csv')\n",
    "public_data = pd.read_excel('../data/public_data_register_phase2.xlsx')"
   ]
  },
  {
   "cell_type": "code",
   "execution_count": 3,
   "metadata": {},
   "outputs": [
    {
     "output_type": "stream",
     "name": "stdout",
     "text": [
      "Defaulting to user installation because normal site-packages is not writeable\n",
      "Requirement already satisfied: xlrd in /home/gregkoncz/.local/lib/python3.8/site-packages (1.2.0)\n"
     ]
    }
   ],
   "source": [
    "!pip3 install xlrd"
   ]
  },
  {
   "cell_type": "code",
   "execution_count": 4,
   "metadata": {},
   "outputs": [
    {
     "output_type": "execute_result",
     "data": {
      "text/plain": [
       "                   name     sex        dob   zip citizenship marital_status  \\\n",
       "0      al-Fawaz, Sabaah    Male 1996-08-23  2200     Denmark  Never married   \n",
       "1       el-Asmar, Hasan    Male 1995-02-18  2100     Denmark  Never married   \n",
       "2        Widaa, Cameron    Male 1996-08-24  2300     Denmark  Never married   \n",
       "3          Santos, Jose    Male 2000-05-16  2300     Denmark  Never married   \n",
       "4  Buczynski, Elizabeth  Female 1999-06-03  2300     Denmark  Never married   \n",
       "\n",
       "   last_voted  \n",
       "0           1  \n",
       "1           1  \n",
       "2           1  \n",
       "3           1  \n",
       "4           1  "
      ],
      "text/html": "<div>\n<style scoped>\n    .dataframe tbody tr th:only-of-type {\n        vertical-align: middle;\n    }\n\n    .dataframe tbody tr th {\n        vertical-align: top;\n    }\n\n    .dataframe thead th {\n        text-align: right;\n    }\n</style>\n<table border=\"1\" class=\"dataframe\">\n  <thead>\n    <tr style=\"text-align: right;\">\n      <th></th>\n      <th>name</th>\n      <th>sex</th>\n      <th>dob</th>\n      <th>zip</th>\n      <th>citizenship</th>\n      <th>marital_status</th>\n      <th>last_voted</th>\n    </tr>\n  </thead>\n  <tbody>\n    <tr>\n      <th>0</th>\n      <td>al-Fawaz, Sabaah</td>\n      <td>Male</td>\n      <td>1996-08-23</td>\n      <td>2200</td>\n      <td>Denmark</td>\n      <td>Never married</td>\n      <td>1</td>\n    </tr>\n    <tr>\n      <th>1</th>\n      <td>el-Asmar, Hasan</td>\n      <td>Male</td>\n      <td>1995-02-18</td>\n      <td>2100</td>\n      <td>Denmark</td>\n      <td>Never married</td>\n      <td>1</td>\n    </tr>\n    <tr>\n      <th>2</th>\n      <td>Widaa, Cameron</td>\n      <td>Male</td>\n      <td>1996-08-24</td>\n      <td>2300</td>\n      <td>Denmark</td>\n      <td>Never married</td>\n      <td>1</td>\n    </tr>\n    <tr>\n      <th>3</th>\n      <td>Santos, Jose</td>\n      <td>Male</td>\n      <td>2000-05-16</td>\n      <td>2300</td>\n      <td>Denmark</td>\n      <td>Never married</td>\n      <td>1</td>\n    </tr>\n    <tr>\n      <th>4</th>\n      <td>Buczynski, Elizabeth</td>\n      <td>Female</td>\n      <td>1999-06-03</td>\n      <td>2300</td>\n      <td>Denmark</td>\n      <td>Never married</td>\n      <td>1</td>\n    </tr>\n  </tbody>\n</table>\n</div>"
     },
     "metadata": {},
     "execution_count": 4
    }
   ],
   "source": [
    "public_data.head()"
   ]
  },
  {
   "cell_type": "code",
   "execution_count": 5,
   "metadata": {},
   "outputs": [
    {
     "output_type": "execute_result",
     "data": {
      "text/plain": [
       "      sex  evote        age   zip                                education  \\\n",
       "0    Male      1  30.768506  2400  Vocational Education and Training (VET)   \n",
       "1  Female      0  47.177024  2400  Vocational Education and Training (VET)   \n",
       "2  Female      1  46.697183  2400          Vocational bachelors educations   \n",
       "3  Female      0  41.181924  2300                        Primary education   \n",
       "4  Female      0  57.105226  2200  Vocational Education and Training (VET)   \n",
       "\n",
       "  citizenship  party  \n",
       "0     Denmark  Green  \n",
       "1     Denmark  Green  \n",
       "2     Denmark    Red  \n",
       "3     Denmark  Green  \n",
       "4  Not danish  Green  "
      ],
      "text/html": "<div>\n<style scoped>\n    .dataframe tbody tr th:only-of-type {\n        vertical-align: middle;\n    }\n\n    .dataframe tbody tr th {\n        vertical-align: top;\n    }\n\n    .dataframe thead th {\n        text-align: right;\n    }\n</style>\n<table border=\"1\" class=\"dataframe\">\n  <thead>\n    <tr style=\"text-align: right;\">\n      <th></th>\n      <th>sex</th>\n      <th>evote</th>\n      <th>age</th>\n      <th>zip</th>\n      <th>education</th>\n      <th>citizenship</th>\n      <th>party</th>\n    </tr>\n  </thead>\n  <tbody>\n    <tr>\n      <th>0</th>\n      <td>Male</td>\n      <td>1</td>\n      <td>30.768506</td>\n      <td>2400</td>\n      <td>Vocational Education and Training (VET)</td>\n      <td>Denmark</td>\n      <td>Green</td>\n    </tr>\n    <tr>\n      <th>1</th>\n      <td>Female</td>\n      <td>0</td>\n      <td>47.177024</td>\n      <td>2400</td>\n      <td>Vocational Education and Training (VET)</td>\n      <td>Denmark</td>\n      <td>Green</td>\n    </tr>\n    <tr>\n      <th>2</th>\n      <td>Female</td>\n      <td>1</td>\n      <td>46.697183</td>\n      <td>2400</td>\n      <td>Vocational bachelors educations</td>\n      <td>Denmark</td>\n      <td>Red</td>\n    </tr>\n    <tr>\n      <th>3</th>\n      <td>Female</td>\n      <td>0</td>\n      <td>41.181924</td>\n      <td>2300</td>\n      <td>Primary education</td>\n      <td>Denmark</td>\n      <td>Green</td>\n    </tr>\n    <tr>\n      <th>4</th>\n      <td>Female</td>\n      <td>0</td>\n      <td>57.105226</td>\n      <td>2200</td>\n      <td>Vocational Education and Training (VET)</td>\n      <td>Not danish</td>\n      <td>Green</td>\n    </tr>\n  </tbody>\n</table>\n</div>"
     },
     "metadata": {},
     "execution_count": 5
    }
   ],
   "source": [
    "anonymized_data.head()"
   ]
  },
  {
   "cell_type": "code",
   "execution_count": 6,
   "metadata": {},
   "outputs": [
    {
     "output_type": "stream",
     "name": "stdout",
     "text": [
      "<class 'pandas.core.frame.DataFrame'>\nRangeIndex: 200 entries, 0 to 199\nData columns (total 7 columns):\n #   Column       Non-Null Count  Dtype  \n---  ------       --------------  -----  \n 0   sex          200 non-null    object \n 1   evote        200 non-null    int64  \n 2   age          200 non-null    float64\n 3   zip          200 non-null    int64  \n 4   education    200 non-null    object \n 5   citizenship  200 non-null    object \n 6   party        200 non-null    object \ndtypes: float64(1), int64(2), object(4)\nmemory usage: 11.1+ KB\n"
     ]
    }
   ],
   "source": [
    "anonymized_data.info()"
   ]
  },
  {
   "cell_type": "code",
   "execution_count": 7,
   "metadata": {},
   "outputs": [],
   "source": [
    "public_data['encoded_citizenship'] = public_data['citizenship'].apply(lambda x: 'Denmark' if x == 'Denmark' else 'Not danish')"
   ]
  },
  {
   "cell_type": "code",
   "execution_count": 8,
   "metadata": {},
   "outputs": [],
   "source": [
    "public_data = public_data[public_data['last_voted'] != 2]\n",
    "public_data['evote'] = public_data['last_voted']\n",
    "public_data['detailed_citizenship'] = public_data['citizenship']\n",
    "public_data['citizenship'] = public_data['encoded_citizenship']"
   ]
  },
  {
   "source": [
    "## Merge stuff"
   ],
   "cell_type": "markdown",
   "metadata": {}
  },
  {
   "cell_type": "code",
   "execution_count": 9,
   "metadata": {},
   "outputs": [],
   "source": [
    "merged_df = public_data.merge(anonymized_data, on = ['sex', 'evote', 'citizenship', 'zip'], how = 'outer')"
   ]
  },
  {
   "cell_type": "code",
   "execution_count": 10,
   "metadata": {},
   "outputs": [
    {
     "output_type": "execute_result",
     "data": {
      "text/plain": [
       "(12448, 13)"
      ]
     },
     "metadata": {},
     "execution_count": 10
    }
   ],
   "source": [
    "merged_df.shape"
   ]
  },
  {
   "cell_type": "code",
   "execution_count": 11,
   "metadata": {},
   "outputs": [
    {
     "output_type": "execute_result",
     "data": {
      "text/plain": [
       "               name   sex        dob   zip citizenship marital_status  \\\n",
       "0  al-Fawaz, Sabaah  Male 1996-08-23  2200     Denmark  Never married   \n",
       "1  al-Fawaz, Sabaah  Male 1996-08-23  2200     Denmark  Never married   \n",
       "2  al-Fawaz, Sabaah  Male 1996-08-23  2200     Denmark  Never married   \n",
       "3  al-Fawaz, Sabaah  Male 1996-08-23  2200     Denmark  Never married   \n",
       "4  al-Fawaz, Sabaah  Male 1996-08-23  2200     Denmark  Never married   \n",
       "\n",
       "   last_voted encoded_citizenship  evote detailed_citizenship        age  \\\n",
       "0           1             Denmark      1              Denmark  37.348805   \n",
       "1           1             Denmark      1              Denmark  29.298145   \n",
       "2           1             Denmark      1              Denmark  39.542624   \n",
       "3           1             Denmark      1              Denmark  28.171254   \n",
       "4           1             Denmark      1              Denmark  21.611027   \n",
       "\n",
       "                                 education  party  \n",
       "0          Vocational bachelors educations  Green  \n",
       "1          Vocational bachelors educations  Green  \n",
       "2  Vocational Education and Training (VET)    Red  \n",
       "3  Vocational Education and Training (VET)  Green  \n",
       "4                        Primary education  Green  "
      ],
      "text/html": "<div>\n<style scoped>\n    .dataframe tbody tr th:only-of-type {\n        vertical-align: middle;\n    }\n\n    .dataframe tbody tr th {\n        vertical-align: top;\n    }\n\n    .dataframe thead th {\n        text-align: right;\n    }\n</style>\n<table border=\"1\" class=\"dataframe\">\n  <thead>\n    <tr style=\"text-align: right;\">\n      <th></th>\n      <th>name</th>\n      <th>sex</th>\n      <th>dob</th>\n      <th>zip</th>\n      <th>citizenship</th>\n      <th>marital_status</th>\n      <th>last_voted</th>\n      <th>encoded_citizenship</th>\n      <th>evote</th>\n      <th>detailed_citizenship</th>\n      <th>age</th>\n      <th>education</th>\n      <th>party</th>\n    </tr>\n  </thead>\n  <tbody>\n    <tr>\n      <th>0</th>\n      <td>al-Fawaz, Sabaah</td>\n      <td>Male</td>\n      <td>1996-08-23</td>\n      <td>2200</td>\n      <td>Denmark</td>\n      <td>Never married</td>\n      <td>1</td>\n      <td>Denmark</td>\n      <td>1</td>\n      <td>Denmark</td>\n      <td>37.348805</td>\n      <td>Vocational bachelors educations</td>\n      <td>Green</td>\n    </tr>\n    <tr>\n      <th>1</th>\n      <td>al-Fawaz, Sabaah</td>\n      <td>Male</td>\n      <td>1996-08-23</td>\n      <td>2200</td>\n      <td>Denmark</td>\n      <td>Never married</td>\n      <td>1</td>\n      <td>Denmark</td>\n      <td>1</td>\n      <td>Denmark</td>\n      <td>29.298145</td>\n      <td>Vocational bachelors educations</td>\n      <td>Green</td>\n    </tr>\n    <tr>\n      <th>2</th>\n      <td>al-Fawaz, Sabaah</td>\n      <td>Male</td>\n      <td>1996-08-23</td>\n      <td>2200</td>\n      <td>Denmark</td>\n      <td>Never married</td>\n      <td>1</td>\n      <td>Denmark</td>\n      <td>1</td>\n      <td>Denmark</td>\n      <td>39.542624</td>\n      <td>Vocational Education and Training (VET)</td>\n      <td>Red</td>\n    </tr>\n    <tr>\n      <th>3</th>\n      <td>al-Fawaz, Sabaah</td>\n      <td>Male</td>\n      <td>1996-08-23</td>\n      <td>2200</td>\n      <td>Denmark</td>\n      <td>Never married</td>\n      <td>1</td>\n      <td>Denmark</td>\n      <td>1</td>\n      <td>Denmark</td>\n      <td>28.171254</td>\n      <td>Vocational Education and Training (VET)</td>\n      <td>Green</td>\n    </tr>\n    <tr>\n      <th>4</th>\n      <td>al-Fawaz, Sabaah</td>\n      <td>Male</td>\n      <td>1996-08-23</td>\n      <td>2200</td>\n      <td>Denmark</td>\n      <td>Never married</td>\n      <td>1</td>\n      <td>Denmark</td>\n      <td>1</td>\n      <td>Denmark</td>\n      <td>21.611027</td>\n      <td>Primary education</td>\n      <td>Green</td>\n    </tr>\n  </tbody>\n</table>\n</div>"
     },
     "metadata": {},
     "execution_count": 11
    }
   ],
   "source": [
    "merged_df.head()"
   ]
  },
  {
   "cell_type": "code",
   "execution_count": 12,
   "metadata": {},
   "outputs": [],
   "source": [
    "merged_df['calculated_age'] = merged_df['dob'].apply(lambda x: 2020 - x.year)"
   ]
  },
  {
   "cell_type": "code",
   "execution_count": 13,
   "metadata": {},
   "outputs": [
    {
     "output_type": "execute_result",
     "data": {
      "text/plain": [
       "               name   sex        dob   zip citizenship marital_status  \\\n",
       "0  al-Fawaz, Sabaah  Male 1996-08-23  2200     Denmark  Never married   \n",
       "1  al-Fawaz, Sabaah  Male 1996-08-23  2200     Denmark  Never married   \n",
       "2  al-Fawaz, Sabaah  Male 1996-08-23  2200     Denmark  Never married   \n",
       "3  al-Fawaz, Sabaah  Male 1996-08-23  2200     Denmark  Never married   \n",
       "4  al-Fawaz, Sabaah  Male 1996-08-23  2200     Denmark  Never married   \n",
       "\n",
       "   last_voted encoded_citizenship  evote detailed_citizenship        age  \\\n",
       "0           1             Denmark      1              Denmark  37.348805   \n",
       "1           1             Denmark      1              Denmark  29.298145   \n",
       "2           1             Denmark      1              Denmark  39.542624   \n",
       "3           1             Denmark      1              Denmark  28.171254   \n",
       "4           1             Denmark      1              Denmark  21.611027   \n",
       "\n",
       "                                 education  party  calculated_age  \n",
       "0          Vocational bachelors educations  Green              24  \n",
       "1          Vocational bachelors educations  Green              24  \n",
       "2  Vocational Education and Training (VET)    Red              24  \n",
       "3  Vocational Education and Training (VET)  Green              24  \n",
       "4                        Primary education  Green              24  "
      ],
      "text/html": "<div>\n<style scoped>\n    .dataframe tbody tr th:only-of-type {\n        vertical-align: middle;\n    }\n\n    .dataframe tbody tr th {\n        vertical-align: top;\n    }\n\n    .dataframe thead th {\n        text-align: right;\n    }\n</style>\n<table border=\"1\" class=\"dataframe\">\n  <thead>\n    <tr style=\"text-align: right;\">\n      <th></th>\n      <th>name</th>\n      <th>sex</th>\n      <th>dob</th>\n      <th>zip</th>\n      <th>citizenship</th>\n      <th>marital_status</th>\n      <th>last_voted</th>\n      <th>encoded_citizenship</th>\n      <th>evote</th>\n      <th>detailed_citizenship</th>\n      <th>age</th>\n      <th>education</th>\n      <th>party</th>\n      <th>calculated_age</th>\n    </tr>\n  </thead>\n  <tbody>\n    <tr>\n      <th>0</th>\n      <td>al-Fawaz, Sabaah</td>\n      <td>Male</td>\n      <td>1996-08-23</td>\n      <td>2200</td>\n      <td>Denmark</td>\n      <td>Never married</td>\n      <td>1</td>\n      <td>Denmark</td>\n      <td>1</td>\n      <td>Denmark</td>\n      <td>37.348805</td>\n      <td>Vocational bachelors educations</td>\n      <td>Green</td>\n      <td>24</td>\n    </tr>\n    <tr>\n      <th>1</th>\n      <td>al-Fawaz, Sabaah</td>\n      <td>Male</td>\n      <td>1996-08-23</td>\n      <td>2200</td>\n      <td>Denmark</td>\n      <td>Never married</td>\n      <td>1</td>\n      <td>Denmark</td>\n      <td>1</td>\n      <td>Denmark</td>\n      <td>29.298145</td>\n      <td>Vocational bachelors educations</td>\n      <td>Green</td>\n      <td>24</td>\n    </tr>\n    <tr>\n      <th>2</th>\n      <td>al-Fawaz, Sabaah</td>\n      <td>Male</td>\n      <td>1996-08-23</td>\n      <td>2200</td>\n      <td>Denmark</td>\n      <td>Never married</td>\n      <td>1</td>\n      <td>Denmark</td>\n      <td>1</td>\n      <td>Denmark</td>\n      <td>39.542624</td>\n      <td>Vocational Education and Training (VET)</td>\n      <td>Red</td>\n      <td>24</td>\n    </tr>\n    <tr>\n      <th>3</th>\n      <td>al-Fawaz, Sabaah</td>\n      <td>Male</td>\n      <td>1996-08-23</td>\n      <td>2200</td>\n      <td>Denmark</td>\n      <td>Never married</td>\n      <td>1</td>\n      <td>Denmark</td>\n      <td>1</td>\n      <td>Denmark</td>\n      <td>28.171254</td>\n      <td>Vocational Education and Training (VET)</td>\n      <td>Green</td>\n      <td>24</td>\n    </tr>\n    <tr>\n      <th>4</th>\n      <td>al-Fawaz, Sabaah</td>\n      <td>Male</td>\n      <td>1996-08-23</td>\n      <td>2200</td>\n      <td>Denmark</td>\n      <td>Never married</td>\n      <td>1</td>\n      <td>Denmark</td>\n      <td>1</td>\n      <td>Denmark</td>\n      <td>21.611027</td>\n      <td>Primary education</td>\n      <td>Green</td>\n      <td>24</td>\n    </tr>\n  </tbody>\n</table>\n</div>"
     },
     "metadata": {},
     "execution_count": 13
    }
   ],
   "source": [
    "merged_df.head()"
   ]
  },
  {
   "cell_type": "code",
   "execution_count": 14,
   "metadata": {},
   "outputs": [],
   "source": [
    "import numpy as np"
   ]
  },
  {
   "cell_type": "code",
   "execution_count": 15,
   "metadata": {},
   "outputs": [
    {
     "output_type": "execute_result",
     "data": {
      "text/plain": [
       "               name   sex        dob   zip citizenship marital_status  \\\n",
       "0  al-Fawaz, Sabaah  Male 1996-08-23  2200     Denmark  Never married   \n",
       "1  al-Fawaz, Sabaah  Male 1996-08-23  2200     Denmark  Never married   \n",
       "2  al-Fawaz, Sabaah  Male 1996-08-23  2200     Denmark  Never married   \n",
       "3  al-Fawaz, Sabaah  Male 1996-08-23  2200     Denmark  Never married   \n",
       "4  al-Fawaz, Sabaah  Male 1996-08-23  2200     Denmark  Never married   \n",
       "\n",
       "   last_voted encoded_citizenship  evote detailed_citizenship        age  \\\n",
       "0           1             Denmark      1              Denmark  37.348805   \n",
       "1           1             Denmark      1              Denmark  29.298145   \n",
       "2           1             Denmark      1              Denmark  39.542624   \n",
       "3           1             Denmark      1              Denmark  28.171254   \n",
       "4           1             Denmark      1              Denmark  21.611027   \n",
       "\n",
       "                                 education  party  calculated_age   age_diff  \n",
       "0          Vocational bachelors educations  Green              24  13.348805  \n",
       "1          Vocational bachelors educations  Green              24   5.298145  \n",
       "2  Vocational Education and Training (VET)    Red              24  15.542624  \n",
       "3  Vocational Education and Training (VET)  Green              24   4.171254  \n",
       "4                        Primary education  Green              24   2.388973  "
      ],
      "text/html": "<div>\n<style scoped>\n    .dataframe tbody tr th:only-of-type {\n        vertical-align: middle;\n    }\n\n    .dataframe tbody tr th {\n        vertical-align: top;\n    }\n\n    .dataframe thead th {\n        text-align: right;\n    }\n</style>\n<table border=\"1\" class=\"dataframe\">\n  <thead>\n    <tr style=\"text-align: right;\">\n      <th></th>\n      <th>name</th>\n      <th>sex</th>\n      <th>dob</th>\n      <th>zip</th>\n      <th>citizenship</th>\n      <th>marital_status</th>\n      <th>last_voted</th>\n      <th>encoded_citizenship</th>\n      <th>evote</th>\n      <th>detailed_citizenship</th>\n      <th>age</th>\n      <th>education</th>\n      <th>party</th>\n      <th>calculated_age</th>\n      <th>age_diff</th>\n    </tr>\n  </thead>\n  <tbody>\n    <tr>\n      <th>0</th>\n      <td>al-Fawaz, Sabaah</td>\n      <td>Male</td>\n      <td>1996-08-23</td>\n      <td>2200</td>\n      <td>Denmark</td>\n      <td>Never married</td>\n      <td>1</td>\n      <td>Denmark</td>\n      <td>1</td>\n      <td>Denmark</td>\n      <td>37.348805</td>\n      <td>Vocational bachelors educations</td>\n      <td>Green</td>\n      <td>24</td>\n      <td>13.348805</td>\n    </tr>\n    <tr>\n      <th>1</th>\n      <td>al-Fawaz, Sabaah</td>\n      <td>Male</td>\n      <td>1996-08-23</td>\n      <td>2200</td>\n      <td>Denmark</td>\n      <td>Never married</td>\n      <td>1</td>\n      <td>Denmark</td>\n      <td>1</td>\n      <td>Denmark</td>\n      <td>29.298145</td>\n      <td>Vocational bachelors educations</td>\n      <td>Green</td>\n      <td>24</td>\n      <td>5.298145</td>\n    </tr>\n    <tr>\n      <th>2</th>\n      <td>al-Fawaz, Sabaah</td>\n      <td>Male</td>\n      <td>1996-08-23</td>\n      <td>2200</td>\n      <td>Denmark</td>\n      <td>Never married</td>\n      <td>1</td>\n      <td>Denmark</td>\n      <td>1</td>\n      <td>Denmark</td>\n      <td>39.542624</td>\n      <td>Vocational Education and Training (VET)</td>\n      <td>Red</td>\n      <td>24</td>\n      <td>15.542624</td>\n    </tr>\n    <tr>\n      <th>3</th>\n      <td>al-Fawaz, Sabaah</td>\n      <td>Male</td>\n      <td>1996-08-23</td>\n      <td>2200</td>\n      <td>Denmark</td>\n      <td>Never married</td>\n      <td>1</td>\n      <td>Denmark</td>\n      <td>1</td>\n      <td>Denmark</td>\n      <td>28.171254</td>\n      <td>Vocational Education and Training (VET)</td>\n      <td>Green</td>\n      <td>24</td>\n      <td>4.171254</td>\n    </tr>\n    <tr>\n      <th>4</th>\n      <td>al-Fawaz, Sabaah</td>\n      <td>Male</td>\n      <td>1996-08-23</td>\n      <td>2200</td>\n      <td>Denmark</td>\n      <td>Never married</td>\n      <td>1</td>\n      <td>Denmark</td>\n      <td>1</td>\n      <td>Denmark</td>\n      <td>21.611027</td>\n      <td>Primary education</td>\n      <td>Green</td>\n      <td>24</td>\n      <td>2.388973</td>\n    </tr>\n  </tbody>\n</table>\n</div>"
     },
     "metadata": {},
     "execution_count": 15
    }
   ],
   "source": [
    "merged_df['age_diff'] = merged_df['calculated_age'] - merged_df['age']\n",
    "merged_df['age_diff'] = merged_df['age_diff'].apply(np.abs)\n",
    "merged_df.head()"
   ]
  },
  {
   "cell_type": "code",
   "execution_count": 16,
   "metadata": {},
   "outputs": [
    {
     "output_type": "execute_result",
     "data": {
      "text/plain": [
       "(3623, 15)"
      ]
     },
     "metadata": {},
     "execution_count": 16
    }
   ],
   "source": [
    "merged_df = merged_df[merged_df['age_diff'] < 8]\n",
    "merged_df.shape"
   ]
  },
  {
   "cell_type": "code",
   "execution_count": 46,
   "metadata": {},
   "outputs": [
    {
     "output_type": "execute_result",
     "data": {
      "text/plain": [
       "                               name\n",
       "sex    citizenship evote zip       \n",
       "Female Denmark     0     2100    51\n",
       "                         2200    70\n",
       "                         2300    87\n",
       "                         2400   120\n",
       "                   1     2100    21\n",
       "                         2200    38\n",
       "                         2300    37\n",
       "                         2400    33\n",
       "       Not danish  0     2100     2\n",
       "                         2200     4\n",
       "                         2300     3\n",
       "                         2400    11\n",
       "                   1     2200     1\n",
       "                         2400     1\n",
       "Male   Denmark     0     2100    37\n",
       "                         2200    69\n",
       "                         2300    62\n",
       "                         2400    97\n",
       "                   1     2100    25\n",
       "                         2200    20\n",
       "                         2300    34\n",
       "                         2400    45\n",
       "       Not danish  0     2200     4\n",
       "                         2400     7\n",
       "                   1     2100     1\n",
       "                         2400     5"
      ],
      "text/html": "<div>\n<style scoped>\n    .dataframe tbody tr th:only-of-type {\n        vertical-align: middle;\n    }\n\n    .dataframe tbody tr th {\n        vertical-align: top;\n    }\n\n    .dataframe thead th {\n        text-align: right;\n    }\n</style>\n<table border=\"1\" class=\"dataframe\">\n  <thead>\n    <tr style=\"text-align: right;\">\n      <th></th>\n      <th></th>\n      <th></th>\n      <th></th>\n      <th>name</th>\n    </tr>\n    <tr>\n      <th>sex</th>\n      <th>citizenship</th>\n      <th>evote</th>\n      <th>zip</th>\n      <th></th>\n    </tr>\n  </thead>\n  <tbody>\n    <tr>\n      <th rowspan=\"14\" valign=\"top\">Female</th>\n      <th rowspan=\"8\" valign=\"top\">Denmark</th>\n      <th rowspan=\"4\" valign=\"top\">0</th>\n      <th>2100</th>\n      <td>51</td>\n    </tr>\n    <tr>\n      <th>2200</th>\n      <td>70</td>\n    </tr>\n    <tr>\n      <th>2300</th>\n      <td>87</td>\n    </tr>\n    <tr>\n      <th>2400</th>\n      <td>120</td>\n    </tr>\n    <tr>\n      <th rowspan=\"4\" valign=\"top\">1</th>\n      <th>2100</th>\n      <td>21</td>\n    </tr>\n    <tr>\n      <th>2200</th>\n      <td>38</td>\n    </tr>\n    <tr>\n      <th>2300</th>\n      <td>37</td>\n    </tr>\n    <tr>\n      <th>2400</th>\n      <td>33</td>\n    </tr>\n    <tr>\n      <th rowspan=\"6\" valign=\"top\">Not danish</th>\n      <th rowspan=\"4\" valign=\"top\">0</th>\n      <th>2100</th>\n      <td>2</td>\n    </tr>\n    <tr>\n      <th>2200</th>\n      <td>4</td>\n    </tr>\n    <tr>\n      <th>2300</th>\n      <td>3</td>\n    </tr>\n    <tr>\n      <th>2400</th>\n      <td>11</td>\n    </tr>\n    <tr>\n      <th rowspan=\"2\" valign=\"top\">1</th>\n      <th>2200</th>\n      <td>1</td>\n    </tr>\n    <tr>\n      <th>2400</th>\n      <td>1</td>\n    </tr>\n    <tr>\n      <th rowspan=\"12\" valign=\"top\">Male</th>\n      <th rowspan=\"8\" valign=\"top\">Denmark</th>\n      <th rowspan=\"4\" valign=\"top\">0</th>\n      <th>2100</th>\n      <td>37</td>\n    </tr>\n    <tr>\n      <th>2200</th>\n      <td>69</td>\n    </tr>\n    <tr>\n      <th>2300</th>\n      <td>62</td>\n    </tr>\n    <tr>\n      <th>2400</th>\n      <td>97</td>\n    </tr>\n    <tr>\n      <th rowspan=\"4\" valign=\"top\">1</th>\n      <th>2100</th>\n      <td>25</td>\n    </tr>\n    <tr>\n      <th>2200</th>\n      <td>20</td>\n    </tr>\n    <tr>\n      <th>2300</th>\n      <td>34</td>\n    </tr>\n    <tr>\n      <th>2400</th>\n      <td>45</td>\n    </tr>\n    <tr>\n      <th rowspan=\"4\" valign=\"top\">Not danish</th>\n      <th rowspan=\"2\" valign=\"top\">0</th>\n      <th>2200</th>\n      <td>4</td>\n    </tr>\n    <tr>\n      <th>2400</th>\n      <td>7</td>\n    </tr>\n    <tr>\n      <th rowspan=\"2\" valign=\"top\">1</th>\n      <th>2100</th>\n      <td>1</td>\n    </tr>\n    <tr>\n      <th>2400</th>\n      <td>5</td>\n    </tr>\n  </tbody>\n</table>\n</div>"
     },
     "metadata": {},
     "execution_count": 46
    }
   ],
   "source": [
    "merged_df[['sex', 'citizenship', 'evote', 'zip', 'name']].groupby(['sex', 'citizenship', 'evote', 'zip']).nunique()\n",
    "## I think where the count for name is one here, that should be a match "
   ]
  },
  {
   "source": [
    "## Searching out and finding rare combinations"
   ],
   "cell_type": "markdown",
   "metadata": {}
  },
  {
   "cell_type": "code",
   "execution_count": 18,
   "metadata": {},
   "outputs": [],
   "source": [
    "female_merged = merged_df[merged_df[\"sex\"] == 'Female']\n",
    "male_merged = merged_df[merged_df[\"sex\"] == 'Male']"
   ]
  },
  {
   "cell_type": "code",
   "execution_count": 37,
   "metadata": {},
   "outputs": [],
   "source": [
    "female_evote = female_merged[female_merged['evote'] == 1]\n",
    "female_evote = female_evote[female_evote['marital_status'] != 'Widowed'] # based on aux\n",
    "female_paper = female_merged[female_merged['evote'] == 0]\n",
    "male_evote = male_merged[male_merged['evote'] == 1]\n",
    "male_evote = male_evote[male_evote['marital_status'] != 'Widowed'] # based on aux\n",
    "male_paper = male_merged[male_merged['evote'] == 0]"
   ]
  },
  {
   "cell_type": "code",
   "execution_count": 38,
   "metadata": {},
   "outputs": [
    {
     "output_type": "execute_result",
     "data": {
      "text/plain": [
       "(439, 15)"
      ]
     },
     "metadata": {},
     "execution_count": 38
    }
   ],
   "source": [
    "male_evote.shape"
   ]
  },
  {
   "cell_type": "code",
   "execution_count": 39,
   "metadata": {},
   "outputs": [],
   "source": [
    "female_evote_danish = female_evote[female_evote['citizenship'] == 'Denmark']\n",
    "female_evote_nondanish = female_evote[female_evote['citizenship'] != 'Denmark']\n",
    "female_paper_danish = female_paper[female_paper['citizenship'] == 'Denmark']\n",
    "female_paper_nondanish = female_paper[female_paper['citizenship'] != 'Denmark']\n",
    "male_evote_danish = male_evote[male_evote['citizenship'] == 'Denmark']\n",
    "male_evote_nondanish = male_evote[male_evote['citizenship'] != 'Denmark']\n",
    "male_paper_danish = male_paper[male_paper['citizenship'] == 'Denmark']\n",
    "male_paper_nondanish = male_paper[male_paper['citizenship'] != 'Denmark']"
   ]
  },
  {
   "cell_type": "code",
   "execution_count": 40,
   "metadata": {},
   "outputs": [
    {
     "output_type": "execute_result",
     "data": {
      "text/plain": [
       "                  name     sex        dob   zip citizenship marital_status  \\\n",
       "2575   Fang, Christina  Female 1992-12-01  2400  Not danish  Never married   \n",
       "2578  Lovan, Adinidiin  Female 1984-07-20  2200  Not danish  Never married   \n",
       "\n",
       "      last_voted encoded_citizenship  evote        detailed_citizenship  \\\n",
       "2575           1          Not danish      1  Congo, Democratic Republic   \n",
       "2578           1          Not danish      1                   Stateless   \n",
       "\n",
       "            age                        education  party  calculated_age  \\\n",
       "2575  26.979729  Vocational bachelors educations  Green              28   \n",
       "2578  34.075781     Short cycle higher education  Green              36   \n",
       "\n",
       "      age_diff  \n",
       "2575  1.020271  \n",
       "2578  1.924219  "
      ],
      "text/html": "<div>\n<style scoped>\n    .dataframe tbody tr th:only-of-type {\n        vertical-align: middle;\n    }\n\n    .dataframe tbody tr th {\n        vertical-align: top;\n    }\n\n    .dataframe thead th {\n        text-align: right;\n    }\n</style>\n<table border=\"1\" class=\"dataframe\">\n  <thead>\n    <tr style=\"text-align: right;\">\n      <th></th>\n      <th>name</th>\n      <th>sex</th>\n      <th>dob</th>\n      <th>zip</th>\n      <th>citizenship</th>\n      <th>marital_status</th>\n      <th>last_voted</th>\n      <th>encoded_citizenship</th>\n      <th>evote</th>\n      <th>detailed_citizenship</th>\n      <th>age</th>\n      <th>education</th>\n      <th>party</th>\n      <th>calculated_age</th>\n      <th>age_diff</th>\n    </tr>\n  </thead>\n  <tbody>\n    <tr>\n      <th>2575</th>\n      <td>Fang, Christina</td>\n      <td>Female</td>\n      <td>1992-12-01</td>\n      <td>2400</td>\n      <td>Not danish</td>\n      <td>Never married</td>\n      <td>1</td>\n      <td>Not danish</td>\n      <td>1</td>\n      <td>Congo, Democratic Republic</td>\n      <td>26.979729</td>\n      <td>Vocational bachelors educations</td>\n      <td>Green</td>\n      <td>28</td>\n      <td>1.020271</td>\n    </tr>\n    <tr>\n      <th>2578</th>\n      <td>Lovan, Adinidiin</td>\n      <td>Female</td>\n      <td>1984-07-20</td>\n      <td>2200</td>\n      <td>Not danish</td>\n      <td>Never married</td>\n      <td>1</td>\n      <td>Not danish</td>\n      <td>1</td>\n      <td>Stateless</td>\n      <td>34.075781</td>\n      <td>Short cycle higher education</td>\n      <td>Green</td>\n      <td>36</td>\n      <td>1.924219</td>\n    </tr>\n  </tbody>\n</table>\n</div>"
     },
     "metadata": {},
     "execution_count": 40
    }
   ],
   "source": [
    "female_evote_nondanish"
   ]
  },
  {
   "cell_type": "code",
   "execution_count": 24,
   "metadata": {},
   "outputs": [
    {
     "output_type": "execute_result",
     "data": {
      "text/plain": [
       "                      name     sex        dob   zip citizenship  \\\n",
       "9760  al-Baddour, Nawwaara  Female 1999-08-07  2100  Not danish   \n",
       "9761      Stafford, Mariah  Female 1997-10-20  2100  Not danish   \n",
       "\n",
       "     marital_status  last_voted encoded_citizenship  evote  \\\n",
       "9760  Never married           0          Not danish      0   \n",
       "9761  Never married           0          Not danish      0   \n",
       "\n",
       "     detailed_citizenship        age                  education  party  \\\n",
       "9760               Sweden  18.137659  Upper secondary education  Green   \n",
       "9761              Romania  18.137659  Upper secondary education  Green   \n",
       "\n",
       "      calculated_age  age_diff  \n",
       "9760              21  2.862341  \n",
       "9761              23  4.862341  "
      ],
      "text/html": "<div>\n<style scoped>\n    .dataframe tbody tr th:only-of-type {\n        vertical-align: middle;\n    }\n\n    .dataframe tbody tr th {\n        vertical-align: top;\n    }\n\n    .dataframe thead th {\n        text-align: right;\n    }\n</style>\n<table border=\"1\" class=\"dataframe\">\n  <thead>\n    <tr style=\"text-align: right;\">\n      <th></th>\n      <th>name</th>\n      <th>sex</th>\n      <th>dob</th>\n      <th>zip</th>\n      <th>citizenship</th>\n      <th>marital_status</th>\n      <th>last_voted</th>\n      <th>encoded_citizenship</th>\n      <th>evote</th>\n      <th>detailed_citizenship</th>\n      <th>age</th>\n      <th>education</th>\n      <th>party</th>\n      <th>calculated_age</th>\n      <th>age_diff</th>\n    </tr>\n  </thead>\n  <tbody>\n    <tr>\n      <th>9760</th>\n      <td>al-Baddour, Nawwaara</td>\n      <td>Female</td>\n      <td>1999-08-07</td>\n      <td>2100</td>\n      <td>Not danish</td>\n      <td>Never married</td>\n      <td>0</td>\n      <td>Not danish</td>\n      <td>0</td>\n      <td>Sweden</td>\n      <td>18.137659</td>\n      <td>Upper secondary education</td>\n      <td>Green</td>\n      <td>21</td>\n      <td>2.862341</td>\n    </tr>\n    <tr>\n      <th>9761</th>\n      <td>Stafford, Mariah</td>\n      <td>Female</td>\n      <td>1997-10-20</td>\n      <td>2100</td>\n      <td>Not danish</td>\n      <td>Never married</td>\n      <td>0</td>\n      <td>Not danish</td>\n      <td>0</td>\n      <td>Romania</td>\n      <td>18.137659</td>\n      <td>Upper secondary education</td>\n      <td>Green</td>\n      <td>23</td>\n      <td>4.862341</td>\n    </tr>\n  </tbody>\n</table>\n</div>"
     },
     "metadata": {},
     "execution_count": 24
    }
   ],
   "source": [
    "female_paper_nondanish[female_paper_nondanish['zip'] == 2100] ## cant decide"
   ]
  },
  {
   "cell_type": "code",
   "execution_count": 25,
   "metadata": {},
   "outputs": [
    {
     "output_type": "execute_result",
     "data": {
      "text/plain": [
       "                  name     sex        dob   zip citizenship marital_status  \\\n",
       "2578  Lovan, Adinidiin  Female 1984-07-20  2200  Not danish  Never married   \n",
       "\n",
       "      last_voted encoded_citizenship  evote detailed_citizenship        age  \\\n",
       "2578           1          Not danish      1            Stateless  34.075781   \n",
       "\n",
       "                         education  party  calculated_age  age_diff  \n",
       "2578  Short cycle higher education  Green              36  1.924219  "
      ],
      "text/html": "<div>\n<style scoped>\n    .dataframe tbody tr th:only-of-type {\n        vertical-align: middle;\n    }\n\n    .dataframe tbody tr th {\n        vertical-align: top;\n    }\n\n    .dataframe thead th {\n        text-align: right;\n    }\n</style>\n<table border=\"1\" class=\"dataframe\">\n  <thead>\n    <tr style=\"text-align: right;\">\n      <th></th>\n      <th>name</th>\n      <th>sex</th>\n      <th>dob</th>\n      <th>zip</th>\n      <th>citizenship</th>\n      <th>marital_status</th>\n      <th>last_voted</th>\n      <th>encoded_citizenship</th>\n      <th>evote</th>\n      <th>detailed_citizenship</th>\n      <th>age</th>\n      <th>education</th>\n      <th>party</th>\n      <th>calculated_age</th>\n      <th>age_diff</th>\n    </tr>\n  </thead>\n  <tbody>\n    <tr>\n      <th>2578</th>\n      <td>Lovan, Adinidiin</td>\n      <td>Female</td>\n      <td>1984-07-20</td>\n      <td>2200</td>\n      <td>Not danish</td>\n      <td>Never married</td>\n      <td>1</td>\n      <td>Not danish</td>\n      <td>1</td>\n      <td>Stateless</td>\n      <td>34.075781</td>\n      <td>Short cycle higher education</td>\n      <td>Green</td>\n      <td>36</td>\n      <td>1.924219</td>\n    </tr>\n  </tbody>\n</table>\n</div>"
     },
     "metadata": {},
     "execution_count": 25
    }
   ],
   "source": [
    "female_evote_nondanish[female_evote_nondanish['zip'] == 2200] ## match"
   ]
  },
  {
   "cell_type": "code",
   "execution_count": 26,
   "metadata": {},
   "outputs": [
    {
     "output_type": "execute_result",
     "data": {
      "text/plain": [
       "                 name     sex        dob   zip citizenship marital_status  \\\n",
       "2575  Fang, Christina  Female 1992-12-01  2400  Not danish  Never married   \n",
       "\n",
       "      last_voted encoded_citizenship  evote        detailed_citizenship  \\\n",
       "2575           1          Not danish      1  Congo, Democratic Republic   \n",
       "\n",
       "            age                        education  party  calculated_age  \\\n",
       "2575  26.979729  Vocational bachelors educations  Green              28   \n",
       "\n",
       "      age_diff  \n",
       "2575  1.020271  "
      ],
      "text/html": "<div>\n<style scoped>\n    .dataframe tbody tr th:only-of-type {\n        vertical-align: middle;\n    }\n\n    .dataframe tbody tr th {\n        vertical-align: top;\n    }\n\n    .dataframe thead th {\n        text-align: right;\n    }\n</style>\n<table border=\"1\" class=\"dataframe\">\n  <thead>\n    <tr style=\"text-align: right;\">\n      <th></th>\n      <th>name</th>\n      <th>sex</th>\n      <th>dob</th>\n      <th>zip</th>\n      <th>citizenship</th>\n      <th>marital_status</th>\n      <th>last_voted</th>\n      <th>encoded_citizenship</th>\n      <th>evote</th>\n      <th>detailed_citizenship</th>\n      <th>age</th>\n      <th>education</th>\n      <th>party</th>\n      <th>calculated_age</th>\n      <th>age_diff</th>\n    </tr>\n  </thead>\n  <tbody>\n    <tr>\n      <th>2575</th>\n      <td>Fang, Christina</td>\n      <td>Female</td>\n      <td>1992-12-01</td>\n      <td>2400</td>\n      <td>Not danish</td>\n      <td>Never married</td>\n      <td>1</td>\n      <td>Not danish</td>\n      <td>1</td>\n      <td>Congo, Democratic Republic</td>\n      <td>26.979729</td>\n      <td>Vocational bachelors educations</td>\n      <td>Green</td>\n      <td>28</td>\n      <td>1.020271</td>\n    </tr>\n  </tbody>\n</table>\n</div>"
     },
     "metadata": {},
     "execution_count": 26
    }
   ],
   "source": [
    "female_evote_nondanish[female_evote_nondanish['zip'] == 2400] ## match 2"
   ]
  },
  {
   "cell_type": "code",
   "execution_count": 41,
   "metadata": {},
   "outputs": [
    {
     "output_type": "execute_result",
     "data": {
      "text/plain": [
       "                 name   sex        dob   zip citizenship marital_status  \\\n",
       "2581  Hamilton, Bryce  Male 1957-06-16  2100  Not danish  Never married   \n",
       "\n",
       "      last_voted encoded_citizenship  evote detailed_citizenship        age  \\\n",
       "2581           1          Not danish      1              Germany  58.101356   \n",
       "\n",
       "                                    education party  calculated_age  age_diff  \n",
       "2581  Vocational Education and Training (VET)   Red              63  4.898644  "
      ],
      "text/html": "<div>\n<style scoped>\n    .dataframe tbody tr th:only-of-type {\n        vertical-align: middle;\n    }\n\n    .dataframe tbody tr th {\n        vertical-align: top;\n    }\n\n    .dataframe thead th {\n        text-align: right;\n    }\n</style>\n<table border=\"1\" class=\"dataframe\">\n  <thead>\n    <tr style=\"text-align: right;\">\n      <th></th>\n      <th>name</th>\n      <th>sex</th>\n      <th>dob</th>\n      <th>zip</th>\n      <th>citizenship</th>\n      <th>marital_status</th>\n      <th>last_voted</th>\n      <th>encoded_citizenship</th>\n      <th>evote</th>\n      <th>detailed_citizenship</th>\n      <th>age</th>\n      <th>education</th>\n      <th>party</th>\n      <th>calculated_age</th>\n      <th>age_diff</th>\n    </tr>\n  </thead>\n  <tbody>\n    <tr>\n      <th>2581</th>\n      <td>Hamilton, Bryce</td>\n      <td>Male</td>\n      <td>1957-06-16</td>\n      <td>2100</td>\n      <td>Not danish</td>\n      <td>Never married</td>\n      <td>1</td>\n      <td>Not danish</td>\n      <td>1</td>\n      <td>Germany</td>\n      <td>58.101356</td>\n      <td>Vocational Education and Training (VET)</td>\n      <td>Red</td>\n      <td>63</td>\n      <td>4.898644</td>\n    </tr>\n  </tbody>\n</table>\n</div>"
     },
     "metadata": {},
     "execution_count": 41
    }
   ],
   "source": [
    "male_evote_nondanish[male_evote_nondanish['zip'] == 2100] ## match 3"
   ]
  },
  {
   "cell_type": "code",
   "execution_count": 44,
   "metadata": {},
   "outputs": [
    {
     "output_type": "execute_result",
     "data": {
      "text/plain": [
       "                    name   sex        dob   zip citizenship  \\\n",
       "2561        Paudel, Jijo  Male 1976-07-07  2400  Not danish   \n",
       "2562      Plummer, Edgar  Male 1966-12-23  2400  Not danish   \n",
       "2564        Chang, Kevin  Male 1964-08-03  2400  Not danish   \n",
       "2566    Enriquez, Marcus  Male 1965-08-13  2400  Not danish   \n",
       "2568  De La Rosa, Felipe  Male 1959-09-16  2400  Not danish   \n",
       "2581     Hamilton, Bryce  Male 1957-06-16  2100  Not danish   \n",
       "\n",
       "         marital_status  last_voted encoded_citizenship  evote  \\\n",
       "2561  Married/separated           1          Not danish      1   \n",
       "2562           Divorced           1          Not danish      1   \n",
       "2564  Married/separated           1          Not danish      1   \n",
       "2566           Divorced           1          Not danish      1   \n",
       "2568      Never married           1          Not danish      1   \n",
       "2581      Never married           1          Not danish      1   \n",
       "\n",
       "     detailed_citizenship        age                                education  \\\n",
       "2561          Afghanistan  42.744010                       Masters programmes   \n",
       "2562                Nepal  53.809517  Vocational Education and Training (VET)   \n",
       "2564              Somalia  53.809517  Vocational Education and Training (VET)   \n",
       "2566          Netherlands  53.809517  Vocational Education and Training (VET)   \n",
       "2568              Eritrea  53.809517  Vocational Education and Training (VET)   \n",
       "2581              Germany  58.101356  Vocational Education and Training (VET)   \n",
       "\n",
       "      party  calculated_age  age_diff  \n",
       "2561  Green              44  1.255990  \n",
       "2562  Green              54  0.190483  \n",
       "2564  Green              56  2.190483  \n",
       "2566  Green              55  1.190483  \n",
       "2568  Green              61  7.190483  \n",
       "2581    Red              63  4.898644  "
      ],
      "text/html": "<div>\n<style scoped>\n    .dataframe tbody tr th:only-of-type {\n        vertical-align: middle;\n    }\n\n    .dataframe tbody tr th {\n        vertical-align: top;\n    }\n\n    .dataframe thead th {\n        text-align: right;\n    }\n</style>\n<table border=\"1\" class=\"dataframe\">\n  <thead>\n    <tr style=\"text-align: right;\">\n      <th></th>\n      <th>name</th>\n      <th>sex</th>\n      <th>dob</th>\n      <th>zip</th>\n      <th>citizenship</th>\n      <th>marital_status</th>\n      <th>last_voted</th>\n      <th>encoded_citizenship</th>\n      <th>evote</th>\n      <th>detailed_citizenship</th>\n      <th>age</th>\n      <th>education</th>\n      <th>party</th>\n      <th>calculated_age</th>\n      <th>age_diff</th>\n    </tr>\n  </thead>\n  <tbody>\n    <tr>\n      <th>2561</th>\n      <td>Paudel, Jijo</td>\n      <td>Male</td>\n      <td>1976-07-07</td>\n      <td>2400</td>\n      <td>Not danish</td>\n      <td>Married/separated</td>\n      <td>1</td>\n      <td>Not danish</td>\n      <td>1</td>\n      <td>Afghanistan</td>\n      <td>42.744010</td>\n      <td>Masters programmes</td>\n      <td>Green</td>\n      <td>44</td>\n      <td>1.255990</td>\n    </tr>\n    <tr>\n      <th>2562</th>\n      <td>Plummer, Edgar</td>\n      <td>Male</td>\n      <td>1966-12-23</td>\n      <td>2400</td>\n      <td>Not danish</td>\n      <td>Divorced</td>\n      <td>1</td>\n      <td>Not danish</td>\n      <td>1</td>\n      <td>Nepal</td>\n      <td>53.809517</td>\n      <td>Vocational Education and Training (VET)</td>\n      <td>Green</td>\n      <td>54</td>\n      <td>0.190483</td>\n    </tr>\n    <tr>\n      <th>2564</th>\n      <td>Chang, Kevin</td>\n      <td>Male</td>\n      <td>1964-08-03</td>\n      <td>2400</td>\n      <td>Not danish</td>\n      <td>Married/separated</td>\n      <td>1</td>\n      <td>Not danish</td>\n      <td>1</td>\n      <td>Somalia</td>\n      <td>53.809517</td>\n      <td>Vocational Education and Training (VET)</td>\n      <td>Green</td>\n      <td>56</td>\n      <td>2.190483</td>\n    </tr>\n    <tr>\n      <th>2566</th>\n      <td>Enriquez, Marcus</td>\n      <td>Male</td>\n      <td>1965-08-13</td>\n      <td>2400</td>\n      <td>Not danish</td>\n      <td>Divorced</td>\n      <td>1</td>\n      <td>Not danish</td>\n      <td>1</td>\n      <td>Netherlands</td>\n      <td>53.809517</td>\n      <td>Vocational Education and Training (VET)</td>\n      <td>Green</td>\n      <td>55</td>\n      <td>1.190483</td>\n    </tr>\n    <tr>\n      <th>2568</th>\n      <td>De La Rosa, Felipe</td>\n      <td>Male</td>\n      <td>1959-09-16</td>\n      <td>2400</td>\n      <td>Not danish</td>\n      <td>Never married</td>\n      <td>1</td>\n      <td>Not danish</td>\n      <td>1</td>\n      <td>Eritrea</td>\n      <td>53.809517</td>\n      <td>Vocational Education and Training (VET)</td>\n      <td>Green</td>\n      <td>61</td>\n      <td>7.190483</td>\n    </tr>\n    <tr>\n      <th>2581</th>\n      <td>Hamilton, Bryce</td>\n      <td>Male</td>\n      <td>1957-06-16</td>\n      <td>2100</td>\n      <td>Not danish</td>\n      <td>Never married</td>\n      <td>1</td>\n      <td>Not danish</td>\n      <td>1</td>\n      <td>Germany</td>\n      <td>58.101356</td>\n      <td>Vocational Education and Training (VET)</td>\n      <td>Red</td>\n      <td>63</td>\n      <td>4.898644</td>\n    </tr>\n  </tbody>\n</table>\n</div>"
     },
     "metadata": {},
     "execution_count": 44
    }
   ],
   "source": [
    "male_evote_nondanish ## only Paudel matches ."
   ]
  },
  {
   "cell_type": "code",
   "execution_count": 48,
   "metadata": {},
   "outputs": [
    {
     "output_type": "execute_result",
     "data": {
      "text/plain": [
       "                                         name\n",
       "sex    citizenship evote zip  age            \n",
       "Female Denmark     1     2100 23.260386    11\n",
       "                              24.276624    12\n",
       "                              26.725296    13\n",
       "                              47.432241     7\n",
       "                              48.431793     7\n",
       "                              77.751844     1\n",
       "                         2200 24.612206    13\n",
       "                              28.769921    14\n",
       "                              30.581843    15\n",
       "                              30.717271    15\n",
       "                              31.107778    15\n",
       "                              37.599490    12\n",
       "                              38.621897    11\n",
       "                              44.282284    11\n",
       "                              53.805837    11\n",
       "                              75.230199     7\n",
       "                         2300 20.942843     9\n",
       "                              22.102592    11\n",
       "                              23.215098    13\n",
       "                              28.795302    21\n",
       "                              34.051761    21\n",
       "                              39.431709    18\n",
       "                              40.199983    18\n",
       "                              41.871451    16\n",
       "                              48.965601    10\n",
       "                         2400 37.048394    14\n",
       "                              38.273006    16\n",
       "                              43.191165    16\n",
       "                              46.261110    17\n",
       "                              46.697183    17\n",
       "                              47.100830    18\n",
       "                              51.857893    13\n",
       "                              53.498671    12\n",
       "                              64.804004    10\n",
       "       Not danish  1     2200 34.075781     1\n",
       "                         2400 26.979729     1"
      ],
      "text/html": "<div>\n<style scoped>\n    .dataframe tbody tr th:only-of-type {\n        vertical-align: middle;\n    }\n\n    .dataframe tbody tr th {\n        vertical-align: top;\n    }\n\n    .dataframe thead th {\n        text-align: right;\n    }\n</style>\n<table border=\"1\" class=\"dataframe\">\n  <thead>\n    <tr style=\"text-align: right;\">\n      <th></th>\n      <th></th>\n      <th></th>\n      <th></th>\n      <th></th>\n      <th>name</th>\n    </tr>\n    <tr>\n      <th>sex</th>\n      <th>citizenship</th>\n      <th>evote</th>\n      <th>zip</th>\n      <th>age</th>\n      <th></th>\n    </tr>\n  </thead>\n  <tbody>\n    <tr>\n      <th rowspan=\"36\" valign=\"top\">Female</th>\n      <th rowspan=\"34\" valign=\"top\">Denmark</th>\n      <th rowspan=\"34\" valign=\"top\">1</th>\n      <th rowspan=\"6\" valign=\"top\">2100</th>\n      <th>23.260386</th>\n      <td>11</td>\n    </tr>\n    <tr>\n      <th>24.276624</th>\n      <td>12</td>\n    </tr>\n    <tr>\n      <th>26.725296</th>\n      <td>13</td>\n    </tr>\n    <tr>\n      <th>47.432241</th>\n      <td>7</td>\n    </tr>\n    <tr>\n      <th>48.431793</th>\n      <td>7</td>\n    </tr>\n    <tr>\n      <th>77.751844</th>\n      <td>1</td>\n    </tr>\n    <tr>\n      <th rowspan=\"10\" valign=\"top\">2200</th>\n      <th>24.612206</th>\n      <td>13</td>\n    </tr>\n    <tr>\n      <th>28.769921</th>\n      <td>14</td>\n    </tr>\n    <tr>\n      <th>30.581843</th>\n      <td>15</td>\n    </tr>\n    <tr>\n      <th>30.717271</th>\n      <td>15</td>\n    </tr>\n    <tr>\n      <th>31.107778</th>\n      <td>15</td>\n    </tr>\n    <tr>\n      <th>37.599490</th>\n      <td>12</td>\n    </tr>\n    <tr>\n      <th>38.621897</th>\n      <td>11</td>\n    </tr>\n    <tr>\n      <th>44.282284</th>\n      <td>11</td>\n    </tr>\n    <tr>\n      <th>53.805837</th>\n      <td>11</td>\n    </tr>\n    <tr>\n      <th>75.230199</th>\n      <td>7</td>\n    </tr>\n    <tr>\n      <th rowspan=\"9\" valign=\"top\">2300</th>\n      <th>20.942843</th>\n      <td>9</td>\n    </tr>\n    <tr>\n      <th>22.102592</th>\n      <td>11</td>\n    </tr>\n    <tr>\n      <th>23.215098</th>\n      <td>13</td>\n    </tr>\n    <tr>\n      <th>28.795302</th>\n      <td>21</td>\n    </tr>\n    <tr>\n      <th>34.051761</th>\n      <td>21</td>\n    </tr>\n    <tr>\n      <th>39.431709</th>\n      <td>18</td>\n    </tr>\n    <tr>\n      <th>40.199983</th>\n      <td>18</td>\n    </tr>\n    <tr>\n      <th>41.871451</th>\n      <td>16</td>\n    </tr>\n    <tr>\n      <th>48.965601</th>\n      <td>10</td>\n    </tr>\n    <tr>\n      <th rowspan=\"9\" valign=\"top\">2400</th>\n      <th>37.048394</th>\n      <td>14</td>\n    </tr>\n    <tr>\n      <th>38.273006</th>\n      <td>16</td>\n    </tr>\n    <tr>\n      <th>43.191165</th>\n      <td>16</td>\n    </tr>\n    <tr>\n      <th>46.261110</th>\n      <td>17</td>\n    </tr>\n    <tr>\n      <th>46.697183</th>\n      <td>17</td>\n    </tr>\n    <tr>\n      <th>47.100830</th>\n      <td>18</td>\n    </tr>\n    <tr>\n      <th>51.857893</th>\n      <td>13</td>\n    </tr>\n    <tr>\n      <th>53.498671</th>\n      <td>12</td>\n    </tr>\n    <tr>\n      <th>64.804004</th>\n      <td>10</td>\n    </tr>\n    <tr>\n      <th rowspan=\"2\" valign=\"top\">Not danish</th>\n      <th rowspan=\"2\" valign=\"top\">1</th>\n      <th>2200</th>\n      <th>34.075781</th>\n      <td>1</td>\n    </tr>\n    <tr>\n      <th>2400</th>\n      <th>26.979729</th>\n      <td>1</td>\n    </tr>\n  </tbody>\n</table>\n</div>"
     },
     "metadata": {},
     "execution_count": 48
    }
   ],
   "source": [
    "female_evote[['sex', 'citizenship', 'evote', 'zip', 'age', 'name']].groupby(['sex', 'citizenship', 'evote', 'zip', 'age']).nunique()"
   ]
  },
  {
   "cell_type": "code",
   "execution_count": 49,
   "metadata": {},
   "outputs": [
    {
     "output_type": "execute_result",
     "data": {
      "text/plain": [
       "                       name     sex        dob   zip citizenship  \\\n",
       "2035          Perry, Leslie  Female 1999-03-01  2100     Denmark   \n",
       "2037          Perry, Leslie  Female 1999-03-01  2100     Denmark   \n",
       "2038          Perry, Leslie  Female 1999-03-01  2100     Denmark   \n",
       "2041      Tomlinson, Leslie  Female 1999-02-18  2100     Denmark   \n",
       "2043      Tomlinson, Leslie  Female 1999-02-18  2100     Denmark   \n",
       "2044      Tomlinson, Leslie  Female 1999-02-18  2100     Denmark   \n",
       "2047      Dunston, Samantha  Female 2000-02-22  2100     Denmark   \n",
       "2049      Dunston, Samantha  Female 2000-02-22  2100     Denmark   \n",
       "2050      Dunston, Samantha  Female 2000-02-22  2100     Denmark   \n",
       "2053       Yoshimura, Elise  Female 1995-07-02  2100     Denmark   \n",
       "2055       Yoshimura, Elise  Female 1995-07-02  2100     Denmark   \n",
       "2056       Yoshimura, Elise  Female 1995-07-02  2100     Denmark   \n",
       "2059       Mcdade, Keleshia  Female 1991-05-08  2100     Denmark   \n",
       "2061       Mcdade, Keleshia  Female 1991-05-08  2100     Denmark   \n",
       "2062       Mcdade, Keleshia  Female 1991-05-08  2100     Denmark   \n",
       "2065     el-Salaam, Hakeema  Female 1993-09-05  2100     Denmark   \n",
       "2067     el-Salaam, Hakeema  Female 1993-09-05  2100     Denmark   \n",
       "2068     el-Salaam, Hakeema  Female 1993-09-05  2100     Denmark   \n",
       "2073         Kiefer, Auriel  Female 1988-02-18  2100     Denmark   \n",
       "2074         Kiefer, Auriel  Female 1988-02-18  2100     Denmark   \n",
       "2077        Truong, Crystal  Female 1990-05-06  2100     Denmark   \n",
       "2079        Truong, Crystal  Female 1990-05-06  2100     Denmark   \n",
       "2080        Truong, Crystal  Female 1990-05-06  2100     Denmark   \n",
       "2085        Vinnola, Leslie  Female 1986-11-28  2100     Denmark   \n",
       "2089         el-Basha, Muna  Female 1993-07-07  2100     Denmark   \n",
       "2091         el-Basha, Muna  Female 1993-07-07  2100     Denmark   \n",
       "2092         el-Basha, Muna  Female 1993-07-07  2100     Denmark   \n",
       "2095         Munoz, Valeria  Female 1989-08-11  2100     Denmark   \n",
       "2097         Munoz, Valeria  Female 1989-08-11  2100     Denmark   \n",
       "2098         Munoz, Valeria  Female 1989-08-11  2100     Denmark   \n",
       "2101               Ho, Tina  Female 1992-03-26  2100     Denmark   \n",
       "2103               Ho, Tina  Female 1992-03-26  2100     Denmark   \n",
       "2104               Ho, Tina  Female 1992-03-26  2100     Denmark   \n",
       "2107        Chapman, Carlee  Female 1991-01-02  2100     Denmark   \n",
       "2109        Chapman, Carlee  Female 1991-01-02  2100     Denmark   \n",
       "2110        Chapman, Carlee  Female 1991-01-02  2100     Denmark   \n",
       "2126       Lawrence, Morgan  Female 1977-03-26  2100     Denmark   \n",
       "2129       Lawrence, Morgan  Female 1977-03-26  2100     Denmark   \n",
       "2132        Warwick, Tianna  Female 1976-01-14  2100     Denmark   \n",
       "2135        Warwick, Tianna  Female 1976-01-14  2100     Denmark   \n",
       "2150          Strom, Hannah  Female 1979-11-18  2100     Denmark   \n",
       "2153          Strom, Hannah  Female 1979-11-18  2100     Denmark   \n",
       "2156      el-Assad, Nameera  Female 1979-08-21  2100     Denmark   \n",
       "2159      el-Assad, Nameera  Female 1979-08-21  2100     Denmark   \n",
       "2162      Cartwright, Paige  Female 1972-05-04  2100     Denmark   \n",
       "2165      Cartwright, Paige  Female 1972-05-04  2100     Denmark   \n",
       "2168  Hayes-Joshua, Jemeeka  Female 1970-08-23  2100     Denmark   \n",
       "2171  Hayes-Joshua, Jemeeka  Female 1970-08-23  2100     Denmark   \n",
       "2174       Peterson, Morgan  Female 1970-11-26  2100     Denmark   \n",
       "2177       Peterson, Morgan  Female 1970-11-26  2100     Denmark   \n",
       "2202        Sayers, Aquasia  Female 1943-07-30  2100     Denmark   \n",
       "\n",
       "         marital_status  last_voted encoded_citizenship  evote  \\\n",
       "2035      Never married           1             Denmark      1   \n",
       "2037      Never married           1             Denmark      1   \n",
       "2038      Never married           1             Denmark      1   \n",
       "2041      Never married           1             Denmark      1   \n",
       "2043      Never married           1             Denmark      1   \n",
       "2044      Never married           1             Denmark      1   \n",
       "2047      Never married           1             Denmark      1   \n",
       "2049      Never married           1             Denmark      1   \n",
       "2050      Never married           1             Denmark      1   \n",
       "2053      Never married           1             Denmark      1   \n",
       "2055      Never married           1             Denmark      1   \n",
       "2056      Never married           1             Denmark      1   \n",
       "2059      Never married           1             Denmark      1   \n",
       "2061      Never married           1             Denmark      1   \n",
       "2062      Never married           1             Denmark      1   \n",
       "2065      Never married           1             Denmark      1   \n",
       "2067      Never married           1             Denmark      1   \n",
       "2068      Never married           1             Denmark      1   \n",
       "2073           Divorced           1             Denmark      1   \n",
       "2074           Divorced           1             Denmark      1   \n",
       "2077      Never married           1             Denmark      1   \n",
       "2079      Never married           1             Denmark      1   \n",
       "2080      Never married           1             Denmark      1   \n",
       "2085           Divorced           1             Denmark      1   \n",
       "2089      Never married           1             Denmark      1   \n",
       "2091      Never married           1             Denmark      1   \n",
       "2092      Never married           1             Denmark      1   \n",
       "2095      Never married           1             Denmark      1   \n",
       "2097      Never married           1             Denmark      1   \n",
       "2098      Never married           1             Denmark      1   \n",
       "2101      Never married           1             Denmark      1   \n",
       "2103      Never married           1             Denmark      1   \n",
       "2104      Never married           1             Denmark      1   \n",
       "2107      Never married           1             Denmark      1   \n",
       "2109      Never married           1             Denmark      1   \n",
       "2110      Never married           1             Denmark      1   \n",
       "2126      Never married           1             Denmark      1   \n",
       "2129      Never married           1             Denmark      1   \n",
       "2132  Married/separated           1             Denmark      1   \n",
       "2135  Married/separated           1             Denmark      1   \n",
       "2150  Married/separated           1             Denmark      1   \n",
       "2153  Married/separated           1             Denmark      1   \n",
       "2156  Married/separated           1             Denmark      1   \n",
       "2159  Married/separated           1             Denmark      1   \n",
       "2162  Married/separated           1             Denmark      1   \n",
       "2165  Married/separated           1             Denmark      1   \n",
       "2168           Divorced           1             Denmark      1   \n",
       "2171           Divorced           1             Denmark      1   \n",
       "2174      Never married           1             Denmark      1   \n",
       "2177      Never married           1             Denmark      1   \n",
       "2202           Divorced           1             Denmark      1   \n",
       "\n",
       "     detailed_citizenship        age                                education  \\\n",
       "2035              Denmark  23.260386                               Not stated   \n",
       "2037              Denmark  26.725296                               Not stated   \n",
       "2038              Denmark  24.276624  Vocational Education and Training (VET)   \n",
       "2041              Denmark  23.260386                               Not stated   \n",
       "2043              Denmark  26.725296                               Not stated   \n",
       "2044              Denmark  24.276624  Vocational Education and Training (VET)   \n",
       "2047              Denmark  23.260386                               Not stated   \n",
       "2049              Denmark  26.725296                               Not stated   \n",
       "2050              Denmark  24.276624  Vocational Education and Training (VET)   \n",
       "2053              Denmark  23.260386                               Not stated   \n",
       "2055              Denmark  26.725296                               Not stated   \n",
       "2056              Denmark  24.276624  Vocational Education and Training (VET)   \n",
       "2059              Denmark  23.260386                               Not stated   \n",
       "2061              Denmark  26.725296                               Not stated   \n",
       "2062              Denmark  24.276624  Vocational Education and Training (VET)   \n",
       "2065              Denmark  23.260386                               Not stated   \n",
       "2067              Denmark  26.725296                               Not stated   \n",
       "2068              Denmark  24.276624  Vocational Education and Training (VET)   \n",
       "2073              Denmark  26.725296                               Not stated   \n",
       "2074              Denmark  24.276624  Vocational Education and Training (VET)   \n",
       "2077              Denmark  23.260386                               Not stated   \n",
       "2079              Denmark  26.725296                               Not stated   \n",
       "2080              Denmark  24.276624  Vocational Education and Training (VET)   \n",
       "2085              Denmark  26.725296                               Not stated   \n",
       "2089              Denmark  23.260386                               Not stated   \n",
       "2091              Denmark  26.725296                               Not stated   \n",
       "2092              Denmark  24.276624  Vocational Education and Training (VET)   \n",
       "2095              Denmark  23.260386                               Not stated   \n",
       "2097              Denmark  26.725296                               Not stated   \n",
       "2098              Denmark  24.276624  Vocational Education and Training (VET)   \n",
       "2101              Denmark  23.260386                               Not stated   \n",
       "2103              Denmark  26.725296                               Not stated   \n",
       "2104              Denmark  24.276624  Vocational Education and Training (VET)   \n",
       "2107              Denmark  23.260386                               Not stated   \n",
       "2109              Denmark  26.725296                               Not stated   \n",
       "2110              Denmark  24.276624  Vocational Education and Training (VET)   \n",
       "2126              Denmark  48.431793  Vocational Education and Training (VET)   \n",
       "2129              Denmark  47.432241  Vocational Education and Training (VET)   \n",
       "2132              Denmark  48.431793  Vocational Education and Training (VET)   \n",
       "2135              Denmark  47.432241  Vocational Education and Training (VET)   \n",
       "2150              Denmark  48.431793  Vocational Education and Training (VET)   \n",
       "2153              Denmark  47.432241  Vocational Education and Training (VET)   \n",
       "2156              Denmark  48.431793  Vocational Education and Training (VET)   \n",
       "2159              Denmark  47.432241  Vocational Education and Training (VET)   \n",
       "2162              Denmark  48.431793  Vocational Education and Training (VET)   \n",
       "2165              Denmark  47.432241  Vocational Education and Training (VET)   \n",
       "2168              Denmark  48.431793  Vocational Education and Training (VET)   \n",
       "2171              Denmark  47.432241  Vocational Education and Training (VET)   \n",
       "2174              Denmark  48.431793  Vocational Education and Training (VET)   \n",
       "2177              Denmark  47.432241  Vocational Education and Training (VET)   \n",
       "2202              Denmark  77.751844          Vocational bachelors educations   \n",
       "\n",
       "      party  calculated_age  age_diff  \n",
       "2035  Green              21  2.260386  \n",
       "2037  Green              21  5.725296  \n",
       "2038  Green              21  3.276624  \n",
       "2041  Green              21  2.260386  \n",
       "2043  Green              21  5.725296  \n",
       "2044  Green              21  3.276624  \n",
       "2047  Green              20  3.260386  \n",
       "2049  Green              20  6.725296  \n",
       "2050  Green              20  4.276624  \n",
       "2053  Green              25  1.739614  \n",
       "2055  Green              25  1.725296  \n",
       "2056  Green              25  0.723376  \n",
       "2059  Green              29  5.739614  \n",
       "2061  Green              29  2.274704  \n",
       "2062  Green              29  4.723376  \n",
       "2065  Green              27  3.739614  \n",
       "2067  Green              27  0.274704  \n",
       "2068  Green              27  2.723376  \n",
       "2073  Green              32  5.274704  \n",
       "2074  Green              32  7.723376  \n",
       "2077  Green              30  6.739614  \n",
       "2079  Green              30  3.274704  \n",
       "2080  Green              30  5.723376  \n",
       "2085  Green              34  7.274704  \n",
       "2089  Green              27  3.739614  \n",
       "2091  Green              27  0.274704  \n",
       "2092  Green              27  2.723376  \n",
       "2095  Green              31  7.739614  \n",
       "2097  Green              31  4.274704  \n",
       "2098  Green              31  6.723376  \n",
       "2101  Green              28  4.739614  \n",
       "2103  Green              28  1.274704  \n",
       "2104  Green              28  3.723376  \n",
       "2107  Green              29  5.739614  \n",
       "2109  Green              29  2.274704  \n",
       "2110  Green              29  4.723376  \n",
       "2126  Green              43  5.431793  \n",
       "2129  Green              43  4.432241  \n",
       "2132  Green              44  4.431793  \n",
       "2135  Green              44  3.432241  \n",
       "2150  Green              41  7.431793  \n",
       "2153  Green              41  6.432241  \n",
       "2156  Green              41  7.431793  \n",
       "2159  Green              41  6.432241  \n",
       "2162  Green              48  0.431793  \n",
       "2165  Green              48  0.567759  \n",
       "2168  Green              50  1.568207  \n",
       "2171  Green              50  2.567759  \n",
       "2174  Green              50  1.568207  \n",
       "2177  Green              50  2.567759  \n",
       "2202    Red              77  0.751844  "
      ],
      "text/html": "<div>\n<style scoped>\n    .dataframe tbody tr th:only-of-type {\n        vertical-align: middle;\n    }\n\n    .dataframe tbody tr th {\n        vertical-align: top;\n    }\n\n    .dataframe thead th {\n        text-align: right;\n    }\n</style>\n<table border=\"1\" class=\"dataframe\">\n  <thead>\n    <tr style=\"text-align: right;\">\n      <th></th>\n      <th>name</th>\n      <th>sex</th>\n      <th>dob</th>\n      <th>zip</th>\n      <th>citizenship</th>\n      <th>marital_status</th>\n      <th>last_voted</th>\n      <th>encoded_citizenship</th>\n      <th>evote</th>\n      <th>detailed_citizenship</th>\n      <th>age</th>\n      <th>education</th>\n      <th>party</th>\n      <th>calculated_age</th>\n      <th>age_diff</th>\n    </tr>\n  </thead>\n  <tbody>\n    <tr>\n      <th>2035</th>\n      <td>Perry, Leslie</td>\n      <td>Female</td>\n      <td>1999-03-01</td>\n      <td>2100</td>\n      <td>Denmark</td>\n      <td>Never married</td>\n      <td>1</td>\n      <td>Denmark</td>\n      <td>1</td>\n      <td>Denmark</td>\n      <td>23.260386</td>\n      <td>Not stated</td>\n      <td>Green</td>\n      <td>21</td>\n      <td>2.260386</td>\n    </tr>\n    <tr>\n      <th>2037</th>\n      <td>Perry, Leslie</td>\n      <td>Female</td>\n      <td>1999-03-01</td>\n      <td>2100</td>\n      <td>Denmark</td>\n      <td>Never married</td>\n      <td>1</td>\n      <td>Denmark</td>\n      <td>1</td>\n      <td>Denmark</td>\n      <td>26.725296</td>\n      <td>Not stated</td>\n      <td>Green</td>\n      <td>21</td>\n      <td>5.725296</td>\n    </tr>\n    <tr>\n      <th>2038</th>\n      <td>Perry, Leslie</td>\n      <td>Female</td>\n      <td>1999-03-01</td>\n      <td>2100</td>\n      <td>Denmark</td>\n      <td>Never married</td>\n      <td>1</td>\n      <td>Denmark</td>\n      <td>1</td>\n      <td>Denmark</td>\n      <td>24.276624</td>\n      <td>Vocational Education and Training (VET)</td>\n      <td>Green</td>\n      <td>21</td>\n      <td>3.276624</td>\n    </tr>\n    <tr>\n      <th>2041</th>\n      <td>Tomlinson, Leslie</td>\n      <td>Female</td>\n      <td>1999-02-18</td>\n      <td>2100</td>\n      <td>Denmark</td>\n      <td>Never married</td>\n      <td>1</td>\n      <td>Denmark</td>\n      <td>1</td>\n      <td>Denmark</td>\n      <td>23.260386</td>\n      <td>Not stated</td>\n      <td>Green</td>\n      <td>21</td>\n      <td>2.260386</td>\n    </tr>\n    <tr>\n      <th>2043</th>\n      <td>Tomlinson, Leslie</td>\n      <td>Female</td>\n      <td>1999-02-18</td>\n      <td>2100</td>\n      <td>Denmark</td>\n      <td>Never married</td>\n      <td>1</td>\n      <td>Denmark</td>\n      <td>1</td>\n      <td>Denmark</td>\n      <td>26.725296</td>\n      <td>Not stated</td>\n      <td>Green</td>\n      <td>21</td>\n      <td>5.725296</td>\n    </tr>\n    <tr>\n      <th>2044</th>\n      <td>Tomlinson, Leslie</td>\n      <td>Female</td>\n      <td>1999-02-18</td>\n      <td>2100</td>\n      <td>Denmark</td>\n      <td>Never married</td>\n      <td>1</td>\n      <td>Denmark</td>\n      <td>1</td>\n      <td>Denmark</td>\n      <td>24.276624</td>\n      <td>Vocational Education and Training (VET)</td>\n      <td>Green</td>\n      <td>21</td>\n      <td>3.276624</td>\n    </tr>\n    <tr>\n      <th>2047</th>\n      <td>Dunston, Samantha</td>\n      <td>Female</td>\n      <td>2000-02-22</td>\n      <td>2100</td>\n      <td>Denmark</td>\n      <td>Never married</td>\n      <td>1</td>\n      <td>Denmark</td>\n      <td>1</td>\n      <td>Denmark</td>\n      <td>23.260386</td>\n      <td>Not stated</td>\n      <td>Green</td>\n      <td>20</td>\n      <td>3.260386</td>\n    </tr>\n    <tr>\n      <th>2049</th>\n      <td>Dunston, Samantha</td>\n      <td>Female</td>\n      <td>2000-02-22</td>\n      <td>2100</td>\n      <td>Denmark</td>\n      <td>Never married</td>\n      <td>1</td>\n      <td>Denmark</td>\n      <td>1</td>\n      <td>Denmark</td>\n      <td>26.725296</td>\n      <td>Not stated</td>\n      <td>Green</td>\n      <td>20</td>\n      <td>6.725296</td>\n    </tr>\n    <tr>\n      <th>2050</th>\n      <td>Dunston, Samantha</td>\n      <td>Female</td>\n      <td>2000-02-22</td>\n      <td>2100</td>\n      <td>Denmark</td>\n      <td>Never married</td>\n      <td>1</td>\n      <td>Denmark</td>\n      <td>1</td>\n      <td>Denmark</td>\n      <td>24.276624</td>\n      <td>Vocational Education and Training (VET)</td>\n      <td>Green</td>\n      <td>20</td>\n      <td>4.276624</td>\n    </tr>\n    <tr>\n      <th>2053</th>\n      <td>Yoshimura, Elise</td>\n      <td>Female</td>\n      <td>1995-07-02</td>\n      <td>2100</td>\n      <td>Denmark</td>\n      <td>Never married</td>\n      <td>1</td>\n      <td>Denmark</td>\n      <td>1</td>\n      <td>Denmark</td>\n      <td>23.260386</td>\n      <td>Not stated</td>\n      <td>Green</td>\n      <td>25</td>\n      <td>1.739614</td>\n    </tr>\n    <tr>\n      <th>2055</th>\n      <td>Yoshimura, Elise</td>\n      <td>Female</td>\n      <td>1995-07-02</td>\n      <td>2100</td>\n      <td>Denmark</td>\n      <td>Never married</td>\n      <td>1</td>\n      <td>Denmark</td>\n      <td>1</td>\n      <td>Denmark</td>\n      <td>26.725296</td>\n      <td>Not stated</td>\n      <td>Green</td>\n      <td>25</td>\n      <td>1.725296</td>\n    </tr>\n    <tr>\n      <th>2056</th>\n      <td>Yoshimura, Elise</td>\n      <td>Female</td>\n      <td>1995-07-02</td>\n      <td>2100</td>\n      <td>Denmark</td>\n      <td>Never married</td>\n      <td>1</td>\n      <td>Denmark</td>\n      <td>1</td>\n      <td>Denmark</td>\n      <td>24.276624</td>\n      <td>Vocational Education and Training (VET)</td>\n      <td>Green</td>\n      <td>25</td>\n      <td>0.723376</td>\n    </tr>\n    <tr>\n      <th>2059</th>\n      <td>Mcdade, Keleshia</td>\n      <td>Female</td>\n      <td>1991-05-08</td>\n      <td>2100</td>\n      <td>Denmark</td>\n      <td>Never married</td>\n      <td>1</td>\n      <td>Denmark</td>\n      <td>1</td>\n      <td>Denmark</td>\n      <td>23.260386</td>\n      <td>Not stated</td>\n      <td>Green</td>\n      <td>29</td>\n      <td>5.739614</td>\n    </tr>\n    <tr>\n      <th>2061</th>\n      <td>Mcdade, Keleshia</td>\n      <td>Female</td>\n      <td>1991-05-08</td>\n      <td>2100</td>\n      <td>Denmark</td>\n      <td>Never married</td>\n      <td>1</td>\n      <td>Denmark</td>\n      <td>1</td>\n      <td>Denmark</td>\n      <td>26.725296</td>\n      <td>Not stated</td>\n      <td>Green</td>\n      <td>29</td>\n      <td>2.274704</td>\n    </tr>\n    <tr>\n      <th>2062</th>\n      <td>Mcdade, Keleshia</td>\n      <td>Female</td>\n      <td>1991-05-08</td>\n      <td>2100</td>\n      <td>Denmark</td>\n      <td>Never married</td>\n      <td>1</td>\n      <td>Denmark</td>\n      <td>1</td>\n      <td>Denmark</td>\n      <td>24.276624</td>\n      <td>Vocational Education and Training (VET)</td>\n      <td>Green</td>\n      <td>29</td>\n      <td>4.723376</td>\n    </tr>\n    <tr>\n      <th>2065</th>\n      <td>el-Salaam, Hakeema</td>\n      <td>Female</td>\n      <td>1993-09-05</td>\n      <td>2100</td>\n      <td>Denmark</td>\n      <td>Never married</td>\n      <td>1</td>\n      <td>Denmark</td>\n      <td>1</td>\n      <td>Denmark</td>\n      <td>23.260386</td>\n      <td>Not stated</td>\n      <td>Green</td>\n      <td>27</td>\n      <td>3.739614</td>\n    </tr>\n    <tr>\n      <th>2067</th>\n      <td>el-Salaam, Hakeema</td>\n      <td>Female</td>\n      <td>1993-09-05</td>\n      <td>2100</td>\n      <td>Denmark</td>\n      <td>Never married</td>\n      <td>1</td>\n      <td>Denmark</td>\n      <td>1</td>\n      <td>Denmark</td>\n      <td>26.725296</td>\n      <td>Not stated</td>\n      <td>Green</td>\n      <td>27</td>\n      <td>0.274704</td>\n    </tr>\n    <tr>\n      <th>2068</th>\n      <td>el-Salaam, Hakeema</td>\n      <td>Female</td>\n      <td>1993-09-05</td>\n      <td>2100</td>\n      <td>Denmark</td>\n      <td>Never married</td>\n      <td>1</td>\n      <td>Denmark</td>\n      <td>1</td>\n      <td>Denmark</td>\n      <td>24.276624</td>\n      <td>Vocational Education and Training (VET)</td>\n      <td>Green</td>\n      <td>27</td>\n      <td>2.723376</td>\n    </tr>\n    <tr>\n      <th>2073</th>\n      <td>Kiefer, Auriel</td>\n      <td>Female</td>\n      <td>1988-02-18</td>\n      <td>2100</td>\n      <td>Denmark</td>\n      <td>Divorced</td>\n      <td>1</td>\n      <td>Denmark</td>\n      <td>1</td>\n      <td>Denmark</td>\n      <td>26.725296</td>\n      <td>Not stated</td>\n      <td>Green</td>\n      <td>32</td>\n      <td>5.274704</td>\n    </tr>\n    <tr>\n      <th>2074</th>\n      <td>Kiefer, Auriel</td>\n      <td>Female</td>\n      <td>1988-02-18</td>\n      <td>2100</td>\n      <td>Denmark</td>\n      <td>Divorced</td>\n      <td>1</td>\n      <td>Denmark</td>\n      <td>1</td>\n      <td>Denmark</td>\n      <td>24.276624</td>\n      <td>Vocational Education and Training (VET)</td>\n      <td>Green</td>\n      <td>32</td>\n      <td>7.723376</td>\n    </tr>\n    <tr>\n      <th>2077</th>\n      <td>Truong, Crystal</td>\n      <td>Female</td>\n      <td>1990-05-06</td>\n      <td>2100</td>\n      <td>Denmark</td>\n      <td>Never married</td>\n      <td>1</td>\n      <td>Denmark</td>\n      <td>1</td>\n      <td>Denmark</td>\n      <td>23.260386</td>\n      <td>Not stated</td>\n      <td>Green</td>\n      <td>30</td>\n      <td>6.739614</td>\n    </tr>\n    <tr>\n      <th>2079</th>\n      <td>Truong, Crystal</td>\n      <td>Female</td>\n      <td>1990-05-06</td>\n      <td>2100</td>\n      <td>Denmark</td>\n      <td>Never married</td>\n      <td>1</td>\n      <td>Denmark</td>\n      <td>1</td>\n      <td>Denmark</td>\n      <td>26.725296</td>\n      <td>Not stated</td>\n      <td>Green</td>\n      <td>30</td>\n      <td>3.274704</td>\n    </tr>\n    <tr>\n      <th>2080</th>\n      <td>Truong, Crystal</td>\n      <td>Female</td>\n      <td>1990-05-06</td>\n      <td>2100</td>\n      <td>Denmark</td>\n      <td>Never married</td>\n      <td>1</td>\n      <td>Denmark</td>\n      <td>1</td>\n      <td>Denmark</td>\n      <td>24.276624</td>\n      <td>Vocational Education and Training (VET)</td>\n      <td>Green</td>\n      <td>30</td>\n      <td>5.723376</td>\n    </tr>\n    <tr>\n      <th>2085</th>\n      <td>Vinnola, Leslie</td>\n      <td>Female</td>\n      <td>1986-11-28</td>\n      <td>2100</td>\n      <td>Denmark</td>\n      <td>Divorced</td>\n      <td>1</td>\n      <td>Denmark</td>\n      <td>1</td>\n      <td>Denmark</td>\n      <td>26.725296</td>\n      <td>Not stated</td>\n      <td>Green</td>\n      <td>34</td>\n      <td>7.274704</td>\n    </tr>\n    <tr>\n      <th>2089</th>\n      <td>el-Basha, Muna</td>\n      <td>Female</td>\n      <td>1993-07-07</td>\n      <td>2100</td>\n      <td>Denmark</td>\n      <td>Never married</td>\n      <td>1</td>\n      <td>Denmark</td>\n      <td>1</td>\n      <td>Denmark</td>\n      <td>23.260386</td>\n      <td>Not stated</td>\n      <td>Green</td>\n      <td>27</td>\n      <td>3.739614</td>\n    </tr>\n    <tr>\n      <th>2091</th>\n      <td>el-Basha, Muna</td>\n      <td>Female</td>\n      <td>1993-07-07</td>\n      <td>2100</td>\n      <td>Denmark</td>\n      <td>Never married</td>\n      <td>1</td>\n      <td>Denmark</td>\n      <td>1</td>\n      <td>Denmark</td>\n      <td>26.725296</td>\n      <td>Not stated</td>\n      <td>Green</td>\n      <td>27</td>\n      <td>0.274704</td>\n    </tr>\n    <tr>\n      <th>2092</th>\n      <td>el-Basha, Muna</td>\n      <td>Female</td>\n      <td>1993-07-07</td>\n      <td>2100</td>\n      <td>Denmark</td>\n      <td>Never married</td>\n      <td>1</td>\n      <td>Denmark</td>\n      <td>1</td>\n      <td>Denmark</td>\n      <td>24.276624</td>\n      <td>Vocational Education and Training (VET)</td>\n      <td>Green</td>\n      <td>27</td>\n      <td>2.723376</td>\n    </tr>\n    <tr>\n      <th>2095</th>\n      <td>Munoz, Valeria</td>\n      <td>Female</td>\n      <td>1989-08-11</td>\n      <td>2100</td>\n      <td>Denmark</td>\n      <td>Never married</td>\n      <td>1</td>\n      <td>Denmark</td>\n      <td>1</td>\n      <td>Denmark</td>\n      <td>23.260386</td>\n      <td>Not stated</td>\n      <td>Green</td>\n      <td>31</td>\n      <td>7.739614</td>\n    </tr>\n    <tr>\n      <th>2097</th>\n      <td>Munoz, Valeria</td>\n      <td>Female</td>\n      <td>1989-08-11</td>\n      <td>2100</td>\n      <td>Denmark</td>\n      <td>Never married</td>\n      <td>1</td>\n      <td>Denmark</td>\n      <td>1</td>\n      <td>Denmark</td>\n      <td>26.725296</td>\n      <td>Not stated</td>\n      <td>Green</td>\n      <td>31</td>\n      <td>4.274704</td>\n    </tr>\n    <tr>\n      <th>2098</th>\n      <td>Munoz, Valeria</td>\n      <td>Female</td>\n      <td>1989-08-11</td>\n      <td>2100</td>\n      <td>Denmark</td>\n      <td>Never married</td>\n      <td>1</td>\n      <td>Denmark</td>\n      <td>1</td>\n      <td>Denmark</td>\n      <td>24.276624</td>\n      <td>Vocational Education and Training (VET)</td>\n      <td>Green</td>\n      <td>31</td>\n      <td>6.723376</td>\n    </tr>\n    <tr>\n      <th>2101</th>\n      <td>Ho, Tina</td>\n      <td>Female</td>\n      <td>1992-03-26</td>\n      <td>2100</td>\n      <td>Denmark</td>\n      <td>Never married</td>\n      <td>1</td>\n      <td>Denmark</td>\n      <td>1</td>\n      <td>Denmark</td>\n      <td>23.260386</td>\n      <td>Not stated</td>\n      <td>Green</td>\n      <td>28</td>\n      <td>4.739614</td>\n    </tr>\n    <tr>\n      <th>2103</th>\n      <td>Ho, Tina</td>\n      <td>Female</td>\n      <td>1992-03-26</td>\n      <td>2100</td>\n      <td>Denmark</td>\n      <td>Never married</td>\n      <td>1</td>\n      <td>Denmark</td>\n      <td>1</td>\n      <td>Denmark</td>\n      <td>26.725296</td>\n      <td>Not stated</td>\n      <td>Green</td>\n      <td>28</td>\n      <td>1.274704</td>\n    </tr>\n    <tr>\n      <th>2104</th>\n      <td>Ho, Tina</td>\n      <td>Female</td>\n      <td>1992-03-26</td>\n      <td>2100</td>\n      <td>Denmark</td>\n      <td>Never married</td>\n      <td>1</td>\n      <td>Denmark</td>\n      <td>1</td>\n      <td>Denmark</td>\n      <td>24.276624</td>\n      <td>Vocational Education and Training (VET)</td>\n      <td>Green</td>\n      <td>28</td>\n      <td>3.723376</td>\n    </tr>\n    <tr>\n      <th>2107</th>\n      <td>Chapman, Carlee</td>\n      <td>Female</td>\n      <td>1991-01-02</td>\n      <td>2100</td>\n      <td>Denmark</td>\n      <td>Never married</td>\n      <td>1</td>\n      <td>Denmark</td>\n      <td>1</td>\n      <td>Denmark</td>\n      <td>23.260386</td>\n      <td>Not stated</td>\n      <td>Green</td>\n      <td>29</td>\n      <td>5.739614</td>\n    </tr>\n    <tr>\n      <th>2109</th>\n      <td>Chapman, Carlee</td>\n      <td>Female</td>\n      <td>1991-01-02</td>\n      <td>2100</td>\n      <td>Denmark</td>\n      <td>Never married</td>\n      <td>1</td>\n      <td>Denmark</td>\n      <td>1</td>\n      <td>Denmark</td>\n      <td>26.725296</td>\n      <td>Not stated</td>\n      <td>Green</td>\n      <td>29</td>\n      <td>2.274704</td>\n    </tr>\n    <tr>\n      <th>2110</th>\n      <td>Chapman, Carlee</td>\n      <td>Female</td>\n      <td>1991-01-02</td>\n      <td>2100</td>\n      <td>Denmark</td>\n      <td>Never married</td>\n      <td>1</td>\n      <td>Denmark</td>\n      <td>1</td>\n      <td>Denmark</td>\n      <td>24.276624</td>\n      <td>Vocational Education and Training (VET)</td>\n      <td>Green</td>\n      <td>29</td>\n      <td>4.723376</td>\n    </tr>\n    <tr>\n      <th>2126</th>\n      <td>Lawrence, Morgan</td>\n      <td>Female</td>\n      <td>1977-03-26</td>\n      <td>2100</td>\n      <td>Denmark</td>\n      <td>Never married</td>\n      <td>1</td>\n      <td>Denmark</td>\n      <td>1</td>\n      <td>Denmark</td>\n      <td>48.431793</td>\n      <td>Vocational Education and Training (VET)</td>\n      <td>Green</td>\n      <td>43</td>\n      <td>5.431793</td>\n    </tr>\n    <tr>\n      <th>2129</th>\n      <td>Lawrence, Morgan</td>\n      <td>Female</td>\n      <td>1977-03-26</td>\n      <td>2100</td>\n      <td>Denmark</td>\n      <td>Never married</td>\n      <td>1</td>\n      <td>Denmark</td>\n      <td>1</td>\n      <td>Denmark</td>\n      <td>47.432241</td>\n      <td>Vocational Education and Training (VET)</td>\n      <td>Green</td>\n      <td>43</td>\n      <td>4.432241</td>\n    </tr>\n    <tr>\n      <th>2132</th>\n      <td>Warwick, Tianna</td>\n      <td>Female</td>\n      <td>1976-01-14</td>\n      <td>2100</td>\n      <td>Denmark</td>\n      <td>Married/separated</td>\n      <td>1</td>\n      <td>Denmark</td>\n      <td>1</td>\n      <td>Denmark</td>\n      <td>48.431793</td>\n      <td>Vocational Education and Training (VET)</td>\n      <td>Green</td>\n      <td>44</td>\n      <td>4.431793</td>\n    </tr>\n    <tr>\n      <th>2135</th>\n      <td>Warwick, Tianna</td>\n      <td>Female</td>\n      <td>1976-01-14</td>\n      <td>2100</td>\n      <td>Denmark</td>\n      <td>Married/separated</td>\n      <td>1</td>\n      <td>Denmark</td>\n      <td>1</td>\n      <td>Denmark</td>\n      <td>47.432241</td>\n      <td>Vocational Education and Training (VET)</td>\n      <td>Green</td>\n      <td>44</td>\n      <td>3.432241</td>\n    </tr>\n    <tr>\n      <th>2150</th>\n      <td>Strom, Hannah</td>\n      <td>Female</td>\n      <td>1979-11-18</td>\n      <td>2100</td>\n      <td>Denmark</td>\n      <td>Married/separated</td>\n      <td>1</td>\n      <td>Denmark</td>\n      <td>1</td>\n      <td>Denmark</td>\n      <td>48.431793</td>\n      <td>Vocational Education and Training (VET)</td>\n      <td>Green</td>\n      <td>41</td>\n      <td>7.431793</td>\n    </tr>\n    <tr>\n      <th>2153</th>\n      <td>Strom, Hannah</td>\n      <td>Female</td>\n      <td>1979-11-18</td>\n      <td>2100</td>\n      <td>Denmark</td>\n      <td>Married/separated</td>\n      <td>1</td>\n      <td>Denmark</td>\n      <td>1</td>\n      <td>Denmark</td>\n      <td>47.432241</td>\n      <td>Vocational Education and Training (VET)</td>\n      <td>Green</td>\n      <td>41</td>\n      <td>6.432241</td>\n    </tr>\n    <tr>\n      <th>2156</th>\n      <td>el-Assad, Nameera</td>\n      <td>Female</td>\n      <td>1979-08-21</td>\n      <td>2100</td>\n      <td>Denmark</td>\n      <td>Married/separated</td>\n      <td>1</td>\n      <td>Denmark</td>\n      <td>1</td>\n      <td>Denmark</td>\n      <td>48.431793</td>\n      <td>Vocational Education and Training (VET)</td>\n      <td>Green</td>\n      <td>41</td>\n      <td>7.431793</td>\n    </tr>\n    <tr>\n      <th>2159</th>\n      <td>el-Assad, Nameera</td>\n      <td>Female</td>\n      <td>1979-08-21</td>\n      <td>2100</td>\n      <td>Denmark</td>\n      <td>Married/separated</td>\n      <td>1</td>\n      <td>Denmark</td>\n      <td>1</td>\n      <td>Denmark</td>\n      <td>47.432241</td>\n      <td>Vocational Education and Training (VET)</td>\n      <td>Green</td>\n      <td>41</td>\n      <td>6.432241</td>\n    </tr>\n    <tr>\n      <th>2162</th>\n      <td>Cartwright, Paige</td>\n      <td>Female</td>\n      <td>1972-05-04</td>\n      <td>2100</td>\n      <td>Denmark</td>\n      <td>Married/separated</td>\n      <td>1</td>\n      <td>Denmark</td>\n      <td>1</td>\n      <td>Denmark</td>\n      <td>48.431793</td>\n      <td>Vocational Education and Training (VET)</td>\n      <td>Green</td>\n      <td>48</td>\n      <td>0.431793</td>\n    </tr>\n    <tr>\n      <th>2165</th>\n      <td>Cartwright, Paige</td>\n      <td>Female</td>\n      <td>1972-05-04</td>\n      <td>2100</td>\n      <td>Denmark</td>\n      <td>Married/separated</td>\n      <td>1</td>\n      <td>Denmark</td>\n      <td>1</td>\n      <td>Denmark</td>\n      <td>47.432241</td>\n      <td>Vocational Education and Training (VET)</td>\n      <td>Green</td>\n      <td>48</td>\n      <td>0.567759</td>\n    </tr>\n    <tr>\n      <th>2168</th>\n      <td>Hayes-Joshua, Jemeeka</td>\n      <td>Female</td>\n      <td>1970-08-23</td>\n      <td>2100</td>\n      <td>Denmark</td>\n      <td>Divorced</td>\n      <td>1</td>\n      <td>Denmark</td>\n      <td>1</td>\n      <td>Denmark</td>\n      <td>48.431793</td>\n      <td>Vocational Education and Training (VET)</td>\n      <td>Green</td>\n      <td>50</td>\n      <td>1.568207</td>\n    </tr>\n    <tr>\n      <th>2171</th>\n      <td>Hayes-Joshua, Jemeeka</td>\n      <td>Female</td>\n      <td>1970-08-23</td>\n      <td>2100</td>\n      <td>Denmark</td>\n      <td>Divorced</td>\n      <td>1</td>\n      <td>Denmark</td>\n      <td>1</td>\n      <td>Denmark</td>\n      <td>47.432241</td>\n      <td>Vocational Education and Training (VET)</td>\n      <td>Green</td>\n      <td>50</td>\n      <td>2.567759</td>\n    </tr>\n    <tr>\n      <th>2174</th>\n      <td>Peterson, Morgan</td>\n      <td>Female</td>\n      <td>1970-11-26</td>\n      <td>2100</td>\n      <td>Denmark</td>\n      <td>Never married</td>\n      <td>1</td>\n      <td>Denmark</td>\n      <td>1</td>\n      <td>Denmark</td>\n      <td>48.431793</td>\n      <td>Vocational Education and Training (VET)</td>\n      <td>Green</td>\n      <td>50</td>\n      <td>1.568207</td>\n    </tr>\n    <tr>\n      <th>2177</th>\n      <td>Peterson, Morgan</td>\n      <td>Female</td>\n      <td>1970-11-26</td>\n      <td>2100</td>\n      <td>Denmark</td>\n      <td>Never married</td>\n      <td>1</td>\n      <td>Denmark</td>\n      <td>1</td>\n      <td>Denmark</td>\n      <td>47.432241</td>\n      <td>Vocational Education and Training (VET)</td>\n      <td>Green</td>\n      <td>50</td>\n      <td>2.567759</td>\n    </tr>\n    <tr>\n      <th>2202</th>\n      <td>Sayers, Aquasia</td>\n      <td>Female</td>\n      <td>1943-07-30</td>\n      <td>2100</td>\n      <td>Denmark</td>\n      <td>Divorced</td>\n      <td>1</td>\n      <td>Denmark</td>\n      <td>1</td>\n      <td>Denmark</td>\n      <td>77.751844</td>\n      <td>Vocational bachelors educations</td>\n      <td>Red</td>\n      <td>77</td>\n      <td>0.751844</td>\n    </tr>\n  </tbody>\n</table>\n</div>"
     },
     "metadata": {},
     "execution_count": 49
    }
   ],
   "source": [
    "female_evote_danish[female_evote_danish['zip']==2100]"
   ]
  },
  {
   "cell_type": "code",
   "execution_count": 50,
   "metadata": {},
   "outputs": [
    {
     "output_type": "execute_result",
     "data": {
      "text/plain": [
       "                                       name\n",
       "sex  citizenship evote zip  age            \n",
       "Male Denmark     1     2100 26.083445    16\n",
       "                            26.106013    16\n",
       "                            28.802569    16\n",
       "                            29.269073    18\n",
       "                            30.357140    17\n",
       "                            32.361569    18\n",
       "                            37.814819    10\n",
       "                            41.984883     6\n",
       "                            54.001253     3\n",
       "                            59.893174     3\n",
       "                       2200 21.611027     9\n",
       "                            28.171254    13\n",
       "                            29.298145    12\n",
       "                            37.348805    10\n",
       "                            38.450169    11\n",
       "                            39.542624    10\n",
       "                       2300 20.080954     7\n",
       "                            38.353330     7\n",
       "                            46.486765    16\n",
       "                            50.062405    15\n",
       "                            52.462269    18\n",
       "                            52.762678    18\n",
       "                            58.129052    15\n",
       "                            58.966695    15\n",
       "                       2400 30.768506    11\n",
       "                            44.039302    16\n",
       "                            44.846198    16\n",
       "                            51.677135    18\n",
       "                            52.120187    18\n",
       "                            53.690564    18\n",
       "                            55.162699    19\n",
       "                            65.956483    10\n",
       "                            68.771132     8\n",
       "     Not danish  1     2100 58.101356     1\n",
       "                       2400 42.744010     1\n",
       "                            53.809517     4"
      ],
      "text/html": "<div>\n<style scoped>\n    .dataframe tbody tr th:only-of-type {\n        vertical-align: middle;\n    }\n\n    .dataframe tbody tr th {\n        vertical-align: top;\n    }\n\n    .dataframe thead th {\n        text-align: right;\n    }\n</style>\n<table border=\"1\" class=\"dataframe\">\n  <thead>\n    <tr style=\"text-align: right;\">\n      <th></th>\n      <th></th>\n      <th></th>\n      <th></th>\n      <th></th>\n      <th>name</th>\n    </tr>\n    <tr>\n      <th>sex</th>\n      <th>citizenship</th>\n      <th>evote</th>\n      <th>zip</th>\n      <th>age</th>\n      <th></th>\n    </tr>\n  </thead>\n  <tbody>\n    <tr>\n      <th rowspan=\"36\" valign=\"top\">Male</th>\n      <th rowspan=\"33\" valign=\"top\">Denmark</th>\n      <th rowspan=\"33\" valign=\"top\">1</th>\n      <th rowspan=\"10\" valign=\"top\">2100</th>\n      <th>26.083445</th>\n      <td>16</td>\n    </tr>\n    <tr>\n      <th>26.106013</th>\n      <td>16</td>\n    </tr>\n    <tr>\n      <th>28.802569</th>\n      <td>16</td>\n    </tr>\n    <tr>\n      <th>29.269073</th>\n      <td>18</td>\n    </tr>\n    <tr>\n      <th>30.357140</th>\n      <td>17</td>\n    </tr>\n    <tr>\n      <th>32.361569</th>\n      <td>18</td>\n    </tr>\n    <tr>\n      <th>37.814819</th>\n      <td>10</td>\n    </tr>\n    <tr>\n      <th>41.984883</th>\n      <td>6</td>\n    </tr>\n    <tr>\n      <th>54.001253</th>\n      <td>3</td>\n    </tr>\n    <tr>\n      <th>59.893174</th>\n      <td>3</td>\n    </tr>\n    <tr>\n      <th rowspan=\"6\" valign=\"top\">2200</th>\n      <th>21.611027</th>\n      <td>9</td>\n    </tr>\n    <tr>\n      <th>28.171254</th>\n      <td>13</td>\n    </tr>\n    <tr>\n      <th>29.298145</th>\n      <td>12</td>\n    </tr>\n    <tr>\n      <th>37.348805</th>\n      <td>10</td>\n    </tr>\n    <tr>\n      <th>38.450169</th>\n      <td>11</td>\n    </tr>\n    <tr>\n      <th>39.542624</th>\n      <td>10</td>\n    </tr>\n    <tr>\n      <th rowspan=\"8\" valign=\"top\">2300</th>\n      <th>20.080954</th>\n      <td>7</td>\n    </tr>\n    <tr>\n      <th>38.353330</th>\n      <td>7</td>\n    </tr>\n    <tr>\n      <th>46.486765</th>\n      <td>16</td>\n    </tr>\n    <tr>\n      <th>50.062405</th>\n      <td>15</td>\n    </tr>\n    <tr>\n      <th>52.462269</th>\n      <td>18</td>\n    </tr>\n    <tr>\n      <th>52.762678</th>\n      <td>18</td>\n    </tr>\n    <tr>\n      <th>58.129052</th>\n      <td>15</td>\n    </tr>\n    <tr>\n      <th>58.966695</th>\n      <td>15</td>\n    </tr>\n    <tr>\n      <th rowspan=\"9\" valign=\"top\">2400</th>\n      <th>30.768506</th>\n      <td>11</td>\n    </tr>\n    <tr>\n      <th>44.039302</th>\n      <td>16</td>\n    </tr>\n    <tr>\n      <th>44.846198</th>\n      <td>16</td>\n    </tr>\n    <tr>\n      <th>51.677135</th>\n      <td>18</td>\n    </tr>\n    <tr>\n      <th>52.120187</th>\n      <td>18</td>\n    </tr>\n    <tr>\n      <th>53.690564</th>\n      <td>18</td>\n    </tr>\n    <tr>\n      <th>55.162699</th>\n      <td>19</td>\n    </tr>\n    <tr>\n      <th>65.956483</th>\n      <td>10</td>\n    </tr>\n    <tr>\n      <th>68.771132</th>\n      <td>8</td>\n    </tr>\n    <tr>\n      <th rowspan=\"3\" valign=\"top\">Not danish</th>\n      <th rowspan=\"3\" valign=\"top\">1</th>\n      <th>2100</th>\n      <th>58.101356</th>\n      <td>1</td>\n    </tr>\n    <tr>\n      <th rowspan=\"2\" valign=\"top\">2400</th>\n      <th>42.744010</th>\n      <td>1</td>\n    </tr>\n    <tr>\n      <th>53.809517</th>\n      <td>4</td>\n    </tr>\n  </tbody>\n</table>\n</div>"
     },
     "metadata": {},
     "execution_count": 50
    }
   ],
   "source": [
    "male_evote[['sex', 'citizenship', 'evote', 'zip', 'age', 'name']].groupby(['sex', 'citizenship', 'evote', 'zip', 'age']).nunique()"
   ]
  },
  {
   "cell_type": "code",
   "execution_count": 51,
   "metadata": {},
   "outputs": [
    {
     "output_type": "execute_result",
     "data": {
      "text/plain": [
       "                    name   sex        dob   zip citizenship  \\\n",
       "2561        Paudel, Jijo  Male 1976-07-07  2400  Not danish   \n",
       "2562      Plummer, Edgar  Male 1966-12-23  2400  Not danish   \n",
       "2564        Chang, Kevin  Male 1964-08-03  2400  Not danish   \n",
       "2566    Enriquez, Marcus  Male 1965-08-13  2400  Not danish   \n",
       "2568  De La Rosa, Felipe  Male 1959-09-16  2400  Not danish   \n",
       "\n",
       "         marital_status  last_voted encoded_citizenship  evote  \\\n",
       "2561  Married/separated           1          Not danish      1   \n",
       "2562           Divorced           1          Not danish      1   \n",
       "2564  Married/separated           1          Not danish      1   \n",
       "2566           Divorced           1          Not danish      1   \n",
       "2568      Never married           1          Not danish      1   \n",
       "\n",
       "     detailed_citizenship        age                                education  \\\n",
       "2561          Afghanistan  42.744010                       Masters programmes   \n",
       "2562                Nepal  53.809517  Vocational Education and Training (VET)   \n",
       "2564              Somalia  53.809517  Vocational Education and Training (VET)   \n",
       "2566          Netherlands  53.809517  Vocational Education and Training (VET)   \n",
       "2568              Eritrea  53.809517  Vocational Education and Training (VET)   \n",
       "\n",
       "      party  calculated_age  age_diff  \n",
       "2561  Green              44  1.255990  \n",
       "2562  Green              54  0.190483  \n",
       "2564  Green              56  2.190483  \n",
       "2566  Green              55  1.190483  \n",
       "2568  Green              61  7.190483  "
      ],
      "text/html": "<div>\n<style scoped>\n    .dataframe tbody tr th:only-of-type {\n        vertical-align: middle;\n    }\n\n    .dataframe tbody tr th {\n        vertical-align: top;\n    }\n\n    .dataframe thead th {\n        text-align: right;\n    }\n</style>\n<table border=\"1\" class=\"dataframe\">\n  <thead>\n    <tr style=\"text-align: right;\">\n      <th></th>\n      <th>name</th>\n      <th>sex</th>\n      <th>dob</th>\n      <th>zip</th>\n      <th>citizenship</th>\n      <th>marital_status</th>\n      <th>last_voted</th>\n      <th>encoded_citizenship</th>\n      <th>evote</th>\n      <th>detailed_citizenship</th>\n      <th>age</th>\n      <th>education</th>\n      <th>party</th>\n      <th>calculated_age</th>\n      <th>age_diff</th>\n    </tr>\n  </thead>\n  <tbody>\n    <tr>\n      <th>2561</th>\n      <td>Paudel, Jijo</td>\n      <td>Male</td>\n      <td>1976-07-07</td>\n      <td>2400</td>\n      <td>Not danish</td>\n      <td>Married/separated</td>\n      <td>1</td>\n      <td>Not danish</td>\n      <td>1</td>\n      <td>Afghanistan</td>\n      <td>42.744010</td>\n      <td>Masters programmes</td>\n      <td>Green</td>\n      <td>44</td>\n      <td>1.255990</td>\n    </tr>\n    <tr>\n      <th>2562</th>\n      <td>Plummer, Edgar</td>\n      <td>Male</td>\n      <td>1966-12-23</td>\n      <td>2400</td>\n      <td>Not danish</td>\n      <td>Divorced</td>\n      <td>1</td>\n      <td>Not danish</td>\n      <td>1</td>\n      <td>Nepal</td>\n      <td>53.809517</td>\n      <td>Vocational Education and Training (VET)</td>\n      <td>Green</td>\n      <td>54</td>\n      <td>0.190483</td>\n    </tr>\n    <tr>\n      <th>2564</th>\n      <td>Chang, Kevin</td>\n      <td>Male</td>\n      <td>1964-08-03</td>\n      <td>2400</td>\n      <td>Not danish</td>\n      <td>Married/separated</td>\n      <td>1</td>\n      <td>Not danish</td>\n      <td>1</td>\n      <td>Somalia</td>\n      <td>53.809517</td>\n      <td>Vocational Education and Training (VET)</td>\n      <td>Green</td>\n      <td>56</td>\n      <td>2.190483</td>\n    </tr>\n    <tr>\n      <th>2566</th>\n      <td>Enriquez, Marcus</td>\n      <td>Male</td>\n      <td>1965-08-13</td>\n      <td>2400</td>\n      <td>Not danish</td>\n      <td>Divorced</td>\n      <td>1</td>\n      <td>Not danish</td>\n      <td>1</td>\n      <td>Netherlands</td>\n      <td>53.809517</td>\n      <td>Vocational Education and Training (VET)</td>\n      <td>Green</td>\n      <td>55</td>\n      <td>1.190483</td>\n    </tr>\n    <tr>\n      <th>2568</th>\n      <td>De La Rosa, Felipe</td>\n      <td>Male</td>\n      <td>1959-09-16</td>\n      <td>2400</td>\n      <td>Not danish</td>\n      <td>Never married</td>\n      <td>1</td>\n      <td>Not danish</td>\n      <td>1</td>\n      <td>Eritrea</td>\n      <td>53.809517</td>\n      <td>Vocational Education and Training (VET)</td>\n      <td>Green</td>\n      <td>61</td>\n      <td>7.190483</td>\n    </tr>\n  </tbody>\n</table>\n</div>"
     },
     "metadata": {},
     "execution_count": 51
    }
   ],
   "source": [
    "male_evote_nondanish[male_evote_nondanish['zip'] == 2400]"
   ]
  },
  {
   "cell_type": "code",
   "execution_count": null,
   "metadata": {},
   "outputs": [],
   "source": []
  }
 ]
}