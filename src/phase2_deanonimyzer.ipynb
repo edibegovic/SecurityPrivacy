{
 "metadata": {
  "language_info": {
   "codemirror_mode": {
    "name": "ipython",
    "version": 3
   },
   "file_extension": ".py",
   "mimetype": "text/x-python",
   "name": "python",
   "nbconvert_exporter": "python",
   "pygments_lexer": "ipython3",
   "version": "3.8.5-final"
  },
  "orig_nbformat": 2,
  "kernelspec": {
   "name": "python3",
   "display_name": "Python 3"
  }
 },
 "nbformat": 4,
 "nbformat_minor": 2,
 "cells": [
  {
   "cell_type": "code",
   "execution_count": 17,
   "metadata": {},
   "outputs": [],
   "source": [
    "# imports\n",
    "import pandas as pd\n",
    "import matplotlib.pyplot"
   ]
  },
  {
   "cell_type": "code",
   "execution_count": 25,
   "metadata": {},
   "outputs": [],
   "source": [
    "anonymized_data = pd.read_csv('../data/anonymized_shuffled_phase2.csv')\n",
    "public_data = pd.read_excel('../data/public_data_register_phase2.xlsx')"
   ]
  },
  {
   "cell_type": "code",
   "execution_count": 19,
   "metadata": {},
   "outputs": [
    {
     "output_type": "stream",
     "name": "stdout",
     "text": [
      "Defaulting to user installation because normal site-packages is not writeable\n",
      "Requirement already satisfied: xlrd in /home/gregkoncz/.local/lib/python3.8/site-packages (1.2.0)\n"
     ]
    }
   ],
   "source": [
    "!pip3 install xlrd"
   ]
  },
  {
   "cell_type": "code",
   "execution_count": 26,
   "metadata": {},
   "outputs": [
    {
     "output_type": "execute_result",
     "data": {
      "text/plain": [
       "                   name     sex        dob   zip citizenship marital_status  \\\n",
       "0      al-Fawaz, Sabaah    Male 1996-08-23  2200     Denmark  Never married   \n",
       "1       el-Asmar, Hasan    Male 1995-02-18  2100     Denmark  Never married   \n",
       "2        Widaa, Cameron    Male 1996-08-24  2300     Denmark  Never married   \n",
       "3          Santos, Jose    Male 2000-05-16  2300     Denmark  Never married   \n",
       "4  Buczynski, Elizabeth  Female 1999-06-03  2300     Denmark  Never married   \n",
       "\n",
       "   last_voted  \n",
       "0           1  \n",
       "1           1  \n",
       "2           1  \n",
       "3           1  \n",
       "4           1  "
      ],
      "text/html": "<div>\n<style scoped>\n    .dataframe tbody tr th:only-of-type {\n        vertical-align: middle;\n    }\n\n    .dataframe tbody tr th {\n        vertical-align: top;\n    }\n\n    .dataframe thead th {\n        text-align: right;\n    }\n</style>\n<table border=\"1\" class=\"dataframe\">\n  <thead>\n    <tr style=\"text-align: right;\">\n      <th></th>\n      <th>name</th>\n      <th>sex</th>\n      <th>dob</th>\n      <th>zip</th>\n      <th>citizenship</th>\n      <th>marital_status</th>\n      <th>last_voted</th>\n    </tr>\n  </thead>\n  <tbody>\n    <tr>\n      <th>0</th>\n      <td>al-Fawaz, Sabaah</td>\n      <td>Male</td>\n      <td>1996-08-23</td>\n      <td>2200</td>\n      <td>Denmark</td>\n      <td>Never married</td>\n      <td>1</td>\n    </tr>\n    <tr>\n      <th>1</th>\n      <td>el-Asmar, Hasan</td>\n      <td>Male</td>\n      <td>1995-02-18</td>\n      <td>2100</td>\n      <td>Denmark</td>\n      <td>Never married</td>\n      <td>1</td>\n    </tr>\n    <tr>\n      <th>2</th>\n      <td>Widaa, Cameron</td>\n      <td>Male</td>\n      <td>1996-08-24</td>\n      <td>2300</td>\n      <td>Denmark</td>\n      <td>Never married</td>\n      <td>1</td>\n    </tr>\n    <tr>\n      <th>3</th>\n      <td>Santos, Jose</td>\n      <td>Male</td>\n      <td>2000-05-16</td>\n      <td>2300</td>\n      <td>Denmark</td>\n      <td>Never married</td>\n      <td>1</td>\n    </tr>\n    <tr>\n      <th>4</th>\n      <td>Buczynski, Elizabeth</td>\n      <td>Female</td>\n      <td>1999-06-03</td>\n      <td>2300</td>\n      <td>Denmark</td>\n      <td>Never married</td>\n      <td>1</td>\n    </tr>\n  </tbody>\n</table>\n</div>"
     },
     "metadata": {},
     "execution_count": 26
    }
   ],
   "source": [
    "public_data.head()"
   ]
  },
  {
   "cell_type": "code",
   "execution_count": 27,
   "metadata": {},
   "outputs": [
    {
     "output_type": "execute_result",
     "data": {
      "text/plain": [
       "      sex  evote        age   zip                                education  \\\n",
       "0    Male      1  30.768506  2400  Vocational Education and Training (VET)   \n",
       "1  Female      0  47.177024  2400  Vocational Education and Training (VET)   \n",
       "2  Female      1  46.697183  2400          Vocational bachelors educations   \n",
       "3  Female      0  41.181924  2300                        Primary education   \n",
       "4  Female      0  57.105226  2200  Vocational Education and Training (VET)   \n",
       "\n",
       "  citizenship  party  \n",
       "0     Denmark  Green  \n",
       "1     Denmark  Green  \n",
       "2     Denmark    Red  \n",
       "3     Denmark  Green  \n",
       "4  Not danish  Green  "
      ],
      "text/html": "<div>\n<style scoped>\n    .dataframe tbody tr th:only-of-type {\n        vertical-align: middle;\n    }\n\n    .dataframe tbody tr th {\n        vertical-align: top;\n    }\n\n    .dataframe thead th {\n        text-align: right;\n    }\n</style>\n<table border=\"1\" class=\"dataframe\">\n  <thead>\n    <tr style=\"text-align: right;\">\n      <th></th>\n      <th>sex</th>\n      <th>evote</th>\n      <th>age</th>\n      <th>zip</th>\n      <th>education</th>\n      <th>citizenship</th>\n      <th>party</th>\n    </tr>\n  </thead>\n  <tbody>\n    <tr>\n      <th>0</th>\n      <td>Male</td>\n      <td>1</td>\n      <td>30.768506</td>\n      <td>2400</td>\n      <td>Vocational Education and Training (VET)</td>\n      <td>Denmark</td>\n      <td>Green</td>\n    </tr>\n    <tr>\n      <th>1</th>\n      <td>Female</td>\n      <td>0</td>\n      <td>47.177024</td>\n      <td>2400</td>\n      <td>Vocational Education and Training (VET)</td>\n      <td>Denmark</td>\n      <td>Green</td>\n    </tr>\n    <tr>\n      <th>2</th>\n      <td>Female</td>\n      <td>1</td>\n      <td>46.697183</td>\n      <td>2400</td>\n      <td>Vocational bachelors educations</td>\n      <td>Denmark</td>\n      <td>Red</td>\n    </tr>\n    <tr>\n      <th>3</th>\n      <td>Female</td>\n      <td>0</td>\n      <td>41.181924</td>\n      <td>2300</td>\n      <td>Primary education</td>\n      <td>Denmark</td>\n      <td>Green</td>\n    </tr>\n    <tr>\n      <th>4</th>\n      <td>Female</td>\n      <td>0</td>\n      <td>57.105226</td>\n      <td>2200</td>\n      <td>Vocational Education and Training (VET)</td>\n      <td>Not danish</td>\n      <td>Green</td>\n    </tr>\n  </tbody>\n</table>\n</div>"
     },
     "metadata": {},
     "execution_count": 27
    }
   ],
   "source": [
    "anonymized_data.head()"
   ]
  },
  {
   "cell_type": "code",
   "execution_count": 28,
   "metadata": {},
   "outputs": [
    {
     "output_type": "stream",
     "name": "stdout",
     "text": [
      "<class 'pandas.core.frame.DataFrame'>\nRangeIndex: 200 entries, 0 to 199\nData columns (total 7 columns):\n #   Column       Non-Null Count  Dtype  \n---  ------       --------------  -----  \n 0   sex          200 non-null    object \n 1   evote        200 non-null    int64  \n 2   age          200 non-null    float64\n 3   zip          200 non-null    int64  \n 4   education    200 non-null    object \n 5   citizenship  200 non-null    object \n 6   party        200 non-null    object \ndtypes: float64(1), int64(2), object(4)\nmemory usage: 11.1+ KB\n"
     ]
    }
   ],
   "source": [
    "anonymized_data.info()"
   ]
  },
  {
   "cell_type": "code",
   "execution_count": 29,
   "metadata": {},
   "outputs": [],
   "source": [
    "public_data['encoded_citizenship'] = public_data['citizenship'].apply(lambda x: 'Denmark' if x == 'Denmark' else 'Not danish')"
   ]
  },
  {
   "cell_type": "code",
   "execution_count": 30,
   "metadata": {},
   "outputs": [],
   "source": [
    "public_data = public_data[public_data['last_voted'] != 2]\n",
    "public_data['evote'] = public_data['last_voted']\n",
    "public_data['detailed_citizenship'] = public_data['citizenship']\n",
    "public_data['citizenship'] = public_data['encoded_citizenship']"
   ]
  },
  {
   "source": [
    "## Merge stuff"
   ],
   "cell_type": "markdown",
   "metadata": {}
  },
  {
   "cell_type": "code",
   "execution_count": 31,
   "metadata": {},
   "outputs": [],
   "source": [
    "merged_df = public_data.merge(anonymized_data, on = ['sex', 'evote', 'citizenship', 'zip'], how = 'outer')"
   ]
  },
  {
   "cell_type": "code",
   "execution_count": 32,
   "metadata": {},
   "outputs": [
    {
     "output_type": "execute_result",
     "data": {
      "text/plain": [
       "(12448, 13)"
      ]
     },
     "metadata": {},
     "execution_count": 32
    }
   ],
   "source": [
    "merged_df.shape"
   ]
  },
  {
   "cell_type": "code",
   "execution_count": 33,
   "metadata": {},
   "outputs": [
    {
     "output_type": "execute_result",
     "data": {
      "text/plain": [
       "               name   sex        dob   zip citizenship marital_status  \\\n",
       "0  al-Fawaz, Sabaah  Male 1996-08-23  2200     Denmark  Never married   \n",
       "1  al-Fawaz, Sabaah  Male 1996-08-23  2200     Denmark  Never married   \n",
       "2  al-Fawaz, Sabaah  Male 1996-08-23  2200     Denmark  Never married   \n",
       "3  al-Fawaz, Sabaah  Male 1996-08-23  2200     Denmark  Never married   \n",
       "4  al-Fawaz, Sabaah  Male 1996-08-23  2200     Denmark  Never married   \n",
       "\n",
       "   last_voted encoded_citizenship  evote detailed_citizenship        age  \\\n",
       "0           1             Denmark      1              Denmark  37.348805   \n",
       "1           1             Denmark      1              Denmark  29.298145   \n",
       "2           1             Denmark      1              Denmark  39.542624   \n",
       "3           1             Denmark      1              Denmark  28.171254   \n",
       "4           1             Denmark      1              Denmark  21.611027   \n",
       "\n",
       "                                 education  party  \n",
       "0          Vocational bachelors educations  Green  \n",
       "1          Vocational bachelors educations  Green  \n",
       "2  Vocational Education and Training (VET)    Red  \n",
       "3  Vocational Education and Training (VET)  Green  \n",
       "4                        Primary education  Green  "
      ],
      "text/html": "<div>\n<style scoped>\n    .dataframe tbody tr th:only-of-type {\n        vertical-align: middle;\n    }\n\n    .dataframe tbody tr th {\n        vertical-align: top;\n    }\n\n    .dataframe thead th {\n        text-align: right;\n    }\n</style>\n<table border=\"1\" class=\"dataframe\">\n  <thead>\n    <tr style=\"text-align: right;\">\n      <th></th>\n      <th>name</th>\n      <th>sex</th>\n      <th>dob</th>\n      <th>zip</th>\n      <th>citizenship</th>\n      <th>marital_status</th>\n      <th>last_voted</th>\n      <th>encoded_citizenship</th>\n      <th>evote</th>\n      <th>detailed_citizenship</th>\n      <th>age</th>\n      <th>education</th>\n      <th>party</th>\n    </tr>\n  </thead>\n  <tbody>\n    <tr>\n      <th>0</th>\n      <td>al-Fawaz, Sabaah</td>\n      <td>Male</td>\n      <td>1996-08-23</td>\n      <td>2200</td>\n      <td>Denmark</td>\n      <td>Never married</td>\n      <td>1</td>\n      <td>Denmark</td>\n      <td>1</td>\n      <td>Denmark</td>\n      <td>37.348805</td>\n      <td>Vocational bachelors educations</td>\n      <td>Green</td>\n    </tr>\n    <tr>\n      <th>1</th>\n      <td>al-Fawaz, Sabaah</td>\n      <td>Male</td>\n      <td>1996-08-23</td>\n      <td>2200</td>\n      <td>Denmark</td>\n      <td>Never married</td>\n      <td>1</td>\n      <td>Denmark</td>\n      <td>1</td>\n      <td>Denmark</td>\n      <td>29.298145</td>\n      <td>Vocational bachelors educations</td>\n      <td>Green</td>\n    </tr>\n    <tr>\n      <th>2</th>\n      <td>al-Fawaz, Sabaah</td>\n      <td>Male</td>\n      <td>1996-08-23</td>\n      <td>2200</td>\n      <td>Denmark</td>\n      <td>Never married</td>\n      <td>1</td>\n      <td>Denmark</td>\n      <td>1</td>\n      <td>Denmark</td>\n      <td>39.542624</td>\n      <td>Vocational Education and Training (VET)</td>\n      <td>Red</td>\n    </tr>\n    <tr>\n      <th>3</th>\n      <td>al-Fawaz, Sabaah</td>\n      <td>Male</td>\n      <td>1996-08-23</td>\n      <td>2200</td>\n      <td>Denmark</td>\n      <td>Never married</td>\n      <td>1</td>\n      <td>Denmark</td>\n      <td>1</td>\n      <td>Denmark</td>\n      <td>28.171254</td>\n      <td>Vocational Education and Training (VET)</td>\n      <td>Green</td>\n    </tr>\n    <tr>\n      <th>4</th>\n      <td>al-Fawaz, Sabaah</td>\n      <td>Male</td>\n      <td>1996-08-23</td>\n      <td>2200</td>\n      <td>Denmark</td>\n      <td>Never married</td>\n      <td>1</td>\n      <td>Denmark</td>\n      <td>1</td>\n      <td>Denmark</td>\n      <td>21.611027</td>\n      <td>Primary education</td>\n      <td>Green</td>\n    </tr>\n  </tbody>\n</table>\n</div>"
     },
     "metadata": {},
     "execution_count": 33
    }
   ],
   "source": [
    "merged_df.head()"
   ]
  },
  {
   "cell_type": "code",
   "execution_count": 37,
   "metadata": {},
   "outputs": [],
   "source": [
    "merged_df['calculated_age'] = merged_df['dob'].apply(lambda x: 2020 - x.year)"
   ]
  },
  {
   "cell_type": "code",
   "execution_count": 38,
   "metadata": {},
   "outputs": [
    {
     "output_type": "execute_result",
     "data": {
      "text/plain": [
       "               name   sex        dob   zip citizenship marital_status  \\\n",
       "0  al-Fawaz, Sabaah  Male 1996-08-23  2200     Denmark  Never married   \n",
       "1  al-Fawaz, Sabaah  Male 1996-08-23  2200     Denmark  Never married   \n",
       "2  al-Fawaz, Sabaah  Male 1996-08-23  2200     Denmark  Never married   \n",
       "3  al-Fawaz, Sabaah  Male 1996-08-23  2200     Denmark  Never married   \n",
       "4  al-Fawaz, Sabaah  Male 1996-08-23  2200     Denmark  Never married   \n",
       "\n",
       "   last_voted encoded_citizenship  evote detailed_citizenship        age  \\\n",
       "0           1             Denmark      1              Denmark  37.348805   \n",
       "1           1             Denmark      1              Denmark  29.298145   \n",
       "2           1             Denmark      1              Denmark  39.542624   \n",
       "3           1             Denmark      1              Denmark  28.171254   \n",
       "4           1             Denmark      1              Denmark  21.611027   \n",
       "\n",
       "                                 education  party  calculated_age  \n",
       "0          Vocational bachelors educations  Green              24  \n",
       "1          Vocational bachelors educations  Green              24  \n",
       "2  Vocational Education and Training (VET)    Red              24  \n",
       "3  Vocational Education and Training (VET)  Green              24  \n",
       "4                        Primary education  Green              24  "
      ],
      "text/html": "<div>\n<style scoped>\n    .dataframe tbody tr th:only-of-type {\n        vertical-align: middle;\n    }\n\n    .dataframe tbody tr th {\n        vertical-align: top;\n    }\n\n    .dataframe thead th {\n        text-align: right;\n    }\n</style>\n<table border=\"1\" class=\"dataframe\">\n  <thead>\n    <tr style=\"text-align: right;\">\n      <th></th>\n      <th>name</th>\n      <th>sex</th>\n      <th>dob</th>\n      <th>zip</th>\n      <th>citizenship</th>\n      <th>marital_status</th>\n      <th>last_voted</th>\n      <th>encoded_citizenship</th>\n      <th>evote</th>\n      <th>detailed_citizenship</th>\n      <th>age</th>\n      <th>education</th>\n      <th>party</th>\n      <th>calculated_age</th>\n    </tr>\n  </thead>\n  <tbody>\n    <tr>\n      <th>0</th>\n      <td>al-Fawaz, Sabaah</td>\n      <td>Male</td>\n      <td>1996-08-23</td>\n      <td>2200</td>\n      <td>Denmark</td>\n      <td>Never married</td>\n      <td>1</td>\n      <td>Denmark</td>\n      <td>1</td>\n      <td>Denmark</td>\n      <td>37.348805</td>\n      <td>Vocational bachelors educations</td>\n      <td>Green</td>\n      <td>24</td>\n    </tr>\n    <tr>\n      <th>1</th>\n      <td>al-Fawaz, Sabaah</td>\n      <td>Male</td>\n      <td>1996-08-23</td>\n      <td>2200</td>\n      <td>Denmark</td>\n      <td>Never married</td>\n      <td>1</td>\n      <td>Denmark</td>\n      <td>1</td>\n      <td>Denmark</td>\n      <td>29.298145</td>\n      <td>Vocational bachelors educations</td>\n      <td>Green</td>\n      <td>24</td>\n    </tr>\n    <tr>\n      <th>2</th>\n      <td>al-Fawaz, Sabaah</td>\n      <td>Male</td>\n      <td>1996-08-23</td>\n      <td>2200</td>\n      <td>Denmark</td>\n      <td>Never married</td>\n      <td>1</td>\n      <td>Denmark</td>\n      <td>1</td>\n      <td>Denmark</td>\n      <td>39.542624</td>\n      <td>Vocational Education and Training (VET)</td>\n      <td>Red</td>\n      <td>24</td>\n    </tr>\n    <tr>\n      <th>3</th>\n      <td>al-Fawaz, Sabaah</td>\n      <td>Male</td>\n      <td>1996-08-23</td>\n      <td>2200</td>\n      <td>Denmark</td>\n      <td>Never married</td>\n      <td>1</td>\n      <td>Denmark</td>\n      <td>1</td>\n      <td>Denmark</td>\n      <td>28.171254</td>\n      <td>Vocational Education and Training (VET)</td>\n      <td>Green</td>\n      <td>24</td>\n    </tr>\n    <tr>\n      <th>4</th>\n      <td>al-Fawaz, Sabaah</td>\n      <td>Male</td>\n      <td>1996-08-23</td>\n      <td>2200</td>\n      <td>Denmark</td>\n      <td>Never married</td>\n      <td>1</td>\n      <td>Denmark</td>\n      <td>1</td>\n      <td>Denmark</td>\n      <td>21.611027</td>\n      <td>Primary education</td>\n      <td>Green</td>\n      <td>24</td>\n    </tr>\n  </tbody>\n</table>\n</div>"
     },
     "metadata": {},
     "execution_count": 38
    }
   ],
   "source": [
    "merged_df.head()"
   ]
  },
  {
   "cell_type": "code",
   "execution_count": 40,
   "metadata": {},
   "outputs": [],
   "source": [
    "import numpy as np"
   ]
  },
  {
   "cell_type": "code",
   "execution_count": 43,
   "metadata": {},
   "outputs": [
    {
     "output_type": "execute_result",
     "data": {
      "text/plain": [
       "               name   sex        dob   zip citizenship marital_status  \\\n",
       "0  al-Fawaz, Sabaah  Male 1996-08-23  2200     Denmark  Never married   \n",
       "1  al-Fawaz, Sabaah  Male 1996-08-23  2200     Denmark  Never married   \n",
       "2  al-Fawaz, Sabaah  Male 1996-08-23  2200     Denmark  Never married   \n",
       "3  al-Fawaz, Sabaah  Male 1996-08-23  2200     Denmark  Never married   \n",
       "4  al-Fawaz, Sabaah  Male 1996-08-23  2200     Denmark  Never married   \n",
       "\n",
       "   last_voted encoded_citizenship  evote detailed_citizenship        age  \\\n",
       "0           1             Denmark      1              Denmark  37.348805   \n",
       "1           1             Denmark      1              Denmark  29.298145   \n",
       "2           1             Denmark      1              Denmark  39.542624   \n",
       "3           1             Denmark      1              Denmark  28.171254   \n",
       "4           1             Denmark      1              Denmark  21.611027   \n",
       "\n",
       "                                 education  party  calculated_age   age_diff  \n",
       "0          Vocational bachelors educations  Green              24  13.348805  \n",
       "1          Vocational bachelors educations  Green              24   5.298145  \n",
       "2  Vocational Education and Training (VET)    Red              24  15.542624  \n",
       "3  Vocational Education and Training (VET)  Green              24   4.171254  \n",
       "4                        Primary education  Green              24   2.388973  "
      ],
      "text/html": "<div>\n<style scoped>\n    .dataframe tbody tr th:only-of-type {\n        vertical-align: middle;\n    }\n\n    .dataframe tbody tr th {\n        vertical-align: top;\n    }\n\n    .dataframe thead th {\n        text-align: right;\n    }\n</style>\n<table border=\"1\" class=\"dataframe\">\n  <thead>\n    <tr style=\"text-align: right;\">\n      <th></th>\n      <th>name</th>\n      <th>sex</th>\n      <th>dob</th>\n      <th>zip</th>\n      <th>citizenship</th>\n      <th>marital_status</th>\n      <th>last_voted</th>\n      <th>encoded_citizenship</th>\n      <th>evote</th>\n      <th>detailed_citizenship</th>\n      <th>age</th>\n      <th>education</th>\n      <th>party</th>\n      <th>calculated_age</th>\n      <th>age_diff</th>\n    </tr>\n  </thead>\n  <tbody>\n    <tr>\n      <th>0</th>\n      <td>al-Fawaz, Sabaah</td>\n      <td>Male</td>\n      <td>1996-08-23</td>\n      <td>2200</td>\n      <td>Denmark</td>\n      <td>Never married</td>\n      <td>1</td>\n      <td>Denmark</td>\n      <td>1</td>\n      <td>Denmark</td>\n      <td>37.348805</td>\n      <td>Vocational bachelors educations</td>\n      <td>Green</td>\n      <td>24</td>\n      <td>13.348805</td>\n    </tr>\n    <tr>\n      <th>1</th>\n      <td>al-Fawaz, Sabaah</td>\n      <td>Male</td>\n      <td>1996-08-23</td>\n      <td>2200</td>\n      <td>Denmark</td>\n      <td>Never married</td>\n      <td>1</td>\n      <td>Denmark</td>\n      <td>1</td>\n      <td>Denmark</td>\n      <td>29.298145</td>\n      <td>Vocational bachelors educations</td>\n      <td>Green</td>\n      <td>24</td>\n      <td>5.298145</td>\n    </tr>\n    <tr>\n      <th>2</th>\n      <td>al-Fawaz, Sabaah</td>\n      <td>Male</td>\n      <td>1996-08-23</td>\n      <td>2200</td>\n      <td>Denmark</td>\n      <td>Never married</td>\n      <td>1</td>\n      <td>Denmark</td>\n      <td>1</td>\n      <td>Denmark</td>\n      <td>39.542624</td>\n      <td>Vocational Education and Training (VET)</td>\n      <td>Red</td>\n      <td>24</td>\n      <td>15.542624</td>\n    </tr>\n    <tr>\n      <th>3</th>\n      <td>al-Fawaz, Sabaah</td>\n      <td>Male</td>\n      <td>1996-08-23</td>\n      <td>2200</td>\n      <td>Denmark</td>\n      <td>Never married</td>\n      <td>1</td>\n      <td>Denmark</td>\n      <td>1</td>\n      <td>Denmark</td>\n      <td>28.171254</td>\n      <td>Vocational Education and Training (VET)</td>\n      <td>Green</td>\n      <td>24</td>\n      <td>4.171254</td>\n    </tr>\n    <tr>\n      <th>4</th>\n      <td>al-Fawaz, Sabaah</td>\n      <td>Male</td>\n      <td>1996-08-23</td>\n      <td>2200</td>\n      <td>Denmark</td>\n      <td>Never married</td>\n      <td>1</td>\n      <td>Denmark</td>\n      <td>1</td>\n      <td>Denmark</td>\n      <td>21.611027</td>\n      <td>Primary education</td>\n      <td>Green</td>\n      <td>24</td>\n      <td>2.388973</td>\n    </tr>\n  </tbody>\n</table>\n</div>"
     },
     "metadata": {},
     "execution_count": 43
    }
   ],
   "source": [
    "merged_df['age_diff'] = merged_df['calculated_age'] - merged_df['age']\n",
    "merged_df['age_diff'] = merged_df['age_diff'].apply(np.abs)\n",
    "merged_df.head()"
   ]
  },
  {
   "cell_type": "code",
   "execution_count": 45,
   "metadata": {},
   "outputs": [
    {
     "output_type": "execute_result",
     "data": {
      "text/plain": [
       "(3623, 15)"
      ]
     },
     "metadata": {},
     "execution_count": 45
    }
   ],
   "source": [
    "merged_df = merged_df[merged_df['age_diff'] < 8]\n",
    "merged_df.shape"
   ]
  },
  {
   "cell_type": "code",
   "execution_count": 51,
   "metadata": {},
   "outputs": [
    {
     "output_type": "execute_result",
     "data": {
      "text/plain": [
       "                               name\n",
       "sex    citizenship evote zip       \n",
       "Female Denmark     0     2100    51\n",
       "                         2200    70\n",
       "                         2300    87\n",
       "                         2400   120\n",
       "                   1     2100    21\n",
       "                         2200    38\n",
       "                         2300    37\n",
       "                         2400    33\n",
       "       Not danish  0     2100     2\n",
       "                         2200     4\n",
       "                         2300     3\n",
       "                         2400    11\n",
       "                   1     2200     1\n",
       "                         2400     1\n",
       "Male   Denmark     0     2100    37\n",
       "                         2200    69\n",
       "                         2300    62\n",
       "                         2400    97\n",
       "                   1     2100    25\n",
       "                         2200    20\n",
       "                         2300    34\n",
       "                         2400    45\n",
       "       Not danish  0     2200     4\n",
       "                         2400     7\n",
       "                   1     2100     1\n",
       "                         2400     5"
      ],
      "text/html": "<div>\n<style scoped>\n    .dataframe tbody tr th:only-of-type {\n        vertical-align: middle;\n    }\n\n    .dataframe tbody tr th {\n        vertical-align: top;\n    }\n\n    .dataframe thead th {\n        text-align: right;\n    }\n</style>\n<table border=\"1\" class=\"dataframe\">\n  <thead>\n    <tr style=\"text-align: right;\">\n      <th></th>\n      <th></th>\n      <th></th>\n      <th></th>\n      <th>name</th>\n    </tr>\n    <tr>\n      <th>sex</th>\n      <th>citizenship</th>\n      <th>evote</th>\n      <th>zip</th>\n      <th></th>\n    </tr>\n  </thead>\n  <tbody>\n    <tr>\n      <th rowspan=\"14\" valign=\"top\">Female</th>\n      <th rowspan=\"8\" valign=\"top\">Denmark</th>\n      <th rowspan=\"4\" valign=\"top\">0</th>\n      <th>2100</th>\n      <td>51</td>\n    </tr>\n    <tr>\n      <th>2200</th>\n      <td>70</td>\n    </tr>\n    <tr>\n      <th>2300</th>\n      <td>87</td>\n    </tr>\n    <tr>\n      <th>2400</th>\n      <td>120</td>\n    </tr>\n    <tr>\n      <th rowspan=\"4\" valign=\"top\">1</th>\n      <th>2100</th>\n      <td>21</td>\n    </tr>\n    <tr>\n      <th>2200</th>\n      <td>38</td>\n    </tr>\n    <tr>\n      <th>2300</th>\n      <td>37</td>\n    </tr>\n    <tr>\n      <th>2400</th>\n      <td>33</td>\n    </tr>\n    <tr>\n      <th rowspan=\"6\" valign=\"top\">Not danish</th>\n      <th rowspan=\"4\" valign=\"top\">0</th>\n      <th>2100</th>\n      <td>2</td>\n    </tr>\n    <tr>\n      <th>2200</th>\n      <td>4</td>\n    </tr>\n    <tr>\n      <th>2300</th>\n      <td>3</td>\n    </tr>\n    <tr>\n      <th>2400</th>\n      <td>11</td>\n    </tr>\n    <tr>\n      <th rowspan=\"2\" valign=\"top\">1</th>\n      <th>2200</th>\n      <td>1</td>\n    </tr>\n    <tr>\n      <th>2400</th>\n      <td>1</td>\n    </tr>\n    <tr>\n      <th rowspan=\"12\" valign=\"top\">Male</th>\n      <th rowspan=\"8\" valign=\"top\">Denmark</th>\n      <th rowspan=\"4\" valign=\"top\">0</th>\n      <th>2100</th>\n      <td>37</td>\n    </tr>\n    <tr>\n      <th>2200</th>\n      <td>69</td>\n    </tr>\n    <tr>\n      <th>2300</th>\n      <td>62</td>\n    </tr>\n    <tr>\n      <th>2400</th>\n      <td>97</td>\n    </tr>\n    <tr>\n      <th rowspan=\"4\" valign=\"top\">1</th>\n      <th>2100</th>\n      <td>25</td>\n    </tr>\n    <tr>\n      <th>2200</th>\n      <td>20</td>\n    </tr>\n    <tr>\n      <th>2300</th>\n      <td>34</td>\n    </tr>\n    <tr>\n      <th>2400</th>\n      <td>45</td>\n    </tr>\n    <tr>\n      <th rowspan=\"4\" valign=\"top\">Not danish</th>\n      <th rowspan=\"2\" valign=\"top\">0</th>\n      <th>2200</th>\n      <td>4</td>\n    </tr>\n    <tr>\n      <th>2400</th>\n      <td>7</td>\n    </tr>\n    <tr>\n      <th rowspan=\"2\" valign=\"top\">1</th>\n      <th>2100</th>\n      <td>1</td>\n    </tr>\n    <tr>\n      <th>2400</th>\n      <td>5</td>\n    </tr>\n  </tbody>\n</table>\n</div>"
     },
     "metadata": {},
     "execution_count": 51
    }
   ],
   "source": [
    "merged_df[['sex', 'citizenship', 'evote', 'zip', 'name']].groupby(['sex', 'citizenship', 'evote', 'zip']).nunique()\n",
    "## I think where the count for name is one here, that should be a match "
   ]
  },
  {
   "cell_type": "code",
   "execution_count": null,
   "metadata": {},
   "outputs": [],
   "source": []
  },
  {
   "cell_type": "code",
   "execution_count": null,
   "metadata": {},
   "outputs": [],
   "source": []
  }
 ]
}