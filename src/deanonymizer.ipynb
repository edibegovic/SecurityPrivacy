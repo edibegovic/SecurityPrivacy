{
 "metadata": {
  "language_info": {
   "codemirror_mode": {
    "name": "ipython",
    "version": 3
   },
   "file_extension": ".py",
   "mimetype": "text/x-python",
   "name": "python",
   "nbconvert_exporter": "python",
   "pygments_lexer": "ipython3",
   "version": "3.8.5-final"
  },
  "orig_nbformat": 2,
  "kernelspec": {
   "name": "python3",
   "display_name": "Python 3"
  }
 },
 "nbformat": 4,
 "nbformat_minor": 2,
 "cells": [
  {
   "cell_type": "code",
   "execution_count": 62,
   "metadata": {},
   "outputs": [],
   "source": [
    "# imports\n",
    "import pandas as pd\n",
    "import matplotlib.pyplot"
   ]
  },
  {
   "cell_type": "code",
   "execution_count": 101,
   "metadata": {},
   "outputs": [],
   "source": [
    "# read files \n",
    "private_data_original = pd.read_csv('../data/private_dataB.csv')\n",
    "public_data_register = pd.read_csv('../data/public_data_registerB.csv')\n",
    "public_data_results = pd.read_csv('../data/public_data_resultsB.csv')"
   ]
  },
  {
   "cell_type": "code",
   "execution_count": 102,
   "metadata": {},
   "outputs": [],
   "source": [
    "# read anony\n",
    "anonymized_data = pd.read_csv('../kanon2.csv')\n",
    "anonymized_data = anonymized_data[['party', 'sex', 'zip', 'age', 'citizenship', 'education', 'evote']]"
   ]
  },
  {
   "cell_type": "code",
   "execution_count": 103,
   "metadata": {},
   "outputs": [
    {
     "output_type": "execute_result",
     "data": {
      "text/plain": [
       "   party     sex     zip  age citizenship  \\\n",
       "0    Red  Female  2300.0  4.0     Denmark   \n",
       "1    Red  Female  2200.0  4.0     Denmark   \n",
       "2  Green  Female  2100.0  2.0     Denmark   \n",
       "3  Green    Male  2400.0  3.0     Denmark   \n",
       "4  Green    Male  2200.0  1.0     Denmark   \n",
       "\n",
       "                                 education  evote  \n",
       "0          Vocational bachelors educations      0  \n",
       "1  Vocational Education and Training (VET)      0  \n",
       "2  Vocational Education and Training (VET)      1  \n",
       "3  Vocational Education and Training (VET)      0  \n",
       "4                       Masters programmes      0  "
      ],
      "text/html": "<div>\n<style scoped>\n    .dataframe tbody tr th:only-of-type {\n        vertical-align: middle;\n    }\n\n    .dataframe tbody tr th {\n        vertical-align: top;\n    }\n\n    .dataframe thead th {\n        text-align: right;\n    }\n</style>\n<table border=\"1\" class=\"dataframe\">\n  <thead>\n    <tr style=\"text-align: right;\">\n      <th></th>\n      <th>party</th>\n      <th>sex</th>\n      <th>zip</th>\n      <th>age</th>\n      <th>citizenship</th>\n      <th>education</th>\n      <th>evote</th>\n    </tr>\n  </thead>\n  <tbody>\n    <tr>\n      <th>0</th>\n      <td>Red</td>\n      <td>Female</td>\n      <td>2300.0</td>\n      <td>4.0</td>\n      <td>Denmark</td>\n      <td>Vocational bachelors educations</td>\n      <td>0</td>\n    </tr>\n    <tr>\n      <th>1</th>\n      <td>Red</td>\n      <td>Female</td>\n      <td>2200.0</td>\n      <td>4.0</td>\n      <td>Denmark</td>\n      <td>Vocational Education and Training (VET)</td>\n      <td>0</td>\n    </tr>\n    <tr>\n      <th>2</th>\n      <td>Green</td>\n      <td>Female</td>\n      <td>2100.0</td>\n      <td>2.0</td>\n      <td>Denmark</td>\n      <td>Vocational Education and Training (VET)</td>\n      <td>1</td>\n    </tr>\n    <tr>\n      <th>3</th>\n      <td>Green</td>\n      <td>Male</td>\n      <td>2400.0</td>\n      <td>3.0</td>\n      <td>Denmark</td>\n      <td>Vocational Education and Training (VET)</td>\n      <td>0</td>\n    </tr>\n    <tr>\n      <th>4</th>\n      <td>Green</td>\n      <td>Male</td>\n      <td>2200.0</td>\n      <td>1.0</td>\n      <td>Denmark</td>\n      <td>Masters programmes</td>\n      <td>0</td>\n    </tr>\n  </tbody>\n</table>\n</div>"
     },
     "metadata": {},
     "execution_count": 103
    }
   ],
   "source": [
    "anonymized_data.head()"
   ]
  },
  {
   "cell_type": "code",
   "execution_count": 104,
   "metadata": {},
   "outputs": [
    {
     "output_type": "execute_result",
     "data": {
      "text/plain": [
       "     party     sex  zip  age citizenship                        education  \\\n",
       "81   Green  Female  NaN  4.0       Other                Primary education   \n",
       "120  Green    Male  NaN  2.0       Other               Masters programmes   \n",
       "183    Red  Female  NaN  4.0       Other  Vocational bachelors educations   \n",
       "192    Red  Female  NaN  4.0       Other                Primary education   \n",
       "\n",
       "     evote  \n",
       "81       0  \n",
       "120      0  \n",
       "183      0  \n",
       "192      0  "
      ],
      "text/html": "<div>\n<style scoped>\n    .dataframe tbody tr th:only-of-type {\n        vertical-align: middle;\n    }\n\n    .dataframe tbody tr th {\n        vertical-align: top;\n    }\n\n    .dataframe thead th {\n        text-align: right;\n    }\n</style>\n<table border=\"1\" class=\"dataframe\">\n  <thead>\n    <tr style=\"text-align: right;\">\n      <th></th>\n      <th>party</th>\n      <th>sex</th>\n      <th>zip</th>\n      <th>age</th>\n      <th>citizenship</th>\n      <th>education</th>\n      <th>evote</th>\n    </tr>\n  </thead>\n  <tbody>\n    <tr>\n      <th>81</th>\n      <td>Green</td>\n      <td>Female</td>\n      <td>NaN</td>\n      <td>4.0</td>\n      <td>Other</td>\n      <td>Primary education</td>\n      <td>0</td>\n    </tr>\n    <tr>\n      <th>120</th>\n      <td>Green</td>\n      <td>Male</td>\n      <td>NaN</td>\n      <td>2.0</td>\n      <td>Other</td>\n      <td>Masters programmes</td>\n      <td>0</td>\n    </tr>\n    <tr>\n      <th>183</th>\n      <td>Red</td>\n      <td>Female</td>\n      <td>NaN</td>\n      <td>4.0</td>\n      <td>Other</td>\n      <td>Vocational bachelors educations</td>\n      <td>0</td>\n    </tr>\n    <tr>\n      <th>192</th>\n      <td>Red</td>\n      <td>Female</td>\n      <td>NaN</td>\n      <td>4.0</td>\n      <td>Other</td>\n      <td>Primary education</td>\n      <td>0</td>\n    </tr>\n  </tbody>\n</table>\n</div>"
     },
     "metadata": {},
     "execution_count": 104
    }
   ],
   "source": [
    "# just checking for making sure\n",
    "anonymized_data[anonymized_data['zip'].isna()]"
   ]
  },
  {
   "cell_type": "code",
   "execution_count": 105,
   "metadata": {},
   "outputs": [
    {
     "output_type": "execute_result",
     "data": {
      "text/plain": [
       "               zip         age       evote\n",
       "count   196.000000  179.000000  200.000000\n",
       "mean   2266.326531    2.614525    0.260000\n",
       "std     106.162795    0.931358    0.439735\n",
       "min    2100.000000    1.000000    0.000000\n",
       "25%    2200.000000    2.000000    0.000000\n",
       "50%    2300.000000    3.000000    0.000000\n",
       "75%    2400.000000    3.000000    1.000000\n",
       "max    2400.000000    4.000000    1.000000"
      ],
      "text/html": "<div>\n<style scoped>\n    .dataframe tbody tr th:only-of-type {\n        vertical-align: middle;\n    }\n\n    .dataframe tbody tr th {\n        vertical-align: top;\n    }\n\n    .dataframe thead th {\n        text-align: right;\n    }\n</style>\n<table border=\"1\" class=\"dataframe\">\n  <thead>\n    <tr style=\"text-align: right;\">\n      <th></th>\n      <th>zip</th>\n      <th>age</th>\n      <th>evote</th>\n    </tr>\n  </thead>\n  <tbody>\n    <tr>\n      <th>count</th>\n      <td>196.000000</td>\n      <td>179.000000</td>\n      <td>200.000000</td>\n    </tr>\n    <tr>\n      <th>mean</th>\n      <td>2266.326531</td>\n      <td>2.614525</td>\n      <td>0.260000</td>\n    </tr>\n    <tr>\n      <th>std</th>\n      <td>106.162795</td>\n      <td>0.931358</td>\n      <td>0.439735</td>\n    </tr>\n    <tr>\n      <th>min</th>\n      <td>2100.000000</td>\n      <td>1.000000</td>\n      <td>0.000000</td>\n    </tr>\n    <tr>\n      <th>25%</th>\n      <td>2200.000000</td>\n      <td>2.000000</td>\n      <td>0.000000</td>\n    </tr>\n    <tr>\n      <th>50%</th>\n      <td>2300.000000</td>\n      <td>3.000000</td>\n      <td>0.000000</td>\n    </tr>\n    <tr>\n      <th>75%</th>\n      <td>2400.000000</td>\n      <td>3.000000</td>\n      <td>1.000000</td>\n    </tr>\n    <tr>\n      <th>max</th>\n      <td>2400.000000</td>\n      <td>4.000000</td>\n      <td>1.000000</td>\n    </tr>\n  </tbody>\n</table>\n</div>"
     },
     "metadata": {},
     "execution_count": 105
    }
   ],
   "source": [
    "anonymized_data.describe()"
   ]
  },
  {
   "cell_type": "code",
   "execution_count": 106,
   "metadata": {},
   "outputs": [
    {
     "output_type": "stream",
     "name": "stdout",
     "text": [
      "<class 'pandas.core.frame.DataFrame'>\nRangeIndex: 200 entries, 0 to 199\nData columns (total 7 columns):\n #   Column       Non-Null Count  Dtype  \n---  ------       --------------  -----  \n 0   party        200 non-null    object \n 1   sex          200 non-null    object \n 2   zip          196 non-null    float64\n 3   age          179 non-null    float64\n 4   citizenship  199 non-null    object \n 5   education    200 non-null    object \n 6   evote        200 non-null    int64  \ndtypes: float64(2), int64(1), object(4)\nmemory usage: 11.1+ KB\n"
     ]
    }
   ],
   "source": [
    "anonymized_data.info()"
   ]
  },
  {
   "cell_type": "code",
   "execution_count": 107,
   "metadata": {},
   "outputs": [
    {
     "output_type": "execute_result",
     "data": {
      "text/plain": [
       "3.0    73\n",
       "2.0    50\n",
       "4.0    31\n",
       "1.0    25\n",
       "Name: age, dtype: int64"
      ]
     },
     "metadata": {},
     "execution_count": 107
    }
   ],
   "source": [
    "anonymized_data['age'].value_counts()"
   ]
  },
  {
   "source": [
    "## Creating the auxiliary data"
   ],
   "cell_type": "markdown",
   "metadata": {}
  },
  {
   "cell_type": "code",
   "execution_count": 143,
   "metadata": {},
   "outputs": [],
   "source": [
    "no_dk_df = private_data_original[private_data_original['citizenship'] != \"Denmark\"]\n",
    "no_dk_df['public_age'] = no_dk_df['dob'].apply(lambda x: 2020 - int(x[:4]))"
   ]
  },
  {
   "cell_type": "code",
   "execution_count": 145,
   "metadata": {},
   "outputs": [
    {
     "output_type": "execute_result",
     "data": {
      "text/plain": [
       "    Unnamed: 0               name     sex  evote         dob   zip  \\\n",
       "29          29      Carlos, Caleb    Male      0  1961-10-25  2400   \n",
       "30          30  Walker, Remington    Male      0  1954-08-27  2300   \n",
       "70          70      Chang, Phurba    Male      0  1987-05-11  2100   \n",
       "73          73       Rae, Phillip    Male      0  1971-05-19  2400   \n",
       "81          81    Newson, Jasmine  Female      0  1950-02-09  2300   \n",
       "\n",
       "                                  education citizenship     marital_status  \\\n",
       "29  Vocational Education and Training (VET)       Italy  Married/separated   \n",
       "30                       Masters programmes      Poland  Married/separated   \n",
       "70                        Primary education      Brazil      Never married   \n",
       "73  Vocational Education and Training (VET)      Turkey      Never married   \n",
       "81                        Primary education    Pakistan      Never married   \n",
       "\n",
       "    party  public_age  \n",
       "29  Green          59  \n",
       "30    Red          66  \n",
       "70  Green          33  \n",
       "73  Green          49  \n",
       "81  Green          70  "
      ],
      "text/html": "<div>\n<style scoped>\n    .dataframe tbody tr th:only-of-type {\n        vertical-align: middle;\n    }\n\n    .dataframe tbody tr th {\n        vertical-align: top;\n    }\n\n    .dataframe thead th {\n        text-align: right;\n    }\n</style>\n<table border=\"1\" class=\"dataframe\">\n  <thead>\n    <tr style=\"text-align: right;\">\n      <th></th>\n      <th>Unnamed: 0</th>\n      <th>name</th>\n      <th>sex</th>\n      <th>evote</th>\n      <th>dob</th>\n      <th>zip</th>\n      <th>education</th>\n      <th>citizenship</th>\n      <th>marital_status</th>\n      <th>party</th>\n      <th>public_age</th>\n    </tr>\n  </thead>\n  <tbody>\n    <tr>\n      <th>29</th>\n      <td>29</td>\n      <td>Carlos, Caleb</td>\n      <td>Male</td>\n      <td>0</td>\n      <td>1961-10-25</td>\n      <td>2400</td>\n      <td>Vocational Education and Training (VET)</td>\n      <td>Italy</td>\n      <td>Married/separated</td>\n      <td>Green</td>\n      <td>59</td>\n    </tr>\n    <tr>\n      <th>30</th>\n      <td>30</td>\n      <td>Walker, Remington</td>\n      <td>Male</td>\n      <td>0</td>\n      <td>1954-08-27</td>\n      <td>2300</td>\n      <td>Masters programmes</td>\n      <td>Poland</td>\n      <td>Married/separated</td>\n      <td>Red</td>\n      <td>66</td>\n    </tr>\n    <tr>\n      <th>70</th>\n      <td>70</td>\n      <td>Chang, Phurba</td>\n      <td>Male</td>\n      <td>0</td>\n      <td>1987-05-11</td>\n      <td>2100</td>\n      <td>Primary education</td>\n      <td>Brazil</td>\n      <td>Never married</td>\n      <td>Green</td>\n      <td>33</td>\n    </tr>\n    <tr>\n      <th>73</th>\n      <td>73</td>\n      <td>Rae, Phillip</td>\n      <td>Male</td>\n      <td>0</td>\n      <td>1971-05-19</td>\n      <td>2400</td>\n      <td>Vocational Education and Training (VET)</td>\n      <td>Turkey</td>\n      <td>Never married</td>\n      <td>Green</td>\n      <td>49</td>\n    </tr>\n    <tr>\n      <th>81</th>\n      <td>81</td>\n      <td>Newson, Jasmine</td>\n      <td>Female</td>\n      <td>0</td>\n      <td>1950-02-09</td>\n      <td>2300</td>\n      <td>Primary education</td>\n      <td>Pakistan</td>\n      <td>Never married</td>\n      <td>Green</td>\n      <td>70</td>\n    </tr>\n  </tbody>\n</table>\n</div>"
     },
     "metadata": {},
     "execution_count": 145
    }
   ],
   "source": [
    "no_dk_df.head()"
   ]
  },
  {
   "cell_type": "code",
   "execution_count": 147,
   "metadata": {},
   "outputs": [],
   "source": [
    "no_dk_df[['public_age', 'citizenship']].to_csv('auxiliary0.csv', index = False, header = True)"
   ]
  },
  {
   "source": [
    "## Doing transforms you know they did too"
   ],
   "cell_type": "markdown",
   "metadata": {}
  },
  {
   "cell_type": "code",
   "execution_count": 110,
   "metadata": {},
   "outputs": [
    {
     "output_type": "execute_result",
     "data": {
      "text/plain": [
       "   Unnamed: 0              name     sex         dob   zip citizenship  \\\n",
       "0           0           Le, Ian    Male  1998-08-30  2300     Denmark   \n",
       "1           1       Wang, Caleb    Male  1996-04-23  2200     Denmark   \n",
       "2           2  Carranco, Raquel  Female  1994-08-06  2200     Denmark   \n",
       "3           3   Williams, Geona  Female  1995-04-22  2100      Sweden   \n",
       "4           4  Gonzales, Edward    Male  2000-05-13  2100     Denmark   \n",
       "\n",
       "  marital_status  last_voted  \n",
       "0  Never married           1  \n",
       "1  Never married           1  \n",
       "2  Never married           1  \n",
       "3  Never married           2  \n",
       "4  Never married           1  "
      ],
      "text/html": "<div>\n<style scoped>\n    .dataframe tbody tr th:only-of-type {\n        vertical-align: middle;\n    }\n\n    .dataframe tbody tr th {\n        vertical-align: top;\n    }\n\n    .dataframe thead th {\n        text-align: right;\n    }\n</style>\n<table border=\"1\" class=\"dataframe\">\n  <thead>\n    <tr style=\"text-align: right;\">\n      <th></th>\n      <th>Unnamed: 0</th>\n      <th>name</th>\n      <th>sex</th>\n      <th>dob</th>\n      <th>zip</th>\n      <th>citizenship</th>\n      <th>marital_status</th>\n      <th>last_voted</th>\n    </tr>\n  </thead>\n  <tbody>\n    <tr>\n      <th>0</th>\n      <td>0</td>\n      <td>Le, Ian</td>\n      <td>Male</td>\n      <td>1998-08-30</td>\n      <td>2300</td>\n      <td>Denmark</td>\n      <td>Never married</td>\n      <td>1</td>\n    </tr>\n    <tr>\n      <th>1</th>\n      <td>1</td>\n      <td>Wang, Caleb</td>\n      <td>Male</td>\n      <td>1996-04-23</td>\n      <td>2200</td>\n      <td>Denmark</td>\n      <td>Never married</td>\n      <td>1</td>\n    </tr>\n    <tr>\n      <th>2</th>\n      <td>2</td>\n      <td>Carranco, Raquel</td>\n      <td>Female</td>\n      <td>1994-08-06</td>\n      <td>2200</td>\n      <td>Denmark</td>\n      <td>Never married</td>\n      <td>1</td>\n    </tr>\n    <tr>\n      <th>3</th>\n      <td>3</td>\n      <td>Williams, Geona</td>\n      <td>Female</td>\n      <td>1995-04-22</td>\n      <td>2100</td>\n      <td>Sweden</td>\n      <td>Never married</td>\n      <td>2</td>\n    </tr>\n    <tr>\n      <th>4</th>\n      <td>4</td>\n      <td>Gonzales, Edward</td>\n      <td>Male</td>\n      <td>2000-05-13</td>\n      <td>2100</td>\n      <td>Denmark</td>\n      <td>Never married</td>\n      <td>1</td>\n    </tr>\n  </tbody>\n</table>\n</div>"
     },
     "metadata": {},
     "execution_count": 110
    }
   ],
   "source": [
    "public_data_register.head()"
   ]
  },
  {
   "cell_type": "code",
   "execution_count": 111,
   "metadata": {},
   "outputs": [],
   "source": [
    "# age calc the same way\n",
    "public_data_register['public_age'] = public_data_register['dob'].apply(lambda x: 2020 - int(x[:4]))"
   ]
  },
  {
   "cell_type": "code",
   "execution_count": 112,
   "metadata": {},
   "outputs": [
    {
     "output_type": "execute_result",
     "data": {
      "text/plain": [
       "   Unnamed: 0              name     sex         dob   zip citizenship  \\\n",
       "0           0           Le, Ian    Male  1998-08-30  2300     Denmark   \n",
       "1           1       Wang, Caleb    Male  1996-04-23  2200     Denmark   \n",
       "2           2  Carranco, Raquel  Female  1994-08-06  2200     Denmark   \n",
       "3           3   Williams, Geona  Female  1995-04-22  2100      Sweden   \n",
       "4           4  Gonzales, Edward    Male  2000-05-13  2100     Denmark   \n",
       "\n",
       "  marital_status  last_voted  public_age  \n",
       "0  Never married           1          22  \n",
       "1  Never married           1          24  \n",
       "2  Never married           1          26  \n",
       "3  Never married           2          25  \n",
       "4  Never married           1          20  "
      ],
      "text/html": "<div>\n<style scoped>\n    .dataframe tbody tr th:only-of-type {\n        vertical-align: middle;\n    }\n\n    .dataframe tbody tr th {\n        vertical-align: top;\n    }\n\n    .dataframe thead th {\n        text-align: right;\n    }\n</style>\n<table border=\"1\" class=\"dataframe\">\n  <thead>\n    <tr style=\"text-align: right;\">\n      <th></th>\n      <th>Unnamed: 0</th>\n      <th>name</th>\n      <th>sex</th>\n      <th>dob</th>\n      <th>zip</th>\n      <th>citizenship</th>\n      <th>marital_status</th>\n      <th>last_voted</th>\n      <th>public_age</th>\n    </tr>\n  </thead>\n  <tbody>\n    <tr>\n      <th>0</th>\n      <td>0</td>\n      <td>Le, Ian</td>\n      <td>Male</td>\n      <td>1998-08-30</td>\n      <td>2300</td>\n      <td>Denmark</td>\n      <td>Never married</td>\n      <td>1</td>\n      <td>22</td>\n    </tr>\n    <tr>\n      <th>1</th>\n      <td>1</td>\n      <td>Wang, Caleb</td>\n      <td>Male</td>\n      <td>1996-04-23</td>\n      <td>2200</td>\n      <td>Denmark</td>\n      <td>Never married</td>\n      <td>1</td>\n      <td>24</td>\n    </tr>\n    <tr>\n      <th>2</th>\n      <td>2</td>\n      <td>Carranco, Raquel</td>\n      <td>Female</td>\n      <td>1994-08-06</td>\n      <td>2200</td>\n      <td>Denmark</td>\n      <td>Never married</td>\n      <td>1</td>\n      <td>26</td>\n    </tr>\n    <tr>\n      <th>3</th>\n      <td>3</td>\n      <td>Williams, Geona</td>\n      <td>Female</td>\n      <td>1995-04-22</td>\n      <td>2100</td>\n      <td>Sweden</td>\n      <td>Never married</td>\n      <td>2</td>\n      <td>25</td>\n    </tr>\n    <tr>\n      <th>4</th>\n      <td>4</td>\n      <td>Gonzales, Edward</td>\n      <td>Male</td>\n      <td>2000-05-13</td>\n      <td>2100</td>\n      <td>Denmark</td>\n      <td>Never married</td>\n      <td>1</td>\n      <td>20</td>\n    </tr>\n  </tbody>\n</table>\n</div>"
     },
     "metadata": {},
     "execution_count": 112
    }
   ],
   "source": [
    "public_data_register.head()"
   ]
  },
  {
   "cell_type": "code",
   "execution_count": 113,
   "metadata": {},
   "outputs": [],
   "source": [
    "citizenship_transformer = lambda x: \"Denmark\" if x == \"Denmark\" else \"Other\"\n",
    "age_transformer = lambda x: 1 if x <= 30 else (2 if x <= 45 else (3 if x <= 65 else 4))"
   ]
  },
  {
   "cell_type": "code",
   "execution_count": 114,
   "metadata": {},
   "outputs": [],
   "source": [
    "public_data_register['encoded_age'] = public_data_register['public_age'].apply(age_transformer)\n",
    "public_data_register['encoded_citizenship'] = public_data_register['citizenship'].apply(citizenship_transformer)"
   ]
  },
  {
   "cell_type": "code",
   "execution_count": 115,
   "metadata": {},
   "outputs": [],
   "source": [
    "# filter out anyone who has not casted a vote\n",
    "public_data_register = public_data_register[public_data_register['last_voted'] != 2]"
   ]
  },
  {
   "cell_type": "code",
   "execution_count": 116,
   "metadata": {},
   "outputs": [],
   "source": [
    "merged_df = public_data_register.merge(anonymized_data, on = 'sex', how = 'outer')"
   ]
  },
  {
   "cell_type": "code",
   "execution_count": 117,
   "metadata": {},
   "outputs": [
    {
     "output_type": "stream",
     "name": "stdout",
     "text": [
      "(106214, 17)\n"
     ]
    },
    {
     "output_type": "execute_result",
     "data": {
      "text/plain": [
       "   Unnamed: 0     name   sex         dob  zip_x citizenship_x marital_status  \\\n",
       "0           0  Le, Ian  Male  1998-08-30   2300       Denmark  Never married   \n",
       "1           0  Le, Ian  Male  1998-08-30   2300       Denmark  Never married   \n",
       "2           0  Le, Ian  Male  1998-08-30   2300       Denmark  Never married   \n",
       "3           0  Le, Ian  Male  1998-08-30   2300       Denmark  Never married   \n",
       "4           0  Le, Ian  Male  1998-08-30   2300       Denmark  Never married   \n",
       "\n",
       "   last_voted  public_age  encoded_age encoded_citizenship  party   zip_y  \\\n",
       "0           1          22            1             Denmark  Green  2400.0   \n",
       "1           1          22            1             Denmark  Green  2200.0   \n",
       "2           1          22            1             Denmark    Red  2300.0   \n",
       "3           1          22            1             Denmark    Red  2300.0   \n",
       "4           1          22            1             Denmark    Red  2400.0   \n",
       "\n",
       "   age citizenship_y                                education  evote  \n",
       "0  3.0       Denmark  Vocational Education and Training (VET)      0  \n",
       "1  1.0       Denmark                       Masters programmes      0  \n",
       "2  2.0       Denmark          Vocational bachelors educations      0  \n",
       "3  3.0       Denmark  Vocational Education and Training (VET)      1  \n",
       "4  3.0       Denmark                       Masters programmes      0  "
      ],
      "text/html": "<div>\n<style scoped>\n    .dataframe tbody tr th:only-of-type {\n        vertical-align: middle;\n    }\n\n    .dataframe tbody tr th {\n        vertical-align: top;\n    }\n\n    .dataframe thead th {\n        text-align: right;\n    }\n</style>\n<table border=\"1\" class=\"dataframe\">\n  <thead>\n    <tr style=\"text-align: right;\">\n      <th></th>\n      <th>Unnamed: 0</th>\n      <th>name</th>\n      <th>sex</th>\n      <th>dob</th>\n      <th>zip_x</th>\n      <th>citizenship_x</th>\n      <th>marital_status</th>\n      <th>last_voted</th>\n      <th>public_age</th>\n      <th>encoded_age</th>\n      <th>encoded_citizenship</th>\n      <th>party</th>\n      <th>zip_y</th>\n      <th>age</th>\n      <th>citizenship_y</th>\n      <th>education</th>\n      <th>evote</th>\n    </tr>\n  </thead>\n  <tbody>\n    <tr>\n      <th>0</th>\n      <td>0</td>\n      <td>Le, Ian</td>\n      <td>Male</td>\n      <td>1998-08-30</td>\n      <td>2300</td>\n      <td>Denmark</td>\n      <td>Never married</td>\n      <td>1</td>\n      <td>22</td>\n      <td>1</td>\n      <td>Denmark</td>\n      <td>Green</td>\n      <td>2400.0</td>\n      <td>3.0</td>\n      <td>Denmark</td>\n      <td>Vocational Education and Training (VET)</td>\n      <td>0</td>\n    </tr>\n    <tr>\n      <th>1</th>\n      <td>0</td>\n      <td>Le, Ian</td>\n      <td>Male</td>\n      <td>1998-08-30</td>\n      <td>2300</td>\n      <td>Denmark</td>\n      <td>Never married</td>\n      <td>1</td>\n      <td>22</td>\n      <td>1</td>\n      <td>Denmark</td>\n      <td>Green</td>\n      <td>2200.0</td>\n      <td>1.0</td>\n      <td>Denmark</td>\n      <td>Masters programmes</td>\n      <td>0</td>\n    </tr>\n    <tr>\n      <th>2</th>\n      <td>0</td>\n      <td>Le, Ian</td>\n      <td>Male</td>\n      <td>1998-08-30</td>\n      <td>2300</td>\n      <td>Denmark</td>\n      <td>Never married</td>\n      <td>1</td>\n      <td>22</td>\n      <td>1</td>\n      <td>Denmark</td>\n      <td>Red</td>\n      <td>2300.0</td>\n      <td>2.0</td>\n      <td>Denmark</td>\n      <td>Vocational bachelors educations</td>\n      <td>0</td>\n    </tr>\n    <tr>\n      <th>3</th>\n      <td>0</td>\n      <td>Le, Ian</td>\n      <td>Male</td>\n      <td>1998-08-30</td>\n      <td>2300</td>\n      <td>Denmark</td>\n      <td>Never married</td>\n      <td>1</td>\n      <td>22</td>\n      <td>1</td>\n      <td>Denmark</td>\n      <td>Red</td>\n      <td>2300.0</td>\n      <td>3.0</td>\n      <td>Denmark</td>\n      <td>Vocational Education and Training (VET)</td>\n      <td>1</td>\n    </tr>\n    <tr>\n      <th>4</th>\n      <td>0</td>\n      <td>Le, Ian</td>\n      <td>Male</td>\n      <td>1998-08-30</td>\n      <td>2300</td>\n      <td>Denmark</td>\n      <td>Never married</td>\n      <td>1</td>\n      <td>22</td>\n      <td>1</td>\n      <td>Denmark</td>\n      <td>Red</td>\n      <td>2400.0</td>\n      <td>3.0</td>\n      <td>Denmark</td>\n      <td>Masters programmes</td>\n      <td>0</td>\n    </tr>\n  </tbody>\n</table>\n</div>"
     },
     "metadata": {},
     "execution_count": 117
    }
   ],
   "source": [
    "print(merged_df.shape)\n",
    "merged_df.head()"
   ]
  },
  {
   "cell_type": "code",
   "execution_count": 118,
   "metadata": {},
   "outputs": [
    {
     "output_type": "execute_result",
     "data": {
      "text/plain": [
       "100.2965061378659"
      ]
     },
     "metadata": {},
     "execution_count": 118
    }
   ],
   "source": [
    "merged_df['name'].value_counts().mean()"
   ]
  },
  {
   "cell_type": "code",
   "execution_count": 119,
   "metadata": {},
   "outputs": [
    {
     "output_type": "execute_result",
     "data": {
      "text/plain": [
       "Green           66634\n",
       "Red             37458\n",
       "Invalid vote     2122\n",
       "Name: party, dtype: int64"
      ]
     },
     "metadata": {},
     "execution_count": 119
    }
   ],
   "source": [
    "merged_df['party'].value_counts()"
   ]
  },
  {
   "cell_type": "code",
   "execution_count": 120,
   "metadata": {},
   "outputs": [],
   "source": [
    "# compare filterer function\n",
    "def citizenship_compare(x):\n",
    "    return x[14] == x[10]\n",
    "\n",
    "def pd_or(x):\n",
    "    return x[17] or x[18]"
   ]
  },
  {
   "cell_type": "code",
   "execution_count": 121,
   "metadata": {},
   "outputs": [
    {
     "output_type": "stream",
     "name": "stdout",
     "text": [
      "85.45420207743155\n"
     ]
    },
    {
     "output_type": "execute_result",
     "data": {
      "text/plain": [
       "   Unnamed: 0     name   sex         dob  zip_x citizenship_x marital_status  \\\n",
       "0           0  Le, Ian  Male  1998-08-30   2300       Denmark  Never married   \n",
       "1           0  Le, Ian  Male  1998-08-30   2300       Denmark  Never married   \n",
       "2           0  Le, Ian  Male  1998-08-30   2300       Denmark  Never married   \n",
       "3           0  Le, Ian  Male  1998-08-30   2300       Denmark  Never married   \n",
       "4           0  Le, Ian  Male  1998-08-30   2300       Denmark  Never married   \n",
       "\n",
       "   last_voted  public_age  encoded_age encoded_citizenship  party   zip_y  \\\n",
       "0           1          22            1             Denmark  Green  2400.0   \n",
       "1           1          22            1             Denmark  Green  2200.0   \n",
       "2           1          22            1             Denmark    Red  2300.0   \n",
       "3           1          22            1             Denmark    Red  2300.0   \n",
       "4           1          22            1             Denmark    Red  2400.0   \n",
       "\n",
       "   age citizenship_y                                education  evote  \n",
       "0  3.0       Denmark  Vocational Education and Training (VET)      0  \n",
       "1  1.0       Denmark                       Masters programmes      0  \n",
       "2  2.0       Denmark          Vocational bachelors educations      0  \n",
       "3  3.0       Denmark  Vocational Education and Training (VET)      1  \n",
       "4  3.0       Denmark                       Masters programmes      0  "
      ],
      "text/html": "<div>\n<style scoped>\n    .dataframe tbody tr th:only-of-type {\n        vertical-align: middle;\n    }\n\n    .dataframe tbody tr th {\n        vertical-align: top;\n    }\n\n    .dataframe thead th {\n        text-align: right;\n    }\n</style>\n<table border=\"1\" class=\"dataframe\">\n  <thead>\n    <tr style=\"text-align: right;\">\n      <th></th>\n      <th>Unnamed: 0</th>\n      <th>name</th>\n      <th>sex</th>\n      <th>dob</th>\n      <th>zip_x</th>\n      <th>citizenship_x</th>\n      <th>marital_status</th>\n      <th>last_voted</th>\n      <th>public_age</th>\n      <th>encoded_age</th>\n      <th>encoded_citizenship</th>\n      <th>party</th>\n      <th>zip_y</th>\n      <th>age</th>\n      <th>citizenship_y</th>\n      <th>education</th>\n      <th>evote</th>\n    </tr>\n  </thead>\n  <tbody>\n    <tr>\n      <th>0</th>\n      <td>0</td>\n      <td>Le, Ian</td>\n      <td>Male</td>\n      <td>1998-08-30</td>\n      <td>2300</td>\n      <td>Denmark</td>\n      <td>Never married</td>\n      <td>1</td>\n      <td>22</td>\n      <td>1</td>\n      <td>Denmark</td>\n      <td>Green</td>\n      <td>2400.0</td>\n      <td>3.0</td>\n      <td>Denmark</td>\n      <td>Vocational Education and Training (VET)</td>\n      <td>0</td>\n    </tr>\n    <tr>\n      <th>1</th>\n      <td>0</td>\n      <td>Le, Ian</td>\n      <td>Male</td>\n      <td>1998-08-30</td>\n      <td>2300</td>\n      <td>Denmark</td>\n      <td>Never married</td>\n      <td>1</td>\n      <td>22</td>\n      <td>1</td>\n      <td>Denmark</td>\n      <td>Green</td>\n      <td>2200.0</td>\n      <td>1.0</td>\n      <td>Denmark</td>\n      <td>Masters programmes</td>\n      <td>0</td>\n    </tr>\n    <tr>\n      <th>2</th>\n      <td>0</td>\n      <td>Le, Ian</td>\n      <td>Male</td>\n      <td>1998-08-30</td>\n      <td>2300</td>\n      <td>Denmark</td>\n      <td>Never married</td>\n      <td>1</td>\n      <td>22</td>\n      <td>1</td>\n      <td>Denmark</td>\n      <td>Red</td>\n      <td>2300.0</td>\n      <td>2.0</td>\n      <td>Denmark</td>\n      <td>Vocational bachelors educations</td>\n      <td>0</td>\n    </tr>\n    <tr>\n      <th>3</th>\n      <td>0</td>\n      <td>Le, Ian</td>\n      <td>Male</td>\n      <td>1998-08-30</td>\n      <td>2300</td>\n      <td>Denmark</td>\n      <td>Never married</td>\n      <td>1</td>\n      <td>22</td>\n      <td>1</td>\n      <td>Denmark</td>\n      <td>Red</td>\n      <td>2300.0</td>\n      <td>3.0</td>\n      <td>Denmark</td>\n      <td>Vocational Education and Training (VET)</td>\n      <td>1</td>\n    </tr>\n    <tr>\n      <th>4</th>\n      <td>0</td>\n      <td>Le, Ian</td>\n      <td>Male</td>\n      <td>1998-08-30</td>\n      <td>2300</td>\n      <td>Denmark</td>\n      <td>Never married</td>\n      <td>1</td>\n      <td>22</td>\n      <td>1</td>\n      <td>Denmark</td>\n      <td>Red</td>\n      <td>2400.0</td>\n      <td>3.0</td>\n      <td>Denmark</td>\n      <td>Masters programmes</td>\n      <td>0</td>\n    </tr>\n  </tbody>\n</table>\n</div>"
     },
     "metadata": {},
     "execution_count": 121
    }
   ],
   "source": [
    "# citizenship cleaning\n",
    "\n",
    "merged_df['citizenship_na'] = merged_df['citizenship_y'].isna()\n",
    "merged_df['citizenship_match'] = merged_df.apply(citizenship_compare, axis = 1)\n",
    "merged_df['citizenship_stays'] = merged_df.apply(pd_or, axis = 1)\n",
    "\n",
    "merged_df = merged_df[merged_df['citizenship_stays']]\n",
    "del merged_df['citizenship_na']\n",
    "del merged_df['citizenship_match']\n",
    "del merged_df['citizenship_stays']\n",
    "\n",
    "print(merged_df['name'].value_counts().mean())\n",
    "merged_df.head()"
   ]
  },
  {
   "cell_type": "code",
   "execution_count": 122,
   "metadata": {},
   "outputs": [
    {
     "output_type": "execute_result",
     "data": {
      "text/plain": [
       "Green           56363\n",
       "Red             32161\n",
       "Invalid vote     1972\n",
       "Name: party, dtype: int64"
      ]
     },
     "metadata": {},
     "execution_count": 122
    }
   ],
   "source": [
    "merged_df['party'].value_counts()"
   ]
  },
  {
   "cell_type": "code",
   "execution_count": 123,
   "metadata": {},
   "outputs": [],
   "source": [
    "# zip filtering\n",
    "def zip_compare(x):\n",
    "    return x[4] == x[12]"
   ]
  },
  {
   "cell_type": "code",
   "execution_count": 124,
   "metadata": {},
   "outputs": [
    {
     "output_type": "stream",
     "name": "stdout",
     "text": [
      "22.299338999055713\n"
     ]
    },
    {
     "output_type": "execute_result",
     "data": {
      "text/plain": [
       "    Unnamed: 0     name   sex         dob  zip_x citizenship_x marital_status  \\\n",
       "2            0  Le, Ian  Male  1998-08-30   2300       Denmark  Never married   \n",
       "3            0  Le, Ian  Male  1998-08-30   2300       Denmark  Never married   \n",
       "6            0  Le, Ian  Male  1998-08-30   2300       Denmark  Never married   \n",
       "16           0  Le, Ian  Male  1998-08-30   2300       Denmark  Never married   \n",
       "18           0  Le, Ian  Male  1998-08-30   2300       Denmark  Never married   \n",
       "\n",
       "    last_voted  public_age  encoded_age encoded_citizenship  party   zip_y  \\\n",
       "2            1          22            1             Denmark    Red  2300.0   \n",
       "3            1          22            1             Denmark    Red  2300.0   \n",
       "6            1          22            1             Denmark  Green  2300.0   \n",
       "16           1          22            1             Denmark  Green  2300.0   \n",
       "18           1          22            1             Denmark    Red  2300.0   \n",
       "\n",
       "    age citizenship_y                                education  evote  \n",
       "2   2.0       Denmark          Vocational bachelors educations      0  \n",
       "3   3.0       Denmark  Vocational Education and Training (VET)      1  \n",
       "6   2.0       Denmark  Vocational Education and Training (VET)      0  \n",
       "16  2.0       Denmark                       Masters programmes      1  \n",
       "18  4.0       Denmark  Vocational Education and Training (VET)      0  "
      ],
      "text/html": "<div>\n<style scoped>\n    .dataframe tbody tr th:only-of-type {\n        vertical-align: middle;\n    }\n\n    .dataframe tbody tr th {\n        vertical-align: top;\n    }\n\n    .dataframe thead th {\n        text-align: right;\n    }\n</style>\n<table border=\"1\" class=\"dataframe\">\n  <thead>\n    <tr style=\"text-align: right;\">\n      <th></th>\n      <th>Unnamed: 0</th>\n      <th>name</th>\n      <th>sex</th>\n      <th>dob</th>\n      <th>zip_x</th>\n      <th>citizenship_x</th>\n      <th>marital_status</th>\n      <th>last_voted</th>\n      <th>public_age</th>\n      <th>encoded_age</th>\n      <th>encoded_citizenship</th>\n      <th>party</th>\n      <th>zip_y</th>\n      <th>age</th>\n      <th>citizenship_y</th>\n      <th>education</th>\n      <th>evote</th>\n    </tr>\n  </thead>\n  <tbody>\n    <tr>\n      <th>2</th>\n      <td>0</td>\n      <td>Le, Ian</td>\n      <td>Male</td>\n      <td>1998-08-30</td>\n      <td>2300</td>\n      <td>Denmark</td>\n      <td>Never married</td>\n      <td>1</td>\n      <td>22</td>\n      <td>1</td>\n      <td>Denmark</td>\n      <td>Red</td>\n      <td>2300.0</td>\n      <td>2.0</td>\n      <td>Denmark</td>\n      <td>Vocational bachelors educations</td>\n      <td>0</td>\n    </tr>\n    <tr>\n      <th>3</th>\n      <td>0</td>\n      <td>Le, Ian</td>\n      <td>Male</td>\n      <td>1998-08-30</td>\n      <td>2300</td>\n      <td>Denmark</td>\n      <td>Never married</td>\n      <td>1</td>\n      <td>22</td>\n      <td>1</td>\n      <td>Denmark</td>\n      <td>Red</td>\n      <td>2300.0</td>\n      <td>3.0</td>\n      <td>Denmark</td>\n      <td>Vocational Education and Training (VET)</td>\n      <td>1</td>\n    </tr>\n    <tr>\n      <th>6</th>\n      <td>0</td>\n      <td>Le, Ian</td>\n      <td>Male</td>\n      <td>1998-08-30</td>\n      <td>2300</td>\n      <td>Denmark</td>\n      <td>Never married</td>\n      <td>1</td>\n      <td>22</td>\n      <td>1</td>\n      <td>Denmark</td>\n      <td>Green</td>\n      <td>2300.0</td>\n      <td>2.0</td>\n      <td>Denmark</td>\n      <td>Vocational Education and Training (VET)</td>\n      <td>0</td>\n    </tr>\n    <tr>\n      <th>16</th>\n      <td>0</td>\n      <td>Le, Ian</td>\n      <td>Male</td>\n      <td>1998-08-30</td>\n      <td>2300</td>\n      <td>Denmark</td>\n      <td>Never married</td>\n      <td>1</td>\n      <td>22</td>\n      <td>1</td>\n      <td>Denmark</td>\n      <td>Green</td>\n      <td>2300.0</td>\n      <td>2.0</td>\n      <td>Denmark</td>\n      <td>Masters programmes</td>\n      <td>1</td>\n    </tr>\n    <tr>\n      <th>18</th>\n      <td>0</td>\n      <td>Le, Ian</td>\n      <td>Male</td>\n      <td>1998-08-30</td>\n      <td>2300</td>\n      <td>Denmark</td>\n      <td>Never married</td>\n      <td>1</td>\n      <td>22</td>\n      <td>1</td>\n      <td>Denmark</td>\n      <td>Red</td>\n      <td>2300.0</td>\n      <td>4.0</td>\n      <td>Denmark</td>\n      <td>Vocational Education and Training (VET)</td>\n      <td>0</td>\n    </tr>\n  </tbody>\n</table>\n</div>"
     },
     "metadata": {},
     "execution_count": 124
    }
   ],
   "source": [
    "# zip cleaning\n",
    "\n",
    "merged_df['zip_na'] = merged_df['zip_y'].isna()\n",
    "merged_df['zip_match'] = merged_df.apply(zip_compare, axis = 1)\n",
    "merged_df['zip_stays'] = merged_df.apply(pd_or, axis = 1)\n",
    "\n",
    "merged_df = merged_df[merged_df['zip_stays']]\n",
    "del merged_df['zip_na']\n",
    "del merged_df['zip_match']\n",
    "del merged_df['zip_stays']\n",
    "\n",
    "print(merged_df['name'].value_counts().mean())\n",
    "merged_df.head()"
   ]
  },
  {
   "cell_type": "code",
   "execution_count": 125,
   "metadata": {},
   "outputs": [
    {
     "output_type": "execute_result",
     "data": {
      "text/plain": [
       "Green           14308\n",
       "Red              8731\n",
       "Invalid vote      576\n",
       "Name: party, dtype: int64"
      ]
     },
     "metadata": {},
     "execution_count": 125
    }
   ],
   "source": [
    "merged_df['party'].value_counts()"
   ]
  },
  {
   "cell_type": "code",
   "execution_count": 126,
   "metadata": {},
   "outputs": [],
   "source": [
    "# age filtering\n",
    "def age_compare(x):\n",
    "    return x[13] == x[9]\n",
    "\n",
    "def test(x):\n",
    "    return x[13]"
   ]
  },
  {
   "cell_type": "code",
   "execution_count": 127,
   "metadata": {},
   "outputs": [
    {
     "output_type": "stream",
     "name": "stdout",
     "text": [
      "8.500478468899521\n"
     ]
    },
    {
     "output_type": "execute_result",
     "data": {
      "text/plain": [
       "     Unnamed: 0         name   sex         dob  zip_x citizenship_x  \\\n",
       "36            0      Le, Ian  Male  1998-08-30   2300       Denmark   \n",
       "47            0      Le, Ian  Male  1998-08-30   2300       Denmark   \n",
       "82            0      Le, Ian  Male  1998-08-30   2300       Denmark   \n",
       "95            1  Wang, Caleb  Male  1996-04-23   2200       Denmark   \n",
       "101           1  Wang, Caleb  Male  1996-04-23   2200       Denmark   \n",
       "\n",
       "    marital_status  last_voted  public_age  encoded_age encoded_citizenship  \\\n",
       "36   Never married           1          22            1             Denmark   \n",
       "47   Never married           1          22            1             Denmark   \n",
       "82   Never married           1          22            1             Denmark   \n",
       "95   Never married           1          24            1             Denmark   \n",
       "101  Never married           1          24            1             Denmark   \n",
       "\n",
       "     party   zip_y  age citizenship_y  \\\n",
       "36   Green  2300.0  NaN       Denmark   \n",
       "47   Green  2300.0  NaN       Denmark   \n",
       "82     Red  2300.0  NaN       Denmark   \n",
       "95   Green  2200.0  1.0       Denmark   \n",
       "101  Green  2200.0  1.0       Denmark   \n",
       "\n",
       "                                   education  evote  \n",
       "36           Vocational bachelors educations      1  \n",
       "47   Vocational Education and Training (VET)      0  \n",
       "82                        Masters programmes      1  \n",
       "95                        Masters programmes      0  \n",
       "101  Vocational Education and Training (VET)      1  "
      ],
      "text/html": "<div>\n<style scoped>\n    .dataframe tbody tr th:only-of-type {\n        vertical-align: middle;\n    }\n\n    .dataframe tbody tr th {\n        vertical-align: top;\n    }\n\n    .dataframe thead th {\n        text-align: right;\n    }\n</style>\n<table border=\"1\" class=\"dataframe\">\n  <thead>\n    <tr style=\"text-align: right;\">\n      <th></th>\n      <th>Unnamed: 0</th>\n      <th>name</th>\n      <th>sex</th>\n      <th>dob</th>\n      <th>zip_x</th>\n      <th>citizenship_x</th>\n      <th>marital_status</th>\n      <th>last_voted</th>\n      <th>public_age</th>\n      <th>encoded_age</th>\n      <th>encoded_citizenship</th>\n      <th>party</th>\n      <th>zip_y</th>\n      <th>age</th>\n      <th>citizenship_y</th>\n      <th>education</th>\n      <th>evote</th>\n    </tr>\n  </thead>\n  <tbody>\n    <tr>\n      <th>36</th>\n      <td>0</td>\n      <td>Le, Ian</td>\n      <td>Male</td>\n      <td>1998-08-30</td>\n      <td>2300</td>\n      <td>Denmark</td>\n      <td>Never married</td>\n      <td>1</td>\n      <td>22</td>\n      <td>1</td>\n      <td>Denmark</td>\n      <td>Green</td>\n      <td>2300.0</td>\n      <td>NaN</td>\n      <td>Denmark</td>\n      <td>Vocational bachelors educations</td>\n      <td>1</td>\n    </tr>\n    <tr>\n      <th>47</th>\n      <td>0</td>\n      <td>Le, Ian</td>\n      <td>Male</td>\n      <td>1998-08-30</td>\n      <td>2300</td>\n      <td>Denmark</td>\n      <td>Never married</td>\n      <td>1</td>\n      <td>22</td>\n      <td>1</td>\n      <td>Denmark</td>\n      <td>Green</td>\n      <td>2300.0</td>\n      <td>NaN</td>\n      <td>Denmark</td>\n      <td>Vocational Education and Training (VET)</td>\n      <td>0</td>\n    </tr>\n    <tr>\n      <th>82</th>\n      <td>0</td>\n      <td>Le, Ian</td>\n      <td>Male</td>\n      <td>1998-08-30</td>\n      <td>2300</td>\n      <td>Denmark</td>\n      <td>Never married</td>\n      <td>1</td>\n      <td>22</td>\n      <td>1</td>\n      <td>Denmark</td>\n      <td>Red</td>\n      <td>2300.0</td>\n      <td>NaN</td>\n      <td>Denmark</td>\n      <td>Masters programmes</td>\n      <td>1</td>\n    </tr>\n    <tr>\n      <th>95</th>\n      <td>1</td>\n      <td>Wang, Caleb</td>\n      <td>Male</td>\n      <td>1996-04-23</td>\n      <td>2200</td>\n      <td>Denmark</td>\n      <td>Never married</td>\n      <td>1</td>\n      <td>24</td>\n      <td>1</td>\n      <td>Denmark</td>\n      <td>Green</td>\n      <td>2200.0</td>\n      <td>1.0</td>\n      <td>Denmark</td>\n      <td>Masters programmes</td>\n      <td>0</td>\n    </tr>\n    <tr>\n      <th>101</th>\n      <td>1</td>\n      <td>Wang, Caleb</td>\n      <td>Male</td>\n      <td>1996-04-23</td>\n      <td>2200</td>\n      <td>Denmark</td>\n      <td>Never married</td>\n      <td>1</td>\n      <td>24</td>\n      <td>1</td>\n      <td>Denmark</td>\n      <td>Green</td>\n      <td>2200.0</td>\n      <td>1.0</td>\n      <td>Denmark</td>\n      <td>Vocational Education and Training (VET)</td>\n      <td>1</td>\n    </tr>\n  </tbody>\n</table>\n</div>"
     },
     "metadata": {},
     "execution_count": 127
    }
   ],
   "source": [
    "# age cleaning\n",
    "\n",
    "merged_df['age_na'] = merged_df['age'].isna()\n",
    "merged_df['age_match'] = merged_df.apply(age_compare, axis = 1)\n",
    "merged_df['age_stays'] = merged_df.apply(pd_or, axis = 1)\n",
    "\n",
    "merged_df = merged_df[merged_df['age_stays']]\n",
    "del merged_df['age_na']\n",
    "del merged_df['age_match']\n",
    "del merged_df['age_stays']\n",
    "\n",
    "print(merged_df['name'].value_counts().mean())\n",
    "merged_df.head()"
   ]
  },
  {
   "cell_type": "code",
   "execution_count": 128,
   "metadata": {},
   "outputs": [
    {
     "output_type": "execute_result",
     "data": {
      "text/plain": [
       "Green           5503\n",
       "Red             3148\n",
       "Invalid vote     232\n",
       "Name: party, dtype: int64"
      ]
     },
     "metadata": {},
     "execution_count": 128
    }
   ],
   "source": [
    "merged_df['party'].value_counts()"
   ]
  },
  {
   "cell_type": "code",
   "execution_count": 129,
   "metadata": {},
   "outputs": [],
   "source": [
    "# evote filtering\n",
    "def vote_compare(x):\n",
    "    return x[7] == x[16]"
   ]
  },
  {
   "cell_type": "code",
   "execution_count": 130,
   "metadata": {},
   "outputs": [
    {
     "output_type": "stream",
     "name": "stdout",
     "text": [
      "5.390147783251232\n"
     ]
    },
    {
     "output_type": "execute_result",
     "data": {
      "text/plain": [
       "     Unnamed: 0         name   sex         dob  zip_x citizenship_x  \\\n",
       "36            0      Le, Ian  Male  1998-08-30   2300       Denmark   \n",
       "82            0      Le, Ian  Male  1998-08-30   2300       Denmark   \n",
       "101           1  Wang, Caleb  Male  1996-04-23   2200       Denmark   \n",
       "145           1  Wang, Caleb  Male  1996-04-23   2200       Denmark   \n",
       "151           1  Wang, Caleb  Male  1996-04-23   2200       Denmark   \n",
       "\n",
       "    marital_status  last_voted  public_age  encoded_age encoded_citizenship  \\\n",
       "36   Never married           1          22            1             Denmark   \n",
       "82   Never married           1          22            1             Denmark   \n",
       "101  Never married           1          24            1             Denmark   \n",
       "145  Never married           1          24            1             Denmark   \n",
       "151  Never married           1          24            1             Denmark   \n",
       "\n",
       "            party   zip_y  age citizenship_y  \\\n",
       "36          Green  2300.0  NaN       Denmark   \n",
       "82            Red  2300.0  NaN       Denmark   \n",
       "101         Green  2200.0  1.0       Denmark   \n",
       "145         Green  2200.0  NaN       Denmark   \n",
       "151  Invalid vote  2200.0  1.0           NaN   \n",
       "\n",
       "                                   education  evote  \n",
       "36           Vocational bachelors educations      1  \n",
       "82                        Masters programmes      1  \n",
       "101  Vocational Education and Training (VET)      1  \n",
       "145             Short cycle higher education      1  \n",
       "151  Vocational Education and Training (VET)      1  "
      ],
      "text/html": "<div>\n<style scoped>\n    .dataframe tbody tr th:only-of-type {\n        vertical-align: middle;\n    }\n\n    .dataframe tbody tr th {\n        vertical-align: top;\n    }\n\n    .dataframe thead th {\n        text-align: right;\n    }\n</style>\n<table border=\"1\" class=\"dataframe\">\n  <thead>\n    <tr style=\"text-align: right;\">\n      <th></th>\n      <th>Unnamed: 0</th>\n      <th>name</th>\n      <th>sex</th>\n      <th>dob</th>\n      <th>zip_x</th>\n      <th>citizenship_x</th>\n      <th>marital_status</th>\n      <th>last_voted</th>\n      <th>public_age</th>\n      <th>encoded_age</th>\n      <th>encoded_citizenship</th>\n      <th>party</th>\n      <th>zip_y</th>\n      <th>age</th>\n      <th>citizenship_y</th>\n      <th>education</th>\n      <th>evote</th>\n    </tr>\n  </thead>\n  <tbody>\n    <tr>\n      <th>36</th>\n      <td>0</td>\n      <td>Le, Ian</td>\n      <td>Male</td>\n      <td>1998-08-30</td>\n      <td>2300</td>\n      <td>Denmark</td>\n      <td>Never married</td>\n      <td>1</td>\n      <td>22</td>\n      <td>1</td>\n      <td>Denmark</td>\n      <td>Green</td>\n      <td>2300.0</td>\n      <td>NaN</td>\n      <td>Denmark</td>\n      <td>Vocational bachelors educations</td>\n      <td>1</td>\n    </tr>\n    <tr>\n      <th>82</th>\n      <td>0</td>\n      <td>Le, Ian</td>\n      <td>Male</td>\n      <td>1998-08-30</td>\n      <td>2300</td>\n      <td>Denmark</td>\n      <td>Never married</td>\n      <td>1</td>\n      <td>22</td>\n      <td>1</td>\n      <td>Denmark</td>\n      <td>Red</td>\n      <td>2300.0</td>\n      <td>NaN</td>\n      <td>Denmark</td>\n      <td>Masters programmes</td>\n      <td>1</td>\n    </tr>\n    <tr>\n      <th>101</th>\n      <td>1</td>\n      <td>Wang, Caleb</td>\n      <td>Male</td>\n      <td>1996-04-23</td>\n      <td>2200</td>\n      <td>Denmark</td>\n      <td>Never married</td>\n      <td>1</td>\n      <td>24</td>\n      <td>1</td>\n      <td>Denmark</td>\n      <td>Green</td>\n      <td>2200.0</td>\n      <td>1.0</td>\n      <td>Denmark</td>\n      <td>Vocational Education and Training (VET)</td>\n      <td>1</td>\n    </tr>\n    <tr>\n      <th>145</th>\n      <td>1</td>\n      <td>Wang, Caleb</td>\n      <td>Male</td>\n      <td>1996-04-23</td>\n      <td>2200</td>\n      <td>Denmark</td>\n      <td>Never married</td>\n      <td>1</td>\n      <td>24</td>\n      <td>1</td>\n      <td>Denmark</td>\n      <td>Green</td>\n      <td>2200.0</td>\n      <td>NaN</td>\n      <td>Denmark</td>\n      <td>Short cycle higher education</td>\n      <td>1</td>\n    </tr>\n    <tr>\n      <th>151</th>\n      <td>1</td>\n      <td>Wang, Caleb</td>\n      <td>Male</td>\n      <td>1996-04-23</td>\n      <td>2200</td>\n      <td>Denmark</td>\n      <td>Never married</td>\n      <td>1</td>\n      <td>24</td>\n      <td>1</td>\n      <td>Denmark</td>\n      <td>Invalid vote</td>\n      <td>2200.0</td>\n      <td>1.0</td>\n      <td>NaN</td>\n      <td>Vocational Education and Training (VET)</td>\n      <td>1</td>\n    </tr>\n  </tbody>\n</table>\n</div>"
     },
     "metadata": {},
     "execution_count": 130
    }
   ],
   "source": [
    "# evote cleaning\n",
    "\n",
    "merged_df['vote_match'] = merged_df.apply(vote_compare, axis = 1)\n",
    "\n",
    "merged_df = merged_df[merged_df['vote_match']]\n",
    "del merged_df['vote_match']\n",
    "\n",
    "print(merged_df['name'].value_counts().mean())\n",
    "merged_df.head()"
   ]
  },
  {
   "cell_type": "code",
   "execution_count": 148,
   "metadata": {},
   "outputs": [
    {
     "output_type": "execute_result",
     "data": {
      "text/plain": [
       "Green           3222\n",
       "Red             2100\n",
       "Invalid vote     149\n",
       "Name: party, dtype: int64"
      ]
     },
     "metadata": {},
     "execution_count": 148
    }
   ],
   "source": [
    "merged_df['party'].value_counts()"
   ]
  },
  {
   "source": [
    "## check what you can match after all these narrowing downs\n"
   ],
   "cell_type": "markdown",
   "metadata": {}
  },
  {
   "cell_type": "code",
   "execution_count": 156,
   "metadata": {},
   "outputs": [
    {
     "output_type": "execute_result",
     "data": {
      "text/plain": [
       "                                       name\n",
       "sex    evote zip_y  citizenship_y age      \n",
       "Female 0     2100.0 Denmark       1.0    19\n",
       "                                  2.0    21\n",
       "             2200.0 Denmark       1.0    12\n",
       "                                  2.0    16\n",
       "                                  3.0    46\n",
       "                                  4.0    13\n",
       "             2300.0 Denmark       1.0    13\n",
       "                                  2.0    26\n",
       "                                  3.0    39\n",
       "                                  4.0    17\n",
       "             2400.0 Denmark       2.0    21\n",
       "                                  3.0    54\n",
       "                                  4.0    27\n",
       "       1     2100.0 Denmark       1.0    12\n",
       "                                  2.0     5\n",
       "                                  3.0     7\n",
       "             2200.0 Denmark       1.0     7\n",
       "                                  2.0    15\n",
       "             2300.0 Denmark       2.0    12\n",
       "             2400.0 Denmark       2.0    13\n",
       "                                  3.0    22\n",
       "Male   0     2100.0 Denmark       3.0    13\n",
       "                                  4.0     3\n",
       "             2200.0 Denmark       1.0    14\n",
       "                                  2.0    18\n",
       "                                  3.0    44\n",
       "                                  4.0    15\n",
       "             2300.0 Denmark       2.0    17\n",
       "                                  3.0    41\n",
       "                                  4.0    15\n",
       "             2400.0 Denmark       2.0    22\n",
       "                                  3.0    64\n",
       "                                  4.0    25\n",
       "                    Other         3.0     7\n",
       "       1     2100.0 Denmark       1.0    16\n",
       "                                  2.0    14\n",
       "             2200.0 Denmark       1.0     8\n",
       "                                  2.0    16\n",
       "             2300.0 Denmark       2.0    15\n",
       "                                  3.0    12\n",
       "             2400.0 Denmark       3.0    16"
      ],
      "text/html": "<div>\n<style scoped>\n    .dataframe tbody tr th:only-of-type {\n        vertical-align: middle;\n    }\n\n    .dataframe tbody tr th {\n        vertical-align: top;\n    }\n\n    .dataframe thead th {\n        text-align: right;\n    }\n</style>\n<table border=\"1\" class=\"dataframe\">\n  <thead>\n    <tr style=\"text-align: right;\">\n      <th></th>\n      <th></th>\n      <th></th>\n      <th></th>\n      <th></th>\n      <th>name</th>\n    </tr>\n    <tr>\n      <th>sex</th>\n      <th>evote</th>\n      <th>zip_y</th>\n      <th>citizenship_y</th>\n      <th>age</th>\n      <th></th>\n    </tr>\n  </thead>\n  <tbody>\n    <tr>\n      <th rowspan=\"21\" valign=\"top\">Female</th>\n      <th rowspan=\"13\" valign=\"top\">0</th>\n      <th rowspan=\"2\" valign=\"top\">2100.0</th>\n      <th rowspan=\"2\" valign=\"top\">Denmark</th>\n      <th>1.0</th>\n      <td>19</td>\n    </tr>\n    <tr>\n      <th>2.0</th>\n      <td>21</td>\n    </tr>\n    <tr>\n      <th rowspan=\"4\" valign=\"top\">2200.0</th>\n      <th rowspan=\"4\" valign=\"top\">Denmark</th>\n      <th>1.0</th>\n      <td>12</td>\n    </tr>\n    <tr>\n      <th>2.0</th>\n      <td>16</td>\n    </tr>\n    <tr>\n      <th>3.0</th>\n      <td>46</td>\n    </tr>\n    <tr>\n      <th>4.0</th>\n      <td>13</td>\n    </tr>\n    <tr>\n      <th rowspan=\"4\" valign=\"top\">2300.0</th>\n      <th rowspan=\"4\" valign=\"top\">Denmark</th>\n      <th>1.0</th>\n      <td>13</td>\n    </tr>\n    <tr>\n      <th>2.0</th>\n      <td>26</td>\n    </tr>\n    <tr>\n      <th>3.0</th>\n      <td>39</td>\n    </tr>\n    <tr>\n      <th>4.0</th>\n      <td>17</td>\n    </tr>\n    <tr>\n      <th rowspan=\"3\" valign=\"top\">2400.0</th>\n      <th rowspan=\"3\" valign=\"top\">Denmark</th>\n      <th>2.0</th>\n      <td>21</td>\n    </tr>\n    <tr>\n      <th>3.0</th>\n      <td>54</td>\n    </tr>\n    <tr>\n      <th>4.0</th>\n      <td>27</td>\n    </tr>\n    <tr>\n      <th rowspan=\"8\" valign=\"top\">1</th>\n      <th rowspan=\"3\" valign=\"top\">2100.0</th>\n      <th rowspan=\"3\" valign=\"top\">Denmark</th>\n      <th>1.0</th>\n      <td>12</td>\n    </tr>\n    <tr>\n      <th>2.0</th>\n      <td>5</td>\n    </tr>\n    <tr>\n      <th>3.0</th>\n      <td>7</td>\n    </tr>\n    <tr>\n      <th rowspan=\"2\" valign=\"top\">2200.0</th>\n      <th rowspan=\"2\" valign=\"top\">Denmark</th>\n      <th>1.0</th>\n      <td>7</td>\n    </tr>\n    <tr>\n      <th>2.0</th>\n      <td>15</td>\n    </tr>\n    <tr>\n      <th>2300.0</th>\n      <th>Denmark</th>\n      <th>2.0</th>\n      <td>12</td>\n    </tr>\n    <tr>\n      <th rowspan=\"2\" valign=\"top\">2400.0</th>\n      <th rowspan=\"2\" valign=\"top\">Denmark</th>\n      <th>2.0</th>\n      <td>13</td>\n    </tr>\n    <tr>\n      <th>3.0</th>\n      <td>22</td>\n    </tr>\n    <tr>\n      <th rowspan=\"20\" valign=\"top\">Male</th>\n      <th rowspan=\"13\" valign=\"top\">0</th>\n      <th rowspan=\"2\" valign=\"top\">2100.0</th>\n      <th rowspan=\"2\" valign=\"top\">Denmark</th>\n      <th>3.0</th>\n      <td>13</td>\n    </tr>\n    <tr>\n      <th>4.0</th>\n      <td>3</td>\n    </tr>\n    <tr>\n      <th rowspan=\"4\" valign=\"top\">2200.0</th>\n      <th rowspan=\"4\" valign=\"top\">Denmark</th>\n      <th>1.0</th>\n      <td>14</td>\n    </tr>\n    <tr>\n      <th>2.0</th>\n      <td>18</td>\n    </tr>\n    <tr>\n      <th>3.0</th>\n      <td>44</td>\n    </tr>\n    <tr>\n      <th>4.0</th>\n      <td>15</td>\n    </tr>\n    <tr>\n      <th rowspan=\"3\" valign=\"top\">2300.0</th>\n      <th rowspan=\"3\" valign=\"top\">Denmark</th>\n      <th>2.0</th>\n      <td>17</td>\n    </tr>\n    <tr>\n      <th>3.0</th>\n      <td>41</td>\n    </tr>\n    <tr>\n      <th>4.0</th>\n      <td>15</td>\n    </tr>\n    <tr>\n      <th rowspan=\"4\" valign=\"top\">2400.0</th>\n      <th rowspan=\"3\" valign=\"top\">Denmark</th>\n      <th>2.0</th>\n      <td>22</td>\n    </tr>\n    <tr>\n      <th>3.0</th>\n      <td>64</td>\n    </tr>\n    <tr>\n      <th>4.0</th>\n      <td>25</td>\n    </tr>\n    <tr>\n      <th>Other</th>\n      <th>3.0</th>\n      <td>7</td>\n    </tr>\n    <tr>\n      <th rowspan=\"7\" valign=\"top\">1</th>\n      <th rowspan=\"2\" valign=\"top\">2100.0</th>\n      <th rowspan=\"2\" valign=\"top\">Denmark</th>\n      <th>1.0</th>\n      <td>16</td>\n    </tr>\n    <tr>\n      <th>2.0</th>\n      <td>14</td>\n    </tr>\n    <tr>\n      <th rowspan=\"2\" valign=\"top\">2200.0</th>\n      <th rowspan=\"2\" valign=\"top\">Denmark</th>\n      <th>1.0</th>\n      <td>8</td>\n    </tr>\n    <tr>\n      <th>2.0</th>\n      <td>16</td>\n    </tr>\n    <tr>\n      <th rowspan=\"2\" valign=\"top\">2300.0</th>\n      <th rowspan=\"2\" valign=\"top\">Denmark</th>\n      <th>2.0</th>\n      <td>15</td>\n    </tr>\n    <tr>\n      <th>3.0</th>\n      <td>12</td>\n    </tr>\n    <tr>\n      <th>2400.0</th>\n      <th>Denmark</th>\n      <th>3.0</th>\n      <td>16</td>\n    </tr>\n  </tbody>\n</table>\n</div>"
     },
     "metadata": {},
     "execution_count": 156
    }
   ],
   "source": [
    "# checking if users are obvious\n",
    "merged_df[['name', 'sex', 'evote', 'zip_y', 'citizenship_y', 'age']].groupby(['sex', 'evote', 'zip_y', 'citizenship_y', 'age', ]).nunique()"
   ]
  },
  {
   "cell_type": "code",
   "execution_count": 139,
   "metadata": {},
   "outputs": [
    {
     "output_type": "execute_result",
     "data": {
      "text/plain": [
       "(59, 17)"
      ]
     },
     "metadata": {},
     "execution_count": 139
    }
   ],
   "source": [
    "# for testing purposes\n",
    "male_df = merged_df[merged_df['sex'] == 'Male']\n",
    "male_other_df = male_df[male_df['encoded_citizenship'] == 'Other']\n",
    "male_other_df.shape"
   ]
  },
  {
   "cell_type": "code",
   "execution_count": 142,
   "metadata": {},
   "outputs": [
    {
     "output_type": "execute_result",
     "data": {
      "text/plain": [
       "       Unnamed: 0                    name   sex         dob  zip_x  \\\n",
       "3065           78          Duong, Heassam  Male  1991-08-04   2200   \n",
       "15274         502        Solongo, Cameron  Male  1989-06-29   2400   \n",
       "15282         502        Solongo, Cameron  Male  1989-06-29   2400   \n",
       "15334         505       el-Yamin, Shaamil  Male  1998-03-31   2300   \n",
       "15363         505       el-Yamin, Shaamil  Male  1998-03-31   2300   \n",
       "18551         599        Spicely, Treyvon  Male  2000-06-06   2100   \n",
       "18602         599        Spicely, Treyvon  Male  2000-06-06   2100   \n",
       "19000         629           Pierce, Chase  Male  1989-09-01   2300   \n",
       "19029         629           Pierce, Chase  Male  1989-09-01   2300   \n",
       "19042         629           Pierce, Chase  Male  1989-09-01   2300   \n",
       "19679         655           Chang, Phurba  Male  1987-05-11   2100   \n",
       "19700         655           Chang, Phurba  Male  1987-05-11   2100   \n",
       "19730         655           Chang, Phurba  Male  1987-05-11   2100   \n",
       "20452         683         Cooner, Charles  Male  1988-04-29   2200   \n",
       "20504         690        Sadorra, Karthik  Male  1975-11-02   2300   \n",
       "20533         690        Sadorra, Karthik  Male  1975-11-02   2300   \n",
       "20546         690        Sadorra, Karthik  Male  1975-11-02   2300   \n",
       "20974         702           Mccoy, Andrew  Male  1987-01-30   2300   \n",
       "21003         702           Mccoy, Andrew  Male  1987-01-30   2300   \n",
       "21016         702           Mccoy, Andrew  Male  1987-01-30   2300   \n",
       "26989         894            Rae, Phillip  Male  1971-05-19   2400   \n",
       "27013         894            Rae, Phillip  Male  1971-05-19   2400   \n",
       "27024         894            Rae, Phillip  Male  1971-05-19   2400   \n",
       "28703         927        al-Salek, Faisal  Male  1962-03-26   2100   \n",
       "28754         927        al-Salek, Faisal  Male  1962-03-26   2100   \n",
       "29528         947   Tuytschaevers, Steven  Male  1971-09-23   2300   \n",
       "29557         947   Tuytschaevers, Steven  Male  1971-09-23   2300   \n",
       "31031         981        al-Shafi, Labeeb  Male  1968-09-29   2400   \n",
       "31055         981        al-Shafi, Labeeb  Male  1968-09-29   2400   \n",
       "31066         981        al-Shafi, Labeeb  Male  1968-09-29   2400   \n",
       "33099        1035        Schuckman, Orion  Male  1966-09-02   2400   \n",
       "33123        1035        Schuckman, Orion  Male  1966-09-02   2400   \n",
       "33134        1035        Schuckman, Orion  Male  1966-09-02   2400   \n",
       "33476        1045  Olivas-Lujan, Giovanni  Male  1968-01-25   2300   \n",
       "33505        1045  Olivas-Lujan, Giovanni  Male  1968-01-25   2300   \n",
       "33569        1050        Edwards, Stephen  Male  1960-10-12   2400   \n",
       "33593        1050        Edwards, Stephen  Male  1960-10-12   2400   \n",
       "33604        1050        Edwards, Stephen  Male  1960-10-12   2400   \n",
       "35731        1109   Santistevan, Jonathan  Male  1957-12-17   2400   \n",
       "35755        1109   Santistevan, Jonathan  Male  1957-12-17   2400   \n",
       "35766        1109   Santistevan, Jonathan  Male  1957-12-17   2400   \n",
       "36295        1124           Carlos, Caleb  Male  1961-10-25   2400   \n",
       "36319        1124           Carlos, Caleb  Male  1961-10-25   2400   \n",
       "36330        1124           Carlos, Caleb  Male  1961-10-25   2400   \n",
       "36578        1133       Walker, Remington  Male  1954-08-27   2300   \n",
       "36607        1133       Walker, Remington  Male  1954-08-27   2300   \n",
       "36860        1136        al-Maroun, Fawzi  Male  1971-11-14   2300   \n",
       "36889        1136        al-Maroun, Fawzi  Male  1971-11-14   2300   \n",
       "37517        1156         Rogers, Timothy  Male  1966-12-12   2400   \n",
       "37541        1156         Rogers, Timothy  Male  1966-12-12   2400   \n",
       "37552        1156         Rogers, Timothy  Male  1966-12-12   2400   \n",
       "39586        1211       Mitchell, Silvano  Male  1971-02-15   2300   \n",
       "39615        1211       Mitchell, Silvano  Male  1971-02-15   2300   \n",
       "40244        1229       Archuleta, Joshua  Male  1956-12-12   2300   \n",
       "40273        1229       Archuleta, Joshua  Male  1956-12-12   2300   \n",
       "42158        1289  Sanders-Johnson, Javon  Male  1920-09-22   2400   \n",
       "43662        1324           Maestas, Paul  Male  1940-04-25   2400   \n",
       "44098        1339    Hope Crichlow, Tonio  Male  1959-02-02   2300   \n",
       "44127        1339    Hope Crichlow, Tonio  Male  1959-02-02   2300   \n",
       "\n",
       "                      citizenship_x     marital_status  last_voted  \\\n",
       "3065                    Afghanistan  Married/separated           1   \n",
       "15274                         China      Never married           0   \n",
       "15282                         China      Never married           0   \n",
       "15334                         China      Never married           0   \n",
       "15363                         China      Never married           0   \n",
       "18551                         China      Never married           0   \n",
       "18602                         China      Never married           0   \n",
       "19000                        Poland  Married/separated           0   \n",
       "19029                        Poland  Married/separated           0   \n",
       "19042                        Poland  Married/separated           0   \n",
       "19679                        Brazil      Never married           0   \n",
       "19700                        Brazil      Never married           0   \n",
       "19730                        Brazil      Never married           0   \n",
       "20452        Bosnia and Herzegovina      Never married           0   \n",
       "20504                     Stateless      Never married           0   \n",
       "20533                     Stateless      Never married           0   \n",
       "20546                     Stateless      Never married           0   \n",
       "20974                        Kosovo  Married/separated           0   \n",
       "21003                        Kosovo  Married/separated           0   \n",
       "21016                        Kosovo  Married/separated           0   \n",
       "26989                        Turkey      Never married           0   \n",
       "27013                        Turkey      Never married           0   \n",
       "27024                        Turkey      Never married           0   \n",
       "28703                         China           Divorced           0   \n",
       "28754                         China           Divorced           0   \n",
       "29528                           USA  Married/separated           0   \n",
       "29557                           USA  Married/separated           0   \n",
       "31031                        Poland  Married/separated           0   \n",
       "31055                        Poland  Married/separated           0   \n",
       "31066                        Poland  Married/separated           0   \n",
       "33099                       Morocco  Married/separated           0   \n",
       "33123                       Morocco  Married/separated           0   \n",
       "33134                       Morocco  Married/separated           0   \n",
       "33476                        Sweden           Divorced           0   \n",
       "33505                        Sweden           Divorced           0   \n",
       "33569                        Greece  Married/separated           0   \n",
       "33593                        Greece  Married/separated           0   \n",
       "33604                        Greece  Married/separated           0   \n",
       "35731        Bosnia and Herzegovina           Divorced           0   \n",
       "35755        Bosnia and Herzegovina           Divorced           0   \n",
       "35766        Bosnia and Herzegovina           Divorced           0   \n",
       "36295                         Italy  Married/separated           0   \n",
       "36319                         Italy  Married/separated           0   \n",
       "36330                         Italy  Married/separated           0   \n",
       "36578                        Poland  Married/separated           0   \n",
       "36607                        Poland  Married/separated           0   \n",
       "36860                       Germany           Divorced           0   \n",
       "36889                       Germany           Divorced           0   \n",
       "37517                United Kingdom           Divorced           0   \n",
       "37541                United Kingdom           Divorced           0   \n",
       "37552                United Kingdom           Divorced           0   \n",
       "39586                       Armenia      Never married           0   \n",
       "39615                       Armenia      Never married           0   \n",
       "40244  Yugoslavia, Federal Republic      Never married           0   \n",
       "40273  Yugoslavia, Federal Republic      Never married           0   \n",
       "42158                       Germany            Widowed           0   \n",
       "43662                       Romania  Married/separated           0   \n",
       "44098                       Germany  Married/separated           0   \n",
       "44127                       Germany  Married/separated           0   \n",
       "\n",
       "       public_age  encoded_age encoded_citizenship         party   zip_y  age  \\\n",
       "3065           29            1               Other  Invalid vote  2200.0  1.0   \n",
       "15274          31            2               Other         Green  2400.0  NaN   \n",
       "15282          31            2               Other         Green     NaN  2.0   \n",
       "15334          22            1               Other           Red  2300.0  NaN   \n",
       "15363          22            1               Other         Green  2300.0  NaN   \n",
       "18551          20            1               Other         Green  2100.0  NaN   \n",
       "18602          20            1               Other         Green  2100.0  NaN   \n",
       "19000          31            2               Other           Red  2300.0  NaN   \n",
       "19029          31            2               Other         Green  2300.0  NaN   \n",
       "19042          31            2               Other         Green     NaN  2.0   \n",
       "19679          33            2               Other         Green  2100.0  NaN   \n",
       "19700          33            2               Other         Green     NaN  2.0   \n",
       "19730          33            2               Other         Green  2100.0  NaN   \n",
       "20452          32            2               Other         Green     NaN  2.0   \n",
       "20504          45            2               Other           Red  2300.0  NaN   \n",
       "20533          45            2               Other         Green  2300.0  NaN   \n",
       "20546          45            2               Other         Green     NaN  2.0   \n",
       "20974          33            2               Other           Red  2300.0  NaN   \n",
       "21003          33            2               Other         Green  2300.0  NaN   \n",
       "21016          33            2               Other         Green     NaN  2.0   \n",
       "26989          49            3               Other         Green  2400.0  3.0   \n",
       "27013          49            3               Other         Green  2400.0  3.0   \n",
       "27024          49            3               Other         Green  2400.0  NaN   \n",
       "28703          58            3               Other         Green  2100.0  NaN   \n",
       "28754          58            3               Other         Green  2100.0  NaN   \n",
       "29528          49            3               Other           Red  2300.0  NaN   \n",
       "29557          49            3               Other         Green  2300.0  NaN   \n",
       "31031          52            3               Other         Green  2400.0  3.0   \n",
       "31055          52            3               Other         Green  2400.0  3.0   \n",
       "31066          52            3               Other         Green  2400.0  NaN   \n",
       "33099          54            3               Other         Green  2400.0  3.0   \n",
       "33123          54            3               Other         Green  2400.0  3.0   \n",
       "33134          54            3               Other         Green  2400.0  NaN   \n",
       "33476          52            3               Other           Red  2300.0  NaN   \n",
       "33505          52            3               Other         Green  2300.0  NaN   \n",
       "33569          60            3               Other         Green  2400.0  3.0   \n",
       "33593          60            3               Other         Green  2400.0  3.0   \n",
       "33604          60            3               Other         Green  2400.0  NaN   \n",
       "35731          63            3               Other         Green  2400.0  3.0   \n",
       "35755          63            3               Other         Green  2400.0  3.0   \n",
       "35766          63            3               Other         Green  2400.0  NaN   \n",
       "36295          59            3               Other         Green  2400.0  3.0   \n",
       "36319          59            3               Other         Green  2400.0  3.0   \n",
       "36330          59            3               Other         Green  2400.0  NaN   \n",
       "36578          66            4               Other           Red  2300.0  NaN   \n",
       "36607          66            4               Other         Green  2300.0  NaN   \n",
       "36860          49            3               Other           Red  2300.0  NaN   \n",
       "36889          49            3               Other         Green  2300.0  NaN   \n",
       "37517          54            3               Other         Green  2400.0  3.0   \n",
       "37541          54            3               Other         Green  2400.0  3.0   \n",
       "37552          54            3               Other         Green  2400.0  NaN   \n",
       "39586          49            3               Other           Red  2300.0  NaN   \n",
       "39615          49            3               Other         Green  2300.0  NaN   \n",
       "40244          64            3               Other           Red  2300.0  NaN   \n",
       "40273          64            3               Other         Green  2300.0  NaN   \n",
       "42158         100            4               Other         Green  2400.0  NaN   \n",
       "43662          80            4               Other         Green  2400.0  NaN   \n",
       "44098          61            3               Other           Red  2300.0  NaN   \n",
       "44127          61            3               Other         Green  2300.0  NaN   \n",
       "\n",
       "      citizenship_y                                education  evote  \n",
       "3065            NaN  Vocational Education and Training (VET)      1  \n",
       "15274         Other                     Bachelors programmes      0  \n",
       "15282         Other                       Masters programmes      0  \n",
       "15334         Other                       Masters programmes      0  \n",
       "15363         Other                       Masters programmes      0  \n",
       "18551         Other                        Primary education      0  \n",
       "18602         Other                        Primary education      0  \n",
       "19000         Other                       Masters programmes      0  \n",
       "19029         Other                       Masters programmes      0  \n",
       "19042         Other                       Masters programmes      0  \n",
       "19679         Other                        Primary education      0  \n",
       "19700         Other                       Masters programmes      0  \n",
       "19730         Other                        Primary education      0  \n",
       "20452         Other                       Masters programmes      0  \n",
       "20504         Other                       Masters programmes      0  \n",
       "20533         Other                       Masters programmes      0  \n",
       "20546         Other                       Masters programmes      0  \n",
       "20974         Other                       Masters programmes      0  \n",
       "21003         Other                       Masters programmes      0  \n",
       "21016         Other                       Masters programmes      0  \n",
       "26989         Other  Vocational Education and Training (VET)      0  \n",
       "27013         Other  Vocational Education and Training (VET)      0  \n",
       "27024         Other                     Bachelors programmes      0  \n",
       "28703         Other                        Primary education      0  \n",
       "28754         Other                        Primary education      0  \n",
       "29528         Other                       Masters programmes      0  \n",
       "29557         Other                       Masters programmes      0  \n",
       "31031         Other  Vocational Education and Training (VET)      0  \n",
       "31055         Other  Vocational Education and Training (VET)      0  \n",
       "31066         Other                     Bachelors programmes      0  \n",
       "33099         Other  Vocational Education and Training (VET)      0  \n",
       "33123         Other  Vocational Education and Training (VET)      0  \n",
       "33134         Other                     Bachelors programmes      0  \n",
       "33476         Other                       Masters programmes      0  \n",
       "33505         Other                       Masters programmes      0  \n",
       "33569         Other  Vocational Education and Training (VET)      0  \n",
       "33593         Other  Vocational Education and Training (VET)      0  \n",
       "33604         Other                     Bachelors programmes      0  \n",
       "35731         Other  Vocational Education and Training (VET)      0  \n",
       "35755         Other  Vocational Education and Training (VET)      0  \n",
       "35766         Other                     Bachelors programmes      0  \n",
       "36295         Other  Vocational Education and Training (VET)      0  \n",
       "36319         Other  Vocational Education and Training (VET)      0  \n",
       "36330         Other                     Bachelors programmes      0  \n",
       "36578         Other                       Masters programmes      0  \n",
       "36607         Other                       Masters programmes      0  \n",
       "36860         Other                       Masters programmes      0  \n",
       "36889         Other                       Masters programmes      0  \n",
       "37517         Other  Vocational Education and Training (VET)      0  \n",
       "37541         Other  Vocational Education and Training (VET)      0  \n",
       "37552         Other                     Bachelors programmes      0  \n",
       "39586         Other                       Masters programmes      0  \n",
       "39615         Other                       Masters programmes      0  \n",
       "40244         Other                       Masters programmes      0  \n",
       "40273         Other                       Masters programmes      0  \n",
       "42158         Other                     Bachelors programmes      0  \n",
       "43662         Other                     Bachelors programmes      0  \n",
       "44098         Other                       Masters programmes      0  \n",
       "44127         Other                       Masters programmes      0  "
      ],
      "text/html": "<div>\n<style scoped>\n    .dataframe tbody tr th:only-of-type {\n        vertical-align: middle;\n    }\n\n    .dataframe tbody tr th {\n        vertical-align: top;\n    }\n\n    .dataframe thead th {\n        text-align: right;\n    }\n</style>\n<table border=\"1\" class=\"dataframe\">\n  <thead>\n    <tr style=\"text-align: right;\">\n      <th></th>\n      <th>Unnamed: 0</th>\n      <th>name</th>\n      <th>sex</th>\n      <th>dob</th>\n      <th>zip_x</th>\n      <th>citizenship_x</th>\n      <th>marital_status</th>\n      <th>last_voted</th>\n      <th>public_age</th>\n      <th>encoded_age</th>\n      <th>encoded_citizenship</th>\n      <th>party</th>\n      <th>zip_y</th>\n      <th>age</th>\n      <th>citizenship_y</th>\n      <th>education</th>\n      <th>evote</th>\n    </tr>\n  </thead>\n  <tbody>\n    <tr>\n      <th>3065</th>\n      <td>78</td>\n      <td>Duong, Heassam</td>\n      <td>Male</td>\n      <td>1991-08-04</td>\n      <td>2200</td>\n      <td>Afghanistan</td>\n      <td>Married/separated</td>\n      <td>1</td>\n      <td>29</td>\n      <td>1</td>\n      <td>Other</td>\n      <td>Invalid vote</td>\n      <td>2200.0</td>\n      <td>1.0</td>\n      <td>NaN</td>\n      <td>Vocational Education and Training (VET)</td>\n      <td>1</td>\n    </tr>\n    <tr>\n      <th>15274</th>\n      <td>502</td>\n      <td>Solongo, Cameron</td>\n      <td>Male</td>\n      <td>1989-06-29</td>\n      <td>2400</td>\n      <td>China</td>\n      <td>Never married</td>\n      <td>0</td>\n      <td>31</td>\n      <td>2</td>\n      <td>Other</td>\n      <td>Green</td>\n      <td>2400.0</td>\n      <td>NaN</td>\n      <td>Other</td>\n      <td>Bachelors programmes</td>\n      <td>0</td>\n    </tr>\n    <tr>\n      <th>15282</th>\n      <td>502</td>\n      <td>Solongo, Cameron</td>\n      <td>Male</td>\n      <td>1989-06-29</td>\n      <td>2400</td>\n      <td>China</td>\n      <td>Never married</td>\n      <td>0</td>\n      <td>31</td>\n      <td>2</td>\n      <td>Other</td>\n      <td>Green</td>\n      <td>NaN</td>\n      <td>2.0</td>\n      <td>Other</td>\n      <td>Masters programmes</td>\n      <td>0</td>\n    </tr>\n    <tr>\n      <th>15334</th>\n      <td>505</td>\n      <td>el-Yamin, Shaamil</td>\n      <td>Male</td>\n      <td>1998-03-31</td>\n      <td>2300</td>\n      <td>China</td>\n      <td>Never married</td>\n      <td>0</td>\n      <td>22</td>\n      <td>1</td>\n      <td>Other</td>\n      <td>Red</td>\n      <td>2300.0</td>\n      <td>NaN</td>\n      <td>Other</td>\n      <td>Masters programmes</td>\n      <td>0</td>\n    </tr>\n    <tr>\n      <th>15363</th>\n      <td>505</td>\n      <td>el-Yamin, Shaamil</td>\n      <td>Male</td>\n      <td>1998-03-31</td>\n      <td>2300</td>\n      <td>China</td>\n      <td>Never married</td>\n      <td>0</td>\n      <td>22</td>\n      <td>1</td>\n      <td>Other</td>\n      <td>Green</td>\n      <td>2300.0</td>\n      <td>NaN</td>\n      <td>Other</td>\n      <td>Masters programmes</td>\n      <td>0</td>\n    </tr>\n    <tr>\n      <th>18551</th>\n      <td>599</td>\n      <td>Spicely, Treyvon</td>\n      <td>Male</td>\n      <td>2000-06-06</td>\n      <td>2100</td>\n      <td>China</td>\n      <td>Never married</td>\n      <td>0</td>\n      <td>20</td>\n      <td>1</td>\n      <td>Other</td>\n      <td>Green</td>\n      <td>2100.0</td>\n      <td>NaN</td>\n      <td>Other</td>\n      <td>Primary education</td>\n      <td>0</td>\n    </tr>\n    <tr>\n      <th>18602</th>\n      <td>599</td>\n      <td>Spicely, Treyvon</td>\n      <td>Male</td>\n      <td>2000-06-06</td>\n      <td>2100</td>\n      <td>China</td>\n      <td>Never married</td>\n      <td>0</td>\n      <td>20</td>\n      <td>1</td>\n      <td>Other</td>\n      <td>Green</td>\n      <td>2100.0</td>\n      <td>NaN</td>\n      <td>Other</td>\n      <td>Primary education</td>\n      <td>0</td>\n    </tr>\n    <tr>\n      <th>19000</th>\n      <td>629</td>\n      <td>Pierce, Chase</td>\n      <td>Male</td>\n      <td>1989-09-01</td>\n      <td>2300</td>\n      <td>Poland</td>\n      <td>Married/separated</td>\n      <td>0</td>\n      <td>31</td>\n      <td>2</td>\n      <td>Other</td>\n      <td>Red</td>\n      <td>2300.0</td>\n      <td>NaN</td>\n      <td>Other</td>\n      <td>Masters programmes</td>\n      <td>0</td>\n    </tr>\n    <tr>\n      <th>19029</th>\n      <td>629</td>\n      <td>Pierce, Chase</td>\n      <td>Male</td>\n      <td>1989-09-01</td>\n      <td>2300</td>\n      <td>Poland</td>\n      <td>Married/separated</td>\n      <td>0</td>\n      <td>31</td>\n      <td>2</td>\n      <td>Other</td>\n      <td>Green</td>\n      <td>2300.0</td>\n      <td>NaN</td>\n      <td>Other</td>\n      <td>Masters programmes</td>\n      <td>0</td>\n    </tr>\n    <tr>\n      <th>19042</th>\n      <td>629</td>\n      <td>Pierce, Chase</td>\n      <td>Male</td>\n      <td>1989-09-01</td>\n      <td>2300</td>\n      <td>Poland</td>\n      <td>Married/separated</td>\n      <td>0</td>\n      <td>31</td>\n      <td>2</td>\n      <td>Other</td>\n      <td>Green</td>\n      <td>NaN</td>\n      <td>2.0</td>\n      <td>Other</td>\n      <td>Masters programmes</td>\n      <td>0</td>\n    </tr>\n    <tr>\n      <th>19679</th>\n      <td>655</td>\n      <td>Chang, Phurba</td>\n      <td>Male</td>\n      <td>1987-05-11</td>\n      <td>2100</td>\n      <td>Brazil</td>\n      <td>Never married</td>\n      <td>0</td>\n      <td>33</td>\n      <td>2</td>\n      <td>Other</td>\n      <td>Green</td>\n      <td>2100.0</td>\n      <td>NaN</td>\n      <td>Other</td>\n      <td>Primary education</td>\n      <td>0</td>\n    </tr>\n    <tr>\n      <th>19700</th>\n      <td>655</td>\n      <td>Chang, Phurba</td>\n      <td>Male</td>\n      <td>1987-05-11</td>\n      <td>2100</td>\n      <td>Brazil</td>\n      <td>Never married</td>\n      <td>0</td>\n      <td>33</td>\n      <td>2</td>\n      <td>Other</td>\n      <td>Green</td>\n      <td>NaN</td>\n      <td>2.0</td>\n      <td>Other</td>\n      <td>Masters programmes</td>\n      <td>0</td>\n    </tr>\n    <tr>\n      <th>19730</th>\n      <td>655</td>\n      <td>Chang, Phurba</td>\n      <td>Male</td>\n      <td>1987-05-11</td>\n      <td>2100</td>\n      <td>Brazil</td>\n      <td>Never married</td>\n      <td>0</td>\n      <td>33</td>\n      <td>2</td>\n      <td>Other</td>\n      <td>Green</td>\n      <td>2100.0</td>\n      <td>NaN</td>\n      <td>Other</td>\n      <td>Primary education</td>\n      <td>0</td>\n    </tr>\n    <tr>\n      <th>20452</th>\n      <td>683</td>\n      <td>Cooner, Charles</td>\n      <td>Male</td>\n      <td>1988-04-29</td>\n      <td>2200</td>\n      <td>Bosnia and Herzegovina</td>\n      <td>Never married</td>\n      <td>0</td>\n      <td>32</td>\n      <td>2</td>\n      <td>Other</td>\n      <td>Green</td>\n      <td>NaN</td>\n      <td>2.0</td>\n      <td>Other</td>\n      <td>Masters programmes</td>\n      <td>0</td>\n    </tr>\n    <tr>\n      <th>20504</th>\n      <td>690</td>\n      <td>Sadorra, Karthik</td>\n      <td>Male</td>\n      <td>1975-11-02</td>\n      <td>2300</td>\n      <td>Stateless</td>\n      <td>Never married</td>\n      <td>0</td>\n      <td>45</td>\n      <td>2</td>\n      <td>Other</td>\n      <td>Red</td>\n      <td>2300.0</td>\n      <td>NaN</td>\n      <td>Other</td>\n      <td>Masters programmes</td>\n      <td>0</td>\n    </tr>\n    <tr>\n      <th>20533</th>\n      <td>690</td>\n      <td>Sadorra, Karthik</td>\n      <td>Male</td>\n      <td>1975-11-02</td>\n      <td>2300</td>\n      <td>Stateless</td>\n      <td>Never married</td>\n      <td>0</td>\n      <td>45</td>\n      <td>2</td>\n      <td>Other</td>\n      <td>Green</td>\n      <td>2300.0</td>\n      <td>NaN</td>\n      <td>Other</td>\n      <td>Masters programmes</td>\n      <td>0</td>\n    </tr>\n    <tr>\n      <th>20546</th>\n      <td>690</td>\n      <td>Sadorra, Karthik</td>\n      <td>Male</td>\n      <td>1975-11-02</td>\n      <td>2300</td>\n      <td>Stateless</td>\n      <td>Never married</td>\n      <td>0</td>\n      <td>45</td>\n      <td>2</td>\n      <td>Other</td>\n      <td>Green</td>\n      <td>NaN</td>\n      <td>2.0</td>\n      <td>Other</td>\n      <td>Masters programmes</td>\n      <td>0</td>\n    </tr>\n    <tr>\n      <th>20974</th>\n      <td>702</td>\n      <td>Mccoy, Andrew</td>\n      <td>Male</td>\n      <td>1987-01-30</td>\n      <td>2300</td>\n      <td>Kosovo</td>\n      <td>Married/separated</td>\n      <td>0</td>\n      <td>33</td>\n      <td>2</td>\n      <td>Other</td>\n      <td>Red</td>\n      <td>2300.0</td>\n      <td>NaN</td>\n      <td>Other</td>\n      <td>Masters programmes</td>\n      <td>0</td>\n    </tr>\n    <tr>\n      <th>21003</th>\n      <td>702</td>\n      <td>Mccoy, Andrew</td>\n      <td>Male</td>\n      <td>1987-01-30</td>\n      <td>2300</td>\n      <td>Kosovo</td>\n      <td>Married/separated</td>\n      <td>0</td>\n      <td>33</td>\n      <td>2</td>\n      <td>Other</td>\n      <td>Green</td>\n      <td>2300.0</td>\n      <td>NaN</td>\n      <td>Other</td>\n      <td>Masters programmes</td>\n      <td>0</td>\n    </tr>\n    <tr>\n      <th>21016</th>\n      <td>702</td>\n      <td>Mccoy, Andrew</td>\n      <td>Male</td>\n      <td>1987-01-30</td>\n      <td>2300</td>\n      <td>Kosovo</td>\n      <td>Married/separated</td>\n      <td>0</td>\n      <td>33</td>\n      <td>2</td>\n      <td>Other</td>\n      <td>Green</td>\n      <td>NaN</td>\n      <td>2.0</td>\n      <td>Other</td>\n      <td>Masters programmes</td>\n      <td>0</td>\n    </tr>\n    <tr>\n      <th>26989</th>\n      <td>894</td>\n      <td>Rae, Phillip</td>\n      <td>Male</td>\n      <td>1971-05-19</td>\n      <td>2400</td>\n      <td>Turkey</td>\n      <td>Never married</td>\n      <td>0</td>\n      <td>49</td>\n      <td>3</td>\n      <td>Other</td>\n      <td>Green</td>\n      <td>2400.0</td>\n      <td>3.0</td>\n      <td>Other</td>\n      <td>Vocational Education and Training (VET)</td>\n      <td>0</td>\n    </tr>\n    <tr>\n      <th>27013</th>\n      <td>894</td>\n      <td>Rae, Phillip</td>\n      <td>Male</td>\n      <td>1971-05-19</td>\n      <td>2400</td>\n      <td>Turkey</td>\n      <td>Never married</td>\n      <td>0</td>\n      <td>49</td>\n      <td>3</td>\n      <td>Other</td>\n      <td>Green</td>\n      <td>2400.0</td>\n      <td>3.0</td>\n      <td>Other</td>\n      <td>Vocational Education and Training (VET)</td>\n      <td>0</td>\n    </tr>\n    <tr>\n      <th>27024</th>\n      <td>894</td>\n      <td>Rae, Phillip</td>\n      <td>Male</td>\n      <td>1971-05-19</td>\n      <td>2400</td>\n      <td>Turkey</td>\n      <td>Never married</td>\n      <td>0</td>\n      <td>49</td>\n      <td>3</td>\n      <td>Other</td>\n      <td>Green</td>\n      <td>2400.0</td>\n      <td>NaN</td>\n      <td>Other</td>\n      <td>Bachelors programmes</td>\n      <td>0</td>\n    </tr>\n    <tr>\n      <th>28703</th>\n      <td>927</td>\n      <td>al-Salek, Faisal</td>\n      <td>Male</td>\n      <td>1962-03-26</td>\n      <td>2100</td>\n      <td>China</td>\n      <td>Divorced</td>\n      <td>0</td>\n      <td>58</td>\n      <td>3</td>\n      <td>Other</td>\n      <td>Green</td>\n      <td>2100.0</td>\n      <td>NaN</td>\n      <td>Other</td>\n      <td>Primary education</td>\n      <td>0</td>\n    </tr>\n    <tr>\n      <th>28754</th>\n      <td>927</td>\n      <td>al-Salek, Faisal</td>\n      <td>Male</td>\n      <td>1962-03-26</td>\n      <td>2100</td>\n      <td>China</td>\n      <td>Divorced</td>\n      <td>0</td>\n      <td>58</td>\n      <td>3</td>\n      <td>Other</td>\n      <td>Green</td>\n      <td>2100.0</td>\n      <td>NaN</td>\n      <td>Other</td>\n      <td>Primary education</td>\n      <td>0</td>\n    </tr>\n    <tr>\n      <th>29528</th>\n      <td>947</td>\n      <td>Tuytschaevers, Steven</td>\n      <td>Male</td>\n      <td>1971-09-23</td>\n      <td>2300</td>\n      <td>USA</td>\n      <td>Married/separated</td>\n      <td>0</td>\n      <td>49</td>\n      <td>3</td>\n      <td>Other</td>\n      <td>Red</td>\n      <td>2300.0</td>\n      <td>NaN</td>\n      <td>Other</td>\n      <td>Masters programmes</td>\n      <td>0</td>\n    </tr>\n    <tr>\n      <th>29557</th>\n      <td>947</td>\n      <td>Tuytschaevers, Steven</td>\n      <td>Male</td>\n      <td>1971-09-23</td>\n      <td>2300</td>\n      <td>USA</td>\n      <td>Married/separated</td>\n      <td>0</td>\n      <td>49</td>\n      <td>3</td>\n      <td>Other</td>\n      <td>Green</td>\n      <td>2300.0</td>\n      <td>NaN</td>\n      <td>Other</td>\n      <td>Masters programmes</td>\n      <td>0</td>\n    </tr>\n    <tr>\n      <th>31031</th>\n      <td>981</td>\n      <td>al-Shafi, Labeeb</td>\n      <td>Male</td>\n      <td>1968-09-29</td>\n      <td>2400</td>\n      <td>Poland</td>\n      <td>Married/separated</td>\n      <td>0</td>\n      <td>52</td>\n      <td>3</td>\n      <td>Other</td>\n      <td>Green</td>\n      <td>2400.0</td>\n      <td>3.0</td>\n      <td>Other</td>\n      <td>Vocational Education and Training (VET)</td>\n      <td>0</td>\n    </tr>\n    <tr>\n      <th>31055</th>\n      <td>981</td>\n      <td>al-Shafi, Labeeb</td>\n      <td>Male</td>\n      <td>1968-09-29</td>\n      <td>2400</td>\n      <td>Poland</td>\n      <td>Married/separated</td>\n      <td>0</td>\n      <td>52</td>\n      <td>3</td>\n      <td>Other</td>\n      <td>Green</td>\n      <td>2400.0</td>\n      <td>3.0</td>\n      <td>Other</td>\n      <td>Vocational Education and Training (VET)</td>\n      <td>0</td>\n    </tr>\n    <tr>\n      <th>31066</th>\n      <td>981</td>\n      <td>al-Shafi, Labeeb</td>\n      <td>Male</td>\n      <td>1968-09-29</td>\n      <td>2400</td>\n      <td>Poland</td>\n      <td>Married/separated</td>\n      <td>0</td>\n      <td>52</td>\n      <td>3</td>\n      <td>Other</td>\n      <td>Green</td>\n      <td>2400.0</td>\n      <td>NaN</td>\n      <td>Other</td>\n      <td>Bachelors programmes</td>\n      <td>0</td>\n    </tr>\n    <tr>\n      <th>33099</th>\n      <td>1035</td>\n      <td>Schuckman, Orion</td>\n      <td>Male</td>\n      <td>1966-09-02</td>\n      <td>2400</td>\n      <td>Morocco</td>\n      <td>Married/separated</td>\n      <td>0</td>\n      <td>54</td>\n      <td>3</td>\n      <td>Other</td>\n      <td>Green</td>\n      <td>2400.0</td>\n      <td>3.0</td>\n      <td>Other</td>\n      <td>Vocational Education and Training (VET)</td>\n      <td>0</td>\n    </tr>\n    <tr>\n      <th>33123</th>\n      <td>1035</td>\n      <td>Schuckman, Orion</td>\n      <td>Male</td>\n      <td>1966-09-02</td>\n      <td>2400</td>\n      <td>Morocco</td>\n      <td>Married/separated</td>\n      <td>0</td>\n      <td>54</td>\n      <td>3</td>\n      <td>Other</td>\n      <td>Green</td>\n      <td>2400.0</td>\n      <td>3.0</td>\n      <td>Other</td>\n      <td>Vocational Education and Training (VET)</td>\n      <td>0</td>\n    </tr>\n    <tr>\n      <th>33134</th>\n      <td>1035</td>\n      <td>Schuckman, Orion</td>\n      <td>Male</td>\n      <td>1966-09-02</td>\n      <td>2400</td>\n      <td>Morocco</td>\n      <td>Married/separated</td>\n      <td>0</td>\n      <td>54</td>\n      <td>3</td>\n      <td>Other</td>\n      <td>Green</td>\n      <td>2400.0</td>\n      <td>NaN</td>\n      <td>Other</td>\n      <td>Bachelors programmes</td>\n      <td>0</td>\n    </tr>\n    <tr>\n      <th>33476</th>\n      <td>1045</td>\n      <td>Olivas-Lujan, Giovanni</td>\n      <td>Male</td>\n      <td>1968-01-25</td>\n      <td>2300</td>\n      <td>Sweden</td>\n      <td>Divorced</td>\n      <td>0</td>\n      <td>52</td>\n      <td>3</td>\n      <td>Other</td>\n      <td>Red</td>\n      <td>2300.0</td>\n      <td>NaN</td>\n      <td>Other</td>\n      <td>Masters programmes</td>\n      <td>0</td>\n    </tr>\n    <tr>\n      <th>33505</th>\n      <td>1045</td>\n      <td>Olivas-Lujan, Giovanni</td>\n      <td>Male</td>\n      <td>1968-01-25</td>\n      <td>2300</td>\n      <td>Sweden</td>\n      <td>Divorced</td>\n      <td>0</td>\n      <td>52</td>\n      <td>3</td>\n      <td>Other</td>\n      <td>Green</td>\n      <td>2300.0</td>\n      <td>NaN</td>\n      <td>Other</td>\n      <td>Masters programmes</td>\n      <td>0</td>\n    </tr>\n    <tr>\n      <th>33569</th>\n      <td>1050</td>\n      <td>Edwards, Stephen</td>\n      <td>Male</td>\n      <td>1960-10-12</td>\n      <td>2400</td>\n      <td>Greece</td>\n      <td>Married/separated</td>\n      <td>0</td>\n      <td>60</td>\n      <td>3</td>\n      <td>Other</td>\n      <td>Green</td>\n      <td>2400.0</td>\n      <td>3.0</td>\n      <td>Other</td>\n      <td>Vocational Education and Training (VET)</td>\n      <td>0</td>\n    </tr>\n    <tr>\n      <th>33593</th>\n      <td>1050</td>\n      <td>Edwards, Stephen</td>\n      <td>Male</td>\n      <td>1960-10-12</td>\n      <td>2400</td>\n      <td>Greece</td>\n      <td>Married/separated</td>\n      <td>0</td>\n      <td>60</td>\n      <td>3</td>\n      <td>Other</td>\n      <td>Green</td>\n      <td>2400.0</td>\n      <td>3.0</td>\n      <td>Other</td>\n      <td>Vocational Education and Training (VET)</td>\n      <td>0</td>\n    </tr>\n    <tr>\n      <th>33604</th>\n      <td>1050</td>\n      <td>Edwards, Stephen</td>\n      <td>Male</td>\n      <td>1960-10-12</td>\n      <td>2400</td>\n      <td>Greece</td>\n      <td>Married/separated</td>\n      <td>0</td>\n      <td>60</td>\n      <td>3</td>\n      <td>Other</td>\n      <td>Green</td>\n      <td>2400.0</td>\n      <td>NaN</td>\n      <td>Other</td>\n      <td>Bachelors programmes</td>\n      <td>0</td>\n    </tr>\n    <tr>\n      <th>35731</th>\n      <td>1109</td>\n      <td>Santistevan, Jonathan</td>\n      <td>Male</td>\n      <td>1957-12-17</td>\n      <td>2400</td>\n      <td>Bosnia and Herzegovina</td>\n      <td>Divorced</td>\n      <td>0</td>\n      <td>63</td>\n      <td>3</td>\n      <td>Other</td>\n      <td>Green</td>\n      <td>2400.0</td>\n      <td>3.0</td>\n      <td>Other</td>\n      <td>Vocational Education and Training (VET)</td>\n      <td>0</td>\n    </tr>\n    <tr>\n      <th>35755</th>\n      <td>1109</td>\n      <td>Santistevan, Jonathan</td>\n      <td>Male</td>\n      <td>1957-12-17</td>\n      <td>2400</td>\n      <td>Bosnia and Herzegovina</td>\n      <td>Divorced</td>\n      <td>0</td>\n      <td>63</td>\n      <td>3</td>\n      <td>Other</td>\n      <td>Green</td>\n      <td>2400.0</td>\n      <td>3.0</td>\n      <td>Other</td>\n      <td>Vocational Education and Training (VET)</td>\n      <td>0</td>\n    </tr>\n    <tr>\n      <th>35766</th>\n      <td>1109</td>\n      <td>Santistevan, Jonathan</td>\n      <td>Male</td>\n      <td>1957-12-17</td>\n      <td>2400</td>\n      <td>Bosnia and Herzegovina</td>\n      <td>Divorced</td>\n      <td>0</td>\n      <td>63</td>\n      <td>3</td>\n      <td>Other</td>\n      <td>Green</td>\n      <td>2400.0</td>\n      <td>NaN</td>\n      <td>Other</td>\n      <td>Bachelors programmes</td>\n      <td>0</td>\n    </tr>\n    <tr>\n      <th>36295</th>\n      <td>1124</td>\n      <td>Carlos, Caleb</td>\n      <td>Male</td>\n      <td>1961-10-25</td>\n      <td>2400</td>\n      <td>Italy</td>\n      <td>Married/separated</td>\n      <td>0</td>\n      <td>59</td>\n      <td>3</td>\n      <td>Other</td>\n      <td>Green</td>\n      <td>2400.0</td>\n      <td>3.0</td>\n      <td>Other</td>\n      <td>Vocational Education and Training (VET)</td>\n      <td>0</td>\n    </tr>\n    <tr>\n      <th>36319</th>\n      <td>1124</td>\n      <td>Carlos, Caleb</td>\n      <td>Male</td>\n      <td>1961-10-25</td>\n      <td>2400</td>\n      <td>Italy</td>\n      <td>Married/separated</td>\n      <td>0</td>\n      <td>59</td>\n      <td>3</td>\n      <td>Other</td>\n      <td>Green</td>\n      <td>2400.0</td>\n      <td>3.0</td>\n      <td>Other</td>\n      <td>Vocational Education and Training (VET)</td>\n      <td>0</td>\n    </tr>\n    <tr>\n      <th>36330</th>\n      <td>1124</td>\n      <td>Carlos, Caleb</td>\n      <td>Male</td>\n      <td>1961-10-25</td>\n      <td>2400</td>\n      <td>Italy</td>\n      <td>Married/separated</td>\n      <td>0</td>\n      <td>59</td>\n      <td>3</td>\n      <td>Other</td>\n      <td>Green</td>\n      <td>2400.0</td>\n      <td>NaN</td>\n      <td>Other</td>\n      <td>Bachelors programmes</td>\n      <td>0</td>\n    </tr>\n    <tr>\n      <th>36578</th>\n      <td>1133</td>\n      <td>Walker, Remington</td>\n      <td>Male</td>\n      <td>1954-08-27</td>\n      <td>2300</td>\n      <td>Poland</td>\n      <td>Married/separated</td>\n      <td>0</td>\n      <td>66</td>\n      <td>4</td>\n      <td>Other</td>\n      <td>Red</td>\n      <td>2300.0</td>\n      <td>NaN</td>\n      <td>Other</td>\n      <td>Masters programmes</td>\n      <td>0</td>\n    </tr>\n    <tr>\n      <th>36607</th>\n      <td>1133</td>\n      <td>Walker, Remington</td>\n      <td>Male</td>\n      <td>1954-08-27</td>\n      <td>2300</td>\n      <td>Poland</td>\n      <td>Married/separated</td>\n      <td>0</td>\n      <td>66</td>\n      <td>4</td>\n      <td>Other</td>\n      <td>Green</td>\n      <td>2300.0</td>\n      <td>NaN</td>\n      <td>Other</td>\n      <td>Masters programmes</td>\n      <td>0</td>\n    </tr>\n    <tr>\n      <th>36860</th>\n      <td>1136</td>\n      <td>al-Maroun, Fawzi</td>\n      <td>Male</td>\n      <td>1971-11-14</td>\n      <td>2300</td>\n      <td>Germany</td>\n      <td>Divorced</td>\n      <td>0</td>\n      <td>49</td>\n      <td>3</td>\n      <td>Other</td>\n      <td>Red</td>\n      <td>2300.0</td>\n      <td>NaN</td>\n      <td>Other</td>\n      <td>Masters programmes</td>\n      <td>0</td>\n    </tr>\n    <tr>\n      <th>36889</th>\n      <td>1136</td>\n      <td>al-Maroun, Fawzi</td>\n      <td>Male</td>\n      <td>1971-11-14</td>\n      <td>2300</td>\n      <td>Germany</td>\n      <td>Divorced</td>\n      <td>0</td>\n      <td>49</td>\n      <td>3</td>\n      <td>Other</td>\n      <td>Green</td>\n      <td>2300.0</td>\n      <td>NaN</td>\n      <td>Other</td>\n      <td>Masters programmes</td>\n      <td>0</td>\n    </tr>\n    <tr>\n      <th>37517</th>\n      <td>1156</td>\n      <td>Rogers, Timothy</td>\n      <td>Male</td>\n      <td>1966-12-12</td>\n      <td>2400</td>\n      <td>United Kingdom</td>\n      <td>Divorced</td>\n      <td>0</td>\n      <td>54</td>\n      <td>3</td>\n      <td>Other</td>\n      <td>Green</td>\n      <td>2400.0</td>\n      <td>3.0</td>\n      <td>Other</td>\n      <td>Vocational Education and Training (VET)</td>\n      <td>0</td>\n    </tr>\n    <tr>\n      <th>37541</th>\n      <td>1156</td>\n      <td>Rogers, Timothy</td>\n      <td>Male</td>\n      <td>1966-12-12</td>\n      <td>2400</td>\n      <td>United Kingdom</td>\n      <td>Divorced</td>\n      <td>0</td>\n      <td>54</td>\n      <td>3</td>\n      <td>Other</td>\n      <td>Green</td>\n      <td>2400.0</td>\n      <td>3.0</td>\n      <td>Other</td>\n      <td>Vocational Education and Training (VET)</td>\n      <td>0</td>\n    </tr>\n    <tr>\n      <th>37552</th>\n      <td>1156</td>\n      <td>Rogers, Timothy</td>\n      <td>Male</td>\n      <td>1966-12-12</td>\n      <td>2400</td>\n      <td>United Kingdom</td>\n      <td>Divorced</td>\n      <td>0</td>\n      <td>54</td>\n      <td>3</td>\n      <td>Other</td>\n      <td>Green</td>\n      <td>2400.0</td>\n      <td>NaN</td>\n      <td>Other</td>\n      <td>Bachelors programmes</td>\n      <td>0</td>\n    </tr>\n    <tr>\n      <th>39586</th>\n      <td>1211</td>\n      <td>Mitchell, Silvano</td>\n      <td>Male</td>\n      <td>1971-02-15</td>\n      <td>2300</td>\n      <td>Armenia</td>\n      <td>Never married</td>\n      <td>0</td>\n      <td>49</td>\n      <td>3</td>\n      <td>Other</td>\n      <td>Red</td>\n      <td>2300.0</td>\n      <td>NaN</td>\n      <td>Other</td>\n      <td>Masters programmes</td>\n      <td>0</td>\n    </tr>\n    <tr>\n      <th>39615</th>\n      <td>1211</td>\n      <td>Mitchell, Silvano</td>\n      <td>Male</td>\n      <td>1971-02-15</td>\n      <td>2300</td>\n      <td>Armenia</td>\n      <td>Never married</td>\n      <td>0</td>\n      <td>49</td>\n      <td>3</td>\n      <td>Other</td>\n      <td>Green</td>\n      <td>2300.0</td>\n      <td>NaN</td>\n      <td>Other</td>\n      <td>Masters programmes</td>\n      <td>0</td>\n    </tr>\n    <tr>\n      <th>40244</th>\n      <td>1229</td>\n      <td>Archuleta, Joshua</td>\n      <td>Male</td>\n      <td>1956-12-12</td>\n      <td>2300</td>\n      <td>Yugoslavia, Federal Republic</td>\n      <td>Never married</td>\n      <td>0</td>\n      <td>64</td>\n      <td>3</td>\n      <td>Other</td>\n      <td>Red</td>\n      <td>2300.0</td>\n      <td>NaN</td>\n      <td>Other</td>\n      <td>Masters programmes</td>\n      <td>0</td>\n    </tr>\n    <tr>\n      <th>40273</th>\n      <td>1229</td>\n      <td>Archuleta, Joshua</td>\n      <td>Male</td>\n      <td>1956-12-12</td>\n      <td>2300</td>\n      <td>Yugoslavia, Federal Republic</td>\n      <td>Never married</td>\n      <td>0</td>\n      <td>64</td>\n      <td>3</td>\n      <td>Other</td>\n      <td>Green</td>\n      <td>2300.0</td>\n      <td>NaN</td>\n      <td>Other</td>\n      <td>Masters programmes</td>\n      <td>0</td>\n    </tr>\n    <tr>\n      <th>42158</th>\n      <td>1289</td>\n      <td>Sanders-Johnson, Javon</td>\n      <td>Male</td>\n      <td>1920-09-22</td>\n      <td>2400</td>\n      <td>Germany</td>\n      <td>Widowed</td>\n      <td>0</td>\n      <td>100</td>\n      <td>4</td>\n      <td>Other</td>\n      <td>Green</td>\n      <td>2400.0</td>\n      <td>NaN</td>\n      <td>Other</td>\n      <td>Bachelors programmes</td>\n      <td>0</td>\n    </tr>\n    <tr>\n      <th>43662</th>\n      <td>1324</td>\n      <td>Maestas, Paul</td>\n      <td>Male</td>\n      <td>1940-04-25</td>\n      <td>2400</td>\n      <td>Romania</td>\n      <td>Married/separated</td>\n      <td>0</td>\n      <td>80</td>\n      <td>4</td>\n      <td>Other</td>\n      <td>Green</td>\n      <td>2400.0</td>\n      <td>NaN</td>\n      <td>Other</td>\n      <td>Bachelors programmes</td>\n      <td>0</td>\n    </tr>\n    <tr>\n      <th>44098</th>\n      <td>1339</td>\n      <td>Hope Crichlow, Tonio</td>\n      <td>Male</td>\n      <td>1959-02-02</td>\n      <td>2300</td>\n      <td>Germany</td>\n      <td>Married/separated</td>\n      <td>0</td>\n      <td>61</td>\n      <td>3</td>\n      <td>Other</td>\n      <td>Red</td>\n      <td>2300.0</td>\n      <td>NaN</td>\n      <td>Other</td>\n      <td>Masters programmes</td>\n      <td>0</td>\n    </tr>\n    <tr>\n      <th>44127</th>\n      <td>1339</td>\n      <td>Hope Crichlow, Tonio</td>\n      <td>Male</td>\n      <td>1959-02-02</td>\n      <td>2300</td>\n      <td>Germany</td>\n      <td>Married/separated</td>\n      <td>0</td>\n      <td>61</td>\n      <td>3</td>\n      <td>Other</td>\n      <td>Green</td>\n      <td>2300.0</td>\n      <td>NaN</td>\n      <td>Other</td>\n      <td>Masters programmes</td>\n      <td>0</td>\n    </tr>\n  </tbody>\n</table>\n</div>"
     },
     "metadata": {},
     "execution_count": 142
    }
   ],
   "source": [
    "male_other_df"
   ]
  },
  {
   "cell_type": "code",
   "execution_count": 133,
   "metadata": {},
   "outputs": [
    {
     "output_type": "execute_result",
     "data": {
      "text/plain": [
       "Green           126\n",
       "Red              70\n",
       "Invalid vote      4\n",
       "Name: party, dtype: int64"
      ]
     },
     "metadata": {},
     "execution_count": 133
    }
   ],
   "source": [
    "private_data_original['party'].value_counts()"
   ]
  },
  {
   "cell_type": "code",
   "execution_count": null,
   "metadata": {},
   "outputs": [],
   "source": [
    "private_data_original"
   ]
  }
 ]
}