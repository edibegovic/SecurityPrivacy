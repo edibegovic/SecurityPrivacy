{
 "metadata": {
  "language_info": {
   "codemirror_mode": {
    "name": "ipython",
    "version": 3
   },
   "file_extension": ".py",
   "mimetype": "text/x-python",
   "name": "python",
   "nbconvert_exporter": "python",
   "pygments_lexer": "ipython3",
   "version": "3.8.5-final"
  },
  "orig_nbformat": 2,
  "kernelspec": {
   "name": "python3",
   "display_name": "Python 3"
  }
 },
 "nbformat": 4,
 "nbformat_minor": 2,
 "cells": [
  {
   "cell_type": "code",
   "execution_count": 1,
   "metadata": {},
   "outputs": [],
   "source": [
    "# imports\n",
    "import pandas as pd\n",
    "import matplotlib.pyplot"
   ]
  },
  {
   "cell_type": "code",
   "execution_count": 4,
   "metadata": {},
   "outputs": [],
   "source": [
    "# read files \n",
    "private_data_original = pd.read_csv('../data/private_dataB.csv')\n",
    "public_data_register = pd.read_csv('../data/public_data_registerB.csv')\n",
    "public_data_results = pd.read_csv('../data/public_data_resultsB.csv')"
   ]
  },
  {
   "cell_type": "code",
   "execution_count": 5,
   "metadata": {},
   "outputs": [],
   "source": [
    "# read anony\n",
    "anonymized_data = pd.read_csv('../kanon2.csv')\n",
    "anonymized_data = anonymized_data[['party', 'sex', 'zip', 'age', 'citizenship', 'education', 'evote']]"
   ]
  },
  {
   "cell_type": "code",
   "execution_count": 6,
   "metadata": {},
   "outputs": [
    {
     "output_type": "execute_result",
     "data": {
      "text/plain": [
       "   party     sex     zip  age citizenship  \\\n",
       "0    Red  Female  2300.0  4.0     Denmark   \n",
       "1    Red  Female  2200.0  4.0     Denmark   \n",
       "2  Green  Female  2100.0  2.0     Denmark   \n",
       "3  Green    Male  2400.0  3.0     Denmark   \n",
       "4  Green    Male  2200.0  1.0     Denmark   \n",
       "\n",
       "                                 education  evote  \n",
       "0          Vocational bachelors educations      0  \n",
       "1  Vocational Education and Training (VET)      0  \n",
       "2  Vocational Education and Training (VET)      1  \n",
       "3  Vocational Education and Training (VET)      0  \n",
       "4                       Masters programmes      0  "
      ],
      "text/html": "<div>\n<style scoped>\n    .dataframe tbody tr th:only-of-type {\n        vertical-align: middle;\n    }\n\n    .dataframe tbody tr th {\n        vertical-align: top;\n    }\n\n    .dataframe thead th {\n        text-align: right;\n    }\n</style>\n<table border=\"1\" class=\"dataframe\">\n  <thead>\n    <tr style=\"text-align: right;\">\n      <th></th>\n      <th>party</th>\n      <th>sex</th>\n      <th>zip</th>\n      <th>age</th>\n      <th>citizenship</th>\n      <th>education</th>\n      <th>evote</th>\n    </tr>\n  </thead>\n  <tbody>\n    <tr>\n      <th>0</th>\n      <td>Red</td>\n      <td>Female</td>\n      <td>2300.0</td>\n      <td>4.0</td>\n      <td>Denmark</td>\n      <td>Vocational bachelors educations</td>\n      <td>0</td>\n    </tr>\n    <tr>\n      <th>1</th>\n      <td>Red</td>\n      <td>Female</td>\n      <td>2200.0</td>\n      <td>4.0</td>\n      <td>Denmark</td>\n      <td>Vocational Education and Training (VET)</td>\n      <td>0</td>\n    </tr>\n    <tr>\n      <th>2</th>\n      <td>Green</td>\n      <td>Female</td>\n      <td>2100.0</td>\n      <td>2.0</td>\n      <td>Denmark</td>\n      <td>Vocational Education and Training (VET)</td>\n      <td>1</td>\n    </tr>\n    <tr>\n      <th>3</th>\n      <td>Green</td>\n      <td>Male</td>\n      <td>2400.0</td>\n      <td>3.0</td>\n      <td>Denmark</td>\n      <td>Vocational Education and Training (VET)</td>\n      <td>0</td>\n    </tr>\n    <tr>\n      <th>4</th>\n      <td>Green</td>\n      <td>Male</td>\n      <td>2200.0</td>\n      <td>1.0</td>\n      <td>Denmark</td>\n      <td>Masters programmes</td>\n      <td>0</td>\n    </tr>\n  </tbody>\n</table>\n</div>"
     },
     "metadata": {},
     "execution_count": 6
    }
   ],
   "source": [
    "anonymized_data.head()"
   ]
  },
  {
   "cell_type": "code",
   "execution_count": 7,
   "metadata": {},
   "outputs": [
    {
     "output_type": "execute_result",
     "data": {
      "text/plain": [
       "     party     sex  zip  age citizenship                        education  \\\n",
       "81   Green  Female  NaN  4.0       Other                Primary education   \n",
       "120  Green    Male  NaN  2.0       Other               Masters programmes   \n",
       "183    Red  Female  NaN  4.0       Other  Vocational bachelors educations   \n",
       "192    Red  Female  NaN  4.0       Other                Primary education   \n",
       "\n",
       "     evote  \n",
       "81       0  \n",
       "120      0  \n",
       "183      0  \n",
       "192      0  "
      ],
      "text/html": "<div>\n<style scoped>\n    .dataframe tbody tr th:only-of-type {\n        vertical-align: middle;\n    }\n\n    .dataframe tbody tr th {\n        vertical-align: top;\n    }\n\n    .dataframe thead th {\n        text-align: right;\n    }\n</style>\n<table border=\"1\" class=\"dataframe\">\n  <thead>\n    <tr style=\"text-align: right;\">\n      <th></th>\n      <th>party</th>\n      <th>sex</th>\n      <th>zip</th>\n      <th>age</th>\n      <th>citizenship</th>\n      <th>education</th>\n      <th>evote</th>\n    </tr>\n  </thead>\n  <tbody>\n    <tr>\n      <th>81</th>\n      <td>Green</td>\n      <td>Female</td>\n      <td>NaN</td>\n      <td>4.0</td>\n      <td>Other</td>\n      <td>Primary education</td>\n      <td>0</td>\n    </tr>\n    <tr>\n      <th>120</th>\n      <td>Green</td>\n      <td>Male</td>\n      <td>NaN</td>\n      <td>2.0</td>\n      <td>Other</td>\n      <td>Masters programmes</td>\n      <td>0</td>\n    </tr>\n    <tr>\n      <th>183</th>\n      <td>Red</td>\n      <td>Female</td>\n      <td>NaN</td>\n      <td>4.0</td>\n      <td>Other</td>\n      <td>Vocational bachelors educations</td>\n      <td>0</td>\n    </tr>\n    <tr>\n      <th>192</th>\n      <td>Red</td>\n      <td>Female</td>\n      <td>NaN</td>\n      <td>4.0</td>\n      <td>Other</td>\n      <td>Primary education</td>\n      <td>0</td>\n    </tr>\n  </tbody>\n</table>\n</div>"
     },
     "metadata": {},
     "execution_count": 7
    }
   ],
   "source": [
    "# just checking for making sure\n",
    "anonymized_data[anonymized_data['zip'].isna()]"
   ]
  },
  {
   "cell_type": "code",
   "execution_count": 8,
   "metadata": {},
   "outputs": [
    {
     "output_type": "execute_result",
     "data": {
      "text/plain": [
       "               zip         age       evote\n",
       "count   196.000000  179.000000  200.000000\n",
       "mean   2266.326531    2.614525    0.260000\n",
       "std     106.162795    0.931358    0.439735\n",
       "min    2100.000000    1.000000    0.000000\n",
       "25%    2200.000000    2.000000    0.000000\n",
       "50%    2300.000000    3.000000    0.000000\n",
       "75%    2400.000000    3.000000    1.000000\n",
       "max    2400.000000    4.000000    1.000000"
      ],
      "text/html": "<div>\n<style scoped>\n    .dataframe tbody tr th:only-of-type {\n        vertical-align: middle;\n    }\n\n    .dataframe tbody tr th {\n        vertical-align: top;\n    }\n\n    .dataframe thead th {\n        text-align: right;\n    }\n</style>\n<table border=\"1\" class=\"dataframe\">\n  <thead>\n    <tr style=\"text-align: right;\">\n      <th></th>\n      <th>zip</th>\n      <th>age</th>\n      <th>evote</th>\n    </tr>\n  </thead>\n  <tbody>\n    <tr>\n      <th>count</th>\n      <td>196.000000</td>\n      <td>179.000000</td>\n      <td>200.000000</td>\n    </tr>\n    <tr>\n      <th>mean</th>\n      <td>2266.326531</td>\n      <td>2.614525</td>\n      <td>0.260000</td>\n    </tr>\n    <tr>\n      <th>std</th>\n      <td>106.162795</td>\n      <td>0.931358</td>\n      <td>0.439735</td>\n    </tr>\n    <tr>\n      <th>min</th>\n      <td>2100.000000</td>\n      <td>1.000000</td>\n      <td>0.000000</td>\n    </tr>\n    <tr>\n      <th>25%</th>\n      <td>2200.000000</td>\n      <td>2.000000</td>\n      <td>0.000000</td>\n    </tr>\n    <tr>\n      <th>50%</th>\n      <td>2300.000000</td>\n      <td>3.000000</td>\n      <td>0.000000</td>\n    </tr>\n    <tr>\n      <th>75%</th>\n      <td>2400.000000</td>\n      <td>3.000000</td>\n      <td>1.000000</td>\n    </tr>\n    <tr>\n      <th>max</th>\n      <td>2400.000000</td>\n      <td>4.000000</td>\n      <td>1.000000</td>\n    </tr>\n  </tbody>\n</table>\n</div>"
     },
     "metadata": {},
     "execution_count": 8
    }
   ],
   "source": [
    "anonymized_data.describe()"
   ]
  },
  {
   "cell_type": "code",
   "execution_count": 9,
   "metadata": {},
   "outputs": [
    {
     "output_type": "stream",
     "name": "stdout",
     "text": [
      "<class 'pandas.core.frame.DataFrame'>\nRangeIndex: 200 entries, 0 to 199\nData columns (total 7 columns):\n #   Column       Non-Null Count  Dtype  \n---  ------       --------------  -----  \n 0   party        200 non-null    object \n 1   sex          200 non-null    object \n 2   zip          196 non-null    float64\n 3   age          179 non-null    float64\n 4   citizenship  199 non-null    object \n 5   education    200 non-null    object \n 6   evote        200 non-null    int64  \ndtypes: float64(2), int64(1), object(4)\nmemory usage: 11.1+ KB\n"
     ]
    }
   ],
   "source": [
    "anonymized_data.info()"
   ]
  },
  {
   "cell_type": "code",
   "execution_count": 10,
   "metadata": {},
   "outputs": [
    {
     "output_type": "execute_result",
     "data": {
      "text/plain": [
       "3.0    73\n",
       "2.0    50\n",
       "4.0    31\n",
       "1.0    25\n",
       "Name: age, dtype: int64"
      ]
     },
     "metadata": {},
     "execution_count": 10
    }
   ],
   "source": [
    "anonymized_data['age'].value_counts()"
   ]
  },
  {
   "source": [
    "## Creating the auxiliary data"
   ],
   "cell_type": "markdown",
   "metadata": {}
  },
  {
   "cell_type": "code",
   "execution_count": 11,
   "metadata": {},
   "outputs": [],
   "source": [
    "no_dk_df = private_data_original[private_data_original['citizenship'] != \"Denmark\"]\n",
    "no_dk_df['public_age'] = no_dk_df['dob'].apply(lambda x: 2020 - int(x[:4]))"
   ]
  },
  {
   "cell_type": "code",
   "execution_count": 12,
   "metadata": {},
   "outputs": [
    {
     "output_type": "execute_result",
     "data": {
      "text/plain": [
       "    Unnamed: 0               name     sex  evote         dob   zip  \\\n",
       "29          29      Carlos, Caleb    Male      0  1961-10-25  2400   \n",
       "30          30  Walker, Remington    Male      0  1954-08-27  2300   \n",
       "70          70      Chang, Phurba    Male      0  1987-05-11  2100   \n",
       "73          73       Rae, Phillip    Male      0  1971-05-19  2400   \n",
       "81          81    Newson, Jasmine  Female      0  1950-02-09  2300   \n",
       "\n",
       "                                  education citizenship     marital_status  \\\n",
       "29  Vocational Education and Training (VET)       Italy  Married/separated   \n",
       "30                       Masters programmes      Poland  Married/separated   \n",
       "70                        Primary education      Brazil      Never married   \n",
       "73  Vocational Education and Training (VET)      Turkey      Never married   \n",
       "81                        Primary education    Pakistan      Never married   \n",
       "\n",
       "    party  public_age  \n",
       "29  Green          59  \n",
       "30    Red          66  \n",
       "70  Green          33  \n",
       "73  Green          49  \n",
       "81  Green          70  "
      ],
      "text/html": "<div>\n<style scoped>\n    .dataframe tbody tr th:only-of-type {\n        vertical-align: middle;\n    }\n\n    .dataframe tbody tr th {\n        vertical-align: top;\n    }\n\n    .dataframe thead th {\n        text-align: right;\n    }\n</style>\n<table border=\"1\" class=\"dataframe\">\n  <thead>\n    <tr style=\"text-align: right;\">\n      <th></th>\n      <th>Unnamed: 0</th>\n      <th>name</th>\n      <th>sex</th>\n      <th>evote</th>\n      <th>dob</th>\n      <th>zip</th>\n      <th>education</th>\n      <th>citizenship</th>\n      <th>marital_status</th>\n      <th>party</th>\n      <th>public_age</th>\n    </tr>\n  </thead>\n  <tbody>\n    <tr>\n      <th>29</th>\n      <td>29</td>\n      <td>Carlos, Caleb</td>\n      <td>Male</td>\n      <td>0</td>\n      <td>1961-10-25</td>\n      <td>2400</td>\n      <td>Vocational Education and Training (VET)</td>\n      <td>Italy</td>\n      <td>Married/separated</td>\n      <td>Green</td>\n      <td>59</td>\n    </tr>\n    <tr>\n      <th>30</th>\n      <td>30</td>\n      <td>Walker, Remington</td>\n      <td>Male</td>\n      <td>0</td>\n      <td>1954-08-27</td>\n      <td>2300</td>\n      <td>Masters programmes</td>\n      <td>Poland</td>\n      <td>Married/separated</td>\n      <td>Red</td>\n      <td>66</td>\n    </tr>\n    <tr>\n      <th>70</th>\n      <td>70</td>\n      <td>Chang, Phurba</td>\n      <td>Male</td>\n      <td>0</td>\n      <td>1987-05-11</td>\n      <td>2100</td>\n      <td>Primary education</td>\n      <td>Brazil</td>\n      <td>Never married</td>\n      <td>Green</td>\n      <td>33</td>\n    </tr>\n    <tr>\n      <th>73</th>\n      <td>73</td>\n      <td>Rae, Phillip</td>\n      <td>Male</td>\n      <td>0</td>\n      <td>1971-05-19</td>\n      <td>2400</td>\n      <td>Vocational Education and Training (VET)</td>\n      <td>Turkey</td>\n      <td>Never married</td>\n      <td>Green</td>\n      <td>49</td>\n    </tr>\n    <tr>\n      <th>81</th>\n      <td>81</td>\n      <td>Newson, Jasmine</td>\n      <td>Female</td>\n      <td>0</td>\n      <td>1950-02-09</td>\n      <td>2300</td>\n      <td>Primary education</td>\n      <td>Pakistan</td>\n      <td>Never married</td>\n      <td>Green</td>\n      <td>70</td>\n    </tr>\n  </tbody>\n</table>\n</div>"
     },
     "metadata": {},
     "execution_count": 12
    }
   ],
   "source": [
    "no_dk_df.head()"
   ]
  },
  {
   "cell_type": "code",
   "execution_count": 52,
   "metadata": {},
   "outputs": [],
   "source": [
    "no_dk_df[['public_age', 'citizenship', 'education']].to_csv('auxiliary0.csv', index = False, header = True)"
   ]
  },
  {
   "source": [
    "## Doing transforms you know they did too"
   ],
   "cell_type": "markdown",
   "metadata": {}
  },
  {
   "cell_type": "code",
   "execution_count": 14,
   "metadata": {},
   "outputs": [
    {
     "output_type": "execute_result",
     "data": {
      "text/plain": [
       "   Unnamed: 0              name     sex         dob   zip citizenship  \\\n",
       "0           0           Le, Ian    Male  1998-08-30  2300     Denmark   \n",
       "1           1       Wang, Caleb    Male  1996-04-23  2200     Denmark   \n",
       "2           2  Carranco, Raquel  Female  1994-08-06  2200     Denmark   \n",
       "3           3   Williams, Geona  Female  1995-04-22  2100      Sweden   \n",
       "4           4  Gonzales, Edward    Male  2000-05-13  2100     Denmark   \n",
       "\n",
       "  marital_status  last_voted  \n",
       "0  Never married           1  \n",
       "1  Never married           1  \n",
       "2  Never married           1  \n",
       "3  Never married           2  \n",
       "4  Never married           1  "
      ],
      "text/html": "<div>\n<style scoped>\n    .dataframe tbody tr th:only-of-type {\n        vertical-align: middle;\n    }\n\n    .dataframe tbody tr th {\n        vertical-align: top;\n    }\n\n    .dataframe thead th {\n        text-align: right;\n    }\n</style>\n<table border=\"1\" class=\"dataframe\">\n  <thead>\n    <tr style=\"text-align: right;\">\n      <th></th>\n      <th>Unnamed: 0</th>\n      <th>name</th>\n      <th>sex</th>\n      <th>dob</th>\n      <th>zip</th>\n      <th>citizenship</th>\n      <th>marital_status</th>\n      <th>last_voted</th>\n    </tr>\n  </thead>\n  <tbody>\n    <tr>\n      <th>0</th>\n      <td>0</td>\n      <td>Le, Ian</td>\n      <td>Male</td>\n      <td>1998-08-30</td>\n      <td>2300</td>\n      <td>Denmark</td>\n      <td>Never married</td>\n      <td>1</td>\n    </tr>\n    <tr>\n      <th>1</th>\n      <td>1</td>\n      <td>Wang, Caleb</td>\n      <td>Male</td>\n      <td>1996-04-23</td>\n      <td>2200</td>\n      <td>Denmark</td>\n      <td>Never married</td>\n      <td>1</td>\n    </tr>\n    <tr>\n      <th>2</th>\n      <td>2</td>\n      <td>Carranco, Raquel</td>\n      <td>Female</td>\n      <td>1994-08-06</td>\n      <td>2200</td>\n      <td>Denmark</td>\n      <td>Never married</td>\n      <td>1</td>\n    </tr>\n    <tr>\n      <th>3</th>\n      <td>3</td>\n      <td>Williams, Geona</td>\n      <td>Female</td>\n      <td>1995-04-22</td>\n      <td>2100</td>\n      <td>Sweden</td>\n      <td>Never married</td>\n      <td>2</td>\n    </tr>\n    <tr>\n      <th>4</th>\n      <td>4</td>\n      <td>Gonzales, Edward</td>\n      <td>Male</td>\n      <td>2000-05-13</td>\n      <td>2100</td>\n      <td>Denmark</td>\n      <td>Never married</td>\n      <td>1</td>\n    </tr>\n  </tbody>\n</table>\n</div>"
     },
     "metadata": {},
     "execution_count": 14
    }
   ],
   "source": [
    "public_data_register.head()"
   ]
  },
  {
   "cell_type": "code",
   "execution_count": 15,
   "metadata": {},
   "outputs": [],
   "source": [
    "# age calc the same way\n",
    "public_data_register['public_age'] = public_data_register['dob'].apply(lambda x: 2020 - int(x[:4]))"
   ]
  },
  {
   "cell_type": "code",
   "execution_count": 16,
   "metadata": {},
   "outputs": [
    {
     "output_type": "execute_result",
     "data": {
      "text/plain": [
       "   Unnamed: 0              name     sex         dob   zip citizenship  \\\n",
       "0           0           Le, Ian    Male  1998-08-30  2300     Denmark   \n",
       "1           1       Wang, Caleb    Male  1996-04-23  2200     Denmark   \n",
       "2           2  Carranco, Raquel  Female  1994-08-06  2200     Denmark   \n",
       "3           3   Williams, Geona  Female  1995-04-22  2100      Sweden   \n",
       "4           4  Gonzales, Edward    Male  2000-05-13  2100     Denmark   \n",
       "\n",
       "  marital_status  last_voted  public_age  \n",
       "0  Never married           1          22  \n",
       "1  Never married           1          24  \n",
       "2  Never married           1          26  \n",
       "3  Never married           2          25  \n",
       "4  Never married           1          20  "
      ],
      "text/html": "<div>\n<style scoped>\n    .dataframe tbody tr th:only-of-type {\n        vertical-align: middle;\n    }\n\n    .dataframe tbody tr th {\n        vertical-align: top;\n    }\n\n    .dataframe thead th {\n        text-align: right;\n    }\n</style>\n<table border=\"1\" class=\"dataframe\">\n  <thead>\n    <tr style=\"text-align: right;\">\n      <th></th>\n      <th>Unnamed: 0</th>\n      <th>name</th>\n      <th>sex</th>\n      <th>dob</th>\n      <th>zip</th>\n      <th>citizenship</th>\n      <th>marital_status</th>\n      <th>last_voted</th>\n      <th>public_age</th>\n    </tr>\n  </thead>\n  <tbody>\n    <tr>\n      <th>0</th>\n      <td>0</td>\n      <td>Le, Ian</td>\n      <td>Male</td>\n      <td>1998-08-30</td>\n      <td>2300</td>\n      <td>Denmark</td>\n      <td>Never married</td>\n      <td>1</td>\n      <td>22</td>\n    </tr>\n    <tr>\n      <th>1</th>\n      <td>1</td>\n      <td>Wang, Caleb</td>\n      <td>Male</td>\n      <td>1996-04-23</td>\n      <td>2200</td>\n      <td>Denmark</td>\n      <td>Never married</td>\n      <td>1</td>\n      <td>24</td>\n    </tr>\n    <tr>\n      <th>2</th>\n      <td>2</td>\n      <td>Carranco, Raquel</td>\n      <td>Female</td>\n      <td>1994-08-06</td>\n      <td>2200</td>\n      <td>Denmark</td>\n      <td>Never married</td>\n      <td>1</td>\n      <td>26</td>\n    </tr>\n    <tr>\n      <th>3</th>\n      <td>3</td>\n      <td>Williams, Geona</td>\n      <td>Female</td>\n      <td>1995-04-22</td>\n      <td>2100</td>\n      <td>Sweden</td>\n      <td>Never married</td>\n      <td>2</td>\n      <td>25</td>\n    </tr>\n    <tr>\n      <th>4</th>\n      <td>4</td>\n      <td>Gonzales, Edward</td>\n      <td>Male</td>\n      <td>2000-05-13</td>\n      <td>2100</td>\n      <td>Denmark</td>\n      <td>Never married</td>\n      <td>1</td>\n      <td>20</td>\n    </tr>\n  </tbody>\n</table>\n</div>"
     },
     "metadata": {},
     "execution_count": 16
    }
   ],
   "source": [
    "public_data_register.head()"
   ]
  },
  {
   "cell_type": "code",
   "execution_count": 17,
   "metadata": {},
   "outputs": [],
   "source": [
    "citizenship_transformer = lambda x: \"Denmark\" if x == \"Denmark\" else \"Other\"\n",
    "age_transformer = lambda x: 1 if x <= 30 else (2 if x <= 45 else (3 if x <= 65 else 4))"
   ]
  },
  {
   "cell_type": "code",
   "execution_count": 18,
   "metadata": {},
   "outputs": [],
   "source": [
    "public_data_register['encoded_age'] = public_data_register['public_age'].apply(age_transformer)\n",
    "public_data_register['encoded_citizenship'] = public_data_register['citizenship'].apply(citizenship_transformer)"
   ]
  },
  {
   "cell_type": "code",
   "execution_count": 19,
   "metadata": {},
   "outputs": [],
   "source": [
    "# filter out anyone who has not casted a vote\n",
    "public_data_register = public_data_register[public_data_register['last_voted'] != 2]"
   ]
  },
  {
   "cell_type": "code",
   "execution_count": 20,
   "metadata": {},
   "outputs": [],
   "source": [
    "merged_df = public_data_register.merge(anonymized_data, on = 'sex', how = 'outer')"
   ]
  },
  {
   "cell_type": "code",
   "execution_count": 21,
   "metadata": {},
   "outputs": [
    {
     "output_type": "stream",
     "name": "stdout",
     "text": [
      "(106214, 17)\n"
     ]
    },
    {
     "output_type": "execute_result",
     "data": {
      "text/plain": [
       "   Unnamed: 0     name   sex         dob  zip_x citizenship_x marital_status  \\\n",
       "0           0  Le, Ian  Male  1998-08-30   2300       Denmark  Never married   \n",
       "1           0  Le, Ian  Male  1998-08-30   2300       Denmark  Never married   \n",
       "2           0  Le, Ian  Male  1998-08-30   2300       Denmark  Never married   \n",
       "3           0  Le, Ian  Male  1998-08-30   2300       Denmark  Never married   \n",
       "4           0  Le, Ian  Male  1998-08-30   2300       Denmark  Never married   \n",
       "\n",
       "   last_voted  public_age  encoded_age encoded_citizenship  party   zip_y  \\\n",
       "0           1          22            1             Denmark  Green  2400.0   \n",
       "1           1          22            1             Denmark  Green  2200.0   \n",
       "2           1          22            1             Denmark    Red  2300.0   \n",
       "3           1          22            1             Denmark    Red  2300.0   \n",
       "4           1          22            1             Denmark    Red  2400.0   \n",
       "\n",
       "   age citizenship_y                                education  evote  \n",
       "0  3.0       Denmark  Vocational Education and Training (VET)      0  \n",
       "1  1.0       Denmark                       Masters programmes      0  \n",
       "2  2.0       Denmark          Vocational bachelors educations      0  \n",
       "3  3.0       Denmark  Vocational Education and Training (VET)      1  \n",
       "4  3.0       Denmark                       Masters programmes      0  "
      ],
      "text/html": "<div>\n<style scoped>\n    .dataframe tbody tr th:only-of-type {\n        vertical-align: middle;\n    }\n\n    .dataframe tbody tr th {\n        vertical-align: top;\n    }\n\n    .dataframe thead th {\n        text-align: right;\n    }\n</style>\n<table border=\"1\" class=\"dataframe\">\n  <thead>\n    <tr style=\"text-align: right;\">\n      <th></th>\n      <th>Unnamed: 0</th>\n      <th>name</th>\n      <th>sex</th>\n      <th>dob</th>\n      <th>zip_x</th>\n      <th>citizenship_x</th>\n      <th>marital_status</th>\n      <th>last_voted</th>\n      <th>public_age</th>\n      <th>encoded_age</th>\n      <th>encoded_citizenship</th>\n      <th>party</th>\n      <th>zip_y</th>\n      <th>age</th>\n      <th>citizenship_y</th>\n      <th>education</th>\n      <th>evote</th>\n    </tr>\n  </thead>\n  <tbody>\n    <tr>\n      <th>0</th>\n      <td>0</td>\n      <td>Le, Ian</td>\n      <td>Male</td>\n      <td>1998-08-30</td>\n      <td>2300</td>\n      <td>Denmark</td>\n      <td>Never married</td>\n      <td>1</td>\n      <td>22</td>\n      <td>1</td>\n      <td>Denmark</td>\n      <td>Green</td>\n      <td>2400.0</td>\n      <td>3.0</td>\n      <td>Denmark</td>\n      <td>Vocational Education and Training (VET)</td>\n      <td>0</td>\n    </tr>\n    <tr>\n      <th>1</th>\n      <td>0</td>\n      <td>Le, Ian</td>\n      <td>Male</td>\n      <td>1998-08-30</td>\n      <td>2300</td>\n      <td>Denmark</td>\n      <td>Never married</td>\n      <td>1</td>\n      <td>22</td>\n      <td>1</td>\n      <td>Denmark</td>\n      <td>Green</td>\n      <td>2200.0</td>\n      <td>1.0</td>\n      <td>Denmark</td>\n      <td>Masters programmes</td>\n      <td>0</td>\n    </tr>\n    <tr>\n      <th>2</th>\n      <td>0</td>\n      <td>Le, Ian</td>\n      <td>Male</td>\n      <td>1998-08-30</td>\n      <td>2300</td>\n      <td>Denmark</td>\n      <td>Never married</td>\n      <td>1</td>\n      <td>22</td>\n      <td>1</td>\n      <td>Denmark</td>\n      <td>Red</td>\n      <td>2300.0</td>\n      <td>2.0</td>\n      <td>Denmark</td>\n      <td>Vocational bachelors educations</td>\n      <td>0</td>\n    </tr>\n    <tr>\n      <th>3</th>\n      <td>0</td>\n      <td>Le, Ian</td>\n      <td>Male</td>\n      <td>1998-08-30</td>\n      <td>2300</td>\n      <td>Denmark</td>\n      <td>Never married</td>\n      <td>1</td>\n      <td>22</td>\n      <td>1</td>\n      <td>Denmark</td>\n      <td>Red</td>\n      <td>2300.0</td>\n      <td>3.0</td>\n      <td>Denmark</td>\n      <td>Vocational Education and Training (VET)</td>\n      <td>1</td>\n    </tr>\n    <tr>\n      <th>4</th>\n      <td>0</td>\n      <td>Le, Ian</td>\n      <td>Male</td>\n      <td>1998-08-30</td>\n      <td>2300</td>\n      <td>Denmark</td>\n      <td>Never married</td>\n      <td>1</td>\n      <td>22</td>\n      <td>1</td>\n      <td>Denmark</td>\n      <td>Red</td>\n      <td>2400.0</td>\n      <td>3.0</td>\n      <td>Denmark</td>\n      <td>Masters programmes</td>\n      <td>0</td>\n    </tr>\n  </tbody>\n</table>\n</div>"
     },
     "metadata": {},
     "execution_count": 21
    }
   ],
   "source": [
    "print(merged_df.shape)\n",
    "merged_df.head()"
   ]
  },
  {
   "cell_type": "code",
   "execution_count": 22,
   "metadata": {},
   "outputs": [
    {
     "output_type": "execute_result",
     "data": {
      "text/plain": [
       "100.2965061378659"
      ]
     },
     "metadata": {},
     "execution_count": 22
    }
   ],
   "source": [
    "merged_df['name'].value_counts().mean()"
   ]
  },
  {
   "cell_type": "code",
   "execution_count": 23,
   "metadata": {},
   "outputs": [
    {
     "output_type": "execute_result",
     "data": {
      "text/plain": [
       "Green           66634\n",
       "Red             37458\n",
       "Invalid vote     2122\n",
       "Name: party, dtype: int64"
      ]
     },
     "metadata": {},
     "execution_count": 23
    }
   ],
   "source": [
    "merged_df['party'].value_counts()"
   ]
  },
  {
   "cell_type": "code",
   "execution_count": 24,
   "metadata": {},
   "outputs": [],
   "source": [
    "# compare filterer function\n",
    "def citizenship_compare(x):\n",
    "    return x[14] == x[10]\n",
    "\n",
    "def pd_or(x):\n",
    "    return x[17] or x[18]"
   ]
  },
  {
   "cell_type": "code",
   "execution_count": 25,
   "metadata": {},
   "outputs": [
    {
     "output_type": "stream",
     "name": "stdout",
     "text": [
      "85.45420207743155\n"
     ]
    },
    {
     "output_type": "execute_result",
     "data": {
      "text/plain": [
       "   Unnamed: 0     name   sex         dob  zip_x citizenship_x marital_status  \\\n",
       "0           0  Le, Ian  Male  1998-08-30   2300       Denmark  Never married   \n",
       "1           0  Le, Ian  Male  1998-08-30   2300       Denmark  Never married   \n",
       "2           0  Le, Ian  Male  1998-08-30   2300       Denmark  Never married   \n",
       "3           0  Le, Ian  Male  1998-08-30   2300       Denmark  Never married   \n",
       "4           0  Le, Ian  Male  1998-08-30   2300       Denmark  Never married   \n",
       "\n",
       "   last_voted  public_age  encoded_age encoded_citizenship  party   zip_y  \\\n",
       "0           1          22            1             Denmark  Green  2400.0   \n",
       "1           1          22            1             Denmark  Green  2200.0   \n",
       "2           1          22            1             Denmark    Red  2300.0   \n",
       "3           1          22            1             Denmark    Red  2300.0   \n",
       "4           1          22            1             Denmark    Red  2400.0   \n",
       "\n",
       "   age citizenship_y                                education  evote  \n",
       "0  3.0       Denmark  Vocational Education and Training (VET)      0  \n",
       "1  1.0       Denmark                       Masters programmes      0  \n",
       "2  2.0       Denmark          Vocational bachelors educations      0  \n",
       "3  3.0       Denmark  Vocational Education and Training (VET)      1  \n",
       "4  3.0       Denmark                       Masters programmes      0  "
      ],
      "text/html": "<div>\n<style scoped>\n    .dataframe tbody tr th:only-of-type {\n        vertical-align: middle;\n    }\n\n    .dataframe tbody tr th {\n        vertical-align: top;\n    }\n\n    .dataframe thead th {\n        text-align: right;\n    }\n</style>\n<table border=\"1\" class=\"dataframe\">\n  <thead>\n    <tr style=\"text-align: right;\">\n      <th></th>\n      <th>Unnamed: 0</th>\n      <th>name</th>\n      <th>sex</th>\n      <th>dob</th>\n      <th>zip_x</th>\n      <th>citizenship_x</th>\n      <th>marital_status</th>\n      <th>last_voted</th>\n      <th>public_age</th>\n      <th>encoded_age</th>\n      <th>encoded_citizenship</th>\n      <th>party</th>\n      <th>zip_y</th>\n      <th>age</th>\n      <th>citizenship_y</th>\n      <th>education</th>\n      <th>evote</th>\n    </tr>\n  </thead>\n  <tbody>\n    <tr>\n      <th>0</th>\n      <td>0</td>\n      <td>Le, Ian</td>\n      <td>Male</td>\n      <td>1998-08-30</td>\n      <td>2300</td>\n      <td>Denmark</td>\n      <td>Never married</td>\n      <td>1</td>\n      <td>22</td>\n      <td>1</td>\n      <td>Denmark</td>\n      <td>Green</td>\n      <td>2400.0</td>\n      <td>3.0</td>\n      <td>Denmark</td>\n      <td>Vocational Education and Training (VET)</td>\n      <td>0</td>\n    </tr>\n    <tr>\n      <th>1</th>\n      <td>0</td>\n      <td>Le, Ian</td>\n      <td>Male</td>\n      <td>1998-08-30</td>\n      <td>2300</td>\n      <td>Denmark</td>\n      <td>Never married</td>\n      <td>1</td>\n      <td>22</td>\n      <td>1</td>\n      <td>Denmark</td>\n      <td>Green</td>\n      <td>2200.0</td>\n      <td>1.0</td>\n      <td>Denmark</td>\n      <td>Masters programmes</td>\n      <td>0</td>\n    </tr>\n    <tr>\n      <th>2</th>\n      <td>0</td>\n      <td>Le, Ian</td>\n      <td>Male</td>\n      <td>1998-08-30</td>\n      <td>2300</td>\n      <td>Denmark</td>\n      <td>Never married</td>\n      <td>1</td>\n      <td>22</td>\n      <td>1</td>\n      <td>Denmark</td>\n      <td>Red</td>\n      <td>2300.0</td>\n      <td>2.0</td>\n      <td>Denmark</td>\n      <td>Vocational bachelors educations</td>\n      <td>0</td>\n    </tr>\n    <tr>\n      <th>3</th>\n      <td>0</td>\n      <td>Le, Ian</td>\n      <td>Male</td>\n      <td>1998-08-30</td>\n      <td>2300</td>\n      <td>Denmark</td>\n      <td>Never married</td>\n      <td>1</td>\n      <td>22</td>\n      <td>1</td>\n      <td>Denmark</td>\n      <td>Red</td>\n      <td>2300.0</td>\n      <td>3.0</td>\n      <td>Denmark</td>\n      <td>Vocational Education and Training (VET)</td>\n      <td>1</td>\n    </tr>\n    <tr>\n      <th>4</th>\n      <td>0</td>\n      <td>Le, Ian</td>\n      <td>Male</td>\n      <td>1998-08-30</td>\n      <td>2300</td>\n      <td>Denmark</td>\n      <td>Never married</td>\n      <td>1</td>\n      <td>22</td>\n      <td>1</td>\n      <td>Denmark</td>\n      <td>Red</td>\n      <td>2400.0</td>\n      <td>3.0</td>\n      <td>Denmark</td>\n      <td>Masters programmes</td>\n      <td>0</td>\n    </tr>\n  </tbody>\n</table>\n</div>"
     },
     "metadata": {},
     "execution_count": 25
    }
   ],
   "source": [
    "# citizenship cleaning\n",
    "\n",
    "merged_df['citizenship_na'] = merged_df['citizenship_y'].isna()\n",
    "merged_df['citizenship_match'] = merged_df.apply(citizenship_compare, axis = 1)\n",
    "merged_df['citizenship_stays'] = merged_df.apply(pd_or, axis = 1)\n",
    "\n",
    "merged_df = merged_df[merged_df['citizenship_stays']]\n",
    "del merged_df['citizenship_na']\n",
    "del merged_df['citizenship_match']\n",
    "del merged_df['citizenship_stays']\n",
    "\n",
    "print(merged_df['name'].value_counts().mean())\n",
    "merged_df.head()"
   ]
  },
  {
   "cell_type": "code",
   "execution_count": 26,
   "metadata": {},
   "outputs": [
    {
     "output_type": "execute_result",
     "data": {
      "text/plain": [
       "Green           56363\n",
       "Red             32161\n",
       "Invalid vote     1972\n",
       "Name: party, dtype: int64"
      ]
     },
     "metadata": {},
     "execution_count": 26
    }
   ],
   "source": [
    "merged_df['party'].value_counts()"
   ]
  },
  {
   "cell_type": "code",
   "execution_count": 27,
   "metadata": {},
   "outputs": [],
   "source": [
    "# zip filtering\n",
    "def zip_compare(x):\n",
    "    return x[4] == x[12]"
   ]
  },
  {
   "cell_type": "code",
   "execution_count": 28,
   "metadata": {},
   "outputs": [
    {
     "output_type": "stream",
     "name": "stdout",
     "text": [
      "22.299338999055713\n"
     ]
    },
    {
     "output_type": "execute_result",
     "data": {
      "text/plain": [
       "    Unnamed: 0     name   sex         dob  zip_x citizenship_x marital_status  \\\n",
       "2            0  Le, Ian  Male  1998-08-30   2300       Denmark  Never married   \n",
       "3            0  Le, Ian  Male  1998-08-30   2300       Denmark  Never married   \n",
       "6            0  Le, Ian  Male  1998-08-30   2300       Denmark  Never married   \n",
       "16           0  Le, Ian  Male  1998-08-30   2300       Denmark  Never married   \n",
       "18           0  Le, Ian  Male  1998-08-30   2300       Denmark  Never married   \n",
       "\n",
       "    last_voted  public_age  encoded_age encoded_citizenship  party   zip_y  \\\n",
       "2            1          22            1             Denmark    Red  2300.0   \n",
       "3            1          22            1             Denmark    Red  2300.0   \n",
       "6            1          22            1             Denmark  Green  2300.0   \n",
       "16           1          22            1             Denmark  Green  2300.0   \n",
       "18           1          22            1             Denmark    Red  2300.0   \n",
       "\n",
       "    age citizenship_y                                education  evote  \n",
       "2   2.0       Denmark          Vocational bachelors educations      0  \n",
       "3   3.0       Denmark  Vocational Education and Training (VET)      1  \n",
       "6   2.0       Denmark  Vocational Education and Training (VET)      0  \n",
       "16  2.0       Denmark                       Masters programmes      1  \n",
       "18  4.0       Denmark  Vocational Education and Training (VET)      0  "
      ],
      "text/html": "<div>\n<style scoped>\n    .dataframe tbody tr th:only-of-type {\n        vertical-align: middle;\n    }\n\n    .dataframe tbody tr th {\n        vertical-align: top;\n    }\n\n    .dataframe thead th {\n        text-align: right;\n    }\n</style>\n<table border=\"1\" class=\"dataframe\">\n  <thead>\n    <tr style=\"text-align: right;\">\n      <th></th>\n      <th>Unnamed: 0</th>\n      <th>name</th>\n      <th>sex</th>\n      <th>dob</th>\n      <th>zip_x</th>\n      <th>citizenship_x</th>\n      <th>marital_status</th>\n      <th>last_voted</th>\n      <th>public_age</th>\n      <th>encoded_age</th>\n      <th>encoded_citizenship</th>\n      <th>party</th>\n      <th>zip_y</th>\n      <th>age</th>\n      <th>citizenship_y</th>\n      <th>education</th>\n      <th>evote</th>\n    </tr>\n  </thead>\n  <tbody>\n    <tr>\n      <th>2</th>\n      <td>0</td>\n      <td>Le, Ian</td>\n      <td>Male</td>\n      <td>1998-08-30</td>\n      <td>2300</td>\n      <td>Denmark</td>\n      <td>Never married</td>\n      <td>1</td>\n      <td>22</td>\n      <td>1</td>\n      <td>Denmark</td>\n      <td>Red</td>\n      <td>2300.0</td>\n      <td>2.0</td>\n      <td>Denmark</td>\n      <td>Vocational bachelors educations</td>\n      <td>0</td>\n    </tr>\n    <tr>\n      <th>3</th>\n      <td>0</td>\n      <td>Le, Ian</td>\n      <td>Male</td>\n      <td>1998-08-30</td>\n      <td>2300</td>\n      <td>Denmark</td>\n      <td>Never married</td>\n      <td>1</td>\n      <td>22</td>\n      <td>1</td>\n      <td>Denmark</td>\n      <td>Red</td>\n      <td>2300.0</td>\n      <td>3.0</td>\n      <td>Denmark</td>\n      <td>Vocational Education and Training (VET)</td>\n      <td>1</td>\n    </tr>\n    <tr>\n      <th>6</th>\n      <td>0</td>\n      <td>Le, Ian</td>\n      <td>Male</td>\n      <td>1998-08-30</td>\n      <td>2300</td>\n      <td>Denmark</td>\n      <td>Never married</td>\n      <td>1</td>\n      <td>22</td>\n      <td>1</td>\n      <td>Denmark</td>\n      <td>Green</td>\n      <td>2300.0</td>\n      <td>2.0</td>\n      <td>Denmark</td>\n      <td>Vocational Education and Training (VET)</td>\n      <td>0</td>\n    </tr>\n    <tr>\n      <th>16</th>\n      <td>0</td>\n      <td>Le, Ian</td>\n      <td>Male</td>\n      <td>1998-08-30</td>\n      <td>2300</td>\n      <td>Denmark</td>\n      <td>Never married</td>\n      <td>1</td>\n      <td>22</td>\n      <td>1</td>\n      <td>Denmark</td>\n      <td>Green</td>\n      <td>2300.0</td>\n      <td>2.0</td>\n      <td>Denmark</td>\n      <td>Masters programmes</td>\n      <td>1</td>\n    </tr>\n    <tr>\n      <th>18</th>\n      <td>0</td>\n      <td>Le, Ian</td>\n      <td>Male</td>\n      <td>1998-08-30</td>\n      <td>2300</td>\n      <td>Denmark</td>\n      <td>Never married</td>\n      <td>1</td>\n      <td>22</td>\n      <td>1</td>\n      <td>Denmark</td>\n      <td>Red</td>\n      <td>2300.0</td>\n      <td>4.0</td>\n      <td>Denmark</td>\n      <td>Vocational Education and Training (VET)</td>\n      <td>0</td>\n    </tr>\n  </tbody>\n</table>\n</div>"
     },
     "metadata": {},
     "execution_count": 28
    }
   ],
   "source": [
    "# zip cleaning\n",
    "\n",
    "merged_df['zip_na'] = merged_df['zip_y'].isna()\n",
    "merged_df['zip_match'] = merged_df.apply(zip_compare, axis = 1)\n",
    "merged_df['zip_stays'] = merged_df.apply(pd_or, axis = 1)\n",
    "\n",
    "merged_df = merged_df[merged_df['zip_stays']]\n",
    "del merged_df['zip_na']\n",
    "del merged_df['zip_match']\n",
    "del merged_df['zip_stays']\n",
    "\n",
    "print(merged_df['name'].value_counts().mean())\n",
    "merged_df.head()"
   ]
  },
  {
   "cell_type": "code",
   "execution_count": 29,
   "metadata": {},
   "outputs": [
    {
     "output_type": "execute_result",
     "data": {
      "text/plain": [
       "Green           14308\n",
       "Red              8731\n",
       "Invalid vote      576\n",
       "Name: party, dtype: int64"
      ]
     },
     "metadata": {},
     "execution_count": 29
    }
   ],
   "source": [
    "merged_df['party'].value_counts()"
   ]
  },
  {
   "cell_type": "code",
   "execution_count": 30,
   "metadata": {},
   "outputs": [],
   "source": [
    "# age filtering\n",
    "def age_compare(x):\n",
    "    return x[13] == x[9]\n",
    "\n",
    "def test(x):\n",
    "    return x[13]"
   ]
  },
  {
   "cell_type": "code",
   "execution_count": 31,
   "metadata": {},
   "outputs": [
    {
     "output_type": "stream",
     "name": "stdout",
     "text": [
      "8.500478468899521\n"
     ]
    },
    {
     "output_type": "execute_result",
     "data": {
      "text/plain": [
       "     Unnamed: 0         name   sex         dob  zip_x citizenship_x  \\\n",
       "36            0      Le, Ian  Male  1998-08-30   2300       Denmark   \n",
       "47            0      Le, Ian  Male  1998-08-30   2300       Denmark   \n",
       "82            0      Le, Ian  Male  1998-08-30   2300       Denmark   \n",
       "95            1  Wang, Caleb  Male  1996-04-23   2200       Denmark   \n",
       "101           1  Wang, Caleb  Male  1996-04-23   2200       Denmark   \n",
       "\n",
       "    marital_status  last_voted  public_age  encoded_age encoded_citizenship  \\\n",
       "36   Never married           1          22            1             Denmark   \n",
       "47   Never married           1          22            1             Denmark   \n",
       "82   Never married           1          22            1             Denmark   \n",
       "95   Never married           1          24            1             Denmark   \n",
       "101  Never married           1          24            1             Denmark   \n",
       "\n",
       "     party   zip_y  age citizenship_y  \\\n",
       "36   Green  2300.0  NaN       Denmark   \n",
       "47   Green  2300.0  NaN       Denmark   \n",
       "82     Red  2300.0  NaN       Denmark   \n",
       "95   Green  2200.0  1.0       Denmark   \n",
       "101  Green  2200.0  1.0       Denmark   \n",
       "\n",
       "                                   education  evote  \n",
       "36           Vocational bachelors educations      1  \n",
       "47   Vocational Education and Training (VET)      0  \n",
       "82                        Masters programmes      1  \n",
       "95                        Masters programmes      0  \n",
       "101  Vocational Education and Training (VET)      1  "
      ],
      "text/html": "<div>\n<style scoped>\n    .dataframe tbody tr th:only-of-type {\n        vertical-align: middle;\n    }\n\n    .dataframe tbody tr th {\n        vertical-align: top;\n    }\n\n    .dataframe thead th {\n        text-align: right;\n    }\n</style>\n<table border=\"1\" class=\"dataframe\">\n  <thead>\n    <tr style=\"text-align: right;\">\n      <th></th>\n      <th>Unnamed: 0</th>\n      <th>name</th>\n      <th>sex</th>\n      <th>dob</th>\n      <th>zip_x</th>\n      <th>citizenship_x</th>\n      <th>marital_status</th>\n      <th>last_voted</th>\n      <th>public_age</th>\n      <th>encoded_age</th>\n      <th>encoded_citizenship</th>\n      <th>party</th>\n      <th>zip_y</th>\n      <th>age</th>\n      <th>citizenship_y</th>\n      <th>education</th>\n      <th>evote</th>\n    </tr>\n  </thead>\n  <tbody>\n    <tr>\n      <th>36</th>\n      <td>0</td>\n      <td>Le, Ian</td>\n      <td>Male</td>\n      <td>1998-08-30</td>\n      <td>2300</td>\n      <td>Denmark</td>\n      <td>Never married</td>\n      <td>1</td>\n      <td>22</td>\n      <td>1</td>\n      <td>Denmark</td>\n      <td>Green</td>\n      <td>2300.0</td>\n      <td>NaN</td>\n      <td>Denmark</td>\n      <td>Vocational bachelors educations</td>\n      <td>1</td>\n    </tr>\n    <tr>\n      <th>47</th>\n      <td>0</td>\n      <td>Le, Ian</td>\n      <td>Male</td>\n      <td>1998-08-30</td>\n      <td>2300</td>\n      <td>Denmark</td>\n      <td>Never married</td>\n      <td>1</td>\n      <td>22</td>\n      <td>1</td>\n      <td>Denmark</td>\n      <td>Green</td>\n      <td>2300.0</td>\n      <td>NaN</td>\n      <td>Denmark</td>\n      <td>Vocational Education and Training (VET)</td>\n      <td>0</td>\n    </tr>\n    <tr>\n      <th>82</th>\n      <td>0</td>\n      <td>Le, Ian</td>\n      <td>Male</td>\n      <td>1998-08-30</td>\n      <td>2300</td>\n      <td>Denmark</td>\n      <td>Never married</td>\n      <td>1</td>\n      <td>22</td>\n      <td>1</td>\n      <td>Denmark</td>\n      <td>Red</td>\n      <td>2300.0</td>\n      <td>NaN</td>\n      <td>Denmark</td>\n      <td>Masters programmes</td>\n      <td>1</td>\n    </tr>\n    <tr>\n      <th>95</th>\n      <td>1</td>\n      <td>Wang, Caleb</td>\n      <td>Male</td>\n      <td>1996-04-23</td>\n      <td>2200</td>\n      <td>Denmark</td>\n      <td>Never married</td>\n      <td>1</td>\n      <td>24</td>\n      <td>1</td>\n      <td>Denmark</td>\n      <td>Green</td>\n      <td>2200.0</td>\n      <td>1.0</td>\n      <td>Denmark</td>\n      <td>Masters programmes</td>\n      <td>0</td>\n    </tr>\n    <tr>\n      <th>101</th>\n      <td>1</td>\n      <td>Wang, Caleb</td>\n      <td>Male</td>\n      <td>1996-04-23</td>\n      <td>2200</td>\n      <td>Denmark</td>\n      <td>Never married</td>\n      <td>1</td>\n      <td>24</td>\n      <td>1</td>\n      <td>Denmark</td>\n      <td>Green</td>\n      <td>2200.0</td>\n      <td>1.0</td>\n      <td>Denmark</td>\n      <td>Vocational Education and Training (VET)</td>\n      <td>1</td>\n    </tr>\n  </tbody>\n</table>\n</div>"
     },
     "metadata": {},
     "execution_count": 31
    }
   ],
   "source": [
    "# age cleaning\n",
    "\n",
    "merged_df['age_na'] = merged_df['age'].isna()\n",
    "merged_df['age_match'] = merged_df.apply(age_compare, axis = 1)\n",
    "merged_df['age_stays'] = merged_df.apply(pd_or, axis = 1)\n",
    "\n",
    "merged_df = merged_df[merged_df['age_stays']]\n",
    "del merged_df['age_na']\n",
    "del merged_df['age_match']\n",
    "del merged_df['age_stays']\n",
    "\n",
    "print(merged_df['name'].value_counts().mean())\n",
    "merged_df.head()"
   ]
  },
  {
   "cell_type": "code",
   "execution_count": 32,
   "metadata": {},
   "outputs": [
    {
     "output_type": "execute_result",
     "data": {
      "text/plain": [
       "Green           5503\n",
       "Red             3148\n",
       "Invalid vote     232\n",
       "Name: party, dtype: int64"
      ]
     },
     "metadata": {},
     "execution_count": 32
    }
   ],
   "source": [
    "merged_df['party'].value_counts()"
   ]
  },
  {
   "cell_type": "code",
   "execution_count": 33,
   "metadata": {},
   "outputs": [],
   "source": [
    "# evote filtering\n",
    "def vote_compare(x):\n",
    "    return x[7] == x[16]"
   ]
  },
  {
   "cell_type": "code",
   "execution_count": 34,
   "metadata": {},
   "outputs": [
    {
     "output_type": "stream",
     "name": "stdout",
     "text": [
      "5.390147783251232\n"
     ]
    },
    {
     "output_type": "execute_result",
     "data": {
      "text/plain": [
       "     Unnamed: 0         name   sex         dob  zip_x citizenship_x  \\\n",
       "36            0      Le, Ian  Male  1998-08-30   2300       Denmark   \n",
       "82            0      Le, Ian  Male  1998-08-30   2300       Denmark   \n",
       "101           1  Wang, Caleb  Male  1996-04-23   2200       Denmark   \n",
       "145           1  Wang, Caleb  Male  1996-04-23   2200       Denmark   \n",
       "151           1  Wang, Caleb  Male  1996-04-23   2200       Denmark   \n",
       "\n",
       "    marital_status  last_voted  public_age  encoded_age encoded_citizenship  \\\n",
       "36   Never married           1          22            1             Denmark   \n",
       "82   Never married           1          22            1             Denmark   \n",
       "101  Never married           1          24            1             Denmark   \n",
       "145  Never married           1          24            1             Denmark   \n",
       "151  Never married           1          24            1             Denmark   \n",
       "\n",
       "            party   zip_y  age citizenship_y  \\\n",
       "36          Green  2300.0  NaN       Denmark   \n",
       "82            Red  2300.0  NaN       Denmark   \n",
       "101         Green  2200.0  1.0       Denmark   \n",
       "145         Green  2200.0  NaN       Denmark   \n",
       "151  Invalid vote  2200.0  1.0           NaN   \n",
       "\n",
       "                                   education  evote  \n",
       "36           Vocational bachelors educations      1  \n",
       "82                        Masters programmes      1  \n",
       "101  Vocational Education and Training (VET)      1  \n",
       "145             Short cycle higher education      1  \n",
       "151  Vocational Education and Training (VET)      1  "
      ],
      "text/html": "<div>\n<style scoped>\n    .dataframe tbody tr th:only-of-type {\n        vertical-align: middle;\n    }\n\n    .dataframe tbody tr th {\n        vertical-align: top;\n    }\n\n    .dataframe thead th {\n        text-align: right;\n    }\n</style>\n<table border=\"1\" class=\"dataframe\">\n  <thead>\n    <tr style=\"text-align: right;\">\n      <th></th>\n      <th>Unnamed: 0</th>\n      <th>name</th>\n      <th>sex</th>\n      <th>dob</th>\n      <th>zip_x</th>\n      <th>citizenship_x</th>\n      <th>marital_status</th>\n      <th>last_voted</th>\n      <th>public_age</th>\n      <th>encoded_age</th>\n      <th>encoded_citizenship</th>\n      <th>party</th>\n      <th>zip_y</th>\n      <th>age</th>\n      <th>citizenship_y</th>\n      <th>education</th>\n      <th>evote</th>\n    </tr>\n  </thead>\n  <tbody>\n    <tr>\n      <th>36</th>\n      <td>0</td>\n      <td>Le, Ian</td>\n      <td>Male</td>\n      <td>1998-08-30</td>\n      <td>2300</td>\n      <td>Denmark</td>\n      <td>Never married</td>\n      <td>1</td>\n      <td>22</td>\n      <td>1</td>\n      <td>Denmark</td>\n      <td>Green</td>\n      <td>2300.0</td>\n      <td>NaN</td>\n      <td>Denmark</td>\n      <td>Vocational bachelors educations</td>\n      <td>1</td>\n    </tr>\n    <tr>\n      <th>82</th>\n      <td>0</td>\n      <td>Le, Ian</td>\n      <td>Male</td>\n      <td>1998-08-30</td>\n      <td>2300</td>\n      <td>Denmark</td>\n      <td>Never married</td>\n      <td>1</td>\n      <td>22</td>\n      <td>1</td>\n      <td>Denmark</td>\n      <td>Red</td>\n      <td>2300.0</td>\n      <td>NaN</td>\n      <td>Denmark</td>\n      <td>Masters programmes</td>\n      <td>1</td>\n    </tr>\n    <tr>\n      <th>101</th>\n      <td>1</td>\n      <td>Wang, Caleb</td>\n      <td>Male</td>\n      <td>1996-04-23</td>\n      <td>2200</td>\n      <td>Denmark</td>\n      <td>Never married</td>\n      <td>1</td>\n      <td>24</td>\n      <td>1</td>\n      <td>Denmark</td>\n      <td>Green</td>\n      <td>2200.0</td>\n      <td>1.0</td>\n      <td>Denmark</td>\n      <td>Vocational Education and Training (VET)</td>\n      <td>1</td>\n    </tr>\n    <tr>\n      <th>145</th>\n      <td>1</td>\n      <td>Wang, Caleb</td>\n      <td>Male</td>\n      <td>1996-04-23</td>\n      <td>2200</td>\n      <td>Denmark</td>\n      <td>Never married</td>\n      <td>1</td>\n      <td>24</td>\n      <td>1</td>\n      <td>Denmark</td>\n      <td>Green</td>\n      <td>2200.0</td>\n      <td>NaN</td>\n      <td>Denmark</td>\n      <td>Short cycle higher education</td>\n      <td>1</td>\n    </tr>\n    <tr>\n      <th>151</th>\n      <td>1</td>\n      <td>Wang, Caleb</td>\n      <td>Male</td>\n      <td>1996-04-23</td>\n      <td>2200</td>\n      <td>Denmark</td>\n      <td>Never married</td>\n      <td>1</td>\n      <td>24</td>\n      <td>1</td>\n      <td>Denmark</td>\n      <td>Invalid vote</td>\n      <td>2200.0</td>\n      <td>1.0</td>\n      <td>NaN</td>\n      <td>Vocational Education and Training (VET)</td>\n      <td>1</td>\n    </tr>\n  </tbody>\n</table>\n</div>"
     },
     "metadata": {},
     "execution_count": 34
    }
   ],
   "source": [
    "# evote cleaning\n",
    "\n",
    "merged_df['vote_match'] = merged_df.apply(vote_compare, axis = 1)\n",
    "\n",
    "merged_df = merged_df[merged_df['vote_match']]\n",
    "del merged_df['vote_match']\n",
    "\n",
    "print(merged_df['name'].value_counts().mean())\n",
    "merged_df.head()"
   ]
  },
  {
   "cell_type": "code",
   "execution_count": 35,
   "metadata": {},
   "outputs": [
    {
     "output_type": "execute_result",
     "data": {
      "text/plain": [
       "Green           3222\n",
       "Red             2100\n",
       "Invalid vote     149\n",
       "Name: party, dtype: int64"
      ]
     },
     "metadata": {},
     "execution_count": 35
    }
   ],
   "source": [
    "merged_df['party'].value_counts()"
   ]
  },
  {
   "source": [
    "## check what you can match after all these narrowing downs\n"
   ],
   "cell_type": "markdown",
   "metadata": {}
  },
  {
   "cell_type": "code",
   "execution_count": 36,
   "metadata": {},
   "outputs": [
    {
     "output_type": "execute_result",
     "data": {
      "text/plain": [
       "                                       party\n",
       "sex    evote zip_y  citizenship_y age       \n",
       "Female 0     2100.0 Denmark       1.0      1\n",
       "                                  2.0      2\n",
       "             2200.0 Denmark       1.0      2\n",
       "                                  2.0      2\n",
       "                                  3.0      2\n",
       "                                  4.0      2\n",
       "             2300.0 Denmark       1.0      1\n",
       "                                  2.0      2\n",
       "                                  3.0      2\n",
       "                                  4.0      2\n",
       "             2400.0 Denmark       2.0      3\n",
       "                                  3.0      2\n",
       "                                  4.0      2\n",
       "       1     2100.0 Denmark       1.0      1\n",
       "                                  2.0      1\n",
       "                                  3.0      1\n",
       "             2200.0 Denmark       1.0      1\n",
       "                                  2.0      1\n",
       "             2300.0 Denmark       2.0      2\n",
       "             2400.0 Denmark       2.0      2\n",
       "                                  3.0      2\n",
       "Male   0     2100.0 Denmark       3.0      1\n",
       "                                  4.0      1\n",
       "             2200.0 Denmark       1.0      3\n",
       "                                  2.0      1\n",
       "                                  3.0      2\n",
       "                                  4.0      2\n",
       "             2300.0 Denmark       2.0      2\n",
       "                                  3.0      2\n",
       "                                  4.0      1\n",
       "             2400.0 Denmark       2.0      2\n",
       "                                  3.0      2\n",
       "                                  4.0      1\n",
       "                    Other         3.0      1\n",
       "       1     2100.0 Denmark       1.0      1\n",
       "                                  2.0      1\n",
       "             2200.0 Denmark       1.0      1\n",
       "                                  2.0      1\n",
       "             2300.0 Denmark       2.0      1\n",
       "                                  3.0      2\n",
       "             2400.0 Denmark       3.0      1"
      ],
      "text/html": "<div>\n<style scoped>\n    .dataframe tbody tr th:only-of-type {\n        vertical-align: middle;\n    }\n\n    .dataframe tbody tr th {\n        vertical-align: top;\n    }\n\n    .dataframe thead th {\n        text-align: right;\n    }\n</style>\n<table border=\"1\" class=\"dataframe\">\n  <thead>\n    <tr style=\"text-align: right;\">\n      <th></th>\n      <th></th>\n      <th></th>\n      <th></th>\n      <th></th>\n      <th>party</th>\n    </tr>\n    <tr>\n      <th>sex</th>\n      <th>evote</th>\n      <th>zip_y</th>\n      <th>citizenship_y</th>\n      <th>age</th>\n      <th></th>\n    </tr>\n  </thead>\n  <tbody>\n    <tr>\n      <th rowspan=\"21\" valign=\"top\">Female</th>\n      <th rowspan=\"13\" valign=\"top\">0</th>\n      <th rowspan=\"2\" valign=\"top\">2100.0</th>\n      <th rowspan=\"2\" valign=\"top\">Denmark</th>\n      <th>1.0</th>\n      <td>1</td>\n    </tr>\n    <tr>\n      <th>2.0</th>\n      <td>2</td>\n    </tr>\n    <tr>\n      <th rowspan=\"4\" valign=\"top\">2200.0</th>\n      <th rowspan=\"4\" valign=\"top\">Denmark</th>\n      <th>1.0</th>\n      <td>2</td>\n    </tr>\n    <tr>\n      <th>2.0</th>\n      <td>2</td>\n    </tr>\n    <tr>\n      <th>3.0</th>\n      <td>2</td>\n    </tr>\n    <tr>\n      <th>4.0</th>\n      <td>2</td>\n    </tr>\n    <tr>\n      <th rowspan=\"4\" valign=\"top\">2300.0</th>\n      <th rowspan=\"4\" valign=\"top\">Denmark</th>\n      <th>1.0</th>\n      <td>1</td>\n    </tr>\n    <tr>\n      <th>2.0</th>\n      <td>2</td>\n    </tr>\n    <tr>\n      <th>3.0</th>\n      <td>2</td>\n    </tr>\n    <tr>\n      <th>4.0</th>\n      <td>2</td>\n    </tr>\n    <tr>\n      <th rowspan=\"3\" valign=\"top\">2400.0</th>\n      <th rowspan=\"3\" valign=\"top\">Denmark</th>\n      <th>2.0</th>\n      <td>3</td>\n    </tr>\n    <tr>\n      <th>3.0</th>\n      <td>2</td>\n    </tr>\n    <tr>\n      <th>4.0</th>\n      <td>2</td>\n    </tr>\n    <tr>\n      <th rowspan=\"8\" valign=\"top\">1</th>\n      <th rowspan=\"3\" valign=\"top\">2100.0</th>\n      <th rowspan=\"3\" valign=\"top\">Denmark</th>\n      <th>1.0</th>\n      <td>1</td>\n    </tr>\n    <tr>\n      <th>2.0</th>\n      <td>1</td>\n    </tr>\n    <tr>\n      <th>3.0</th>\n      <td>1</td>\n    </tr>\n    <tr>\n      <th rowspan=\"2\" valign=\"top\">2200.0</th>\n      <th rowspan=\"2\" valign=\"top\">Denmark</th>\n      <th>1.0</th>\n      <td>1</td>\n    </tr>\n    <tr>\n      <th>2.0</th>\n      <td>1</td>\n    </tr>\n    <tr>\n      <th>2300.0</th>\n      <th>Denmark</th>\n      <th>2.0</th>\n      <td>2</td>\n    </tr>\n    <tr>\n      <th rowspan=\"2\" valign=\"top\">2400.0</th>\n      <th rowspan=\"2\" valign=\"top\">Denmark</th>\n      <th>2.0</th>\n      <td>2</td>\n    </tr>\n    <tr>\n      <th>3.0</th>\n      <td>2</td>\n    </tr>\n    <tr>\n      <th rowspan=\"20\" valign=\"top\">Male</th>\n      <th rowspan=\"13\" valign=\"top\">0</th>\n      <th rowspan=\"2\" valign=\"top\">2100.0</th>\n      <th rowspan=\"2\" valign=\"top\">Denmark</th>\n      <th>3.0</th>\n      <td>1</td>\n    </tr>\n    <tr>\n      <th>4.0</th>\n      <td>1</td>\n    </tr>\n    <tr>\n      <th rowspan=\"4\" valign=\"top\">2200.0</th>\n      <th rowspan=\"4\" valign=\"top\">Denmark</th>\n      <th>1.0</th>\n      <td>3</td>\n    </tr>\n    <tr>\n      <th>2.0</th>\n      <td>1</td>\n    </tr>\n    <tr>\n      <th>3.0</th>\n      <td>2</td>\n    </tr>\n    <tr>\n      <th>4.0</th>\n      <td>2</td>\n    </tr>\n    <tr>\n      <th rowspan=\"3\" valign=\"top\">2300.0</th>\n      <th rowspan=\"3\" valign=\"top\">Denmark</th>\n      <th>2.0</th>\n      <td>2</td>\n    </tr>\n    <tr>\n      <th>3.0</th>\n      <td>2</td>\n    </tr>\n    <tr>\n      <th>4.0</th>\n      <td>1</td>\n    </tr>\n    <tr>\n      <th rowspan=\"4\" valign=\"top\">2400.0</th>\n      <th rowspan=\"3\" valign=\"top\">Denmark</th>\n      <th>2.0</th>\n      <td>2</td>\n    </tr>\n    <tr>\n      <th>3.0</th>\n      <td>2</td>\n    </tr>\n    <tr>\n      <th>4.0</th>\n      <td>1</td>\n    </tr>\n    <tr>\n      <th>Other</th>\n      <th>3.0</th>\n      <td>1</td>\n    </tr>\n    <tr>\n      <th rowspan=\"7\" valign=\"top\">1</th>\n      <th rowspan=\"2\" valign=\"top\">2100.0</th>\n      <th rowspan=\"2\" valign=\"top\">Denmark</th>\n      <th>1.0</th>\n      <td>1</td>\n    </tr>\n    <tr>\n      <th>2.0</th>\n      <td>1</td>\n    </tr>\n    <tr>\n      <th rowspan=\"2\" valign=\"top\">2200.0</th>\n      <th rowspan=\"2\" valign=\"top\">Denmark</th>\n      <th>1.0</th>\n      <td>1</td>\n    </tr>\n    <tr>\n      <th>2.0</th>\n      <td>1</td>\n    </tr>\n    <tr>\n      <th rowspan=\"2\" valign=\"top\">2300.0</th>\n      <th rowspan=\"2\" valign=\"top\">Denmark</th>\n      <th>2.0</th>\n      <td>1</td>\n    </tr>\n    <tr>\n      <th>3.0</th>\n      <td>2</td>\n    </tr>\n    <tr>\n      <th>2400.0</th>\n      <th>Denmark</th>\n      <th>3.0</th>\n      <td>1</td>\n    </tr>\n  </tbody>\n</table>\n</div>"
     },
     "metadata": {},
     "execution_count": 36
    }
   ],
   "source": [
    "# checking if users are obvious\n",
    "merged_df[['party', 'sex', 'evote', 'zip_y', 'citizenship_y', 'age']].groupby(['sex', 'evote', 'zip_y', 'citizenship_y', 'age']).nunique()"
   ]
  },
  {
   "cell_type": "code",
   "execution_count": 53,
   "metadata": {},
   "outputs": [],
   "source": [
    "## Use aux data\n",
    "aux_df = pd.read_csv('auxiliary0.csv')"
   ]
  },
  {
   "cell_type": "code",
   "execution_count": 54,
   "metadata": {},
   "outputs": [
    {
     "output_type": "execute_result",
     "data": {
      "text/plain": [
       "    public_age  citizenship                                education\n",
       "0           59        Italy  Vocational Education and Training (VET)\n",
       "1           66       Poland                       Masters programmes\n",
       "2           33       Brazil                        Primary education\n",
       "3           49       Turkey  Vocational Education and Training (VET)\n",
       "4           70     Pakistan                        Primary education\n",
       "5           49      Armenia                       Masters programmes\n",
       "6           31        China                     Bachelors programmes\n",
       "7           31       Poland                       Masters programmes\n",
       "8           45    Stateless                     Bachelors programmes\n",
       "9           29  Afghanistan  Vocational Education and Training (VET)\n",
       "10          32      Romania  Vocational Education and Training (VET)\n",
       "11          64       Sweden                        Primary education\n",
       "12          20        China                        Primary education\n",
       "13          71       Poland          Vocational bachelors educations\n",
       "14         100       Turkey                        Primary education"
      ],
      "text/html": "<div>\n<style scoped>\n    .dataframe tbody tr th:only-of-type {\n        vertical-align: middle;\n    }\n\n    .dataframe tbody tr th {\n        vertical-align: top;\n    }\n\n    .dataframe thead th {\n        text-align: right;\n    }\n</style>\n<table border=\"1\" class=\"dataframe\">\n  <thead>\n    <tr style=\"text-align: right;\">\n      <th></th>\n      <th>public_age</th>\n      <th>citizenship</th>\n      <th>education</th>\n    </tr>\n  </thead>\n  <tbody>\n    <tr>\n      <th>0</th>\n      <td>59</td>\n      <td>Italy</td>\n      <td>Vocational Education and Training (VET)</td>\n    </tr>\n    <tr>\n      <th>1</th>\n      <td>66</td>\n      <td>Poland</td>\n      <td>Masters programmes</td>\n    </tr>\n    <tr>\n      <th>2</th>\n      <td>33</td>\n      <td>Brazil</td>\n      <td>Primary education</td>\n    </tr>\n    <tr>\n      <th>3</th>\n      <td>49</td>\n      <td>Turkey</td>\n      <td>Vocational Education and Training (VET)</td>\n    </tr>\n    <tr>\n      <th>4</th>\n      <td>70</td>\n      <td>Pakistan</td>\n      <td>Primary education</td>\n    </tr>\n    <tr>\n      <th>5</th>\n      <td>49</td>\n      <td>Armenia</td>\n      <td>Masters programmes</td>\n    </tr>\n    <tr>\n      <th>6</th>\n      <td>31</td>\n      <td>China</td>\n      <td>Bachelors programmes</td>\n    </tr>\n    <tr>\n      <th>7</th>\n      <td>31</td>\n      <td>Poland</td>\n      <td>Masters programmes</td>\n    </tr>\n    <tr>\n      <th>8</th>\n      <td>45</td>\n      <td>Stateless</td>\n      <td>Bachelors programmes</td>\n    </tr>\n    <tr>\n      <th>9</th>\n      <td>29</td>\n      <td>Afghanistan</td>\n      <td>Vocational Education and Training (VET)</td>\n    </tr>\n    <tr>\n      <th>10</th>\n      <td>32</td>\n      <td>Romania</td>\n      <td>Vocational Education and Training (VET)</td>\n    </tr>\n    <tr>\n      <th>11</th>\n      <td>64</td>\n      <td>Sweden</td>\n      <td>Primary education</td>\n    </tr>\n    <tr>\n      <th>12</th>\n      <td>20</td>\n      <td>China</td>\n      <td>Primary education</td>\n    </tr>\n    <tr>\n      <th>13</th>\n      <td>71</td>\n      <td>Poland</td>\n      <td>Vocational bachelors educations</td>\n    </tr>\n    <tr>\n      <th>14</th>\n      <td>100</td>\n      <td>Turkey</td>\n      <td>Primary education</td>\n    </tr>\n  </tbody>\n</table>\n</div>"
     },
     "metadata": {},
     "execution_count": 54
    }
   ],
   "source": [
    "aux_df"
   ]
  },
  {
   "cell_type": "code",
   "execution_count": 40,
   "metadata": {},
   "outputs": [
    {
     "output_type": "execute_result",
     "data": {
      "text/plain": [
       "Green           126\n",
       "Red              70\n",
       "Invalid vote      4\n",
       "Name: party, dtype: int64"
      ]
     },
     "metadata": {},
     "execution_count": 40
    }
   ],
   "source": [
    "private_data_original['party'].value_counts()"
   ]
  },
  {
   "cell_type": "code",
   "execution_count": 43,
   "metadata": {},
   "outputs": [
    {
     "output_type": "execute_result",
     "data": {
      "text/plain": [
       "(5471, 17)"
      ]
     },
     "metadata": {},
     "execution_count": 43
    }
   ],
   "source": [
    "merged_df.shape"
   ]
  },
  {
   "cell_type": "code",
   "execution_count": 47,
   "metadata": {},
   "outputs": [
    {
     "output_type": "execute_result",
     "data": {
      "text/plain": [
       "(1061, 11)"
      ]
     },
     "metadata": {},
     "execution_count": 47
    }
   ],
   "source": [
    "public_data_register.shape"
   ]
  },
  {
   "cell_type": "code",
   "execution_count": 45,
   "metadata": {},
   "outputs": [
    {
     "output_type": "execute_result",
     "data": {
      "text/plain": [
       "(200, 7)"
      ]
     },
     "metadata": {},
     "execution_count": 45
    }
   ],
   "source": [
    "anonymized_data.shape"
   ]
  },
  {
   "cell_type": "code",
   "execution_count": 67,
   "metadata": {},
   "outputs": [
    {
     "output_type": "execute_result",
     "data": {
      "text/plain": [
       "     party     sex     zip  age citizenship  \\\n",
       "29   Green    Male  2400.0  3.0       Other   \n",
       "30     Red    Male  2300.0  NaN       Other   \n",
       "70   Green    Male  2100.0  NaN       Other   \n",
       "73   Green    Male  2400.0  3.0       Other   \n",
       "81   Green  Female     NaN  4.0       Other   \n",
       "85   Green    Male  2300.0  NaN       Other   \n",
       "98   Green    Male  2400.0  NaN       Other   \n",
       "120  Green    Male     NaN  2.0       Other   \n",
       "127  Green  Female  2100.0  NaN       Other   \n",
       "148  Green  Female  2200.0  NaN       Other   \n",
       "157    Red  Female  2400.0  NaN       Other   \n",
       "176  Green    Male  2100.0  NaN       Other   \n",
       "183    Red  Female     NaN  4.0       Other   \n",
       "192    Red  Female     NaN  4.0       Other   \n",
       "\n",
       "                                   education  evote  \n",
       "29   Vocational Education and Training (VET)      0  \n",
       "30                        Masters programmes      0  \n",
       "70                         Primary education      0  \n",
       "73   Vocational Education and Training (VET)      0  \n",
       "81                         Primary education      0  \n",
       "85                        Masters programmes      0  \n",
       "98                      Bachelors programmes      0  \n",
       "120                       Masters programmes      0  \n",
       "127                     Bachelors programmes      0  \n",
       "148  Vocational Education and Training (VET)      0  \n",
       "157                        Primary education      0  \n",
       "176                        Primary education      0  \n",
       "183          Vocational bachelors educations      0  \n",
       "192                        Primary education      0  "
      ],
      "text/html": "<div>\n<style scoped>\n    .dataframe tbody tr th:only-of-type {\n        vertical-align: middle;\n    }\n\n    .dataframe tbody tr th {\n        vertical-align: top;\n    }\n\n    .dataframe thead th {\n        text-align: right;\n    }\n</style>\n<table border=\"1\" class=\"dataframe\">\n  <thead>\n    <tr style=\"text-align: right;\">\n      <th></th>\n      <th>party</th>\n      <th>sex</th>\n      <th>zip</th>\n      <th>age</th>\n      <th>citizenship</th>\n      <th>education</th>\n      <th>evote</th>\n    </tr>\n  </thead>\n  <tbody>\n    <tr>\n      <th>29</th>\n      <td>Green</td>\n      <td>Male</td>\n      <td>2400.0</td>\n      <td>3.0</td>\n      <td>Other</td>\n      <td>Vocational Education and Training (VET)</td>\n      <td>0</td>\n    </tr>\n    <tr>\n      <th>30</th>\n      <td>Red</td>\n      <td>Male</td>\n      <td>2300.0</td>\n      <td>NaN</td>\n      <td>Other</td>\n      <td>Masters programmes</td>\n      <td>0</td>\n    </tr>\n    <tr>\n      <th>70</th>\n      <td>Green</td>\n      <td>Male</td>\n      <td>2100.0</td>\n      <td>NaN</td>\n      <td>Other</td>\n      <td>Primary education</td>\n      <td>0</td>\n    </tr>\n    <tr>\n      <th>73</th>\n      <td>Green</td>\n      <td>Male</td>\n      <td>2400.0</td>\n      <td>3.0</td>\n      <td>Other</td>\n      <td>Vocational Education and Training (VET)</td>\n      <td>0</td>\n    </tr>\n    <tr>\n      <th>81</th>\n      <td>Green</td>\n      <td>Female</td>\n      <td>NaN</td>\n      <td>4.0</td>\n      <td>Other</td>\n      <td>Primary education</td>\n      <td>0</td>\n    </tr>\n    <tr>\n      <th>85</th>\n      <td>Green</td>\n      <td>Male</td>\n      <td>2300.0</td>\n      <td>NaN</td>\n      <td>Other</td>\n      <td>Masters programmes</td>\n      <td>0</td>\n    </tr>\n    <tr>\n      <th>98</th>\n      <td>Green</td>\n      <td>Male</td>\n      <td>2400.0</td>\n      <td>NaN</td>\n      <td>Other</td>\n      <td>Bachelors programmes</td>\n      <td>0</td>\n    </tr>\n    <tr>\n      <th>120</th>\n      <td>Green</td>\n      <td>Male</td>\n      <td>NaN</td>\n      <td>2.0</td>\n      <td>Other</td>\n      <td>Masters programmes</td>\n      <td>0</td>\n    </tr>\n    <tr>\n      <th>127</th>\n      <td>Green</td>\n      <td>Female</td>\n      <td>2100.0</td>\n      <td>NaN</td>\n      <td>Other</td>\n      <td>Bachelors programmes</td>\n      <td>0</td>\n    </tr>\n    <tr>\n      <th>148</th>\n      <td>Green</td>\n      <td>Female</td>\n      <td>2200.0</td>\n      <td>NaN</td>\n      <td>Other</td>\n      <td>Vocational Education and Training (VET)</td>\n      <td>0</td>\n    </tr>\n    <tr>\n      <th>157</th>\n      <td>Red</td>\n      <td>Female</td>\n      <td>2400.0</td>\n      <td>NaN</td>\n      <td>Other</td>\n      <td>Primary education</td>\n      <td>0</td>\n    </tr>\n    <tr>\n      <th>176</th>\n      <td>Green</td>\n      <td>Male</td>\n      <td>2100.0</td>\n      <td>NaN</td>\n      <td>Other</td>\n      <td>Primary education</td>\n      <td>0</td>\n    </tr>\n    <tr>\n      <th>183</th>\n      <td>Red</td>\n      <td>Female</td>\n      <td>NaN</td>\n      <td>4.0</td>\n      <td>Other</td>\n      <td>Vocational bachelors educations</td>\n      <td>0</td>\n    </tr>\n    <tr>\n      <th>192</th>\n      <td>Red</td>\n      <td>Female</td>\n      <td>NaN</td>\n      <td>4.0</td>\n      <td>Other</td>\n      <td>Primary education</td>\n      <td>0</td>\n    </tr>\n  </tbody>\n</table>\n</div>"
     },
     "metadata": {},
     "execution_count": 67
    }
   ],
   "source": [
    "anonymized_data[anonymized_data['citizenship'] == \"Other\"]"
   ]
  },
  {
   "cell_type": "code",
   "execution_count": 68,
   "metadata": {},
   "outputs": [
    {
     "output_type": "execute_result",
     "data": {
      "text/plain": [
       "      Unnamed: 0                name     sex         dob   zip citizenship  \\\n",
       "257          257  Ramos Varela, Nedy  Female  1977-01-20  2400    Pakistan   \n",
       "1288        1288     Newson, Jasmine  Female  1950-02-09  2300    Pakistan   \n",
       "1484        1484  Herron Jr, Chantal  Female  1949-05-16  2300    Pakistan   \n",
       "\n",
       "         marital_status  last_voted  public_age  encoded_age  \\\n",
       "257   Married/separated           1          43            2   \n",
       "1288      Never married           0          70            4   \n",
       "1484  Married/separated           0          71            4   \n",
       "\n",
       "     encoded_citizenship  \n",
       "257                Other  \n",
       "1288               Other  \n",
       "1484               Other  "
      ],
      "text/html": "<div>\n<style scoped>\n    .dataframe tbody tr th:only-of-type {\n        vertical-align: middle;\n    }\n\n    .dataframe tbody tr th {\n        vertical-align: top;\n    }\n\n    .dataframe thead th {\n        text-align: right;\n    }\n</style>\n<table border=\"1\" class=\"dataframe\">\n  <thead>\n    <tr style=\"text-align: right;\">\n      <th></th>\n      <th>Unnamed: 0</th>\n      <th>name</th>\n      <th>sex</th>\n      <th>dob</th>\n      <th>zip</th>\n      <th>citizenship</th>\n      <th>marital_status</th>\n      <th>last_voted</th>\n      <th>public_age</th>\n      <th>encoded_age</th>\n      <th>encoded_citizenship</th>\n    </tr>\n  </thead>\n  <tbody>\n    <tr>\n      <th>257</th>\n      <td>257</td>\n      <td>Ramos Varela, Nedy</td>\n      <td>Female</td>\n      <td>1977-01-20</td>\n      <td>2400</td>\n      <td>Pakistan</td>\n      <td>Married/separated</td>\n      <td>1</td>\n      <td>43</td>\n      <td>2</td>\n      <td>Other</td>\n    </tr>\n    <tr>\n      <th>1288</th>\n      <td>1288</td>\n      <td>Newson, Jasmine</td>\n      <td>Female</td>\n      <td>1950-02-09</td>\n      <td>2300</td>\n      <td>Pakistan</td>\n      <td>Never married</td>\n      <td>0</td>\n      <td>70</td>\n      <td>4</td>\n      <td>Other</td>\n    </tr>\n    <tr>\n      <th>1484</th>\n      <td>1484</td>\n      <td>Herron Jr, Chantal</td>\n      <td>Female</td>\n      <td>1949-05-16</td>\n      <td>2300</td>\n      <td>Pakistan</td>\n      <td>Married/separated</td>\n      <td>0</td>\n      <td>71</td>\n      <td>4</td>\n      <td>Other</td>\n    </tr>\n  </tbody>\n</table>\n</div>"
     },
     "metadata": {},
     "execution_count": 68
    }
   ],
   "source": [
    "public_data_register[public_data_register['citizenship'] == 'Pakistan']"
   ]
  },
  {
   "cell_type": "code",
   "execution_count": null,
   "metadata": {},
   "outputs": [],
   "source": []
  }
 ]
}