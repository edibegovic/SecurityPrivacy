{
 "metadata": {
  "language_info": {
   "codemirror_mode": {
    "name": "ipython",
    "version": 3
   },
   "file_extension": ".py",
   "mimetype": "text/x-python",
   "name": "python",
   "nbconvert_exporter": "python",
   "pygments_lexer": "ipython3",
   "version": "3.8.5-final"
  },
  "orig_nbformat": 2,
  "kernelspec": {
   "name": "python3",
   "display_name": "Python 3"
  }
 },
 "nbformat": 4,
 "nbformat_minor": 2,
 "cells": [
  {
   "cell_type": "code",
   "execution_count": 1,
   "metadata": {},
   "outputs": [],
   "source": [
    "# imports\n",
    "import pandas as pd\n",
    "import matplotlib.pyplot"
   ]
  },
  {
   "cell_type": "code",
   "execution_count": 2,
   "metadata": {},
   "outputs": [],
   "source": [
    "# read files \n",
    "private_data_original = pd.read_csv('../data/private_dataB.csv')\n",
    "public_data_register = pd.read_csv('../data/public_data_registerB.csv')\n",
    "public_data_results = pd.read_csv('../data/public_data_resultsB.csv')"
   ]
  },
  {
   "source": [
    "## Doin transforms you know they did too"
   ],
   "cell_type": "markdown",
   "metadata": {}
  },
  {
   "cell_type": "code",
   "execution_count": 3,
   "metadata": {},
   "outputs": [
    {
     "output_type": "execute_result",
     "data": {
      "text/plain": [
       "   Unnamed: 0              name     sex         dob   zip citizenship  \\\n",
       "0           0           Le, Ian    Male  1998-08-30  2300     Denmark   \n",
       "1           1       Wang, Caleb    Male  1996-04-23  2200     Denmark   \n",
       "2           2  Carranco, Raquel  Female  1994-08-06  2200     Denmark   \n",
       "3           3   Williams, Geona  Female  1995-04-22  2100      Sweden   \n",
       "4           4  Gonzales, Edward    Male  2000-05-13  2100     Denmark   \n",
       "\n",
       "  marital_status  last_voted  \n",
       "0  Never married           1  \n",
       "1  Never married           1  \n",
       "2  Never married           1  \n",
       "3  Never married           2  \n",
       "4  Never married           1  "
      ],
      "text/html": "<div>\n<style scoped>\n    .dataframe tbody tr th:only-of-type {\n        vertical-align: middle;\n    }\n\n    .dataframe tbody tr th {\n        vertical-align: top;\n    }\n\n    .dataframe thead th {\n        text-align: right;\n    }\n</style>\n<table border=\"1\" class=\"dataframe\">\n  <thead>\n    <tr style=\"text-align: right;\">\n      <th></th>\n      <th>Unnamed: 0</th>\n      <th>name</th>\n      <th>sex</th>\n      <th>dob</th>\n      <th>zip</th>\n      <th>citizenship</th>\n      <th>marital_status</th>\n      <th>last_voted</th>\n    </tr>\n  </thead>\n  <tbody>\n    <tr>\n      <th>0</th>\n      <td>0</td>\n      <td>Le, Ian</td>\n      <td>Male</td>\n      <td>1998-08-30</td>\n      <td>2300</td>\n      <td>Denmark</td>\n      <td>Never married</td>\n      <td>1</td>\n    </tr>\n    <tr>\n      <th>1</th>\n      <td>1</td>\n      <td>Wang, Caleb</td>\n      <td>Male</td>\n      <td>1996-04-23</td>\n      <td>2200</td>\n      <td>Denmark</td>\n      <td>Never married</td>\n      <td>1</td>\n    </tr>\n    <tr>\n      <th>2</th>\n      <td>2</td>\n      <td>Carranco, Raquel</td>\n      <td>Female</td>\n      <td>1994-08-06</td>\n      <td>2200</td>\n      <td>Denmark</td>\n      <td>Never married</td>\n      <td>1</td>\n    </tr>\n    <tr>\n      <th>3</th>\n      <td>3</td>\n      <td>Williams, Geona</td>\n      <td>Female</td>\n      <td>1995-04-22</td>\n      <td>2100</td>\n      <td>Sweden</td>\n      <td>Never married</td>\n      <td>2</td>\n    </tr>\n    <tr>\n      <th>4</th>\n      <td>4</td>\n      <td>Gonzales, Edward</td>\n      <td>Male</td>\n      <td>2000-05-13</td>\n      <td>2100</td>\n      <td>Denmark</td>\n      <td>Never married</td>\n      <td>1</td>\n    </tr>\n  </tbody>\n</table>\n</div>"
     },
     "metadata": {},
     "execution_count": 3
    }
   ],
   "source": [
    "public_data_register.head()"
   ]
  },
  {
   "cell_type": "code",
   "execution_count": null,
   "metadata": {},
   "outputs": [],
   "source": []
  }
 ]
}