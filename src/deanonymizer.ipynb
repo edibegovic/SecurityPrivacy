{
 "metadata": {
  "language_info": {
   "codemirror_mode": {
    "name": "ipython",
    "version": 3
   },
   "file_extension": ".py",
   "mimetype": "text/x-python",
   "name": "python",
   "nbconvert_exporter": "python",
   "pygments_lexer": "ipython3",
   "version": "3.8.5-final"
  },
  "orig_nbformat": 2,
  "kernelspec": {
   "name": "python3",
   "display_name": "Python 3"
  }
 },
 "nbformat": 4,
 "nbformat_minor": 2,
 "cells": [
  {
   "cell_type": "code",
   "execution_count": 2,
   "metadata": {},
   "outputs": [],
   "source": [
    "# imports\n",
    "import pandas as pd\n",
    "import matplotlib.pyplot"
   ]
  },
  {
   "cell_type": "code",
   "execution_count": 3,
   "metadata": {},
   "outputs": [],
   "source": [
    "# read files \n",
    "private_data_original = pd.read_csv('../data/private_dataB.csv')\n",
    "public_data_register = pd.read_csv('../data/public_data_registerB.csv')\n",
    "public_data_results = pd.read_csv('../data/public_data_resultsB.csv')"
   ]
  },
  {
   "cell_type": "code",
   "execution_count": 32,
   "metadata": {},
   "outputs": [],
   "source": [
    "# read anony\n",
    "anonymized_data = pd.read_csv('../kanon2.csv')\n",
    "anonymized_data = anonymized_data[['party', 'sex', 'zip', 'age', 'citizenship']]"
   ]
  },
  {
   "cell_type": "code",
   "execution_count": 33,
   "metadata": {},
   "outputs": [
    {
     "output_type": "execute_result",
     "data": {
      "text/plain": [
       "   party     sex     zip  age citizenship\n",
       "0    Red  Female  2300.0  4.0     Denmark\n",
       "1    Red  Female  2200.0  4.0     Denmark\n",
       "2  Green  Female  2100.0  2.0     Denmark\n",
       "3  Green    Male  2400.0  3.0     Denmark\n",
       "4  Green    Male  2200.0  1.0     Denmark"
      ],
      "text/html": "<div>\n<style scoped>\n    .dataframe tbody tr th:only-of-type {\n        vertical-align: middle;\n    }\n\n    .dataframe tbody tr th {\n        vertical-align: top;\n    }\n\n    .dataframe thead th {\n        text-align: right;\n    }\n</style>\n<table border=\"1\" class=\"dataframe\">\n  <thead>\n    <tr style=\"text-align: right;\">\n      <th></th>\n      <th>party</th>\n      <th>sex</th>\n      <th>zip</th>\n      <th>age</th>\n      <th>citizenship</th>\n    </tr>\n  </thead>\n  <tbody>\n    <tr>\n      <th>0</th>\n      <td>Red</td>\n      <td>Female</td>\n      <td>2300.0</td>\n      <td>4.0</td>\n      <td>Denmark</td>\n    </tr>\n    <tr>\n      <th>1</th>\n      <td>Red</td>\n      <td>Female</td>\n      <td>2200.0</td>\n      <td>4.0</td>\n      <td>Denmark</td>\n    </tr>\n    <tr>\n      <th>2</th>\n      <td>Green</td>\n      <td>Female</td>\n      <td>2100.0</td>\n      <td>2.0</td>\n      <td>Denmark</td>\n    </tr>\n    <tr>\n      <th>3</th>\n      <td>Green</td>\n      <td>Male</td>\n      <td>2400.0</td>\n      <td>3.0</td>\n      <td>Denmark</td>\n    </tr>\n    <tr>\n      <th>4</th>\n      <td>Green</td>\n      <td>Male</td>\n      <td>2200.0</td>\n      <td>1.0</td>\n      <td>Denmark</td>\n    </tr>\n  </tbody>\n</table>\n</div>"
     },
     "metadata": {},
     "execution_count": 33
    }
   ],
   "source": [
    "anonymized_data.head()"
   ]
  },
  {
   "cell_type": "code",
   "execution_count": 34,
   "metadata": {},
   "outputs": [
    {
     "output_type": "execute_result",
     "data": {
      "text/plain": [
       "     party     sex  zip  age citizenship\n",
       "81   Green  Female  NaN  4.0       Other\n",
       "120  Green    Male  NaN  2.0       Other\n",
       "183    Red  Female  NaN  4.0       Other\n",
       "192    Red  Female  NaN  4.0       Other"
      ],
      "text/html": "<div>\n<style scoped>\n    .dataframe tbody tr th:only-of-type {\n        vertical-align: middle;\n    }\n\n    .dataframe tbody tr th {\n        vertical-align: top;\n    }\n\n    .dataframe thead th {\n        text-align: right;\n    }\n</style>\n<table border=\"1\" class=\"dataframe\">\n  <thead>\n    <tr style=\"text-align: right;\">\n      <th></th>\n      <th>party</th>\n      <th>sex</th>\n      <th>zip</th>\n      <th>age</th>\n      <th>citizenship</th>\n    </tr>\n  </thead>\n  <tbody>\n    <tr>\n      <th>81</th>\n      <td>Green</td>\n      <td>Female</td>\n      <td>NaN</td>\n      <td>4.0</td>\n      <td>Other</td>\n    </tr>\n    <tr>\n      <th>120</th>\n      <td>Green</td>\n      <td>Male</td>\n      <td>NaN</td>\n      <td>2.0</td>\n      <td>Other</td>\n    </tr>\n    <tr>\n      <th>183</th>\n      <td>Red</td>\n      <td>Female</td>\n      <td>NaN</td>\n      <td>4.0</td>\n      <td>Other</td>\n    </tr>\n    <tr>\n      <th>192</th>\n      <td>Red</td>\n      <td>Female</td>\n      <td>NaN</td>\n      <td>4.0</td>\n      <td>Other</td>\n    </tr>\n  </tbody>\n</table>\n</div>"
     },
     "metadata": {},
     "execution_count": 34
    }
   ],
   "source": [
    "anonymized_data[anonymized_data['zip'].isna()]"
   ]
  },
  {
   "cell_type": "code",
   "execution_count": 35,
   "metadata": {},
   "outputs": [
    {
     "output_type": "execute_result",
     "data": {
      "text/plain": [
       "               zip         age\n",
       "count   196.000000  179.000000\n",
       "mean   2266.326531    2.614525\n",
       "std     106.162795    0.931358\n",
       "min    2100.000000    1.000000\n",
       "25%    2200.000000    2.000000\n",
       "50%    2300.000000    3.000000\n",
       "75%    2400.000000    3.000000\n",
       "max    2400.000000    4.000000"
      ],
      "text/html": "<div>\n<style scoped>\n    .dataframe tbody tr th:only-of-type {\n        vertical-align: middle;\n    }\n\n    .dataframe tbody tr th {\n        vertical-align: top;\n    }\n\n    .dataframe thead th {\n        text-align: right;\n    }\n</style>\n<table border=\"1\" class=\"dataframe\">\n  <thead>\n    <tr style=\"text-align: right;\">\n      <th></th>\n      <th>zip</th>\n      <th>age</th>\n    </tr>\n  </thead>\n  <tbody>\n    <tr>\n      <th>count</th>\n      <td>196.000000</td>\n      <td>179.000000</td>\n    </tr>\n    <tr>\n      <th>mean</th>\n      <td>2266.326531</td>\n      <td>2.614525</td>\n    </tr>\n    <tr>\n      <th>std</th>\n      <td>106.162795</td>\n      <td>0.931358</td>\n    </tr>\n    <tr>\n      <th>min</th>\n      <td>2100.000000</td>\n      <td>1.000000</td>\n    </tr>\n    <tr>\n      <th>25%</th>\n      <td>2200.000000</td>\n      <td>2.000000</td>\n    </tr>\n    <tr>\n      <th>50%</th>\n      <td>2300.000000</td>\n      <td>3.000000</td>\n    </tr>\n    <tr>\n      <th>75%</th>\n      <td>2400.000000</td>\n      <td>3.000000</td>\n    </tr>\n    <tr>\n      <th>max</th>\n      <td>2400.000000</td>\n      <td>4.000000</td>\n    </tr>\n  </tbody>\n</table>\n</div>"
     },
     "metadata": {},
     "execution_count": 35
    }
   ],
   "source": [
    "anonymized_data.describe()"
   ]
  },
  {
   "cell_type": "code",
   "execution_count": 36,
   "metadata": {},
   "outputs": [
    {
     "output_type": "stream",
     "name": "stdout",
     "text": [
      "<class 'pandas.core.frame.DataFrame'>\nRangeIndex: 200 entries, 0 to 199\nData columns (total 5 columns):\n #   Column       Non-Null Count  Dtype  \n---  ------       --------------  -----  \n 0   party        200 non-null    object \n 1   sex          200 non-null    object \n 2   zip          196 non-null    float64\n 3   age          179 non-null    float64\n 4   citizenship  199 non-null    object \ndtypes: float64(2), object(3)\nmemory usage: 7.9+ KB\n"
     ]
    }
   ],
   "source": [
    "anonymized_data.info()"
   ]
  },
  {
   "cell_type": "code",
   "execution_count": 37,
   "metadata": {},
   "outputs": [
    {
     "output_type": "execute_result",
     "data": {
      "text/plain": [
       "3.0    73\n",
       "2.0    50\n",
       "4.0    31\n",
       "1.0    25\n",
       "Name: age, dtype: int64"
      ]
     },
     "metadata": {},
     "execution_count": 37
    }
   ],
   "source": [
    "anonymized_data['age'].value_counts()"
   ]
  },
  {
   "source": [
    "## Doin transforms you know they did too"
   ],
   "cell_type": "markdown",
   "metadata": {}
  },
  {
   "cell_type": "code",
   "execution_count": 39,
   "metadata": {},
   "outputs": [
    {
     "output_type": "execute_result",
     "data": {
      "text/plain": [
       "   Unnamed: 0              name     sex         dob   zip citizenship  \\\n",
       "0           0           Le, Ian    Male  1998-08-30  2300     Denmark   \n",
       "1           1       Wang, Caleb    Male  1996-04-23  2200     Denmark   \n",
       "2           2  Carranco, Raquel  Female  1994-08-06  2200     Denmark   \n",
       "3           3   Williams, Geona  Female  1995-04-22  2100      Sweden   \n",
       "4           4  Gonzales, Edward    Male  2000-05-13  2100     Denmark   \n",
       "\n",
       "  marital_status  last_voted  public_age  encoded_age encoded_citizenship  \n",
       "0  Never married           1          22            1             Denmark  \n",
       "1  Never married           1          24            1             Denmark  \n",
       "2  Never married           1          26            1             Denmark  \n",
       "3  Never married           2          25            1               Other  \n",
       "4  Never married           1          20            1             Denmark  "
      ],
      "text/html": "<div>\n<style scoped>\n    .dataframe tbody tr th:only-of-type {\n        vertical-align: middle;\n    }\n\n    .dataframe tbody tr th {\n        vertical-align: top;\n    }\n\n    .dataframe thead th {\n        text-align: right;\n    }\n</style>\n<table border=\"1\" class=\"dataframe\">\n  <thead>\n    <tr style=\"text-align: right;\">\n      <th></th>\n      <th>Unnamed: 0</th>\n      <th>name</th>\n      <th>sex</th>\n      <th>dob</th>\n      <th>zip</th>\n      <th>citizenship</th>\n      <th>marital_status</th>\n      <th>last_voted</th>\n      <th>public_age</th>\n      <th>encoded_age</th>\n      <th>encoded_citizenship</th>\n    </tr>\n  </thead>\n  <tbody>\n    <tr>\n      <th>0</th>\n      <td>0</td>\n      <td>Le, Ian</td>\n      <td>Male</td>\n      <td>1998-08-30</td>\n      <td>2300</td>\n      <td>Denmark</td>\n      <td>Never married</td>\n      <td>1</td>\n      <td>22</td>\n      <td>1</td>\n      <td>Denmark</td>\n    </tr>\n    <tr>\n      <th>1</th>\n      <td>1</td>\n      <td>Wang, Caleb</td>\n      <td>Male</td>\n      <td>1996-04-23</td>\n      <td>2200</td>\n      <td>Denmark</td>\n      <td>Never married</td>\n      <td>1</td>\n      <td>24</td>\n      <td>1</td>\n      <td>Denmark</td>\n    </tr>\n    <tr>\n      <th>2</th>\n      <td>2</td>\n      <td>Carranco, Raquel</td>\n      <td>Female</td>\n      <td>1994-08-06</td>\n      <td>2200</td>\n      <td>Denmark</td>\n      <td>Never married</td>\n      <td>1</td>\n      <td>26</td>\n      <td>1</td>\n      <td>Denmark</td>\n    </tr>\n    <tr>\n      <th>3</th>\n      <td>3</td>\n      <td>Williams, Geona</td>\n      <td>Female</td>\n      <td>1995-04-22</td>\n      <td>2100</td>\n      <td>Sweden</td>\n      <td>Never married</td>\n      <td>2</td>\n      <td>25</td>\n      <td>1</td>\n      <td>Other</td>\n    </tr>\n    <tr>\n      <th>4</th>\n      <td>4</td>\n      <td>Gonzales, Edward</td>\n      <td>Male</td>\n      <td>2000-05-13</td>\n      <td>2100</td>\n      <td>Denmark</td>\n      <td>Never married</td>\n      <td>1</td>\n      <td>20</td>\n      <td>1</td>\n      <td>Denmark</td>\n    </tr>\n  </tbody>\n</table>\n</div>"
     },
     "metadata": {},
     "execution_count": 39
    }
   ],
   "source": [
    "public_data_register.head()"
   ]
  },
  {
   "cell_type": "code",
   "execution_count": 40,
   "metadata": {},
   "outputs": [],
   "source": [
    "# age calc the same way\n",
    "public_data_register['public_age'] = public_data_register['dob'].apply(lambda x: 2020 - int(x[:4]))"
   ]
  },
  {
   "cell_type": "code",
   "execution_count": 41,
   "metadata": {},
   "outputs": [
    {
     "output_type": "execute_result",
     "data": {
      "text/plain": [
       "      Unnamed: 0                 name     sex         dob   zip citizenship  \\\n",
       "0              0              Le, Ian    Male  1998-08-30  2300     Denmark   \n",
       "1              1          Wang, Caleb    Male  1996-04-23  2200     Denmark   \n",
       "2              2     Carranco, Raquel  Female  1994-08-06  2200     Denmark   \n",
       "3              3      Williams, Geona  Female  1995-04-22  2100      Sweden   \n",
       "4              4     Gonzales, Edward    Male  2000-05-13  2100     Denmark   \n",
       "...          ...                  ...     ...         ...   ...         ...   \n",
       "1510        1510  Stapleton, Samantha  Female  1935-02-06  2400     Denmark   \n",
       "1511        1511        Khabir, David    Male  1956-03-31  2300     Denmark   \n",
       "1512        1512  Richardson, Allison  Female  1952-01-09  2400     Denmark   \n",
       "1513        1513         Davis, Keith    Male  1929-01-27  2400     Denmark   \n",
       "1514        1514     Lange, Archibald    Male  1947-08-04  2200     Denmark   \n",
       "\n",
       "         marital_status  last_voted  public_age  encoded_age  \\\n",
       "0         Never married           1          22            1   \n",
       "1         Never married           1          24            1   \n",
       "2         Never married           1          26            1   \n",
       "3         Never married           2          25            1   \n",
       "4         Never married           1          20            1   \n",
       "...                 ...         ...         ...          ...   \n",
       "1510  Married/separated           0          85            4   \n",
       "1511  Married/separated           0          64            3   \n",
       "1512  Married/separated           2          68            4   \n",
       "1513            Widowed           0          91            4   \n",
       "1514           Divorced           0          73            4   \n",
       "\n",
       "     encoded_citizenship  \n",
       "0                Denmark  \n",
       "1                Denmark  \n",
       "2                Denmark  \n",
       "3                  Other  \n",
       "4                Denmark  \n",
       "...                  ...  \n",
       "1510             Denmark  \n",
       "1511             Denmark  \n",
       "1512             Denmark  \n",
       "1513             Denmark  \n",
       "1514             Denmark  \n",
       "\n",
       "[1515 rows x 11 columns]"
      ],
      "text/html": "<div>\n<style scoped>\n    .dataframe tbody tr th:only-of-type {\n        vertical-align: middle;\n    }\n\n    .dataframe tbody tr th {\n        vertical-align: top;\n    }\n\n    .dataframe thead th {\n        text-align: right;\n    }\n</style>\n<table border=\"1\" class=\"dataframe\">\n  <thead>\n    <tr style=\"text-align: right;\">\n      <th></th>\n      <th>Unnamed: 0</th>\n      <th>name</th>\n      <th>sex</th>\n      <th>dob</th>\n      <th>zip</th>\n      <th>citizenship</th>\n      <th>marital_status</th>\n      <th>last_voted</th>\n      <th>public_age</th>\n      <th>encoded_age</th>\n      <th>encoded_citizenship</th>\n    </tr>\n  </thead>\n  <tbody>\n    <tr>\n      <th>0</th>\n      <td>0</td>\n      <td>Le, Ian</td>\n      <td>Male</td>\n      <td>1998-08-30</td>\n      <td>2300</td>\n      <td>Denmark</td>\n      <td>Never married</td>\n      <td>1</td>\n      <td>22</td>\n      <td>1</td>\n      <td>Denmark</td>\n    </tr>\n    <tr>\n      <th>1</th>\n      <td>1</td>\n      <td>Wang, Caleb</td>\n      <td>Male</td>\n      <td>1996-04-23</td>\n      <td>2200</td>\n      <td>Denmark</td>\n      <td>Never married</td>\n      <td>1</td>\n      <td>24</td>\n      <td>1</td>\n      <td>Denmark</td>\n    </tr>\n    <tr>\n      <th>2</th>\n      <td>2</td>\n      <td>Carranco, Raquel</td>\n      <td>Female</td>\n      <td>1994-08-06</td>\n      <td>2200</td>\n      <td>Denmark</td>\n      <td>Never married</td>\n      <td>1</td>\n      <td>26</td>\n      <td>1</td>\n      <td>Denmark</td>\n    </tr>\n    <tr>\n      <th>3</th>\n      <td>3</td>\n      <td>Williams, Geona</td>\n      <td>Female</td>\n      <td>1995-04-22</td>\n      <td>2100</td>\n      <td>Sweden</td>\n      <td>Never married</td>\n      <td>2</td>\n      <td>25</td>\n      <td>1</td>\n      <td>Other</td>\n    </tr>\n    <tr>\n      <th>4</th>\n      <td>4</td>\n      <td>Gonzales, Edward</td>\n      <td>Male</td>\n      <td>2000-05-13</td>\n      <td>2100</td>\n      <td>Denmark</td>\n      <td>Never married</td>\n      <td>1</td>\n      <td>20</td>\n      <td>1</td>\n      <td>Denmark</td>\n    </tr>\n    <tr>\n      <th>...</th>\n      <td>...</td>\n      <td>...</td>\n      <td>...</td>\n      <td>...</td>\n      <td>...</td>\n      <td>...</td>\n      <td>...</td>\n      <td>...</td>\n      <td>...</td>\n      <td>...</td>\n      <td>...</td>\n    </tr>\n    <tr>\n      <th>1510</th>\n      <td>1510</td>\n      <td>Stapleton, Samantha</td>\n      <td>Female</td>\n      <td>1935-02-06</td>\n      <td>2400</td>\n      <td>Denmark</td>\n      <td>Married/separated</td>\n      <td>0</td>\n      <td>85</td>\n      <td>4</td>\n      <td>Denmark</td>\n    </tr>\n    <tr>\n      <th>1511</th>\n      <td>1511</td>\n      <td>Khabir, David</td>\n      <td>Male</td>\n      <td>1956-03-31</td>\n      <td>2300</td>\n      <td>Denmark</td>\n      <td>Married/separated</td>\n      <td>0</td>\n      <td>64</td>\n      <td>3</td>\n      <td>Denmark</td>\n    </tr>\n    <tr>\n      <th>1512</th>\n      <td>1512</td>\n      <td>Richardson, Allison</td>\n      <td>Female</td>\n      <td>1952-01-09</td>\n      <td>2400</td>\n      <td>Denmark</td>\n      <td>Married/separated</td>\n      <td>2</td>\n      <td>68</td>\n      <td>4</td>\n      <td>Denmark</td>\n    </tr>\n    <tr>\n      <th>1513</th>\n      <td>1513</td>\n      <td>Davis, Keith</td>\n      <td>Male</td>\n      <td>1929-01-27</td>\n      <td>2400</td>\n      <td>Denmark</td>\n      <td>Widowed</td>\n      <td>0</td>\n      <td>91</td>\n      <td>4</td>\n      <td>Denmark</td>\n    </tr>\n    <tr>\n      <th>1514</th>\n      <td>1514</td>\n      <td>Lange, Archibald</td>\n      <td>Male</td>\n      <td>1947-08-04</td>\n      <td>2200</td>\n      <td>Denmark</td>\n      <td>Divorced</td>\n      <td>0</td>\n      <td>73</td>\n      <td>4</td>\n      <td>Denmark</td>\n    </tr>\n  </tbody>\n</table>\n<p>1515 rows × 11 columns</p>\n</div>"
     },
     "metadata": {},
     "execution_count": 41
    }
   ],
   "source": [
    "public_data_register"
   ]
  },
  {
   "cell_type": "code",
   "execution_count": 42,
   "metadata": {},
   "outputs": [],
   "source": [
    "citizenship_transformer = lambda x: \"Denmark\" if x == \"Denmark\" else \"Other\"\n",
    "age_transformer = lambda x: 1 if x <= 30 else (2 if x <= 45 else (3 if x <= 65 else 4))"
   ]
  },
  {
   "cell_type": "code",
   "execution_count": 43,
   "metadata": {},
   "outputs": [],
   "source": [
    "public_data_register['encoded_age'] = public_data_register['public_age'].apply(age_transformer)\n",
    "public_data_register['encoded_citizenship'] = public_data_register['citizenship'].apply(citizenship_transformer)"
   ]
  },
  {
   "cell_type": "code",
   "execution_count": 46,
   "metadata": {},
   "outputs": [
    {
     "output_type": "execute_result",
     "data": {
      "text/plain": [
       "     Unnamed: 0              name     sex         dob   zip citizenship  \\\n",
       "187         187    Zheng, Brianne  Female  1974-07-27  2200     Denmark   \n",
       "211         211  Vardas, Jennifer  Female  1974-04-01  2400     Denmark   \n",
       "230         230      Abdalla, Ali  Female  1974-06-18  2100     Denmark   \n",
       "252         252    Elwood, Sidney  Female  1974-06-15  2300     Denmark   \n",
       "269         269     Hesse, Shelby  Female  1974-12-13  2200     Denmark   \n",
       "\n",
       "        marital_status  last_voted  public_age  encoded_age  \\\n",
       "187      Never married           1          46            3   \n",
       "211  Married/separated           1          46            3   \n",
       "230           Divorced           1          46            3   \n",
       "252      Never married           1          46            3   \n",
       "269  Married/separated           2          46            3   \n",
       "\n",
       "    encoded_citizenship  \n",
       "187             Denmark  \n",
       "211             Denmark  \n",
       "230             Denmark  \n",
       "252             Denmark  \n",
       "269             Denmark  "
      ],
      "text/html": "<div>\n<style scoped>\n    .dataframe tbody tr th:only-of-type {\n        vertical-align: middle;\n    }\n\n    .dataframe tbody tr th {\n        vertical-align: top;\n    }\n\n    .dataframe thead th {\n        text-align: right;\n    }\n</style>\n<table border=\"1\" class=\"dataframe\">\n  <thead>\n    <tr style=\"text-align: right;\">\n      <th></th>\n      <th>Unnamed: 0</th>\n      <th>name</th>\n      <th>sex</th>\n      <th>dob</th>\n      <th>zip</th>\n      <th>citizenship</th>\n      <th>marital_status</th>\n      <th>last_voted</th>\n      <th>public_age</th>\n      <th>encoded_age</th>\n      <th>encoded_citizenship</th>\n    </tr>\n  </thead>\n  <tbody>\n    <tr>\n      <th>187</th>\n      <td>187</td>\n      <td>Zheng, Brianne</td>\n      <td>Female</td>\n      <td>1974-07-27</td>\n      <td>2200</td>\n      <td>Denmark</td>\n      <td>Never married</td>\n      <td>1</td>\n      <td>46</td>\n      <td>3</td>\n      <td>Denmark</td>\n    </tr>\n    <tr>\n      <th>211</th>\n      <td>211</td>\n      <td>Vardas, Jennifer</td>\n      <td>Female</td>\n      <td>1974-04-01</td>\n      <td>2400</td>\n      <td>Denmark</td>\n      <td>Married/separated</td>\n      <td>1</td>\n      <td>46</td>\n      <td>3</td>\n      <td>Denmark</td>\n    </tr>\n    <tr>\n      <th>230</th>\n      <td>230</td>\n      <td>Abdalla, Ali</td>\n      <td>Female</td>\n      <td>1974-06-18</td>\n      <td>2100</td>\n      <td>Denmark</td>\n      <td>Divorced</td>\n      <td>1</td>\n      <td>46</td>\n      <td>3</td>\n      <td>Denmark</td>\n    </tr>\n    <tr>\n      <th>252</th>\n      <td>252</td>\n      <td>Elwood, Sidney</td>\n      <td>Female</td>\n      <td>1974-06-15</td>\n      <td>2300</td>\n      <td>Denmark</td>\n      <td>Never married</td>\n      <td>1</td>\n      <td>46</td>\n      <td>3</td>\n      <td>Denmark</td>\n    </tr>\n    <tr>\n      <th>269</th>\n      <td>269</td>\n      <td>Hesse, Shelby</td>\n      <td>Female</td>\n      <td>1974-12-13</td>\n      <td>2200</td>\n      <td>Denmark</td>\n      <td>Married/separated</td>\n      <td>2</td>\n      <td>46</td>\n      <td>3</td>\n      <td>Denmark</td>\n    </tr>\n  </tbody>\n</table>\n</div>"
     },
     "metadata": {},
     "execution_count": 46
    }
   ],
   "source": [
    "public_data_register[public_data_register['encoded_age'] > 2].head()"
   ]
  },
  {
   "cell_type": "code",
   "execution_count": 48,
   "metadata": {},
   "outputs": [],
   "source": [
    "merged_df = public_data_register.merge(anonymized_data, on = 'sex', how = 'outer')"
   ]
  },
  {
   "cell_type": "code",
   "execution_count": 49,
   "metadata": {},
   "outputs": [
    {
     "output_type": "execute_result",
     "data": {
      "text/plain": [
       "   Unnamed: 0     name   sex         dob  zip_x citizenship_x marital_status  \\\n",
       "0           0  Le, Ian  Male  1998-08-30   2300       Denmark  Never married   \n",
       "1           0  Le, Ian  Male  1998-08-30   2300       Denmark  Never married   \n",
       "2           0  Le, Ian  Male  1998-08-30   2300       Denmark  Never married   \n",
       "3           0  Le, Ian  Male  1998-08-30   2300       Denmark  Never married   \n",
       "4           0  Le, Ian  Male  1998-08-30   2300       Denmark  Never married   \n",
       "\n",
       "   last_voted  public_age  encoded_age encoded_citizenship  party   zip_y  \\\n",
       "0           1          22            1             Denmark  Green  2400.0   \n",
       "1           1          22            1             Denmark  Green  2200.0   \n",
       "2           1          22            1             Denmark    Red  2300.0   \n",
       "3           1          22            1             Denmark    Red  2300.0   \n",
       "4           1          22            1             Denmark    Red  2400.0   \n",
       "\n",
       "   age citizenship_y  \n",
       "0  3.0       Denmark  \n",
       "1  1.0       Denmark  \n",
       "2  2.0       Denmark  \n",
       "3  3.0       Denmark  \n",
       "4  3.0       Denmark  "
      ],
      "text/html": "<div>\n<style scoped>\n    .dataframe tbody tr th:only-of-type {\n        vertical-align: middle;\n    }\n\n    .dataframe tbody tr th {\n        vertical-align: top;\n    }\n\n    .dataframe thead th {\n        text-align: right;\n    }\n</style>\n<table border=\"1\" class=\"dataframe\">\n  <thead>\n    <tr style=\"text-align: right;\">\n      <th></th>\n      <th>Unnamed: 0</th>\n      <th>name</th>\n      <th>sex</th>\n      <th>dob</th>\n      <th>zip_x</th>\n      <th>citizenship_x</th>\n      <th>marital_status</th>\n      <th>last_voted</th>\n      <th>public_age</th>\n      <th>encoded_age</th>\n      <th>encoded_citizenship</th>\n      <th>party</th>\n      <th>zip_y</th>\n      <th>age</th>\n      <th>citizenship_y</th>\n    </tr>\n  </thead>\n  <tbody>\n    <tr>\n      <th>0</th>\n      <td>0</td>\n      <td>Le, Ian</td>\n      <td>Male</td>\n      <td>1998-08-30</td>\n      <td>2300</td>\n      <td>Denmark</td>\n      <td>Never married</td>\n      <td>1</td>\n      <td>22</td>\n      <td>1</td>\n      <td>Denmark</td>\n      <td>Green</td>\n      <td>2400.0</td>\n      <td>3.0</td>\n      <td>Denmark</td>\n    </tr>\n    <tr>\n      <th>1</th>\n      <td>0</td>\n      <td>Le, Ian</td>\n      <td>Male</td>\n      <td>1998-08-30</td>\n      <td>2300</td>\n      <td>Denmark</td>\n      <td>Never married</td>\n      <td>1</td>\n      <td>22</td>\n      <td>1</td>\n      <td>Denmark</td>\n      <td>Green</td>\n      <td>2200.0</td>\n      <td>1.0</td>\n      <td>Denmark</td>\n    </tr>\n    <tr>\n      <th>2</th>\n      <td>0</td>\n      <td>Le, Ian</td>\n      <td>Male</td>\n      <td>1998-08-30</td>\n      <td>2300</td>\n      <td>Denmark</td>\n      <td>Never married</td>\n      <td>1</td>\n      <td>22</td>\n      <td>1</td>\n      <td>Denmark</td>\n      <td>Red</td>\n      <td>2300.0</td>\n      <td>2.0</td>\n      <td>Denmark</td>\n    </tr>\n    <tr>\n      <th>3</th>\n      <td>0</td>\n      <td>Le, Ian</td>\n      <td>Male</td>\n      <td>1998-08-30</td>\n      <td>2300</td>\n      <td>Denmark</td>\n      <td>Never married</td>\n      <td>1</td>\n      <td>22</td>\n      <td>1</td>\n      <td>Denmark</td>\n      <td>Red</td>\n      <td>2300.0</td>\n      <td>3.0</td>\n      <td>Denmark</td>\n    </tr>\n    <tr>\n      <th>4</th>\n      <td>0</td>\n      <td>Le, Ian</td>\n      <td>Male</td>\n      <td>1998-08-30</td>\n      <td>2300</td>\n      <td>Denmark</td>\n      <td>Never married</td>\n      <td>1</td>\n      <td>22</td>\n      <td>1</td>\n      <td>Denmark</td>\n      <td>Red</td>\n      <td>2400.0</td>\n      <td>3.0</td>\n      <td>Denmark</td>\n    </tr>\n  </tbody>\n</table>\n</div>"
     },
     "metadata": {},
     "execution_count": 49
    }
   ],
   "source": [
    "merged_df.head()"
   ]
  },
  {
   "cell_type": "code",
   "execution_count": 52,
   "metadata": {},
   "outputs": [
    {
     "output_type": "execute_result",
     "data": {
      "text/plain": [
       "100.2420634920635"
      ]
     },
     "metadata": {},
     "execution_count": 52
    }
   ],
   "source": [
    "merged_df['name'].value_counts().mean()"
   ]
  },
  {
   "cell_type": "code",
   "execution_count": 95,
   "metadata": {},
   "outputs": [],
   "source": [
    "# compare filterer function\n",
    "def citizenship_compare(x):\n",
    "    if x[14] == x[10]:\n",
    "        return True\n",
    "    else:\n",
    "        return False\n",
    "\n",
    "def test(x):\n",
    "    return x[15]\n",
    "\n",
    "def pd_or(x):\n",
    "    return x[15] or x[16]"
   ]
  },
  {
   "cell_type": "code",
   "execution_count": 103,
   "metadata": {},
   "outputs": [
    {
     "output_type": "stream",
     "name": "stdout",
     "text": [
      "85.45502645502646\n"
     ]
    },
    {
     "output_type": "execute_result",
     "data": {
      "text/plain": [
       "   Unnamed: 0     name   sex         dob  zip_x citizenship_x marital_status  \\\n",
       "0           0  Le, Ian  Male  1998-08-30   2300       Denmark  Never married   \n",
       "1           0  Le, Ian  Male  1998-08-30   2300       Denmark  Never married   \n",
       "2           0  Le, Ian  Male  1998-08-30   2300       Denmark  Never married   \n",
       "3           0  Le, Ian  Male  1998-08-30   2300       Denmark  Never married   \n",
       "4           0  Le, Ian  Male  1998-08-30   2300       Denmark  Never married   \n",
       "\n",
       "   last_voted  public_age  encoded_age encoded_citizenship  party   zip_y  \\\n",
       "0           1          22            1             Denmark  Green  2400.0   \n",
       "1           1          22            1             Denmark  Green  2200.0   \n",
       "2           1          22            1             Denmark    Red  2300.0   \n",
       "3           1          22            1             Denmark    Red  2300.0   \n",
       "4           1          22            1             Denmark    Red  2400.0   \n",
       "\n",
       "   age citizenship_y  \n",
       "0  3.0       Denmark  \n",
       "1  1.0       Denmark  \n",
       "2  2.0       Denmark  \n",
       "3  3.0       Denmark  \n",
       "4  3.0       Denmark  "
      ],
      "text/html": "<div>\n<style scoped>\n    .dataframe tbody tr th:only-of-type {\n        vertical-align: middle;\n    }\n\n    .dataframe tbody tr th {\n        vertical-align: top;\n    }\n\n    .dataframe thead th {\n        text-align: right;\n    }\n</style>\n<table border=\"1\" class=\"dataframe\">\n  <thead>\n    <tr style=\"text-align: right;\">\n      <th></th>\n      <th>Unnamed: 0</th>\n      <th>name</th>\n      <th>sex</th>\n      <th>dob</th>\n      <th>zip_x</th>\n      <th>citizenship_x</th>\n      <th>marital_status</th>\n      <th>last_voted</th>\n      <th>public_age</th>\n      <th>encoded_age</th>\n      <th>encoded_citizenship</th>\n      <th>party</th>\n      <th>zip_y</th>\n      <th>age</th>\n      <th>citizenship_y</th>\n    </tr>\n  </thead>\n  <tbody>\n    <tr>\n      <th>0</th>\n      <td>0</td>\n      <td>Le, Ian</td>\n      <td>Male</td>\n      <td>1998-08-30</td>\n      <td>2300</td>\n      <td>Denmark</td>\n      <td>Never married</td>\n      <td>1</td>\n      <td>22</td>\n      <td>1</td>\n      <td>Denmark</td>\n      <td>Green</td>\n      <td>2400.0</td>\n      <td>3.0</td>\n      <td>Denmark</td>\n    </tr>\n    <tr>\n      <th>1</th>\n      <td>0</td>\n      <td>Le, Ian</td>\n      <td>Male</td>\n      <td>1998-08-30</td>\n      <td>2300</td>\n      <td>Denmark</td>\n      <td>Never married</td>\n      <td>1</td>\n      <td>22</td>\n      <td>1</td>\n      <td>Denmark</td>\n      <td>Green</td>\n      <td>2200.0</td>\n      <td>1.0</td>\n      <td>Denmark</td>\n    </tr>\n    <tr>\n      <th>2</th>\n      <td>0</td>\n      <td>Le, Ian</td>\n      <td>Male</td>\n      <td>1998-08-30</td>\n      <td>2300</td>\n      <td>Denmark</td>\n      <td>Never married</td>\n      <td>1</td>\n      <td>22</td>\n      <td>1</td>\n      <td>Denmark</td>\n      <td>Red</td>\n      <td>2300.0</td>\n      <td>2.0</td>\n      <td>Denmark</td>\n    </tr>\n    <tr>\n      <th>3</th>\n      <td>0</td>\n      <td>Le, Ian</td>\n      <td>Male</td>\n      <td>1998-08-30</td>\n      <td>2300</td>\n      <td>Denmark</td>\n      <td>Never married</td>\n      <td>1</td>\n      <td>22</td>\n      <td>1</td>\n      <td>Denmark</td>\n      <td>Red</td>\n      <td>2300.0</td>\n      <td>3.0</td>\n      <td>Denmark</td>\n    </tr>\n    <tr>\n      <th>4</th>\n      <td>0</td>\n      <td>Le, Ian</td>\n      <td>Male</td>\n      <td>1998-08-30</td>\n      <td>2300</td>\n      <td>Denmark</td>\n      <td>Never married</td>\n      <td>1</td>\n      <td>22</td>\n      <td>1</td>\n      <td>Denmark</td>\n      <td>Red</td>\n      <td>2400.0</td>\n      <td>3.0</td>\n      <td>Denmark</td>\n    </tr>\n  </tbody>\n</table>\n</div>"
     },
     "metadata": {},
     "execution_count": 103
    }
   ],
   "source": [
    "# citizenship cleaning\n",
    "\n",
    "merged_df['citizenship_na'] = merged_df['citizenship_y'].isna()\n",
    "merged_df['citizenship_match'] = merged_df.apply(citizenship_compare, axis = 1)\n",
    "merged_df['citizenship_stays'] = merged_df.apply(pd_or, axis = 1)\n",
    "\n",
    "merged_df = merged_df[merged_df['citizenship_stays']]\n",
    "del merged_df['citizenship_na']\n",
    "del merged_df['citizenship_match']\n",
    "del merged_df['citizenship_stays']\n",
    "\n",
    "print(merged_df['name'].value_counts().mean())\n",
    "merged_df.head()"
   ]
  },
  {
   "cell_type": "code",
   "execution_count": 110,
   "metadata": {},
   "outputs": [],
   "source": [
    "# zip filtering\n",
    "def zip_compare(x):\n",
    "    if x[12] == x[4]:\n",
    "        return True\n",
    "    else:\n",
    "        return False\n",
    "\n",
    "def test(x):\n",
    "    return x[12]\n",
    "\n",
    "def pd_or(x):\n",
    "    return x[15] or x[16]\n"
   ]
  },
  {
   "cell_type": "code",
   "execution_count": 112,
   "metadata": {},
   "outputs": [
    {
     "output_type": "stream",
     "name": "stdout",
     "text": [
      "22.322089947089946\n"
     ]
    },
    {
     "output_type": "execute_result",
     "data": {
      "text/plain": [
       "    Unnamed: 0     name   sex         dob  zip_x citizenship_x marital_status  \\\n",
       "2            0  Le, Ian  Male  1998-08-30   2300       Denmark  Never married   \n",
       "3            0  Le, Ian  Male  1998-08-30   2300       Denmark  Never married   \n",
       "6            0  Le, Ian  Male  1998-08-30   2300       Denmark  Never married   \n",
       "16           0  Le, Ian  Male  1998-08-30   2300       Denmark  Never married   \n",
       "18           0  Le, Ian  Male  1998-08-30   2300       Denmark  Never married   \n",
       "\n",
       "    last_voted  public_age  encoded_age encoded_citizenship  party   zip_y  \\\n",
       "2            1          22            1             Denmark    Red  2300.0   \n",
       "3            1          22            1             Denmark    Red  2300.0   \n",
       "6            1          22            1             Denmark  Green  2300.0   \n",
       "16           1          22            1             Denmark  Green  2300.0   \n",
       "18           1          22            1             Denmark    Red  2300.0   \n",
       "\n",
       "    age citizenship_y  \n",
       "2   2.0       Denmark  \n",
       "3   3.0       Denmark  \n",
       "6   2.0       Denmark  \n",
       "16  2.0       Denmark  \n",
       "18  4.0       Denmark  "
      ],
      "text/html": "<div>\n<style scoped>\n    .dataframe tbody tr th:only-of-type {\n        vertical-align: middle;\n    }\n\n    .dataframe tbody tr th {\n        vertical-align: top;\n    }\n\n    .dataframe thead th {\n        text-align: right;\n    }\n</style>\n<table border=\"1\" class=\"dataframe\">\n  <thead>\n    <tr style=\"text-align: right;\">\n      <th></th>\n      <th>Unnamed: 0</th>\n      <th>name</th>\n      <th>sex</th>\n      <th>dob</th>\n      <th>zip_x</th>\n      <th>citizenship_x</th>\n      <th>marital_status</th>\n      <th>last_voted</th>\n      <th>public_age</th>\n      <th>encoded_age</th>\n      <th>encoded_citizenship</th>\n      <th>party</th>\n      <th>zip_y</th>\n      <th>age</th>\n      <th>citizenship_y</th>\n    </tr>\n  </thead>\n  <tbody>\n    <tr>\n      <th>2</th>\n      <td>0</td>\n      <td>Le, Ian</td>\n      <td>Male</td>\n      <td>1998-08-30</td>\n      <td>2300</td>\n      <td>Denmark</td>\n      <td>Never married</td>\n      <td>1</td>\n      <td>22</td>\n      <td>1</td>\n      <td>Denmark</td>\n      <td>Red</td>\n      <td>2300.0</td>\n      <td>2.0</td>\n      <td>Denmark</td>\n    </tr>\n    <tr>\n      <th>3</th>\n      <td>0</td>\n      <td>Le, Ian</td>\n      <td>Male</td>\n      <td>1998-08-30</td>\n      <td>2300</td>\n      <td>Denmark</td>\n      <td>Never married</td>\n      <td>1</td>\n      <td>22</td>\n      <td>1</td>\n      <td>Denmark</td>\n      <td>Red</td>\n      <td>2300.0</td>\n      <td>3.0</td>\n      <td>Denmark</td>\n    </tr>\n    <tr>\n      <th>6</th>\n      <td>0</td>\n      <td>Le, Ian</td>\n      <td>Male</td>\n      <td>1998-08-30</td>\n      <td>2300</td>\n      <td>Denmark</td>\n      <td>Never married</td>\n      <td>1</td>\n      <td>22</td>\n      <td>1</td>\n      <td>Denmark</td>\n      <td>Green</td>\n      <td>2300.0</td>\n      <td>2.0</td>\n      <td>Denmark</td>\n    </tr>\n    <tr>\n      <th>16</th>\n      <td>0</td>\n      <td>Le, Ian</td>\n      <td>Male</td>\n      <td>1998-08-30</td>\n      <td>2300</td>\n      <td>Denmark</td>\n      <td>Never married</td>\n      <td>1</td>\n      <td>22</td>\n      <td>1</td>\n      <td>Denmark</td>\n      <td>Green</td>\n      <td>2300.0</td>\n      <td>2.0</td>\n      <td>Denmark</td>\n    </tr>\n    <tr>\n      <th>18</th>\n      <td>0</td>\n      <td>Le, Ian</td>\n      <td>Male</td>\n      <td>1998-08-30</td>\n      <td>2300</td>\n      <td>Denmark</td>\n      <td>Never married</td>\n      <td>1</td>\n      <td>22</td>\n      <td>1</td>\n      <td>Denmark</td>\n      <td>Red</td>\n      <td>2300.0</td>\n      <td>4.0</td>\n      <td>Denmark</td>\n    </tr>\n  </tbody>\n</table>\n</div>"
     },
     "metadata": {},
     "execution_count": 112
    }
   ],
   "source": [
    "# zip cleaning\n",
    "\n",
    "merged_df['zip_na'] = merged_df['zip_y'].isna()\n",
    "merged_df['zip_match'] = merged_df.apply(zip_compare, axis = 1)\n",
    "merged_df['zip_stays'] = merged_df.apply(pd_or, axis = 1)\n",
    "\n",
    "merged_df = merged_df[merged_df['zip_stays']]\n",
    "del merged_df['zip_na']\n",
    "del merged_df['zip_match']\n",
    "del merged_df['zip_stays']\n",
    "\n",
    "print(merged_df['name'].value_counts().mean())\n",
    "merged_df.head()"
   ]
  },
  {
   "cell_type": "code",
   "execution_count": 120,
   "metadata": {},
   "outputs": [
    {
     "output_type": "execute_result",
     "data": {
      "text/plain": [
       "<AxesSubplot:>"
      ]
     },
     "metadata": {},
     "execution_count": 120
    },
    {
     "output_type": "display_data",
     "data": {
      "text/plain": "<Figure size 432x288 with 1 Axes>",
      "image/svg+xml": "<?xml version=\"1.0\" encoding=\"utf-8\" standalone=\"no\"?>\n<!DOCTYPE svg PUBLIC \"-//W3C//DTD SVG 1.1//EN\"\n  \"http://www.w3.org/Graphics/SVG/1.1/DTD/svg11.dtd\">\n<!-- Created with matplotlib (https://matplotlib.org/) -->\n<svg height=\"248.518125pt\" version=\"1.1\" viewBox=\"0 0 379.66502 248.518125\" width=\"379.66502pt\" xmlns=\"http://www.w3.org/2000/svg\" xmlns:xlink=\"http://www.w3.org/1999/xlink\">\n <metadata>\n  <rdf:RDF xmlns:cc=\"http://creativecommons.org/ns#\" xmlns:dc=\"http://purl.org/dc/elements/1.1/\" xmlns:rdf=\"http://www.w3.org/1999/02/22-rdf-syntax-ns#\">\n   <cc:Work>\n    <dc:type rdf:resource=\"http://purl.org/dc/dcmitype/StillImage\"/>\n    <dc:date>2020-11-09T13:00:28.296249</dc:date>\n    <dc:format>image/svg+xml</dc:format>\n    <dc:creator>\n     <cc:Agent>\n      <dc:title>Matplotlib v3.3.2, https://matplotlib.org/</dc:title>\n     </cc:Agent>\n    </dc:creator>\n   </cc:Work>\n  </rdf:RDF>\n </metadata>\n <defs>\n  <style type=\"text/css\">*{stroke-linecap:butt;stroke-linejoin:round;}</style>\n </defs>\n <g id=\"figure_1\">\n  <g id=\"patch_1\">\n   <path d=\"M 0 248.518125 \nL 379.66502 248.518125 \nL 379.66502 0 \nL 0 0 \nz\n\" style=\"fill:none;\"/>\n  </g>\n  <g id=\"axes_1\">\n   <g id=\"patch_2\">\n    <path d=\"M 33.2875 224.64 \nL 368.0875 224.64 \nL 368.0875 7.2 \nL 33.2875 7.2 \nz\n\" style=\"fill:#ffffff;\"/>\n   </g>\n   <g id=\"patch_3\">\n    <path clip-path=\"url(#p8d8784d341)\" d=\"M 48.505682 224.64 \nL 54.592955 224.64 \nL 54.592955 219.900362 \nL 48.505682 219.900362 \nz\n\" style=\"fill:#1f77b4;\"/>\n   </g>\n   <g id=\"patch_4\">\n    <path clip-path=\"url(#p8d8784d341)\" d=\"M 54.592955 224.64 \nL 60.680227 224.64 \nL 60.680227 206.046036 \nL 54.592955 206.046036 \nz\n\" style=\"fill:#1f77b4;\"/>\n   </g>\n   <g id=\"patch_5\">\n    <path clip-path=\"url(#p8d8784d341)\" d=\"M 60.680227 224.64 \nL 66.7675 224.64 \nL 66.7675 198.754286 \nL 60.680227 198.754286 \nz\n\" style=\"fill:#1f77b4;\"/>\n   </g>\n   <g id=\"patch_6\">\n    <path clip-path=\"url(#p8d8784d341)\" d=\"M 66.7675 224.64 \nL 72.854773 224.64 \nL 72.854773 224.64 \nL 66.7675 224.64 \nz\n\" style=\"fill:#1f77b4;\"/>\n   </g>\n   <g id=\"patch_7\">\n    <path clip-path=\"url(#p8d8784d341)\" d=\"M 72.854773 224.64 \nL 78.942045 224.64 \nL 78.942045 224.64 \nL 72.854773 224.64 \nz\n\" style=\"fill:#1f77b4;\"/>\n   </g>\n   <g id=\"patch_8\">\n    <path clip-path=\"url(#p8d8784d341)\" d=\"M 78.942045 224.64 \nL 85.029318 224.64 \nL 85.029318 224.64 \nL 78.942045 224.64 \nz\n\" style=\"fill:#1f77b4;\"/>\n   </g>\n   <g id=\"patch_9\">\n    <path clip-path=\"url(#p8d8784d341)\" d=\"M 85.029318 224.64 \nL 91.116591 224.64 \nL 91.116591 224.64 \nL 85.029318 224.64 \nz\n\" style=\"fill:#1f77b4;\"/>\n   </g>\n   <g id=\"patch_10\">\n    <path clip-path=\"url(#p8d8784d341)\" d=\"M 91.116591 224.64 \nL 97.203864 224.64 \nL 97.203864 224.64 \nL 91.116591 224.64 \nz\n\" style=\"fill:#1f77b4;\"/>\n   </g>\n   <g id=\"patch_11\">\n    <path clip-path=\"url(#p8d8784d341)\" d=\"M 97.203864 224.64 \nL 103.291136 224.64 \nL 103.291136 224.64 \nL 97.203864 224.64 \nz\n\" style=\"fill:#1f77b4;\"/>\n   </g>\n   <g id=\"patch_12\">\n    <path clip-path=\"url(#p8d8784d341)\" d=\"M 103.291136 224.64 \nL 109.378409 224.64 \nL 109.378409 224.64 \nL 103.291136 224.64 \nz\n\" style=\"fill:#1f77b4;\"/>\n   </g>\n   <g id=\"patch_13\">\n    <path clip-path=\"url(#p8d8784d341)\" d=\"M 109.378409 224.64 \nL 115.465682 224.64 \nL 115.465682 224.64 \nL 109.378409 224.64 \nz\n\" style=\"fill:#1f77b4;\"/>\n   </g>\n   <g id=\"patch_14\">\n    <path clip-path=\"url(#p8d8784d341)\" d=\"M 115.465682 224.64 \nL 121.552955 224.64 \nL 121.552955 224.64 \nL 115.465682 224.64 \nz\n\" style=\"fill:#1f77b4;\"/>\n   </g>\n   <g id=\"patch_15\">\n    <path clip-path=\"url(#p8d8784d341)\" d=\"M 121.552955 224.64 \nL 127.640227 224.64 \nL 127.640227 224.64 \nL 121.552955 224.64 \nz\n\" style=\"fill:#1f77b4;\"/>\n   </g>\n   <g id=\"patch_16\">\n    <path clip-path=\"url(#p8d8784d341)\" d=\"M 127.640227 224.64 \nL 133.7275 224.64 \nL 133.7275 181.254085 \nL 127.640227 181.254085 \nz\n\" style=\"fill:#1f77b4;\"/>\n   </g>\n   <g id=\"patch_17\">\n    <path clip-path=\"url(#p8d8784d341)\" d=\"M 133.7275 224.64 \nL 139.814773 224.64 \nL 139.814773 224.64 \nL 133.7275 224.64 \nz\n\" style=\"fill:#1f77b4;\"/>\n   </g>\n   <g id=\"patch_18\">\n    <path clip-path=\"url(#p8d8784d341)\" d=\"M 139.814773 224.64 \nL 145.902045 224.64 \nL 145.902045 183.806197 \nL 139.814773 183.806197 \nz\n\" style=\"fill:#1f77b4;\"/>\n   </g>\n   <g id=\"patch_19\">\n    <path clip-path=\"url(#p8d8784d341)\" d=\"M 145.902045 224.64 \nL 151.989318 224.64 \nL 151.989318 224.64 \nL 145.902045 224.64 \nz\n\" style=\"fill:#1f77b4;\"/>\n   </g>\n   <g id=\"patch_20\">\n    <path clip-path=\"url(#p8d8784d341)\" d=\"M 151.989318 224.64 \nL 158.076591 224.64 \nL 158.076591 224.64 \nL 151.989318 224.64 \nz\n\" style=\"fill:#1f77b4;\"/>\n   </g>\n   <g id=\"patch_21\">\n    <path clip-path=\"url(#p8d8784d341)\" d=\"M 158.076591 224.64 \nL 164.163864 224.64 \nL 164.163864 224.64 \nL 158.076591 224.64 \nz\n\" style=\"fill:#1f77b4;\"/>\n   </g>\n   <g id=\"patch_22\">\n    <path clip-path=\"url(#p8d8784d341)\" d=\"M 164.163864 224.64 \nL 170.251136 224.64 \nL 170.251136 224.64 \nL 164.163864 224.64 \nz\n\" style=\"fill:#1f77b4;\"/>\n   </g>\n   <g id=\"patch_23\">\n    <path clip-path=\"url(#p8d8784d341)\" d=\"M 170.251136 224.64 \nL 176.338409 224.64 \nL 176.338409 224.64 \nL 170.251136 224.64 \nz\n\" style=\"fill:#1f77b4;\"/>\n   </g>\n   <g id=\"patch_24\">\n    <path clip-path=\"url(#p8d8784d341)\" d=\"M 176.338409 224.64 \nL 182.425682 224.64 \nL 182.425682 224.64 \nL 176.338409 224.64 \nz\n\" style=\"fill:#1f77b4;\"/>\n   </g>\n   <g id=\"patch_25\">\n    <path clip-path=\"url(#p8d8784d341)\" d=\"M 182.425682 224.64 \nL 188.512955 224.64 \nL 188.512955 224.64 \nL 182.425682 224.64 \nz\n\" style=\"fill:#1f77b4;\"/>\n   </g>\n   <g id=\"patch_26\">\n    <path clip-path=\"url(#p8d8784d341)\" d=\"M 188.512955 224.64 \nL 194.600227 224.64 \nL 194.600227 17.554286 \nL 188.512955 17.554286 \nz\n\" style=\"fill:#1f77b4;\"/>\n   </g>\n   <g id=\"patch_27\">\n    <path clip-path=\"url(#p8d8784d341)\" d=\"M 194.600227 224.64 \nL 200.6875 224.64 \nL 200.6875 224.64 \nL 194.600227 224.64 \nz\n\" style=\"fill:#1f77b4;\"/>\n   </g>\n   <g id=\"patch_28\">\n    <path clip-path=\"url(#p8d8784d341)\" d=\"M 200.6875 224.64 \nL 206.774773 224.64 \nL 206.774773 224.64 \nL 200.6875 224.64 \nz\n\" style=\"fill:#1f77b4;\"/>\n   </g>\n   <g id=\"patch_29\">\n    <path clip-path=\"url(#p8d8784d341)\" d=\"M 206.774773 224.64 \nL 212.862045 224.64 \nL 212.862045 224.64 \nL 206.774773 224.64 \nz\n\" style=\"fill:#1f77b4;\"/>\n   </g>\n   <g id=\"patch_30\">\n    <path clip-path=\"url(#p8d8784d341)\" d=\"M 212.862045 224.64 \nL 218.949318 224.64 \nL 218.949318 81.72169 \nL 212.862045 81.72169 \nz\n\" style=\"fill:#1f77b4;\"/>\n   </g>\n   <g id=\"patch_31\">\n    <path clip-path=\"url(#p8d8784d341)\" d=\"M 218.949318 224.64 \nL 225.036591 224.64 \nL 225.036591 224.275412 \nL 218.949318 224.275412 \nz\n\" style=\"fill:#1f77b4;\"/>\n   </g>\n   <g id=\"patch_32\">\n    <path clip-path=\"url(#p8d8784d341)\" d=\"M 225.036591 224.64 \nL 231.123864 224.64 \nL 231.123864 224.64 \nL 225.036591 224.64 \nz\n\" style=\"fill:#1f77b4;\"/>\n   </g>\n   <g id=\"patch_33\">\n    <path clip-path=\"url(#p8d8784d341)\" d=\"M 231.123864 224.64 \nL 237.211136 224.64 \nL 237.211136 157.920483 \nL 231.123864 157.920483 \nz\n\" style=\"fill:#1f77b4;\"/>\n   </g>\n   <g id=\"patch_34\">\n    <path clip-path=\"url(#p8d8784d341)\" d=\"M 237.211136 224.64 \nL 243.298409 224.64 \nL 243.298409 224.64 \nL 237.211136 224.64 \nz\n\" style=\"fill:#1f77b4;\"/>\n   </g>\n   <g id=\"patch_35\">\n    <path clip-path=\"url(#p8d8784d341)\" d=\"M 243.298409 224.64 \nL 249.385682 224.64 \nL 249.385682 224.64 \nL 243.298409 224.64 \nz\n\" style=\"fill:#1f77b4;\"/>\n   </g>\n   <g id=\"patch_36\">\n    <path clip-path=\"url(#p8d8784d341)\" d=\"M 249.385682 224.64 \nL 255.472955 224.64 \nL 255.472955 224.64 \nL 249.385682 224.64 \nz\n\" style=\"fill:#1f77b4;\"/>\n   </g>\n   <g id=\"patch_37\">\n    <path clip-path=\"url(#p8d8784d341)\" d=\"M 255.472955 224.64 \nL 261.560227 224.64 \nL 261.560227 224.64 \nL 255.472955 224.64 \nz\n\" style=\"fill:#1f77b4;\"/>\n   </g>\n   <g id=\"patch_38\">\n    <path clip-path=\"url(#p8d8784d341)\" d=\"M 261.560227 224.64 \nL 267.6475 224.64 \nL 267.6475 224.64 \nL 261.560227 224.64 \nz\n\" style=\"fill:#1f77b4;\"/>\n   </g>\n   <g id=\"patch_39\">\n    <path clip-path=\"url(#p8d8784d341)\" d=\"M 267.6475 224.64 \nL 273.734773 224.64 \nL 273.734773 224.64 \nL 267.6475 224.64 \nz\n\" style=\"fill:#1f77b4;\"/>\n   </g>\n   <g id=\"patch_40\">\n    <path clip-path=\"url(#p8d8784d341)\" d=\"M 273.734773 224.64 \nL 279.822045 224.64 \nL 279.822045 224.64 \nL 273.734773 224.64 \nz\n\" style=\"fill:#1f77b4;\"/>\n   </g>\n   <g id=\"patch_41\">\n    <path clip-path=\"url(#p8d8784d341)\" d=\"M 279.822045 224.64 \nL 285.909318 224.64 \nL 285.909318 224.64 \nL 279.822045 224.64 \nz\n\" style=\"fill:#1f77b4;\"/>\n   </g>\n   <g id=\"patch_42\">\n    <path clip-path=\"url(#p8d8784d341)\" d=\"M 285.909318 224.64 \nL 291.996591 224.64 \nL 291.996591 224.64 \nL 285.909318 224.64 \nz\n\" style=\"fill:#1f77b4;\"/>\n   </g>\n   <g id=\"patch_43\">\n    <path clip-path=\"url(#p8d8784d341)\" d=\"M 291.996591 224.64 \nL 298.083864 224.64 \nL 298.083864 224.64 \nL 291.996591 224.64 \nz\n\" style=\"fill:#1f77b4;\"/>\n   </g>\n   <g id=\"patch_44\">\n    <path clip-path=\"url(#p8d8784d341)\" d=\"M 298.083864 224.64 \nL 304.171136 224.64 \nL 304.171136 224.64 \nL 298.083864 224.64 \nz\n\" style=\"fill:#1f77b4;\"/>\n   </g>\n   <g id=\"patch_45\">\n    <path clip-path=\"url(#p8d8784d341)\" d=\"M 304.171136 224.64 \nL 310.258409 224.64 \nL 310.258409 224.64 \nL 304.171136 224.64 \nz\n\" style=\"fill:#1f77b4;\"/>\n   </g>\n   <g id=\"patch_46\">\n    <path clip-path=\"url(#p8d8784d341)\" d=\"M 310.258409 224.64 \nL 316.345682 224.64 \nL 316.345682 224.64 \nL 310.258409 224.64 \nz\n\" style=\"fill:#1f77b4;\"/>\n   </g>\n   <g id=\"patch_47\">\n    <path clip-path=\"url(#p8d8784d341)\" d=\"M 316.345682 224.64 \nL 322.432955 224.64 \nL 322.432955 224.64 \nL 316.345682 224.64 \nz\n\" style=\"fill:#1f77b4;\"/>\n   </g>\n   <g id=\"patch_48\">\n    <path clip-path=\"url(#p8d8784d341)\" d=\"M 322.432955 224.64 \nL 328.520227 224.64 \nL 328.520227 224.64 \nL 322.432955 224.64 \nz\n\" style=\"fill:#1f77b4;\"/>\n   </g>\n   <g id=\"patch_49\">\n    <path clip-path=\"url(#p8d8784d341)\" d=\"M 328.520227 224.64 \nL 334.6075 224.64 \nL 334.6075 224.64 \nL 328.520227 224.64 \nz\n\" style=\"fill:#1f77b4;\"/>\n   </g>\n   <g id=\"patch_50\">\n    <path clip-path=\"url(#p8d8784d341)\" d=\"M 334.6075 224.64 \nL 340.694773 224.64 \nL 340.694773 224.64 \nL 334.6075 224.64 \nz\n\" style=\"fill:#1f77b4;\"/>\n   </g>\n   <g id=\"patch_51\">\n    <path clip-path=\"url(#p8d8784d341)\" d=\"M 340.694773 224.64 \nL 346.782045 224.64 \nL 346.782045 224.64 \nL 340.694773 224.64 \nz\n\" style=\"fill:#1f77b4;\"/>\n   </g>\n   <g id=\"patch_52\">\n    <path clip-path=\"url(#p8d8784d341)\" d=\"M 346.782045 224.64 \nL 352.869318 224.64 \nL 352.869318 223.910825 \nL 346.782045 223.910825 \nz\n\" style=\"fill:#1f77b4;\"/>\n   </g>\n   <g id=\"matplotlib.axis_1\">\n    <g id=\"xtick_1\">\n     <g id=\"line2d_1\">\n      <path clip-path=\"url(#p8d8784d341)\" d=\"M 35.27248 224.64 \nL 35.27248 7.2 \n\" style=\"fill:none;stroke:#b0b0b0;stroke-linecap:square;stroke-width:0.8;\"/>\n     </g>\n     <g id=\"line2d_2\">\n      <defs>\n       <path d=\"M 0 0 \nL 0 3.5 \n\" id=\"m5e813bdc41\" style=\"stroke:#000000;stroke-width:0.8;\"/>\n      </defs>\n      <g>\n       <use style=\"stroke:#000000;stroke-width:0.8;\" x=\"35.27248\" xlink:href=\"#m5e813bdc41\" y=\"224.64\"/>\n      </g>\n     </g>\n     <g id=\"text_1\">\n      <!-- 0 -->\n      <g transform=\"translate(32.09123 239.238437)scale(0.1 -0.1)\">\n       <defs>\n        <path d=\"M 31.78125 66.40625 \nQ 24.171875 66.40625 20.328125 58.90625 \nQ 16.5 51.421875 16.5 36.375 \nQ 16.5 21.390625 20.328125 13.890625 \nQ 24.171875 6.390625 31.78125 6.390625 \nQ 39.453125 6.390625 43.28125 13.890625 \nQ 47.125 21.390625 47.125 36.375 \nQ 47.125 51.421875 43.28125 58.90625 \nQ 39.453125 66.40625 31.78125 66.40625 \nz\nM 31.78125 74.21875 \nQ 44.046875 74.21875 50.515625 64.515625 \nQ 56.984375 54.828125 56.984375 36.375 \nQ 56.984375 17.96875 50.515625 8.265625 \nQ 44.046875 -1.421875 31.78125 -1.421875 \nQ 19.53125 -1.421875 13.0625 8.265625 \nQ 6.59375 17.96875 6.59375 36.375 \nQ 6.59375 54.828125 13.0625 64.515625 \nQ 19.53125 74.21875 31.78125 74.21875 \nz\n\" id=\"DejaVuSans-48\"/>\n       </defs>\n       <use xlink:href=\"#DejaVuSans-48\"/>\n      </g>\n     </g>\n    </g>\n    <g id=\"xtick_2\">\n     <g id=\"line2d_3\">\n      <path clip-path=\"url(#p8d8784d341)\" d=\"M 101.438488 224.64 \nL 101.438488 7.2 \n\" style=\"fill:none;stroke:#b0b0b0;stroke-linecap:square;stroke-width:0.8;\"/>\n     </g>\n     <g id=\"line2d_4\">\n      <g>\n       <use style=\"stroke:#000000;stroke-width:0.8;\" x=\"101.438488\" xlink:href=\"#m5e813bdc41\" y=\"224.64\"/>\n      </g>\n     </g>\n     <g id=\"text_2\">\n      <!-- 10 -->\n      <g transform=\"translate(95.075988 239.238437)scale(0.1 -0.1)\">\n       <defs>\n        <path d=\"M 12.40625 8.296875 \nL 28.515625 8.296875 \nL 28.515625 63.921875 \nL 10.984375 60.40625 \nL 10.984375 69.390625 \nL 28.421875 72.90625 \nL 38.28125 72.90625 \nL 38.28125 8.296875 \nL 54.390625 8.296875 \nL 54.390625 0 \nL 12.40625 0 \nz\n\" id=\"DejaVuSans-49\"/>\n       </defs>\n       <use xlink:href=\"#DejaVuSans-49\"/>\n       <use x=\"63.623047\" xlink:href=\"#DejaVuSans-48\"/>\n      </g>\n     </g>\n    </g>\n    <g id=\"xtick_3\">\n     <g id=\"line2d_5\">\n      <path clip-path=\"url(#p8d8784d341)\" d=\"M 167.604496 224.64 \nL 167.604496 7.2 \n\" style=\"fill:none;stroke:#b0b0b0;stroke-linecap:square;stroke-width:0.8;\"/>\n     </g>\n     <g id=\"line2d_6\">\n      <g>\n       <use style=\"stroke:#000000;stroke-width:0.8;\" x=\"167.604496\" xlink:href=\"#m5e813bdc41\" y=\"224.64\"/>\n      </g>\n     </g>\n     <g id=\"text_3\">\n      <!-- 20 -->\n      <g transform=\"translate(161.241996 239.238437)scale(0.1 -0.1)\">\n       <defs>\n        <path d=\"M 19.1875 8.296875 \nL 53.609375 8.296875 \nL 53.609375 0 \nL 7.328125 0 \nL 7.328125 8.296875 \nQ 12.9375 14.109375 22.625 23.890625 \nQ 32.328125 33.6875 34.8125 36.53125 \nQ 39.546875 41.84375 41.421875 45.53125 \nQ 43.3125 49.21875 43.3125 52.78125 \nQ 43.3125 58.59375 39.234375 62.25 \nQ 35.15625 65.921875 28.609375 65.921875 \nQ 23.96875 65.921875 18.8125 64.3125 \nQ 13.671875 62.703125 7.8125 59.421875 \nL 7.8125 69.390625 \nQ 13.765625 71.78125 18.9375 73 \nQ 24.125 74.21875 28.421875 74.21875 \nQ 39.75 74.21875 46.484375 68.546875 \nQ 53.21875 62.890625 53.21875 53.421875 \nQ 53.21875 48.921875 51.53125 44.890625 \nQ 49.859375 40.875 45.40625 35.40625 \nQ 44.1875 33.984375 37.640625 27.21875 \nQ 31.109375 20.453125 19.1875 8.296875 \nz\n\" id=\"DejaVuSans-50\"/>\n       </defs>\n       <use xlink:href=\"#DejaVuSans-50\"/>\n       <use x=\"63.623047\" xlink:href=\"#DejaVuSans-48\"/>\n      </g>\n     </g>\n    </g>\n    <g id=\"xtick_4\">\n     <g id=\"line2d_7\">\n      <path clip-path=\"url(#p8d8784d341)\" d=\"M 233.770504 224.64 \nL 233.770504 7.2 \n\" style=\"fill:none;stroke:#b0b0b0;stroke-linecap:square;stroke-width:0.8;\"/>\n     </g>\n     <g id=\"line2d_8\">\n      <g>\n       <use style=\"stroke:#000000;stroke-width:0.8;\" x=\"233.770504\" xlink:href=\"#m5e813bdc41\" y=\"224.64\"/>\n      </g>\n     </g>\n     <g id=\"text_4\">\n      <!-- 30 -->\n      <g transform=\"translate(227.408004 239.238437)scale(0.1 -0.1)\">\n       <defs>\n        <path d=\"M 40.578125 39.3125 \nQ 47.65625 37.796875 51.625 33 \nQ 55.609375 28.21875 55.609375 21.1875 \nQ 55.609375 10.40625 48.1875 4.484375 \nQ 40.765625 -1.421875 27.09375 -1.421875 \nQ 22.515625 -1.421875 17.65625 -0.515625 \nQ 12.796875 0.390625 7.625 2.203125 \nL 7.625 11.71875 \nQ 11.71875 9.328125 16.59375 8.109375 \nQ 21.484375 6.890625 26.8125 6.890625 \nQ 36.078125 6.890625 40.9375 10.546875 \nQ 45.796875 14.203125 45.796875 21.1875 \nQ 45.796875 27.640625 41.28125 31.265625 \nQ 36.765625 34.90625 28.71875 34.90625 \nL 20.21875 34.90625 \nL 20.21875 43.015625 \nL 29.109375 43.015625 \nQ 36.375 43.015625 40.234375 45.921875 \nQ 44.09375 48.828125 44.09375 54.296875 \nQ 44.09375 59.90625 40.109375 62.90625 \nQ 36.140625 65.921875 28.71875 65.921875 \nQ 24.65625 65.921875 20.015625 65.03125 \nQ 15.375 64.15625 9.8125 62.3125 \nL 9.8125 71.09375 \nQ 15.4375 72.65625 20.34375 73.4375 \nQ 25.25 74.21875 29.59375 74.21875 \nQ 40.828125 74.21875 47.359375 69.109375 \nQ 53.90625 64.015625 53.90625 55.328125 \nQ 53.90625 49.265625 50.4375 45.09375 \nQ 46.96875 40.921875 40.578125 39.3125 \nz\n\" id=\"DejaVuSans-51\"/>\n       </defs>\n       <use xlink:href=\"#DejaVuSans-51\"/>\n       <use x=\"63.623047\" xlink:href=\"#DejaVuSans-48\"/>\n      </g>\n     </g>\n    </g>\n    <g id=\"xtick_5\">\n     <g id=\"line2d_9\">\n      <path clip-path=\"url(#p8d8784d341)\" d=\"M 299.936512 224.64 \nL 299.936512 7.2 \n\" style=\"fill:none;stroke:#b0b0b0;stroke-linecap:square;stroke-width:0.8;\"/>\n     </g>\n     <g id=\"line2d_10\">\n      <g>\n       <use style=\"stroke:#000000;stroke-width:0.8;\" x=\"299.936512\" xlink:href=\"#m5e813bdc41\" y=\"224.64\"/>\n      </g>\n     </g>\n     <g id=\"text_5\">\n      <!-- 40 -->\n      <g transform=\"translate(293.574012 239.238437)scale(0.1 -0.1)\">\n       <defs>\n        <path d=\"M 37.796875 64.3125 \nL 12.890625 25.390625 \nL 37.796875 25.390625 \nz\nM 35.203125 72.90625 \nL 47.609375 72.90625 \nL 47.609375 25.390625 \nL 58.015625 25.390625 \nL 58.015625 17.1875 \nL 47.609375 17.1875 \nL 47.609375 0 \nL 37.796875 0 \nL 37.796875 17.1875 \nL 4.890625 17.1875 \nL 4.890625 26.703125 \nz\n\" id=\"DejaVuSans-52\"/>\n       </defs>\n       <use xlink:href=\"#DejaVuSans-52\"/>\n       <use x=\"63.623047\" xlink:href=\"#DejaVuSans-48\"/>\n      </g>\n     </g>\n    </g>\n    <g id=\"xtick_6\">\n     <g id=\"line2d_11\">\n      <path clip-path=\"url(#p8d8784d341)\" d=\"M 366.10252 224.64 \nL 366.10252 7.2 \n\" style=\"fill:none;stroke:#b0b0b0;stroke-linecap:square;stroke-width:0.8;\"/>\n     </g>\n     <g id=\"line2d_12\">\n      <g>\n       <use style=\"stroke:#000000;stroke-width:0.8;\" x=\"366.10252\" xlink:href=\"#m5e813bdc41\" y=\"224.64\"/>\n      </g>\n     </g>\n     <g id=\"text_6\">\n      <!-- 50 -->\n      <g transform=\"translate(359.74002 239.238437)scale(0.1 -0.1)\">\n       <defs>\n        <path d=\"M 10.796875 72.90625 \nL 49.515625 72.90625 \nL 49.515625 64.59375 \nL 19.828125 64.59375 \nL 19.828125 46.734375 \nQ 21.96875 47.46875 24.109375 47.828125 \nQ 26.265625 48.1875 28.421875 48.1875 \nQ 40.625 48.1875 47.75 41.5 \nQ 54.890625 34.8125 54.890625 23.390625 \nQ 54.890625 11.625 47.5625 5.09375 \nQ 40.234375 -1.421875 26.90625 -1.421875 \nQ 22.3125 -1.421875 17.546875 -0.640625 \nQ 12.796875 0.140625 7.71875 1.703125 \nL 7.71875 11.625 \nQ 12.109375 9.234375 16.796875 8.0625 \nQ 21.484375 6.890625 26.703125 6.890625 \nQ 35.15625 6.890625 40.078125 11.328125 \nQ 45.015625 15.765625 45.015625 23.390625 \nQ 45.015625 31 40.078125 35.4375 \nQ 35.15625 39.890625 26.703125 39.890625 \nQ 22.75 39.890625 18.8125 39.015625 \nQ 14.890625 38.140625 10.796875 36.28125 \nz\n\" id=\"DejaVuSans-53\"/>\n       </defs>\n       <use xlink:href=\"#DejaVuSans-53\"/>\n       <use x=\"63.623047\" xlink:href=\"#DejaVuSans-48\"/>\n      </g>\n     </g>\n    </g>\n   </g>\n   <g id=\"matplotlib.axis_2\">\n    <g id=\"ytick_1\">\n     <g id=\"line2d_13\">\n      <path clip-path=\"url(#p8d8784d341)\" d=\"M 33.2875 224.64 \nL 368.0875 224.64 \n\" style=\"fill:none;stroke:#b0b0b0;stroke-linecap:square;stroke-width:0.8;\"/>\n     </g>\n     <g id=\"line2d_14\">\n      <defs>\n       <path d=\"M 0 0 \nL -3.5 0 \n\" id=\"med65e8069c\" style=\"stroke:#000000;stroke-width:0.8;\"/>\n      </defs>\n      <g>\n       <use style=\"stroke:#000000;stroke-width:0.8;\" x=\"33.2875\" xlink:href=\"#med65e8069c\" y=\"224.64\"/>\n      </g>\n     </g>\n     <g id=\"text_7\">\n      <!-- 0 -->\n      <g transform=\"translate(19.925 228.439219)scale(0.1 -0.1)\">\n       <use xlink:href=\"#DejaVuSans-48\"/>\n      </g>\n     </g>\n    </g>\n    <g id=\"ytick_2\">\n     <g id=\"line2d_15\">\n      <path clip-path=\"url(#p8d8784d341)\" d=\"M 33.2875 188.181247 \nL 368.0875 188.181247 \n\" style=\"fill:none;stroke:#b0b0b0;stroke-linecap:square;stroke-width:0.8;\"/>\n     </g>\n     <g id=\"line2d_16\">\n      <g>\n       <use style=\"stroke:#000000;stroke-width:0.8;\" x=\"33.2875\" xlink:href=\"#med65e8069c\" y=\"188.181247\"/>\n      </g>\n     </g>\n     <g id=\"text_8\">\n      <!-- 100 -->\n      <g transform=\"translate(7.2 191.980466)scale(0.1 -0.1)\">\n       <use xlink:href=\"#DejaVuSans-49\"/>\n       <use x=\"63.623047\" xlink:href=\"#DejaVuSans-48\"/>\n       <use x=\"127.246094\" xlink:href=\"#DejaVuSans-48\"/>\n      </g>\n     </g>\n    </g>\n    <g id=\"ytick_3\">\n     <g id=\"line2d_17\">\n      <path clip-path=\"url(#p8d8784d341)\" d=\"M 33.2875 151.722495 \nL 368.0875 151.722495 \n\" style=\"fill:none;stroke:#b0b0b0;stroke-linecap:square;stroke-width:0.8;\"/>\n     </g>\n     <g id=\"line2d_18\">\n      <g>\n       <use style=\"stroke:#000000;stroke-width:0.8;\" x=\"33.2875\" xlink:href=\"#med65e8069c\" y=\"151.722495\"/>\n      </g>\n     </g>\n     <g id=\"text_9\">\n      <!-- 200 -->\n      <g transform=\"translate(7.2 155.521714)scale(0.1 -0.1)\">\n       <use xlink:href=\"#DejaVuSans-50\"/>\n       <use x=\"63.623047\" xlink:href=\"#DejaVuSans-48\"/>\n       <use x=\"127.246094\" xlink:href=\"#DejaVuSans-48\"/>\n      </g>\n     </g>\n    </g>\n    <g id=\"ytick_4\">\n     <g id=\"line2d_19\">\n      <path clip-path=\"url(#p8d8784d341)\" d=\"M 33.2875 115.263742 \nL 368.0875 115.263742 \n\" style=\"fill:none;stroke:#b0b0b0;stroke-linecap:square;stroke-width:0.8;\"/>\n     </g>\n     <g id=\"line2d_20\">\n      <g>\n       <use style=\"stroke:#000000;stroke-width:0.8;\" x=\"33.2875\" xlink:href=\"#med65e8069c\" y=\"115.263742\"/>\n      </g>\n     </g>\n     <g id=\"text_10\">\n      <!-- 300 -->\n      <g transform=\"translate(7.2 119.062961)scale(0.1 -0.1)\">\n       <use xlink:href=\"#DejaVuSans-51\"/>\n       <use x=\"63.623047\" xlink:href=\"#DejaVuSans-48\"/>\n       <use x=\"127.246094\" xlink:href=\"#DejaVuSans-48\"/>\n      </g>\n     </g>\n    </g>\n    <g id=\"ytick_5\">\n     <g id=\"line2d_21\">\n      <path clip-path=\"url(#p8d8784d341)\" d=\"M 33.2875 78.80499 \nL 368.0875 78.80499 \n\" style=\"fill:none;stroke:#b0b0b0;stroke-linecap:square;stroke-width:0.8;\"/>\n     </g>\n     <g id=\"line2d_22\">\n      <g>\n       <use style=\"stroke:#000000;stroke-width:0.8;\" x=\"33.2875\" xlink:href=\"#med65e8069c\" y=\"78.80499\"/>\n      </g>\n     </g>\n     <g id=\"text_11\">\n      <!-- 400 -->\n      <g transform=\"translate(7.2 82.604209)scale(0.1 -0.1)\">\n       <use xlink:href=\"#DejaVuSans-52\"/>\n       <use x=\"63.623047\" xlink:href=\"#DejaVuSans-48\"/>\n       <use x=\"127.246094\" xlink:href=\"#DejaVuSans-48\"/>\n      </g>\n     </g>\n    </g>\n    <g id=\"ytick_6\">\n     <g id=\"line2d_23\">\n      <path clip-path=\"url(#p8d8784d341)\" d=\"M 33.2875 42.346237 \nL 368.0875 42.346237 \n\" style=\"fill:none;stroke:#b0b0b0;stroke-linecap:square;stroke-width:0.8;\"/>\n     </g>\n     <g id=\"line2d_24\">\n      <g>\n       <use style=\"stroke:#000000;stroke-width:0.8;\" x=\"33.2875\" xlink:href=\"#med65e8069c\" y=\"42.346237\"/>\n      </g>\n     </g>\n     <g id=\"text_12\">\n      <!-- 500 -->\n      <g transform=\"translate(7.2 46.145456)scale(0.1 -0.1)\">\n       <use xlink:href=\"#DejaVuSans-53\"/>\n       <use x=\"63.623047\" xlink:href=\"#DejaVuSans-48\"/>\n       <use x=\"127.246094\" xlink:href=\"#DejaVuSans-48\"/>\n      </g>\n     </g>\n    </g>\n   </g>\n   <g id=\"patch_53\">\n    <path d=\"M 33.2875 224.64 \nL 33.2875 7.2 \n\" style=\"fill:none;stroke:#000000;stroke-linecap:square;stroke-linejoin:miter;stroke-width:0.8;\"/>\n   </g>\n   <g id=\"patch_54\">\n    <path d=\"M 368.0875 224.64 \nL 368.0875 7.2 \n\" style=\"fill:none;stroke:#000000;stroke-linecap:square;stroke-linejoin:miter;stroke-width:0.8;\"/>\n   </g>\n   <g id=\"patch_55\">\n    <path d=\"M 33.2875 224.64 \nL 368.0875 224.64 \n\" style=\"fill:none;stroke:#000000;stroke-linecap:square;stroke-linejoin:miter;stroke-width:0.8;\"/>\n   </g>\n   <g id=\"patch_56\">\n    <path d=\"M 33.2875 7.2 \nL 368.0875 7.2 \n\" style=\"fill:none;stroke:#000000;stroke-linecap:square;stroke-linejoin:miter;stroke-width:0.8;\"/>\n   </g>\n  </g>\n </g>\n <defs>\n  <clipPath id=\"p8d8784d341\">\n   <rect height=\"217.44\" width=\"334.8\" x=\"33.2875\" y=\"7.2\"/>\n  </clipPath>\n </defs>\n</svg>\n",
      "image/png": "[encoded data removed]"
     },
     "metadata": {
      "needs_background": "light"
     }
    }
   ],
   "source": [
    "merged_df['name'].value_counts().hist(bins = 50)"
   ]
  },
  {
   "cell_type": "code",
   "execution_count": 125,
   "metadata": {},
   "outputs": [],
   "source": [
    "# age filtering\n",
    "def age_compare(x):\n",
    "    if x[13] == x[7]:\n",
    "        return True\n",
    "    else:\n",
    "        return False\n",
    "\n",
    "def test(x):\n",
    "    return x[13]"
   ]
  },
  {
   "cell_type": "code",
   "execution_count": 128,
   "metadata": {},
   "outputs": [
    {
     "output_type": "stream",
     "name": "stdout",
     "text": [
      "3.8702702702702703\n"
     ]
    },
    {
     "output_type": "execute_result",
     "data": {
      "text/plain": [
       "     Unnamed: 0         name   sex         dob  zip_x citizenship_x  \\\n",
       "36            0      Le, Ian  Male  1998-08-30   2300       Denmark   \n",
       "47            0      Le, Ian  Male  1998-08-30   2300       Denmark   \n",
       "82            0      Le, Ian  Male  1998-08-30   2300       Denmark   \n",
       "95            1  Wang, Caleb  Male  1996-04-23   2200       Denmark   \n",
       "101           1  Wang, Caleb  Male  1996-04-23   2200       Denmark   \n",
       "\n",
       "    marital_status  last_voted  public_age  encoded_age encoded_citizenship  \\\n",
       "36   Never married           1          22            1             Denmark   \n",
       "47   Never married           1          22            1             Denmark   \n",
       "82   Never married           1          22            1             Denmark   \n",
       "95   Never married           1          24            1             Denmark   \n",
       "101  Never married           1          24            1             Denmark   \n",
       "\n",
       "     party   zip_y  age citizenship_y  \n",
       "36   Green  2300.0  NaN       Denmark  \n",
       "47   Green  2300.0  NaN       Denmark  \n",
       "82     Red  2300.0  NaN       Denmark  \n",
       "95   Green  2200.0  1.0       Denmark  \n",
       "101  Green  2200.0  1.0       Denmark  "
      ],
      "text/html": "<div>\n<style scoped>\n    .dataframe tbody tr th:only-of-type {\n        vertical-align: middle;\n    }\n\n    .dataframe tbody tr th {\n        vertical-align: top;\n    }\n\n    .dataframe thead th {\n        text-align: right;\n    }\n</style>\n<table border=\"1\" class=\"dataframe\">\n  <thead>\n    <tr style=\"text-align: right;\">\n      <th></th>\n      <th>Unnamed: 0</th>\n      <th>name</th>\n      <th>sex</th>\n      <th>dob</th>\n      <th>zip_x</th>\n      <th>citizenship_x</th>\n      <th>marital_status</th>\n      <th>last_voted</th>\n      <th>public_age</th>\n      <th>encoded_age</th>\n      <th>encoded_citizenship</th>\n      <th>party</th>\n      <th>zip_y</th>\n      <th>age</th>\n      <th>citizenship_y</th>\n    </tr>\n  </thead>\n  <tbody>\n    <tr>\n      <th>36</th>\n      <td>0</td>\n      <td>Le, Ian</td>\n      <td>Male</td>\n      <td>1998-08-30</td>\n      <td>2300</td>\n      <td>Denmark</td>\n      <td>Never married</td>\n      <td>1</td>\n      <td>22</td>\n      <td>1</td>\n      <td>Denmark</td>\n      <td>Green</td>\n      <td>2300.0</td>\n      <td>NaN</td>\n      <td>Denmark</td>\n    </tr>\n    <tr>\n      <th>47</th>\n      <td>0</td>\n      <td>Le, Ian</td>\n      <td>Male</td>\n      <td>1998-08-30</td>\n      <td>2300</td>\n      <td>Denmark</td>\n      <td>Never married</td>\n      <td>1</td>\n      <td>22</td>\n      <td>1</td>\n      <td>Denmark</td>\n      <td>Green</td>\n      <td>2300.0</td>\n      <td>NaN</td>\n      <td>Denmark</td>\n    </tr>\n    <tr>\n      <th>82</th>\n      <td>0</td>\n      <td>Le, Ian</td>\n      <td>Male</td>\n      <td>1998-08-30</td>\n      <td>2300</td>\n      <td>Denmark</td>\n      <td>Never married</td>\n      <td>1</td>\n      <td>22</td>\n      <td>1</td>\n      <td>Denmark</td>\n      <td>Red</td>\n      <td>2300.0</td>\n      <td>NaN</td>\n      <td>Denmark</td>\n    </tr>\n    <tr>\n      <th>95</th>\n      <td>1</td>\n      <td>Wang, Caleb</td>\n      <td>Male</td>\n      <td>1996-04-23</td>\n      <td>2200</td>\n      <td>Denmark</td>\n      <td>Never married</td>\n      <td>1</td>\n      <td>24</td>\n      <td>1</td>\n      <td>Denmark</td>\n      <td>Green</td>\n      <td>2200.0</td>\n      <td>1.0</td>\n      <td>Denmark</td>\n    </tr>\n    <tr>\n      <th>101</th>\n      <td>1</td>\n      <td>Wang, Caleb</td>\n      <td>Male</td>\n      <td>1996-04-23</td>\n      <td>2200</td>\n      <td>Denmark</td>\n      <td>Never married</td>\n      <td>1</td>\n      <td>24</td>\n      <td>1</td>\n      <td>Denmark</td>\n      <td>Green</td>\n      <td>2200.0</td>\n      <td>1.0</td>\n      <td>Denmark</td>\n    </tr>\n  </tbody>\n</table>\n</div>"
     },
     "metadata": {},
     "execution_count": 128
    }
   ],
   "source": [
    "# age cleaning\n",
    "\n",
    "merged_df['age_na'] = merged_df['age'].isna()\n",
    "merged_df['age_match'] = merged_df.apply(age_compare, axis = 1)\n",
    "merged_df['age_stays'] = merged_df.apply(pd_or, axis = 1)\n",
    "\n",
    "merged_df = merged_df[merged_df['age_stays']]\n",
    "del merged_df['age_na']\n",
    "del merged_df['age_match']\n",
    "del merged_df['age_stays']\n",
    "\n",
    "print(merged_df['name'].value_counts().mean())\n",
    "merged_df.head()"
   ]
  },
  {
   "cell_type": "code",
   "execution_count": 136,
   "metadata": {},
   "outputs": [
    {
     "output_type": "execute_result",
     "data": {
      "text/plain": [
       "5"
      ]
     },
     "metadata": {},
     "execution_count": 136
    }
   ],
   "source": [
    "merged_df[['sex', 'encoded_citizenship', 'zip_y', 'age']].value_counts().min()"
   ]
  },
  {
   "cell_type": "code",
   "execution_count": null,
   "metadata": {},
   "outputs": [],
   "source": []
  }
 ]
}